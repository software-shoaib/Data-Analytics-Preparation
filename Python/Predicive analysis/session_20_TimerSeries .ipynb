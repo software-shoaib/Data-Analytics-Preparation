{
 "cells": [
  {
   "cell_type": "markdown",
   "id": "e155b32c",
   "metadata": {},
   "source": [
    "# Group By"
   ]
  },
  {
   "cell_type": "code",
   "execution_count": 1,
   "id": "ac248a55",
   "metadata": {},
   "outputs": [],
   "source": [
    "import pandas as pd"
   ]
  },
  {
   "cell_type": "code",
   "execution_count": 2,
   "id": "5e25b30c",
   "metadata": {},
   "outputs": [],
   "source": [
    "import matplotlib.pyplot as plt"
   ]
  },
  {
   "cell_type": "code",
   "execution_count": 4,
   "id": "70d0371a",
   "metadata": {},
   "outputs": [
    {
     "data": {
      "text/html": [
       "<div>\n",
       "<style scoped>\n",
       "    .dataframe tbody tr th:only-of-type {\n",
       "        vertical-align: middle;\n",
       "    }\n",
       "\n",
       "    .dataframe tbody tr th {\n",
       "        vertical-align: top;\n",
       "    }\n",
       "\n",
       "    .dataframe thead th {\n",
       "        text-align: right;\n",
       "    }\n",
       "</style>\n",
       "<table border=\"1\" class=\"dataframe\">\n",
       "  <thead>\n",
       "    <tr style=\"text-align: right;\">\n",
       "      <th></th>\n",
       "      <th>Region</th>\n",
       "      <th>Manager</th>\n",
       "      <th>SalesMan</th>\n",
       "      <th>Item</th>\n",
       "      <th>Units</th>\n",
       "      <th>Unit_price</th>\n",
       "      <th>Sale_amt</th>\n",
       "    </tr>\n",
       "    <tr>\n",
       "      <th>OrderDate</th>\n",
       "      <th></th>\n",
       "      <th></th>\n",
       "      <th></th>\n",
       "      <th></th>\n",
       "      <th></th>\n",
       "      <th></th>\n",
       "      <th></th>\n",
       "    </tr>\n",
       "  </thead>\n",
       "  <tbody>\n",
       "    <tr>\n",
       "      <td>2018-01-06</td>\n",
       "      <td>East</td>\n",
       "      <td>Martha</td>\n",
       "      <td>Alexander</td>\n",
       "      <td>Television</td>\n",
       "      <td>95.00</td>\n",
       "      <td>1198.000</td>\n",
       "      <td>113810.00</td>\n",
       "    </tr>\n",
       "    <tr>\n",
       "      <td>2018-01-23</td>\n",
       "      <td>Central</td>\n",
       "      <td>Hermann</td>\n",
       "      <td>Shelli</td>\n",
       "      <td>Home Theater</td>\n",
       "      <td>50.00</td>\n",
       "      <td>500.000</td>\n",
       "      <td>25000.00</td>\n",
       "    </tr>\n",
       "    <tr>\n",
       "      <td>2018-02-09</td>\n",
       "      <td>Central</td>\n",
       "      <td>Hermann</td>\n",
       "      <td>Luis</td>\n",
       "      <td>Television</td>\n",
       "      <td>36.00</td>\n",
       "      <td>1198.000</td>\n",
       "      <td>43128.00</td>\n",
       "    </tr>\n",
       "    <tr>\n",
       "      <td>2018-02-26</td>\n",
       "      <td>Central</td>\n",
       "      <td>Timothy</td>\n",
       "      <td>David</td>\n",
       "      <td>Cell Phone</td>\n",
       "      <td>27.00</td>\n",
       "      <td>225.000</td>\n",
       "      <td>6075.00</td>\n",
       "    </tr>\n",
       "    <tr>\n",
       "      <td>2018-03-15</td>\n",
       "      <td>West</td>\n",
       "      <td>Timothy</td>\n",
       "      <td>Stephen</td>\n",
       "      <td>Television</td>\n",
       "      <td>56.00</td>\n",
       "      <td>1198.000</td>\n",
       "      <td>67088.00</td>\n",
       "    </tr>\n",
       "    <tr>\n",
       "      <td>2018-04-01</td>\n",
       "      <td>East</td>\n",
       "      <td>Martha</td>\n",
       "      <td>Alexander</td>\n",
       "      <td>Home Theater</td>\n",
       "      <td>60.00</td>\n",
       "      <td>500.000</td>\n",
       "      <td>30000.00</td>\n",
       "    </tr>\n",
       "    <tr>\n",
       "      <td>2018-04-18</td>\n",
       "      <td>Central</td>\n",
       "      <td>Martha</td>\n",
       "      <td>Steven</td>\n",
       "      <td>Television</td>\n",
       "      <td>75.00</td>\n",
       "      <td>1198.000</td>\n",
       "      <td>89850.00</td>\n",
       "    </tr>\n",
       "    <tr>\n",
       "      <td>2018-05-05</td>\n",
       "      <td>Central</td>\n",
       "      <td>Hermann</td>\n",
       "      <td>Luis</td>\n",
       "      <td>Television</td>\n",
       "      <td>90.00</td>\n",
       "      <td>1198.000</td>\n",
       "      <td>107820.00</td>\n",
       "    </tr>\n",
       "    <tr>\n",
       "      <td>2018-05-22</td>\n",
       "      <td>West</td>\n",
       "      <td>Douglas</td>\n",
       "      <td>Michael</td>\n",
       "      <td>Television</td>\n",
       "      <td>32.00</td>\n",
       "      <td>1198.000</td>\n",
       "      <td>38336.00</td>\n",
       "    </tr>\n",
       "    <tr>\n",
       "      <td>2018-06-08</td>\n",
       "      <td>East</td>\n",
       "      <td>Martha</td>\n",
       "      <td>Alexander</td>\n",
       "      <td>Home Theater</td>\n",
       "      <td>60.00</td>\n",
       "      <td>500.000</td>\n",
       "      <td>30000.00</td>\n",
       "    </tr>\n",
       "    <tr>\n",
       "      <td>2018-06-25</td>\n",
       "      <td>Central</td>\n",
       "      <td>Hermann</td>\n",
       "      <td>Sigal</td>\n",
       "      <td>Television</td>\n",
       "      <td>90.00</td>\n",
       "      <td>1198.000</td>\n",
       "      <td>107820.00</td>\n",
       "    </tr>\n",
       "    <tr>\n",
       "      <td>2018-07-12</td>\n",
       "      <td>East</td>\n",
       "      <td>Martha</td>\n",
       "      <td>Diana</td>\n",
       "      <td>Home Theater</td>\n",
       "      <td>29.00</td>\n",
       "      <td>500.000</td>\n",
       "      <td>14500.00</td>\n",
       "    </tr>\n",
       "    <tr>\n",
       "      <td>2018-07-29</td>\n",
       "      <td>East</td>\n",
       "      <td>Douglas</td>\n",
       "      <td>Karen</td>\n",
       "      <td>Home Theater</td>\n",
       "      <td>81.00</td>\n",
       "      <td>500.000</td>\n",
       "      <td>40500.00</td>\n",
       "    </tr>\n",
       "    <tr>\n",
       "      <td>2018-08-15</td>\n",
       "      <td>East</td>\n",
       "      <td>Martha</td>\n",
       "      <td>Alexander</td>\n",
       "      <td>Television</td>\n",
       "      <td>35.00</td>\n",
       "      <td>1198.000</td>\n",
       "      <td>41930.00</td>\n",
       "    </tr>\n",
       "    <tr>\n",
       "      <td>2018-09-01</td>\n",
       "      <td>Central</td>\n",
       "      <td>Douglas</td>\n",
       "      <td>John</td>\n",
       "      <td>Desk</td>\n",
       "      <td>2.00</td>\n",
       "      <td>125.000</td>\n",
       "      <td>250.00</td>\n",
       "    </tr>\n",
       "    <tr>\n",
       "      <td>2018-09-18</td>\n",
       "      <td>East</td>\n",
       "      <td>Martha</td>\n",
       "      <td>Alexander</td>\n",
       "      <td>Video Games</td>\n",
       "      <td>16.00</td>\n",
       "      <td>58.500</td>\n",
       "      <td>936.00</td>\n",
       "    </tr>\n",
       "    <tr>\n",
       "      <td>2018-10-05</td>\n",
       "      <td>Central</td>\n",
       "      <td>Hermann</td>\n",
       "      <td>Sigal</td>\n",
       "      <td>Home Theater</td>\n",
       "      <td>28.00</td>\n",
       "      <td>500.000</td>\n",
       "      <td>14000.00</td>\n",
       "    </tr>\n",
       "    <tr>\n",
       "      <td>2018-10-22</td>\n",
       "      <td>East</td>\n",
       "      <td>Martha</td>\n",
       "      <td>Alexander</td>\n",
       "      <td>Cell Phone</td>\n",
       "      <td>64.00</td>\n",
       "      <td>225.000</td>\n",
       "      <td>14400.00</td>\n",
       "    </tr>\n",
       "    <tr>\n",
       "      <td>2018-11-08</td>\n",
       "      <td>East</td>\n",
       "      <td>Douglas</td>\n",
       "      <td>Karen</td>\n",
       "      <td>Cell Phone</td>\n",
       "      <td>15.00</td>\n",
       "      <td>225.000</td>\n",
       "      <td>3375.00</td>\n",
       "    </tr>\n",
       "    <tr>\n",
       "      <td>2018-11-25</td>\n",
       "      <td>Central</td>\n",
       "      <td>Hermann</td>\n",
       "      <td>Shelli</td>\n",
       "      <td>Video Games</td>\n",
       "      <td>96.00</td>\n",
       "      <td>58.500</td>\n",
       "      <td>5616.00</td>\n",
       "    </tr>\n",
       "    <tr>\n",
       "      <td>2018-12-12</td>\n",
       "      <td>Central</td>\n",
       "      <td>Douglas</td>\n",
       "      <td>John</td>\n",
       "      <td>Television</td>\n",
       "      <td>67.00</td>\n",
       "      <td>1198.000</td>\n",
       "      <td>80266.00</td>\n",
       "    </tr>\n",
       "    <tr>\n",
       "      <td>2018-12-29</td>\n",
       "      <td>East</td>\n",
       "      <td>Douglas</td>\n",
       "      <td>Karen</td>\n",
       "      <td>Video Games</td>\n",
       "      <td>74.00</td>\n",
       "      <td>58.500</td>\n",
       "      <td>4329.00</td>\n",
       "    </tr>\n",
       "    <tr>\n",
       "      <td>2019-01-15</td>\n",
       "      <td>Central</td>\n",
       "      <td>Timothy</td>\n",
       "      <td>David</td>\n",
       "      <td>Home Theater</td>\n",
       "      <td>46.00</td>\n",
       "      <td>500.000</td>\n",
       "      <td>23000.00</td>\n",
       "    </tr>\n",
       "    <tr>\n",
       "      <td>2019-02-01</td>\n",
       "      <td>Central</td>\n",
       "      <td>Douglas</td>\n",
       "      <td>John</td>\n",
       "      <td>Home Theater</td>\n",
       "      <td>87.00</td>\n",
       "      <td>500.000</td>\n",
       "      <td>43500.00</td>\n",
       "    </tr>\n",
       "    <tr>\n",
       "      <td>2019-02-18</td>\n",
       "      <td>East</td>\n",
       "      <td>Martha</td>\n",
       "      <td>Alexander</td>\n",
       "      <td>Home Theater</td>\n",
       "      <td>4.00</td>\n",
       "      <td>500.000</td>\n",
       "      <td>2000.00</td>\n",
       "    </tr>\n",
       "    <tr>\n",
       "      <td>2019-03-07</td>\n",
       "      <td>West</td>\n",
       "      <td>Timothy</td>\n",
       "      <td>Stephen</td>\n",
       "      <td>Home Theater</td>\n",
       "      <td>7.00</td>\n",
       "      <td>500.000</td>\n",
       "      <td>3500.00</td>\n",
       "    </tr>\n",
       "    <tr>\n",
       "      <td>2019-03-24</td>\n",
       "      <td>Central</td>\n",
       "      <td>Hermann</td>\n",
       "      <td>Luis</td>\n",
       "      <td>Video Games</td>\n",
       "      <td>50.00</td>\n",
       "      <td>58.500</td>\n",
       "      <td>2925.00</td>\n",
       "    </tr>\n",
       "    <tr>\n",
       "      <td>2019-04-10</td>\n",
       "      <td>Central</td>\n",
       "      <td>Martha</td>\n",
       "      <td>Steven</td>\n",
       "      <td>Television</td>\n",
       "      <td>66.00</td>\n",
       "      <td>1198.000</td>\n",
       "      <td>79068.00</td>\n",
       "    </tr>\n",
       "    <tr>\n",
       "      <td>2019-04-27</td>\n",
       "      <td>East</td>\n",
       "      <td>Martha</td>\n",
       "      <td>Diana</td>\n",
       "      <td>Cell Phone</td>\n",
       "      <td>96.00</td>\n",
       "      <td>225.000</td>\n",
       "      <td>21600.00</td>\n",
       "    </tr>\n",
       "    <tr>\n",
       "      <td>2019-05-14</td>\n",
       "      <td>Central</td>\n",
       "      <td>Timothy</td>\n",
       "      <td>David</td>\n",
       "      <td>Television</td>\n",
       "      <td>53.00</td>\n",
       "      <td>1198.000</td>\n",
       "      <td>63494.00</td>\n",
       "    </tr>\n",
       "    <tr>\n",
       "      <td>2019-05-31</td>\n",
       "      <td>Central</td>\n",
       "      <td>Timothy</td>\n",
       "      <td>David</td>\n",
       "      <td>Home Theater</td>\n",
       "      <td>80.00</td>\n",
       "      <td>500.000</td>\n",
       "      <td>40000.00</td>\n",
       "    </tr>\n",
       "    <tr>\n",
       "      <td>2019-06-17</td>\n",
       "      <td>Central</td>\n",
       "      <td>Hermann</td>\n",
       "      <td>Shelli</td>\n",
       "      <td>Desk</td>\n",
       "      <td>5.00</td>\n",
       "      <td>125.000</td>\n",
       "      <td>625.00</td>\n",
       "    </tr>\n",
       "    <tr>\n",
       "      <td>2019-07-04</td>\n",
       "      <td>East</td>\n",
       "      <td>Martha</td>\n",
       "      <td>Alexander</td>\n",
       "      <td>Video Games</td>\n",
       "      <td>62.00</td>\n",
       "      <td>58.500</td>\n",
       "      <td>3627.00</td>\n",
       "    </tr>\n",
       "    <tr>\n",
       "      <td>2019-07-21</td>\n",
       "      <td>Central</td>\n",
       "      <td>Hermann</td>\n",
       "      <td>Sigal</td>\n",
       "      <td>Video Games</td>\n",
       "      <td>55.00</td>\n",
       "      <td>58.500</td>\n",
       "      <td>3217.50</td>\n",
       "    </tr>\n",
       "    <tr>\n",
       "      <td>2019-08-07</td>\n",
       "      <td>Central</td>\n",
       "      <td>Hermann</td>\n",
       "      <td>Shelli</td>\n",
       "      <td>Video Games</td>\n",
       "      <td>42.00</td>\n",
       "      <td>58.500</td>\n",
       "      <td>2457.00</td>\n",
       "    </tr>\n",
       "    <tr>\n",
       "      <td>2019-08-24</td>\n",
       "      <td>West</td>\n",
       "      <td>Timothy</td>\n",
       "      <td>Stephen</td>\n",
       "      <td>Desk</td>\n",
       "      <td>3.00</td>\n",
       "      <td>125.000</td>\n",
       "      <td>375.00</td>\n",
       "    </tr>\n",
       "    <tr>\n",
       "      <td>2019-09-10</td>\n",
       "      <td>Central</td>\n",
       "      <td>Timothy</td>\n",
       "      <td>David</td>\n",
       "      <td>Television</td>\n",
       "      <td>7.00</td>\n",
       "      <td>1198.000</td>\n",
       "      <td>8386.00</td>\n",
       "    </tr>\n",
       "    <tr>\n",
       "      <td>2019-09-27</td>\n",
       "      <td>West</td>\n",
       "      <td>Timothy</td>\n",
       "      <td>Stephen</td>\n",
       "      <td>Cell Phone</td>\n",
       "      <td>76.00</td>\n",
       "      <td>225.000</td>\n",
       "      <td>17100.00</td>\n",
       "    </tr>\n",
       "    <tr>\n",
       "      <td>2019-10-14</td>\n",
       "      <td>West</td>\n",
       "      <td>Douglas</td>\n",
       "      <td>Michael</td>\n",
       "      <td>Home Theater</td>\n",
       "      <td>57.00</td>\n",
       "      <td>500.000</td>\n",
       "      <td>28500.00</td>\n",
       "    </tr>\n",
       "    <tr>\n",
       "      <td>2019-10-31</td>\n",
       "      <td>Central</td>\n",
       "      <td>Martha</td>\n",
       "      <td>Steven</td>\n",
       "      <td>Television</td>\n",
       "      <td>14.00</td>\n",
       "      <td>1198.000</td>\n",
       "      <td>16772.00</td>\n",
       "    </tr>\n",
       "    <tr>\n",
       "      <td>2019-11-17</td>\n",
       "      <td>Central</td>\n",
       "      <td>Hermann</td>\n",
       "      <td>Luis</td>\n",
       "      <td>Home Theater</td>\n",
       "      <td>11.00</td>\n",
       "      <td>500.000</td>\n",
       "      <td>5500.00</td>\n",
       "    </tr>\n",
       "    <tr>\n",
       "      <td>2019-12-04</td>\n",
       "      <td>Central</td>\n",
       "      <td>Hermann</td>\n",
       "      <td>Luis</td>\n",
       "      <td>Home Theater</td>\n",
       "      <td>94.00</td>\n",
       "      <td>500.000</td>\n",
       "      <td>47000.00</td>\n",
       "    </tr>\n",
       "    <tr>\n",
       "      <td>2019-12-21</td>\n",
       "      <td>Central</td>\n",
       "      <td>Martha</td>\n",
       "      <td>Steven</td>\n",
       "      <td>Home Theater</td>\n",
       "      <td>28.00</td>\n",
       "      <td>500.000</td>\n",
       "      <td>14000.00</td>\n",
       "    </tr>\n",
       "    <tr>\n",
       "      <td>NaT</td>\n",
       "      <td>NaN</td>\n",
       "      <td>NaN</td>\n",
       "      <td>NaN</td>\n",
       "      <td>NaN</td>\n",
       "      <td>278.00</td>\n",
       "      <td>1125.000</td>\n",
       "      <td>62550.00</td>\n",
       "    </tr>\n",
       "    <tr>\n",
       "      <td>NaT</td>\n",
       "      <td>NaN</td>\n",
       "      <td>NaN</td>\n",
       "      <td>NaN</td>\n",
       "      <td>NaN</td>\n",
       "      <td>34.75</td>\n",
       "      <td>140.625</td>\n",
       "      <td>7818.75</td>\n",
       "    </tr>\n",
       "  </tbody>\n",
       "</table>\n",
       "</div>"
      ],
      "text/plain": [
       "             Region  Manager   SalesMan          Item   Units  Unit_price  \\\n",
       "OrderDate                                                                   \n",
       "2018-01-06     East   Martha  Alexander    Television   95.00    1198.000   \n",
       "2018-01-23  Central  Hermann     Shelli  Home Theater   50.00     500.000   \n",
       "2018-02-09  Central  Hermann       Luis    Television   36.00    1198.000   \n",
       "2018-02-26  Central  Timothy      David    Cell Phone   27.00     225.000   \n",
       "2018-03-15     West  Timothy    Stephen    Television   56.00    1198.000   \n",
       "2018-04-01     East   Martha  Alexander  Home Theater   60.00     500.000   \n",
       "2018-04-18  Central   Martha     Steven    Television   75.00    1198.000   \n",
       "2018-05-05  Central  Hermann       Luis    Television   90.00    1198.000   \n",
       "2018-05-22     West  Douglas    Michael    Television   32.00    1198.000   \n",
       "2018-06-08     East   Martha  Alexander  Home Theater   60.00     500.000   \n",
       "2018-06-25  Central  Hermann      Sigal    Television   90.00    1198.000   \n",
       "2018-07-12     East   Martha      Diana  Home Theater   29.00     500.000   \n",
       "2018-07-29     East  Douglas      Karen  Home Theater   81.00     500.000   \n",
       "2018-08-15     East   Martha  Alexander    Television   35.00    1198.000   \n",
       "2018-09-01  Central  Douglas       John          Desk    2.00     125.000   \n",
       "2018-09-18     East   Martha  Alexander   Video Games   16.00      58.500   \n",
       "2018-10-05  Central  Hermann      Sigal  Home Theater   28.00     500.000   \n",
       "2018-10-22     East   Martha  Alexander    Cell Phone   64.00     225.000   \n",
       "2018-11-08     East  Douglas      Karen    Cell Phone   15.00     225.000   \n",
       "2018-11-25  Central  Hermann     Shelli   Video Games   96.00      58.500   \n",
       "2018-12-12  Central  Douglas       John    Television   67.00    1198.000   \n",
       "2018-12-29     East  Douglas      Karen   Video Games   74.00      58.500   \n",
       "2019-01-15  Central  Timothy      David  Home Theater   46.00     500.000   \n",
       "2019-02-01  Central  Douglas       John  Home Theater   87.00     500.000   \n",
       "2019-02-18     East   Martha  Alexander  Home Theater    4.00     500.000   \n",
       "2019-03-07     West  Timothy    Stephen  Home Theater    7.00     500.000   \n",
       "2019-03-24  Central  Hermann       Luis   Video Games   50.00      58.500   \n",
       "2019-04-10  Central   Martha     Steven    Television   66.00    1198.000   \n",
       "2019-04-27     East   Martha      Diana    Cell Phone   96.00     225.000   \n",
       "2019-05-14  Central  Timothy      David    Television   53.00    1198.000   \n",
       "2019-05-31  Central  Timothy      David  Home Theater   80.00     500.000   \n",
       "2019-06-17  Central  Hermann     Shelli          Desk    5.00     125.000   \n",
       "2019-07-04     East   Martha  Alexander   Video Games   62.00      58.500   \n",
       "2019-07-21  Central  Hermann      Sigal   Video Games   55.00      58.500   \n",
       "2019-08-07  Central  Hermann     Shelli   Video Games   42.00      58.500   \n",
       "2019-08-24     West  Timothy    Stephen          Desk    3.00     125.000   \n",
       "2019-09-10  Central  Timothy      David    Television    7.00    1198.000   \n",
       "2019-09-27     West  Timothy    Stephen    Cell Phone   76.00     225.000   \n",
       "2019-10-14     West  Douglas    Michael  Home Theater   57.00     500.000   \n",
       "2019-10-31  Central   Martha     Steven    Television   14.00    1198.000   \n",
       "2019-11-17  Central  Hermann       Luis  Home Theater   11.00     500.000   \n",
       "2019-12-04  Central  Hermann       Luis  Home Theater   94.00     500.000   \n",
       "2019-12-21  Central   Martha     Steven  Home Theater   28.00     500.000   \n",
       "NaT             NaN      NaN        NaN           NaN  278.00    1125.000   \n",
       "NaT             NaN      NaN        NaN           NaN   34.75     140.625   \n",
       "\n",
       "             Sale_amt  \n",
       "OrderDate              \n",
       "2018-01-06  113810.00  \n",
       "2018-01-23   25000.00  \n",
       "2018-02-09   43128.00  \n",
       "2018-02-26    6075.00  \n",
       "2018-03-15   67088.00  \n",
       "2018-04-01   30000.00  \n",
       "2018-04-18   89850.00  \n",
       "2018-05-05  107820.00  \n",
       "2018-05-22   38336.00  \n",
       "2018-06-08   30000.00  \n",
       "2018-06-25  107820.00  \n",
       "2018-07-12   14500.00  \n",
       "2018-07-29   40500.00  \n",
       "2018-08-15   41930.00  \n",
       "2018-09-01     250.00  \n",
       "2018-09-18     936.00  \n",
       "2018-10-05   14000.00  \n",
       "2018-10-22   14400.00  \n",
       "2018-11-08    3375.00  \n",
       "2018-11-25    5616.00  \n",
       "2018-12-12   80266.00  \n",
       "2018-12-29    4329.00  \n",
       "2019-01-15   23000.00  \n",
       "2019-02-01   43500.00  \n",
       "2019-02-18    2000.00  \n",
       "2019-03-07    3500.00  \n",
       "2019-03-24    2925.00  \n",
       "2019-04-10   79068.00  \n",
       "2019-04-27   21600.00  \n",
       "2019-05-14   63494.00  \n",
       "2019-05-31   40000.00  \n",
       "2019-06-17     625.00  \n",
       "2019-07-04    3627.00  \n",
       "2019-07-21    3217.50  \n",
       "2019-08-07    2457.00  \n",
       "2019-08-24     375.00  \n",
       "2019-09-10    8386.00  \n",
       "2019-09-27   17100.00  \n",
       "2019-10-14   28500.00  \n",
       "2019-10-31   16772.00  \n",
       "2019-11-17    5500.00  \n",
       "2019-12-04   47000.00  \n",
       "2019-12-21   14000.00  \n",
       "NaT          62550.00  \n",
       "NaT           7818.75  "
      ]
     },
     "execution_count": 4,
     "metadata": {},
     "output_type": "execute_result"
    }
   ],
   "source": [
    "data = pd.read_excel('SaleData.xlsx')\n",
    "data.head(10)\n",
    "data.set_index('OrderDate')"
   ]
  },
  {
   "cell_type": "code",
   "execution_count": 5,
   "id": "4f148a11",
   "metadata": {},
   "outputs": [
    {
     "data": {
      "text/plain": [
       "0       January\n",
       "1       January\n",
       "2      February\n",
       "3      February\n",
       "4         March\n",
       "5         April\n",
       "6         April\n",
       "7           May\n",
       "8           May\n",
       "9          June\n",
       "10         June\n",
       "11         July\n",
       "12         July\n",
       "13       August\n",
       "14    September\n",
       "15    September\n",
       "16      October\n",
       "17      October\n",
       "18     November\n",
       "19     November\n",
       "20     December\n",
       "21     December\n",
       "22      January\n",
       "23     February\n",
       "24     February\n",
       "25        March\n",
       "26        March\n",
       "27        April\n",
       "28        April\n",
       "29          May\n",
       "30          May\n",
       "31         June\n",
       "32         July\n",
       "33         July\n",
       "34       August\n",
       "35       August\n",
       "36    September\n",
       "37    September\n",
       "38      October\n",
       "39      October\n",
       "40     November\n",
       "41     December\n",
       "42     December\n",
       "43          NaN\n",
       "44          NaN\n",
       "Name: OrderDate, dtype: object"
      ]
     },
     "execution_count": 5,
     "metadata": {},
     "output_type": "execute_result"
    }
   ],
   "source": [
    "# data.info()\n",
    "data.OrderDate.dt.month_name()"
   ]
  },
  {
   "cell_type": "code",
   "execution_count": 6,
   "id": "c97bb417",
   "metadata": {},
   "outputs": [
    {
     "data": {
      "text/html": [
       "<div>\n",
       "<style scoped>\n",
       "    .dataframe tbody tr th:only-of-type {\n",
       "        vertical-align: middle;\n",
       "    }\n",
       "\n",
       "    .dataframe tbody tr th {\n",
       "        vertical-align: top;\n",
       "    }\n",
       "\n",
       "    .dataframe thead th {\n",
       "        text-align: right;\n",
       "    }\n",
       "</style>\n",
       "<table border=\"1\" class=\"dataframe\">\n",
       "  <thead>\n",
       "    <tr style=\"text-align: right;\">\n",
       "      <th></th>\n",
       "      <th>OrderDate</th>\n",
       "      <th>Region</th>\n",
       "      <th>Manager</th>\n",
       "      <th>SalesMan</th>\n",
       "      <th>Item</th>\n",
       "      <th>Units</th>\n",
       "      <th>Unit_price</th>\n",
       "      <th>Sale_amt</th>\n",
       "    </tr>\n",
       "  </thead>\n",
       "  <tbody>\n",
       "    <tr>\n",
       "      <td>0</td>\n",
       "      <td>2018-01-06</td>\n",
       "      <td>East</td>\n",
       "      <td>Martha</td>\n",
       "      <td>Alexander</td>\n",
       "      <td>Television</td>\n",
       "      <td>95.0</td>\n",
       "      <td>1198.0</td>\n",
       "      <td>113810.0</td>\n",
       "    </tr>\n",
       "    <tr>\n",
       "      <td>1</td>\n",
       "      <td>2018-01-23</td>\n",
       "      <td>Central</td>\n",
       "      <td>Hermann</td>\n",
       "      <td>Shelli</td>\n",
       "      <td>Home Theater</td>\n",
       "      <td>50.0</td>\n",
       "      <td>500.0</td>\n",
       "      <td>25000.0</td>\n",
       "    </tr>\n",
       "    <tr>\n",
       "      <td>2</td>\n",
       "      <td>2018-02-09</td>\n",
       "      <td>Central</td>\n",
       "      <td>Hermann</td>\n",
       "      <td>Luis</td>\n",
       "      <td>Television</td>\n",
       "      <td>36.0</td>\n",
       "      <td>1198.0</td>\n",
       "      <td>43128.0</td>\n",
       "    </tr>\n",
       "  </tbody>\n",
       "</table>\n",
       "</div>"
      ],
      "text/plain": [
       "   OrderDate   Region  Manager   SalesMan          Item  Units  Unit_price  \\\n",
       "0 2018-01-06     East   Martha  Alexander    Television   95.0      1198.0   \n",
       "1 2018-01-23  Central  Hermann     Shelli  Home Theater   50.0       500.0   \n",
       "2 2018-02-09  Central  Hermann       Luis    Television   36.0      1198.0   \n",
       "\n",
       "   Sale_amt  \n",
       "0  113810.0  \n",
       "1   25000.0  \n",
       "2   43128.0  "
      ]
     },
     "execution_count": 6,
     "metadata": {},
     "output_type": "execute_result"
    }
   ],
   "source": [
    "data.head(3)"
   ]
  },
  {
   "cell_type": "code",
   "execution_count": 7,
   "id": "486678a1",
   "metadata": {},
   "outputs": [
    {
     "data": {
      "text/plain": [
       "array(['East', 'Central', 'West', nan], dtype=object)"
      ]
     },
     "execution_count": 7,
     "metadata": {},
     "output_type": "execute_result"
    }
   ],
   "source": [
    "data.Region.unique()"
   ]
  },
  {
   "cell_type": "code",
   "execution_count": 8,
   "id": "72ec7a86",
   "metadata": {},
   "outputs": [],
   "source": [
    "data.dropna(inplace=True)"
   ]
  },
  {
   "cell_type": "code",
   "execution_count": 9,
   "id": "e5fb1d3d",
   "metadata": {},
   "outputs": [
    {
     "data": {
      "text/plain": [
       "array(['East', 'Central', 'West'], dtype=object)"
      ]
     },
     "execution_count": 9,
     "metadata": {},
     "output_type": "execute_result"
    }
   ],
   "source": [
    "data.Region.unique()"
   ]
  },
  {
   "cell_type": "code",
   "execution_count": 10,
   "id": "13a0061c",
   "metadata": {},
   "outputs": [
    {
     "data": {
      "text/plain": [
       "array(['Martha', 'Hermann', 'Timothy', 'Douglas'], dtype=object)"
      ]
     },
     "execution_count": 10,
     "metadata": {},
     "output_type": "execute_result"
    }
   ],
   "source": [
    "data.Manager.unique()"
   ]
  },
  {
   "cell_type": "code",
   "execution_count": 11,
   "id": "5c041a85",
   "metadata": {},
   "outputs": [
    {
     "data": {
      "text/plain": [
       "array(['Alexander', 'Shelli', 'Luis', 'David', 'Stephen', 'Steven',\n",
       "       'Michael', 'Sigal', 'Diana', 'Karen', 'John'], dtype=object)"
      ]
     },
     "execution_count": 11,
     "metadata": {},
     "output_type": "execute_result"
    }
   ],
   "source": [
    "data.SalesMan.unique()"
   ]
  },
  {
   "cell_type": "code",
   "execution_count": 12,
   "id": "58a166f3",
   "metadata": {},
   "outputs": [
    {
     "data": {
      "text/plain": [
       "array(['Television', 'Home Theater', 'Cell Phone', 'Desk', 'Video Games'],\n",
       "      dtype=object)"
      ]
     },
     "execution_count": 12,
     "metadata": {},
     "output_type": "execute_result"
    }
   ],
   "source": [
    "data.Item.unique()"
   ]
  },
  {
   "cell_type": "code",
   "execution_count": 13,
   "id": "39d118c1",
   "metadata": {},
   "outputs": [],
   "source": [
    "region_gp = data.groupby('Region')"
   ]
  },
  {
   "cell_type": "code",
   "execution_count": 14,
   "id": "c6f22232",
   "metadata": {},
   "outputs": [
    {
     "data": {
      "text/plain": [
       "{'Central': Int64Index([ 1,  2,  3,  6,  7, 10, 14, 16, 19, 20, 22, 23, 26, 27, 29, 30, 31,\n",
       "             33, 34, 36, 39, 40, 41, 42],\n",
       "            dtype='int64'),\n",
       " 'East': Int64Index([0, 5, 9, 11, 12, 13, 15, 17, 18, 21, 24, 28, 32], dtype='int64'),\n",
       " 'West': Int64Index([4, 8, 25, 35, 37, 38], dtype='int64')}"
      ]
     },
     "execution_count": 14,
     "metadata": {},
     "output_type": "execute_result"
    }
   ],
   "source": [
    "region_gp.groups"
   ]
  },
  {
   "cell_type": "code",
   "execution_count": 15,
   "id": "a212ff35",
   "metadata": {},
   "outputs": [
    {
     "data": {
      "text/plain": [
       "829769.5"
      ]
     },
     "execution_count": 15,
     "metadata": {},
     "output_type": "execute_result"
    }
   ],
   "source": [
    "region_central = region_gp.get_group('Central')\n",
    "region_central['Sale_amt'].sum()"
   ]
  },
  {
   "cell_type": "code",
   "execution_count": 16,
   "id": "603d5b69",
   "metadata": {},
   "outputs": [],
   "source": [
    "# data[data.Region =='Central']"
   ]
  },
  {
   "cell_type": "code",
   "execution_count": 17,
   "id": "449c395f",
   "metadata": {},
   "outputs": [
    {
     "data": {
      "text/plain": [
       "array([829769.5, 321007. , 154899. ])"
      ]
     },
     "execution_count": 17,
     "metadata": {},
     "output_type": "execute_result"
    }
   ],
   "source": [
    "sums = data.groupby('Region')['Sale_amt'].sum()\n",
    "sums.values"
   ]
  },
  {
   "cell_type": "code",
   "execution_count": 18,
   "id": "a0689b83",
   "metadata": {},
   "outputs": [
    {
     "data": {
      "text/plain": [
       "<BarContainer object of 3 artists>"
      ]
     },
     "execution_count": 18,
     "metadata": {},
     "output_type": "execute_result"
    },
    {
     "data": {
      "image/png": "[encoded data removed]",
      "text/plain": [
       "<Figure size 432x288 with 1 Axes>"
      ]
     },
     "metadata": {
      "needs_background": "light"
     },
     "output_type": "display_data"
    }
   ],
   "source": [
    "plt.bar(sums.index,sums.values )"
   ]
  },
  {
   "cell_type": "code",
   "execution_count": 19,
   "id": "18708cb6",
   "metadata": {},
   "outputs": [
    {
     "data": {
      "text/plain": [
       "Region\n",
       "Central    34573.729167\n",
       "East       24692.846154\n",
       "West       25816.500000\n",
       "Name: Sale_amt, dtype: float64"
      ]
     },
     "execution_count": 19,
     "metadata": {},
     "output_type": "execute_result"
    }
   ],
   "source": [
    "avg_sales = data.groupby('Region')['Sale_amt'].mean()\n",
    "avg_sales"
   ]
  },
  {
   "cell_type": "code",
   "execution_count": 20,
   "id": "d23acbfe",
   "metadata": {},
   "outputs": [
    {
     "data": {
      "text/plain": [
       "<BarContainer object of 3 artists>"
      ]
     },
     "execution_count": 20,
     "metadata": {},
     "output_type": "execute_result"
    },
    {
     "data": {
      "image/png": "[encoded data removed]",
      "text/plain": [
       "<Figure size 432x288 with 1 Axes>"
      ]
     },
     "metadata": {
      "needs_background": "light"
     },
     "output_type": "display_data"
    }
   ],
   "source": [
    "plt.bar(avg_sales.index,avg_sales.values )"
   ]
  },
  {
   "cell_type": "code",
   "execution_count": null,
   "id": "272d87c9",
   "metadata": {},
   "outputs": [],
   "source": []
  },
  {
   "cell_type": "code",
   "execution_count": 21,
   "id": "4d5785cc",
   "metadata": {},
   "outputs": [
    {
     "data": {
      "text/html": [
       "<div>\n",
       "<style scoped>\n",
       "    .dataframe tbody tr th:only-of-type {\n",
       "        vertical-align: middle;\n",
       "    }\n",
       "\n",
       "    .dataframe tbody tr th {\n",
       "        vertical-align: top;\n",
       "    }\n",
       "\n",
       "    .dataframe thead th {\n",
       "        text-align: right;\n",
       "    }\n",
       "</style>\n",
       "<table border=\"1\" class=\"dataframe\">\n",
       "  <thead>\n",
       "    <tr style=\"text-align: right;\">\n",
       "      <th></th>\n",
       "      <th>count</th>\n",
       "      <th>max</th>\n",
       "      <th>min</th>\n",
       "      <th>mean</th>\n",
       "      <th>sum</th>\n",
       "    </tr>\n",
       "    <tr>\n",
       "      <th>Region</th>\n",
       "      <th></th>\n",
       "      <th></th>\n",
       "      <th></th>\n",
       "      <th></th>\n",
       "      <th></th>\n",
       "    </tr>\n",
       "  </thead>\n",
       "  <tbody>\n",
       "    <tr>\n",
       "      <td>Central</td>\n",
       "      <td>24</td>\n",
       "      <td>107820.0</td>\n",
       "      <td>250.0</td>\n",
       "      <td>34573.729167</td>\n",
       "      <td>829769.5</td>\n",
       "    </tr>\n",
       "    <tr>\n",
       "      <td>East</td>\n",
       "      <td>13</td>\n",
       "      <td>113810.0</td>\n",
       "      <td>936.0</td>\n",
       "      <td>24692.846154</td>\n",
       "      <td>321007.0</td>\n",
       "    </tr>\n",
       "    <tr>\n",
       "      <td>West</td>\n",
       "      <td>6</td>\n",
       "      <td>67088.0</td>\n",
       "      <td>375.0</td>\n",
       "      <td>25816.500000</td>\n",
       "      <td>154899.0</td>\n",
       "    </tr>\n",
       "  </tbody>\n",
       "</table>\n",
       "</div>"
      ],
      "text/plain": [
       "         count       max    min          mean       sum\n",
       "Region                                                 \n",
       "Central     24  107820.0  250.0  34573.729167  829769.5\n",
       "East        13  113810.0  936.0  24692.846154  321007.0\n",
       "West         6   67088.0  375.0  25816.500000  154899.0"
      ]
     },
     "execution_count": 21,
     "metadata": {},
     "output_type": "execute_result"
    }
   ],
   "source": [
    "sums = data.groupby('Region')['Sale_amt'].aggregate(['count','max','min','mean','sum'])\n",
    "sums"
   ]
  },
  {
   "cell_type": "code",
   "execution_count": 28,
   "id": "b4ffc3bd",
   "metadata": {},
   "outputs": [],
   "source": [
    "# Top manager on sales amount\n",
    "\n",
    "top_managers= data.groupby('Manager')['Sale_amt'].sum().sort_values(ascending=False)"
   ]
  },
  {
   "cell_type": "code",
   "execution_count": 29,
   "id": "752d92d4",
   "metadata": {},
   "outputs": [
    {
     "data": {
      "text/plain": [
       "<BarContainer object of 4 artists>"
      ]
     },
     "execution_count": 29,
     "metadata": {},
     "output_type": "execute_result"
    },
    {
     "data": {
      "image/png": "[encoded data removed]",
      "text/plain": [
       "<Figure size 432x288 with 1 Axes>"
      ]
     },
     "metadata": {
      "needs_background": "light"
     },
     "output_type": "display_data"
    }
   ],
   "source": [
    "plt.bar(top_managers.index,top_managers.values)"
   ]
  },
  {
   "cell_type": "code",
   "execution_count": 30,
   "id": "771a3e14",
   "metadata": {},
   "outputs": [],
   "source": [
    "top_items_sales_amt = data.groupby('Item')['Sale_amt'].sum().sort_values(ascending=False)"
   ]
  },
  {
   "cell_type": "code",
   "execution_count": 31,
   "id": "bce28bd6",
   "metadata": {},
   "outputs": [
    {
     "data": {
      "text/plain": [
       "<BarContainer object of 5 artists>"
      ]
     },
     "execution_count": 31,
     "metadata": {},
     "output_type": "execute_result"
    },
    {
     "data": {
      "image/png": "[encoded data removed]",
      "text/plain": [
       "<Figure size 432x288 with 1 Axes>"
      ]
     },
     "metadata": {
      "needs_background": "light"
     },
     "output_type": "display_data"
    }
   ],
   "source": [
    "plt.bar(top_items_sales_amt.index,top_items_sales_amt.values)"
   ]
  },
  {
   "cell_type": "code",
   "execution_count": 32,
   "id": "113adf14",
   "metadata": {},
   "outputs": [
    {
     "data": {
      "text/html": [
       "<div>\n",
       "<style scoped>\n",
       "    .dataframe tbody tr th:only-of-type {\n",
       "        vertical-align: middle;\n",
       "    }\n",
       "\n",
       "    .dataframe tbody tr th {\n",
       "        vertical-align: top;\n",
       "    }\n",
       "\n",
       "    .dataframe thead th {\n",
       "        text-align: right;\n",
       "    }\n",
       "</style>\n",
       "<table border=\"1\" class=\"dataframe\">\n",
       "  <thead>\n",
       "    <tr style=\"text-align: right;\">\n",
       "      <th></th>\n",
       "      <th>OrderDate</th>\n",
       "      <th>Region</th>\n",
       "      <th>Manager</th>\n",
       "      <th>SalesMan</th>\n",
       "      <th>Item</th>\n",
       "      <th>Units</th>\n",
       "      <th>Unit_price</th>\n",
       "      <th>Sale_amt</th>\n",
       "    </tr>\n",
       "  </thead>\n",
       "  <tbody>\n",
       "    <tr>\n",
       "      <td>0</td>\n",
       "      <td>2018-01-06</td>\n",
       "      <td>East</td>\n",
       "      <td>Martha</td>\n",
       "      <td>Alexander</td>\n",
       "      <td>Television</td>\n",
       "      <td>95.0</td>\n",
       "      <td>1198.0</td>\n",
       "      <td>113810.0</td>\n",
       "    </tr>\n",
       "  </tbody>\n",
       "</table>\n",
       "</div>"
      ],
      "text/plain": [
       "   OrderDate Region Manager   SalesMan        Item  Units  Unit_price  \\\n",
       "0 2018-01-06   East  Martha  Alexander  Television   95.0      1198.0   \n",
       "\n",
       "   Sale_amt  \n",
       "0  113810.0  "
      ]
     },
     "execution_count": 32,
     "metadata": {},
     "output_type": "execute_result"
    }
   ],
   "source": [
    "data.head(1)"
   ]
  },
  {
   "cell_type": "code",
   "execution_count": 33,
   "id": "5c19ba46",
   "metadata": {},
   "outputs": [
    {
     "data": {
      "text/plain": [
       "Region   Item        \n",
       "Central  Cell Phone      1\n",
       "         Desk            2\n",
       "         Home Theater    8\n",
       "         Television      9\n",
       "         Video Games     4\n",
       "East     Cell Phone      3\n",
       "         Home Theater    5\n",
       "         Television      2\n",
       "         Video Games     3\n",
       "West     Cell Phone      1\n",
       "         Desk            1\n",
       "         Home Theater    2\n",
       "         Television      2\n",
       "Name: Item, dtype: int64"
      ]
     },
     "execution_count": 33,
     "metadata": {},
     "output_type": "execute_result"
    }
   ],
   "source": [
    "# Region wise item sale count\n",
    "# data.groupby('Region')['Item'].count()\n",
    "data.groupby(['Region','Item'])['Item'].count()"
   ]
  },
  {
   "cell_type": "markdown",
   "id": "1eb656bd",
   "metadata": {},
   "source": [
    "# Time Series  Data"
   ]
  },
  {
   "cell_type": "raw",
   "id": "87521cc8",
   "metadata": {},
   "source": [
    "Creating time series with specific frequencies\n",
    "• Date offsets\n",
    "• Representation of differences in time with timedelta\n",
    "• Durations of time with Period objects\n",
    "• Calendars\n",
    "• Time zones\n",
    "• Shifting and lagging\n",
    "• Up and down sampling\n",
    "• Time series moving-window operations"
   ]
  },
  {
   "cell_type": "code",
   "execution_count": 36,
   "id": "aa4ee35c",
   "metadata": {},
   "outputs": [],
   "source": [
    "import datetime\n",
    "from datetime import datetime"
   ]
  },
  {
   "cell_type": "code",
   "execution_count": 37,
   "id": "8c79a065",
   "metadata": {},
   "outputs": [],
   "source": [
    "date = datetime(2014, 12, 15)"
   ]
  },
  {
   "cell_type": "code",
   "execution_count": 38,
   "id": "5463b43e",
   "metadata": {},
   "outputs": [
    {
     "data": {
      "text/plain": [
       "datetime.datetime(2014, 12, 15, 0, 0)"
      ]
     },
     "execution_count": 38,
     "metadata": {},
     "output_type": "execute_result"
    }
   ],
   "source": [
    "date"
   ]
  },
  {
   "cell_type": "code",
   "execution_count": 39,
   "id": "57d91e25",
   "metadata": {},
   "outputs": [
    {
     "data": {
      "text/plain": [
       "2014"
      ]
     },
     "execution_count": 39,
     "metadata": {},
     "output_type": "execute_result"
    }
   ],
   "source": [
    "date.year"
   ]
  },
  {
   "cell_type": "code",
   "execution_count": 40,
   "id": "770c96cc",
   "metadata": {},
   "outputs": [
    {
     "data": {
      "text/plain": [
       "12"
      ]
     },
     "execution_count": 40,
     "metadata": {},
     "output_type": "execute_result"
    }
   ],
   "source": [
    "date.month"
   ]
  },
  {
   "cell_type": "code",
   "execution_count": 41,
   "id": "a786e451",
   "metadata": {},
   "outputs": [
    {
     "data": {
      "text/plain": [
       "15"
      ]
     },
     "execution_count": 41,
     "metadata": {},
     "output_type": "execute_result"
    }
   ],
   "source": [
    "date.day"
   ]
  },
  {
   "cell_type": "code",
   "execution_count": 42,
   "id": "aa096c61",
   "metadata": {},
   "outputs": [],
   "source": [
    "new_date = datetime(2014, 12, 15, 17, 30)"
   ]
  },
  {
   "cell_type": "code",
   "execution_count": 43,
   "id": "48d55a57",
   "metadata": {},
   "outputs": [
    {
     "data": {
      "text/plain": [
       "datetime.datetime(2014, 12, 15, 17, 30)"
      ]
     },
     "execution_count": 43,
     "metadata": {},
     "output_type": "execute_result"
    }
   ],
   "source": [
    "new_date"
   ]
  },
  {
   "cell_type": "code",
   "execution_count": 44,
   "id": "3a0b134e",
   "metadata": {},
   "outputs": [
    {
     "data": {
      "text/plain": [
       "17"
      ]
     },
     "execution_count": 44,
     "metadata": {},
     "output_type": "execute_result"
    }
   ],
   "source": [
    "new_date.hour"
   ]
  },
  {
   "cell_type": "code",
   "execution_count": 45,
   "id": "94b5f6c0",
   "metadata": {},
   "outputs": [
    {
     "data": {
      "text/plain": [
       "30"
      ]
     },
     "execution_count": 45,
     "metadata": {},
     "output_type": "execute_result"
    }
   ],
   "source": [
    "new_date.minute"
   ]
  },
  {
   "cell_type": "code",
   "execution_count": 46,
   "id": "a59c2b95",
   "metadata": {},
   "outputs": [],
   "source": [
    "today = datetime.now()"
   ]
  },
  {
   "cell_type": "code",
   "execution_count": 47,
   "id": "b2a5385a",
   "metadata": {},
   "outputs": [
    {
     "data": {
      "text/plain": [
       "datetime.datetime(2023, 8, 27, 10, 6, 38, 417470)"
      ]
     },
     "execution_count": 47,
     "metadata": {},
     "output_type": "execute_result"
    }
   ],
   "source": [
    "today"
   ]
  },
  {
   "cell_type": "code",
   "execution_count": 48,
   "id": "412077a0",
   "metadata": {},
   "outputs": [
    {
     "data": {
      "text/plain": [
       "datetime.date(2023, 8, 27)"
      ]
     },
     "execution_count": 48,
     "metadata": {},
     "output_type": "execute_result"
    }
   ],
   "source": [
    "today.date()"
   ]
  },
  {
   "cell_type": "code",
   "execution_count": 49,
   "id": "2a11a8e3",
   "metadata": {},
   "outputs": [
    {
     "data": {
      "text/plain": [
       "datetime.time(10, 6, 38, 417470)"
      ]
     },
     "execution_count": 49,
     "metadata": {},
     "output_type": "execute_result"
    }
   ],
   "source": [
    "today.time()"
   ]
  },
  {
   "cell_type": "markdown",
   "id": "6a4c50a3",
   "metadata": {},
   "source": [
    "# Timestamp objects"
   ]
  },
  {
   "cell_type": "code",
   "execution_count": 50,
   "id": "3b7e1791",
   "metadata": {},
   "outputs": [
    {
     "data": {
      "text/plain": [
       "Timestamp('2014-11-30 00:00:00')"
      ]
     },
     "execution_count": 50,
     "metadata": {},
     "output_type": "execute_result"
    }
   ],
   "source": [
    "pd.Timestamp('2014-11-30')"
   ]
  },
  {
   "cell_type": "code",
   "execution_count": 51,
   "id": "16018ab0",
   "metadata": {},
   "outputs": [
    {
     "data": {
      "text/plain": [
       "Timestamp('2014-12-15 17:30:00')"
      ]
     },
     "execution_count": 51,
     "metadata": {},
     "output_type": "execute_result"
    }
   ],
   "source": [
    "pd.Timestamp('2014-12-15 17:30')"
   ]
  },
  {
   "cell_type": "code",
   "execution_count": 52,
   "id": "9d5717ea",
   "metadata": {},
   "outputs": [
    {
     "data": {
      "text/plain": [
       "Timestamp('2023-08-27 17:30:00')"
      ]
     },
     "execution_count": 52,
     "metadata": {},
     "output_type": "execute_result"
    }
   ],
   "source": [
    "pd.Timestamp('17:30')"
   ]
  },
  {
   "cell_type": "code",
   "execution_count": 53,
   "id": "0ad7d963",
   "metadata": {},
   "outputs": [
    {
     "data": {
      "text/plain": [
       "Timestamp('2023-08-27 10:06:51.843363')"
      ]
     },
     "execution_count": 53,
     "metadata": {},
     "output_type": "execute_result"
    }
   ],
   "source": [
    "pd.Timestamp(\"now\")"
   ]
  },
  {
   "cell_type": "markdown",
   "id": "88d01d7e",
   "metadata": {},
   "source": [
    "# Timedelta\n",
    "- A difference between two pandas Timestamp objects is represented by a timedelta\n",
    "  object, which is a representation of an exact difference in time. \n",
    "- These are common as results of determining the duration between two dates or to calculate the date at a\n",
    "  specific interval of time from another date and/or time."
   ]
  },
  {
   "cell_type": "code",
   "execution_count": 59,
   "id": "4fd07861",
   "metadata": {},
   "outputs": [
    {
     "data": {
      "text/plain": [
       "datetime.datetime(2014, 11, 30, 0, 0)"
      ]
     },
     "execution_count": 59,
     "metadata": {},
     "output_type": "execute_result"
    }
   ],
   "source": [
    "today = datetime(2014, 11, 30)\n",
    "today"
   ]
  },
  {
   "cell_type": "code",
   "execution_count": 60,
   "id": "de3d6bca",
   "metadata": {},
   "outputs": [
    {
     "data": {
      "text/plain": [
       "datetime.datetime(2014, 12, 1, 0, 0)"
      ]
     },
     "execution_count": 60,
     "metadata": {},
     "output_type": "execute_result"
    }
   ],
   "source": [
    "tomorrow = today + pd.Timedelta(days=1)\n",
    "tomorrow"
   ]
  },
  {
   "cell_type": "code",
   "execution_count": 61,
   "id": "c2ae1c53",
   "metadata": {},
   "outputs": [
    {
     "data": {
      "text/plain": [
       "datetime.datetime(2014, 12, 10, 0, 0)"
      ]
     },
     "execution_count": 61,
     "metadata": {},
     "output_type": "execute_result"
    }
   ],
   "source": [
    "nextmonth_today = today + pd.Timedelta(days=10)\n",
    "nextmonth_today"
   ]
  },
  {
   "cell_type": "code",
   "execution_count": 62,
   "id": "039f1151",
   "metadata": {},
   "outputs": [
    {
     "data": {
      "text/plain": [
       "datetime.timedelta(days=4)"
      ]
     },
     "execution_count": 62,
     "metadata": {},
     "output_type": "execute_result"
    }
   ],
   "source": [
    "date1 = datetime(2014, 12, 2)\n",
    "date2 = datetime(2014, 11, 28)\n",
    "\n",
    "date1 - date2"
   ]
  },
  {
   "cell_type": "markdown",
   "id": "a9df2fbd",
   "metadata": {},
   "source": [
    "# Introducing time-series data"
   ]
  },
  {
   "cell_type": "markdown",
   "id": "6055fa4d",
   "metadata": {},
   "source": [
    "## DatetimeIndex"
   ]
  },
  {
   "cell_type": "code",
   "execution_count": 8,
   "id": "cb2536c9",
   "metadata": {},
   "outputs": [],
   "source": [
    "import numpy as np\n",
    "import pandas as pd\n",
    "from datetime import datetime "
   ]
  },
  {
   "cell_type": "markdown",
   "id": "66b18079",
   "metadata": {},
   "source": [
    "# A simple series data"
   ]
  },
  {
   "cell_type": "code",
   "execution_count": null,
   "id": "6ac0233b",
   "metadata": {},
   "outputs": [],
   "source": [
    "series = pd.Series([1,2,3,4], index=[\"Apple\",\"Bat\",\"Cat\",\"Dog\"])\n",
    "series"
   ]
  },
  {
   "cell_type": "code",
   "execution_count": 14,
   "id": "8e69c80f",
   "metadata": {},
   "outputs": [
    {
     "data": {
      "text/plain": [
       "Index(['Apple', 'Bat', 'Cat', 'Dog'], dtype='object')"
      ]
     },
     "execution_count": 14,
     "metadata": {},
     "output_type": "execute_result"
    }
   ],
   "source": [
    "series.index"
   ]
  },
  {
   "cell_type": "code",
   "execution_count": 15,
   "id": "64dd56ec",
   "metadata": {},
   "outputs": [
    {
     "data": {
      "text/plain": [
       "array([1, 2, 3, 4], dtype=int64)"
      ]
     },
     "execution_count": 15,
     "metadata": {},
     "output_type": "execute_result"
    }
   ],
   "source": [
    "series.values"
   ]
  },
  {
   "cell_type": "code",
   "execution_count": 16,
   "id": "b328afbd",
   "metadata": {},
   "outputs": [
    {
     "data": {
      "text/plain": [
       "[datetime.datetime(2014, 8, 1, 0, 0), datetime.datetime(2014, 8, 2, 0, 0)]"
      ]
     },
     "execution_count": 16,
     "metadata": {},
     "output_type": "execute_result"
    }
   ],
   "source": [
    "# creating a date list for using as index in series\n",
    "dates = [datetime(2014, 8, 1), datetime(2014, 8, 2)]\n",
    "dates"
   ]
  },
  {
   "cell_type": "markdown",
   "id": "d6331d3f",
   "metadata": {},
   "source": [
    "# A time series Data \n",
    " - where indcies are actually date time object"
   ]
  },
  {
   "cell_type": "code",
   "execution_count": 17,
   "id": "38205041",
   "metadata": {},
   "outputs": [
    {
     "data": {
      "text/plain": [
       "2014-08-01    10000\n",
       "2014-08-02    25000\n",
       "dtype: int64"
      ]
     },
     "execution_count": 17,
     "metadata": {},
     "output_type": "execute_result"
    }
   ],
   "source": [
    "ts = pd.Series([10000, 25000], dates)\n",
    "ts"
   ]
  },
  {
   "cell_type": "code",
   "execution_count": 18,
   "id": "ba28f5db",
   "metadata": {},
   "outputs": [
    {
     "data": {
      "text/plain": [
       "DatetimeIndex(['2014-08-01', '2014-08-02'], dtype='datetime64[ns]', freq=None)"
      ]
     },
     "execution_count": 18,
     "metadata": {},
     "output_type": "execute_result"
    }
   ],
   "source": [
    "ts.index"
   ]
  },
  {
   "cell_type": "code",
   "execution_count": 19,
   "id": "f62e8264",
   "metadata": {},
   "outputs": [
    {
     "data": {
      "text/plain": [
       "array([10000, 25000], dtype=int64)"
      ]
     },
     "execution_count": 19,
     "metadata": {},
     "output_type": "execute_result"
    }
   ],
   "source": [
    "ts.values"
   ]
  },
  {
   "cell_type": "code",
   "execution_count": 36,
   "id": "cb4b50ab",
   "metadata": {},
   "outputs": [
    {
     "data": {
      "text/plain": [
       "DatetimeIndex(['2014-08-01', '2014-08-01', 'NaT'], dtype='datetime64[ns]', freq=None)"
      ]
     },
     "execution_count": 36,
     "metadata": {},
     "output_type": "execute_result"
    }
   ],
   "source": [
    "pd.to_datetime(['Aug 1, 2014', 'Aug 1, 2014', None])"
   ]
  },
  {
   "cell_type": "code",
   "execution_count": 37,
   "id": "7bb10905",
   "metadata": {},
   "outputs": [
    {
     "data": {
      "text/plain": [
       "DatetimeIndex(['2014-08-01', 'NaT'], dtype='datetime64[ns]', freq=None)"
      ]
     },
     "execution_count": 37,
     "metadata": {},
     "output_type": "execute_result"
    }
   ],
   "source": [
    "pd.to_datetime(['Aug 1, 2014', 'Augg 1, 2014'],errors='coerce')"
   ]
  },
  {
   "cell_type": "code",
   "execution_count": 40,
   "id": "9c4947dc",
   "metadata": {},
   "outputs": [
    {
     "data": {
      "text/plain": [
       "2014-08-01    0.469112\n",
       "2014-08-02   -0.282863\n",
       "2014-08-03   -1.509059\n",
       "2014-08-04   -1.135632\n",
       "2014-08-05    1.212112\n",
       "2014-08-06   -0.173215\n",
       "2014-08-07    0.119209\n",
       "2014-08-08   -1.044236\n",
       "2014-08-09   -0.861849\n",
       "2014-08-10   -2.104569\n",
       "Freq: D, dtype: float64"
      ]
     },
     "execution_count": 40,
     "metadata": {},
     "output_type": "execute_result"
    }
   ],
   "source": [
    "np.random.seed(123456)\n",
    "periods = pd.date_range('8/1/2014', periods=10, freq=\"D\")\n",
    "date_series = pd.Series(np.random.randn(10), index=periods)\n",
    "date_series"
   ]
  },
  {
   "cell_type": "code",
   "execution_count": 41,
   "id": "6a55275f",
   "metadata": {},
   "outputs": [
    {
     "data": {
      "text/plain": [
       "2014-08-05    1.212112\n",
       "2014-08-06   -0.173215\n",
       "2014-08-07    0.119209\n",
       "Freq: D, dtype: float64"
      ]
     },
     "execution_count": 41,
     "metadata": {},
     "output_type": "execute_result"
    }
   ],
   "source": [
    "date_series['2014-08-05':'2014-08-07']"
   ]
  },
  {
   "cell_type": "code",
   "execution_count": 42,
   "id": "d3964c7e",
   "metadata": {},
   "outputs": [
    {
     "data": {
      "text/plain": [
       "2013-01-01    0\n",
       "2013-01-02    0\n",
       "2013-01-03    0\n",
       "2013-01-04    0\n",
       "2013-01-05    0\n",
       "             ..\n",
       "2014-12-27    0\n",
       "2014-12-28    0\n",
       "2014-12-29    0\n",
       "2014-12-30    0\n",
       "2014-12-31    0\n",
       "Freq: D, Length: 730, dtype: int64"
      ]
     },
     "execution_count": 42,
     "metadata": {},
     "output_type": "execute_result"
    }
   ],
   "source": [
    "s3 = pd.Series(0, pd.date_range('2013-01-01', '2014-12-31'))\n",
    "s3"
   ]
  },
  {
   "cell_type": "code",
   "execution_count": 43,
   "id": "2c704398",
   "metadata": {},
   "outputs": [
    {
     "data": {
      "text/plain": [
       "2014-05-01    0\n",
       "2014-05-02    0\n",
       "2014-05-03    0\n",
       "2014-05-04    0\n",
       "2014-05-05    0\n",
       "2014-05-06    0\n",
       "2014-05-07    0\n",
       "2014-05-08    0\n",
       "2014-05-09    0\n",
       "2014-05-10    0\n",
       "2014-05-11    0\n",
       "2014-05-12    0\n",
       "2014-05-13    0\n",
       "2014-05-14    0\n",
       "2014-05-15    0\n",
       "2014-05-16    0\n",
       "2014-05-17    0\n",
       "2014-05-18    0\n",
       "2014-05-19    0\n",
       "2014-05-20    0\n",
       "2014-05-21    0\n",
       "2014-05-22    0\n",
       "2014-05-23    0\n",
       "2014-05-24    0\n",
       "2014-05-25    0\n",
       "2014-05-26    0\n",
       "2014-05-27    0\n",
       "2014-05-28    0\n",
       "2014-05-29    0\n",
       "2014-05-30    0\n",
       "2014-05-31    0\n",
       "Freq: D, dtype: int64"
      ]
     },
     "execution_count": 43,
     "metadata": {},
     "output_type": "execute_result"
    }
   ],
   "source": [
    "s3['2014-05']"
   ]
  },
  {
   "cell_type": "code",
   "execution_count": 89,
   "id": "8379745e",
   "metadata": {},
   "outputs": [
    {
     "data": {
      "text/plain": [
       "2014-08-01    0\n",
       "2014-08-02    0\n",
       "2014-08-03    0\n",
       "2014-08-04    0\n",
       "2014-08-05    0\n",
       "             ..\n",
       "2014-09-26    0\n",
       "2014-09-27    0\n",
       "2014-09-28    0\n",
       "2014-09-29    0\n",
       "2014-09-30    0\n",
       "Freq: D, Length: 61, dtype: int64"
      ]
     },
     "execution_count": 89,
     "metadata": {},
     "output_type": "execute_result"
    }
   ],
   "source": [
    "s3['2014-08':'2014-09']"
   ]
  },
  {
   "cell_type": "markdown",
   "id": "2313822e",
   "metadata": {},
   "source": [
    "# Creating time-series data with specific frequencies"
   ]
  },
  {
   "cell_type": "code",
   "execution_count": 90,
   "id": "a4e70b11",
   "metadata": {},
   "outputs": [],
   "source": [
    "np.random.seed(123456)\n",
    "bymin = pd.Series(np.random.randn(24*60*90),pd.date_range('2014-08-01','2014-10-29 23:59',freq='T'))"
   ]
  },
  {
   "cell_type": "code",
   "execution_count": 91,
   "id": "87aef815",
   "metadata": {},
   "outputs": [
    {
     "data": {
      "text/plain": [
       "2014-08-01 00:00:00    0.469112\n",
       "2014-08-01 00:01:00   -0.282863\n",
       "2014-08-01 00:02:00   -1.509059\n",
       "2014-08-01 00:03:00   -1.135632\n",
       "2014-08-01 00:04:00    1.212112\n",
       "                         ...   \n",
       "2014-10-29 23:55:00   -0.563029\n",
       "2014-10-29 23:56:00    1.180497\n",
       "2014-10-29 23:57:00    1.850604\n",
       "2014-10-29 23:58:00   -1.589660\n",
       "2014-10-29 23:59:00    0.266429\n",
       "Freq: T, Length: 129600, dtype: float64"
      ]
     },
     "execution_count": 91,
     "metadata": {},
     "output_type": "execute_result"
    }
   ],
   "source": [
    "bymin"
   ]
  },
  {
   "cell_type": "code",
   "execution_count": 92,
   "id": "3d2a5f98",
   "metadata": {},
   "outputs": [
    {
     "data": {
      "text/plain": [
       "2014-08-01 00:02:00   -1.509059\n",
       "2014-08-01 00:03:00   -1.135632\n",
       "2014-08-01 00:04:00    1.212112\n",
       "2014-08-01 00:05:00   -0.173215\n",
       "2014-08-01 00:06:00    0.119209\n",
       "2014-08-01 00:07:00   -1.044236\n",
       "2014-08-01 00:08:00   -0.861849\n",
       "2014-08-01 00:09:00   -2.104569\n",
       "2014-08-01 00:10:00   -0.494929\n",
       "Freq: T, dtype: float64"
      ]
     },
     "execution_count": 92,
     "metadata": {},
     "output_type": "execute_result"
    }
   ],
   "source": [
    "bymin['2014-08-01 00:02':'2014-08-01 00:10']"
   ]
  },
  {
   "cell_type": "raw",
   "id": "7c09636b",
   "metadata": {},
   "source": [
    "Alias Description\n",
    "            B Business day frequency\n",
    "            C Custom business day frequency\n",
    "            D Calendar day frequency (the default)\n",
    "            W Weekly frequency\n",
    "            M Month end frequency\n",
    "            BM Business month end frequency\n",
    "            CBM Custom business month end frequency\n",
    "            MS Month start frequency\n",
    "            BMS Business month start frequency\n",
    "            CBMS Custom business month start frequency\n",
    "            Q Quarter end frequency\n",
    "            BQ Business quarter frequency\n",
    "            QS Quarter start frequency\n",
    "            BQS Business quarter start frequency\n",
    "            A Year end frequency\n",
    "            BA Business year-end frequency\n",
    "            AS Year start frequency\n",
    "            BAS Business year start frequency\n",
    "            H Hourly frequency\n",
    "            T Minute-by-minute frequency\n",
    "            S Second-by-second frequency\n",
    "            L Milliseconds\n",
    "            U Microseconds"
   ]
  },
  {
   "cell_type": "code",
   "execution_count": 51,
   "id": "f1592d1e",
   "metadata": {},
   "outputs": [
    {
     "data": {
      "text/plain": [
       "2014-12-31    100\n",
       "2015-12-31    100\n",
       "2016-12-31    100\n",
       "2017-12-31    100\n",
       "2018-12-31    100\n",
       "2019-12-31    100\n",
       "2020-12-31    100\n",
       "2021-12-31    100\n",
       "2022-12-31    100\n",
       "Freq: A-DEC, dtype: int64"
      ]
     },
     "execution_count": 51,
     "metadata": {},
     "output_type": "execute_result"
    }
   ],
   "source": [
    "by_business_day = pd.Series(100,pd.date_range('2014-08-01','2023-10-31',freq='A'))\n",
    "by_business_day"
   ]
  },
  {
   "cell_type": "code",
   "execution_count": 93,
   "id": "73455eef",
   "metadata": {},
   "outputs": [
    {
     "data": {
      "text/plain": [
       "DatetimeIndex(['2014-08-29', '2014-09-01', '2014-09-02', '2014-09-03',\n",
       "               '2014-09-04', '2014-09-05'],\n",
       "              dtype='datetime64[ns]', freq='B')"
      ]
     },
     "execution_count": 93,
     "metadata": {},
     "output_type": "execute_result"
    }
   ],
   "source": [
    "days = pd.date_range('2014-08-29', '2014-09-05', freq='B')\n",
    "days"
   ]
  },
  {
   "cell_type": "code",
   "execution_count": 94,
   "id": "b2cb26a2",
   "metadata": {},
   "outputs": [
    {
     "data": {
      "text/plain": [
       "DatetimeIndex(['2014-08-01 12:10:01', '2014-08-01 12:10:02',\n",
       "               '2014-08-01 12:10:03', '2014-08-01 12:10:04',\n",
       "               '2014-08-01 12:10:05', '2014-08-01 12:10:06',\n",
       "               '2014-08-01 12:10:07', '2014-08-01 12:10:08',\n",
       "               '2014-08-01 12:10:09', '2014-08-01 12:10:10'],\n",
       "              dtype='datetime64[ns]', freq='S')"
      ]
     },
     "execution_count": 94,
     "metadata": {},
     "output_type": "execute_result"
    }
   ],
   "source": [
    "# periods will use the frequency as the increment\n",
    "pd.date_range('2014-08-01 12:10:01', freq='S', periods=10)"
   ]
  },
  {
   "cell_type": "code",
   "execution_count": 97,
   "id": "3634736c",
   "metadata": {},
   "outputs": [
    {
     "data": {
      "text/plain": [
       "array(['2014-08-29T00:00:00.000000000', '2014-09-01T00:00:00.000000000',\n",
       "       '2014-09-02T00:00:00.000000000', '2014-09-03T00:00:00.000000000',\n",
       "       '2014-09-04T00:00:00.000000000', '2014-09-05T00:00:00.000000000'],\n",
       "      dtype='datetime64[ns]')"
      ]
     },
     "execution_count": 97,
     "metadata": {},
     "output_type": "execute_result"
    }
   ],
   "source": [
    "# get all business days between and inclusive of these two dates\n",
    "dti = pd.date_range('2014-08-29', '2014-09-05', freq='B')\n",
    "dti.values"
   ]
  },
  {
   "cell_type": "code",
   "execution_count": 98,
   "id": "df0d6c97",
   "metadata": {},
   "outputs": [
    {
     "data": {
      "text/plain": [
       "<BusinessDay>"
      ]
     },
     "execution_count": 98,
     "metadata": {},
     "output_type": "execute_result"
    }
   ],
   "source": [
    "dti.freq"
   ]
  },
  {
   "cell_type": "markdown",
   "id": "e577d6da",
   "metadata": {},
   "source": [
    "# Manipulating time-series data"
   ]
  },
  {
   "cell_type": "markdown",
   "id": "9ccf5ba6",
   "metadata": {},
   "source": [
    "We will now examine several common operations that are performed on time-series\n",
    "data. \n",
    "\n",
    "These operations entail realigning data, changing the frequency of the samples\n",
    "and their values, and calculating aggregate results on continuously moving subsets\n",
    "of the data to determine the behavior of the values in the data as time changes. We\n",
    "will examine each of the following:\n",
    "\n",
    "• Shifting and lagging values to calculate percentage changes\n",
    "\n",
    "• Changing the frequency of the data in the time series\n",
    "\n",
    "• Up and down sampling of the intervals and values in the time series\n",
    "\n",
    "• Performing rolling-window calculations"
   ]
  },
  {
   "cell_type": "markdown",
   "id": "4741cb42",
   "metadata": {},
   "source": [
    "## Shifting and lagging"
   ]
  },
  {
   "cell_type": "code",
   "execution_count": 65,
   "id": "438a42f1",
   "metadata": {
    "scrolled": true
   },
   "outputs": [
    {
     "data": {
      "text/plain": [
       "2014-08-01 00:00:00    147.41\n",
       "2014-08-01 01:00:00      6.40\n",
       "2014-08-01 02:00:00    128.28\n",
       "2014-08-01 03:00:00     78.18\n",
       "2014-08-01 04:00:00    107.14\n",
       "                        ...  \n",
       "2014-08-09 03:00:00    125.69\n",
       "2014-08-09 04:00:00     56.36\n",
       "2014-08-09 05:00:00    241.73\n",
       "2014-08-09 06:00:00     97.28\n",
       "2014-08-09 07:00:00      4.13\n",
       "Freq: H, Length: 200, dtype: float64"
      ]
     },
     "execution_count": 65,
     "metadata": {},
     "output_type": "execute_result"
    }
   ],
   "source": [
    "# create a Series to work with\n",
    "# np.random.seed(123456)\n",
    "# ts = pd.Series([1, 2, 2.5, 1.5, 0.5],pd.date_range('2014-08-01', periods=20))\n",
    "ts = pd.Series(pd.Series(np.round((abs(np.random.randn(200)*100)),2),pd.date_range('2014-08-01', periods=200, freq='H')))\n",
    "ts"
   ]
  },
  {
   "cell_type": "code",
   "execution_count": 108,
   "id": "7bc28588",
   "metadata": {},
   "outputs": [
    {
     "data": {
      "text/plain": [
       "2014-08-01    NaN\n",
       "2014-08-02    1.0\n",
       "2014-08-03    2.0\n",
       "2014-08-04    2.5\n",
       "2014-08-05    1.5\n",
       "Freq: D, dtype: float64"
      ]
     },
     "execution_count": 108,
     "metadata": {},
     "output_type": "execute_result"
    }
   ],
   "source": [
    "# shift forward one day\n",
    "ts.shift(1)"
   ]
  },
  {
   "cell_type": "code",
   "execution_count": 109,
   "id": "6974369a",
   "metadata": {},
   "outputs": [
    {
     "data": {
      "text/plain": [
       "2014-08-01    2.5\n",
       "2014-08-02    1.5\n",
       "2014-08-03    0.5\n",
       "2014-08-04    NaN\n",
       "2014-08-05    NaN\n",
       "Freq: D, dtype: float64"
      ]
     },
     "execution_count": 109,
     "metadata": {},
     "output_type": "execute_result"
    }
   ],
   "source": [
    "# lag two days\n",
    "ts.shift(-2)"
   ]
  },
  {
   "cell_type": "code",
   "execution_count": 64,
   "id": "2b62bc6a",
   "metadata": {},
   "outputs": [
    {
     "data": {
      "text/plain": [
       "2014-08-01          NaN\n",
       "2014-08-02     0.472563\n",
       "2014-08-03     2.567614\n",
       "2014-08-04     0.024521\n",
       "2014-08-05    38.459144\n",
       "2014-08-06     0.095204\n",
       "2014-08-07    13.418704\n",
       "2014-08-08     1.021620\n",
       "2014-08-09     0.063876\n",
       "2014-08-10     0.677184\n",
       "2014-08-11     9.616487\n",
       "2014-08-12     0.912598\n",
       "2014-08-13     0.754339\n",
       "2014-08-14     0.093665\n",
       "2014-08-15    71.806358\n",
       "2014-08-16     0.113302\n",
       "2014-08-17     0.109059\n",
       "2014-08-18     3.553746\n",
       "2014-08-19    10.322640\n",
       "2014-08-20     0.867785\n",
       "Freq: D, dtype: float64"
      ]
     },
     "execution_count": 64,
     "metadata": {},
     "output_type": "execute_result"
    }
   ],
   "source": [
    "# calculate daily percentage change\n",
    "ts / ts.shift(1)"
   ]
  },
  {
   "cell_type": "markdown",
   "id": "61cd7e7b",
   "metadata": {},
   "source": [
    "# Up and down resampling"
   ]
  },
  {
   "cell_type": "code",
   "execution_count": 66,
   "id": "a9c695eb",
   "metadata": {},
   "outputs": [
    {
     "data": {
      "text/plain": [
       "432000"
      ]
     },
     "execution_count": 66,
     "metadata": {},
     "output_type": "execute_result"
    }
   ],
   "source": [
    "# calculate a random walk five days long at one second intervals\n",
    "# these many items will be needed\n",
    "count = 5* 24 * 60 * 60 \n",
    "count"
   ]
  },
  {
   "cell_type": "code",
   "execution_count": 67,
   "id": "3a52d32c",
   "metadata": {},
   "outputs": [],
   "source": [
    "# create a series of values\n",
    "np.random.seed(123456)\n",
    "values = abs(np.random.randn(count))*100\n"
   ]
  },
  {
   "cell_type": "code",
   "execution_count": 71,
   "id": "a777ade4",
   "metadata": {},
   "outputs": [
    {
     "data": {
      "text/plain": [
       "2010-01-01 00:00:00     46.911230\n",
       "2010-01-01 00:00:01     28.286334\n",
       "2010-01-01 00:00:02    150.905850\n",
       "2010-01-01 00:00:03    113.563237\n",
       "2010-01-01 00:00:04    121.211203\n",
       "                          ...    \n",
       "2010-01-05 23:59:55    173.128854\n",
       "2010-01-05 23:59:56     47.763177\n",
       "2010-01-05 23:59:57     84.915078\n",
       "2010-01-05 23:59:58     25.561844\n",
       "2010-01-05 23:59:59    124.406816\n",
       "Freq: S, Length: 432000, dtype: float64"
      ]
     },
     "execution_count": 71,
     "metadata": {},
     "output_type": "execute_result"
    }
   ],
   "source": [
    "ws = pd.Series(values, pd.date_range('2010-1-1', periods=count,freq='S'))\n",
    "ws"
   ]
  },
  {
   "cell_type": "code",
   "execution_count": 72,
   "id": "864ea847",
   "metadata": {},
   "outputs": [
    {
     "data": {
      "text/plain": [
       "2010-01-01 00:00:00    4.691123e+01\n",
       "2010-01-01 00:00:01    7.519756e+01\n",
       "2010-01-01 00:00:02    2.261034e+02\n",
       "2010-01-01 00:00:03    3.396667e+02\n",
       "2010-01-01 00:00:04    4.608779e+02\n",
       "                           ...     \n",
       "2010-01-05 23:59:55    3.444880e+07\n",
       "2010-01-05 23:59:56    3.444885e+07\n",
       "2010-01-05 23:59:57    3.444893e+07\n",
       "2010-01-05 23:59:58    3.444896e+07\n",
       "2010-01-05 23:59:59    3.444908e+07\n",
       "Freq: S, Length: 432000, dtype: float64"
      ]
     },
     "execution_count": 72,
     "metadata": {},
     "output_type": "execute_result"
    }
   ],
   "source": [
    "# calculate the walk\n",
    "walk = ws.cumsum()\n",
    "walk"
   ]
  },
  {
   "cell_type": "code",
   "execution_count": 122,
   "id": "6747eb05",
   "metadata": {},
   "outputs": [
    {
     "data": {
      "text/plain": [
       "2014-08-01 00:00:00      0.469112\n",
       "2014-08-01 00:00:01      0.186249\n",
       "2014-08-01 00:00:02     -1.322810\n",
       "2014-08-01 00:00:03     -2.458442\n",
       "2014-08-01 00:00:04     -1.246330\n",
       "                          ...    \n",
       "2014-08-05 23:59:55    456.529763\n",
       "2014-08-05 23:59:56    456.052131\n",
       "2014-08-05 23:59:57    455.202981\n",
       "2014-08-05 23:59:58    454.947362\n",
       "2014-08-05 23:59:59    456.191430\n",
       "Freq: S, Length: 432000, dtype: float64"
      ]
     },
     "execution_count": 122,
     "metadata": {},
     "output_type": "execute_result"
    }
   ],
   "source": [
    "# patch the index\n",
    "# walk.index = pd.date_range('2014-08-01', periods=count, freq=\"S\")\n",
    "# walk"
   ]
  },
  {
   "cell_type": "code",
   "execution_count": 75,
   "id": "87cca959",
   "metadata": {},
   "outputs": [
    {
     "data": {
      "text/plain": [
       "2010-01-01 00:00:00    2.482152e+03\n",
       "2010-01-01 00:01:00    7.768694e+03\n",
       "2010-01-01 00:02:00    1.283509e+04\n",
       "2010-01-01 00:03:00    1.779815e+04\n",
       "2010-01-01 00:04:00    2.335522e+04\n",
       "                           ...     \n",
       "2010-01-05 23:55:00    3.442816e+07\n",
       "2010-01-05 23:56:00    3.443321e+07\n",
       "2010-01-05 23:57:00    3.443745e+07\n",
       "2010-01-05 23:58:00    3.444192e+07\n",
       "2010-01-05 23:59:00    3.444656e+07\n",
       "Freq: T, Length: 7200, dtype: float64"
      ]
     },
     "execution_count": 75,
     "metadata": {},
     "output_type": "execute_result"
    }
   ],
   "source": [
    "# resample to minute intervals\n",
    "walk.resample(\"1Min\").mean()"
   ]
  },
  {
   "cell_type": "code",
   "execution_count": 76,
   "id": "419e08a1",
   "metadata": {},
   "outputs": [
    {
     "data": {
      "text/plain": [
       "2010-01-01 00:00:00    1.474697e+05\n",
       "2010-01-01 01:00:00    4.358117e+05\n",
       "2010-01-01 02:00:00    7.249407e+05\n",
       "2010-01-01 03:00:00    1.012820e+06\n",
       "2010-01-01 04:00:00    1.307648e+06\n",
       "                           ...     \n",
       "2010-01-05 19:00:00    3.315569e+07\n",
       "2010-01-05 20:00:00    3.344464e+07\n",
       "2010-01-05 21:00:00    3.373233e+07\n",
       "2010-01-05 22:00:00    3.401949e+07\n",
       "2010-01-05 23:00:00    3.430616e+07\n",
       "Freq: H, Length: 120, dtype: float64"
      ]
     },
     "execution_count": 76,
     "metadata": {},
     "output_type": "execute_result"
    }
   ],
   "source": [
    "walk.resample(\"H\").mean()"
   ]
  },
  {
   "cell_type": "markdown",
   "id": "0dfb7337",
   "metadata": {},
   "source": [
    "# Time-series moving-window operations"
   ]
  },
  {
   "cell_type": "raw",
   "id": "03cd9f93",
   "metadata": {},
   "source": [
    "pandas provides a number of functions to compute moving (also known as rolling)\n",
    "statistics. In a rolling window, pandas computes the statistic on a window of data\n",
    "represented by a particular period of time. The window is then rolled along a certain\n",
    "interval, and the statistic is continually calculated on each window as long as the\n",
    "window fits within the dates of the time series.\n",
    "pandas provides direct support for rolling windows with the following functions:\n"
   ]
  },
  {
   "cell_type": "raw",
   "id": "c7234514",
   "metadata": {},
   "source": [
    "Function Description\n",
    "rolling_mean The mean of values in the window\n",
    "rolling_std The standard deviation of values in the window\n",
    "rolling_var The variance of values\n",
    "rolling_min The minimum of values in the window\n",
    "rolling_max The maximum of values in the window\n",
    "rolling_cov The covariance of values\n",
    "rolling_quantile Moving window score at percentile/sample quantile\n",
    "rolling_corr The correlation of values in the window\n",
    "rolling_median The median of values in the window\n",
    "rolling_sum The sum of values in the window\n",
    "rolling_apply The application of a user function to values in the window\n",
    "rolling_count The number of non-NaN values in a window\n",
    "rolling_skew The skewedness of the values in the window\n",
    "rolling_kurt The kurtosis of values in the window\n"
   ]
  },
  {
   "cell_type": "raw",
   "id": "74b52d0f",
   "metadata": {},
   "source": [
    "As a practical example, a rolling mean is commonly used to smooth out short-term\n",
    "fluctuations and highlight longer-term trends in data and is used quite commonly in\n",
    "financial time-series analysis"
   ]
  },
  {
   "cell_type": "code",
   "execution_count": 78,
   "id": "1658237a",
   "metadata": {},
   "outputs": [
    {
     "data": {
      "text/html": [
       "<div>\n",
       "<style scoped>\n",
       "    .dataframe tbody tr th:only-of-type {\n",
       "        vertical-align: middle;\n",
       "    }\n",
       "\n",
       "    .dataframe tbody tr th {\n",
       "        vertical-align: top;\n",
       "    }\n",
       "\n",
       "    .dataframe thead th {\n",
       "        text-align: right;\n",
       "    }\n",
       "</style>\n",
       "<table border=\"1\" class=\"dataframe\">\n",
       "  <thead>\n",
       "    <tr style=\"text-align: right;\">\n",
       "      <th></th>\n",
       "      <th>period</th>\n",
       "      <th>leads</th>\n",
       "      <th>sales</th>\n",
       "    </tr>\n",
       "  </thead>\n",
       "  <tbody>\n",
       "    <tr>\n",
       "      <th>0</th>\n",
       "      <td>1</td>\n",
       "      <td>11.427457</td>\n",
       "      <td>61.417425</td>\n",
       "    </tr>\n",
       "    <tr>\n",
       "      <th>1</th>\n",
       "      <td>2</td>\n",
       "      <td>14.588598</td>\n",
       "      <td>64.900826</td>\n",
       "    </tr>\n",
       "    <tr>\n",
       "      <th>2</th>\n",
       "      <td>3</td>\n",
       "      <td>12.452504</td>\n",
       "      <td>66.698494</td>\n",
       "    </tr>\n",
       "    <tr>\n",
       "      <th>3</th>\n",
       "      <td>4</td>\n",
       "      <td>11.352780</td>\n",
       "      <td>64.927513</td>\n",
       "    </tr>\n",
       "    <tr>\n",
       "      <th>4</th>\n",
       "      <td>5</td>\n",
       "      <td>9.049441</td>\n",
       "      <td>73.720630</td>\n",
       "    </tr>\n",
       "    <tr>\n",
       "      <th>...</th>\n",
       "      <td>...</td>\n",
       "      <td>...</td>\n",
       "      <td>...</td>\n",
       "    </tr>\n",
       "    <tr>\n",
       "      <th>95</th>\n",
       "      <td>96</td>\n",
       "      <td>4.480636</td>\n",
       "      <td>284.716537</td>\n",
       "    </tr>\n",
       "    <tr>\n",
       "      <th>96</th>\n",
       "      <td>97</td>\n",
       "      <td>12.143746</td>\n",
       "      <td>215.034631</td>\n",
       "    </tr>\n",
       "    <tr>\n",
       "      <th>97</th>\n",
       "      <td>98</td>\n",
       "      <td>1.382043</td>\n",
       "      <td>222.212061</td>\n",
       "    </tr>\n",
       "    <tr>\n",
       "      <th>98</th>\n",
       "      <td>99</td>\n",
       "      <td>16.749861</td>\n",
       "      <td>235.451141</td>\n",
       "    </tr>\n",
       "    <tr>\n",
       "      <th>99</th>\n",
       "      <td>100</td>\n",
       "      <td>1.089214</td>\n",
       "      <td>260.873958</td>\n",
       "    </tr>\n",
       "  </tbody>\n",
       "</table>\n",
       "<p>100 rows × 3 columns</p>\n",
       "</div>"
      ],
      "text/plain": [
       "    period      leads       sales\n",
       "0        1  11.427457   61.417425\n",
       "1        2  14.588598   64.900826\n",
       "2        3  12.452504   66.698494\n",
       "3        4  11.352780   64.927513\n",
       "4        5   9.049441   73.720630\n",
       "..     ...        ...         ...\n",
       "95      96   4.480636  284.716537\n",
       "96      97  12.143746  215.034631\n",
       "97      98   1.382043  222.212061\n",
       "98      99  16.749861  235.451141\n",
       "99     100   1.089214  260.873958\n",
       "\n",
       "[100 rows x 3 columns]"
      ]
     },
     "execution_count": 78,
     "metadata": {},
     "output_type": "execute_result"
    }
   ],
   "source": [
    "import numpy as np\n",
    "import pandas as pd\n",
    "\n",
    "#make this example reproducible\n",
    "np.random.seed(0)\n",
    "\n",
    "#create dataset\n",
    "period = np.arange(1, 101, 1)\n",
    "leads = np.random.uniform(1, 20, 100)\n",
    "sales = 60 + 2*period + np.random.normal(loc=0, scale=.5*period, size=100)\n",
    "df = pd.DataFrame({'period': period, 'leads': leads, 'sales': sales})\n",
    "\n",
    "#view first 10 rows\n",
    "df"
   ]
  },
  {
   "cell_type": "markdown",
   "id": "5e17eace",
   "metadata": {},
   "source": [
    "# We can use the following syntax to create a new column that contains the rolling mean of ‘sales’ for the previous 5 periods:\n",
    "\n"
   ]
  },
  {
   "cell_type": "code",
   "execution_count": 79,
   "id": "2d35dc7a",
   "metadata": {},
   "outputs": [
    {
     "data": {
      "text/html": [
       "<div>\n",
       "<style scoped>\n",
       "    .dataframe tbody tr th:only-of-type {\n",
       "        vertical-align: middle;\n",
       "    }\n",
       "\n",
       "    .dataframe tbody tr th {\n",
       "        vertical-align: top;\n",
       "    }\n",
       "\n",
       "    .dataframe thead th {\n",
       "        text-align: right;\n",
       "    }\n",
       "</style>\n",
       "<table border=\"1\" class=\"dataframe\">\n",
       "  <thead>\n",
       "    <tr style=\"text-align: right;\">\n",
       "      <th></th>\n",
       "      <th>period</th>\n",
       "      <th>leads</th>\n",
       "      <th>sales</th>\n",
       "      <th>rolling_sales_5</th>\n",
       "    </tr>\n",
       "  </thead>\n",
       "  <tbody>\n",
       "    <tr>\n",
       "      <th>0</th>\n",
       "      <td>1</td>\n",
       "      <td>11.427457</td>\n",
       "      <td>61.417425</td>\n",
       "      <td>NaN</td>\n",
       "    </tr>\n",
       "    <tr>\n",
       "      <th>1</th>\n",
       "      <td>2</td>\n",
       "      <td>14.588598</td>\n",
       "      <td>64.900826</td>\n",
       "      <td>NaN</td>\n",
       "    </tr>\n",
       "    <tr>\n",
       "      <th>2</th>\n",
       "      <td>3</td>\n",
       "      <td>12.452504</td>\n",
       "      <td>66.698494</td>\n",
       "      <td>NaN</td>\n",
       "    </tr>\n",
       "    <tr>\n",
       "      <th>3</th>\n",
       "      <td>4</td>\n",
       "      <td>11.352780</td>\n",
       "      <td>64.927513</td>\n",
       "      <td>NaN</td>\n",
       "    </tr>\n",
       "    <tr>\n",
       "      <th>4</th>\n",
       "      <td>5</td>\n",
       "      <td>9.049441</td>\n",
       "      <td>73.720630</td>\n",
       "      <td>66.332978</td>\n",
       "    </tr>\n",
       "    <tr>\n",
       "      <th>...</th>\n",
       "      <td>...</td>\n",
       "      <td>...</td>\n",
       "      <td>...</td>\n",
       "      <td>...</td>\n",
       "    </tr>\n",
       "    <tr>\n",
       "      <th>95</th>\n",
       "      <td>96</td>\n",
       "      <td>4.480636</td>\n",
       "      <td>284.716537</td>\n",
       "      <td>249.499179</td>\n",
       "    </tr>\n",
       "    <tr>\n",
       "      <th>96</th>\n",
       "      <td>97</td>\n",
       "      <td>12.143746</td>\n",
       "      <td>215.034631</td>\n",
       "      <td>240.773811</td>\n",
       "    </tr>\n",
       "    <tr>\n",
       "      <th>97</th>\n",
       "      <td>98</td>\n",
       "      <td>1.382043</td>\n",
       "      <td>222.212061</td>\n",
       "      <td>228.047698</td>\n",
       "    </tr>\n",
       "    <tr>\n",
       "      <th>98</th>\n",
       "      <td>99</td>\n",
       "      <td>16.749861</td>\n",
       "      <td>235.451141</td>\n",
       "      <td>231.657567</td>\n",
       "    </tr>\n",
       "    <tr>\n",
       "      <th>99</th>\n",
       "      <td>100</td>\n",
       "      <td>1.089214</td>\n",
       "      <td>260.873958</td>\n",
       "      <td>243.657666</td>\n",
       "    </tr>\n",
       "  </tbody>\n",
       "</table>\n",
       "<p>100 rows × 4 columns</p>\n",
       "</div>"
      ],
      "text/plain": [
       "    period      leads       sales  rolling_sales_5\n",
       "0        1  11.427457   61.417425              NaN\n",
       "1        2  14.588598   64.900826              NaN\n",
       "2        3  12.452504   66.698494              NaN\n",
       "3        4  11.352780   64.927513              NaN\n",
       "4        5   9.049441   73.720630        66.332978\n",
       "..     ...        ...         ...              ...\n",
       "95      96   4.480636  284.716537       249.499179\n",
       "96      97  12.143746  215.034631       240.773811\n",
       "97      98   1.382043  222.212061       228.047698\n",
       "98      99  16.749861  235.451141       231.657567\n",
       "99     100   1.089214  260.873958       243.657666\n",
       "\n",
       "[100 rows x 4 columns]"
      ]
     },
     "execution_count": 79,
     "metadata": {},
     "output_type": "execute_result"
    }
   ],
   "source": [
    "#find rolling mean of previous 5 sales periods\n",
    "df['rolling_sales_5'] = df['sales'].rolling(5).mean()\n",
    "\n",
    "#view first 10 rows\n",
    "df"
   ]
  },
  {
   "cell_type": "markdown",
   "id": "bf52737b",
   "metadata": {},
   "source": [
    "# We can manually verify that the rolling mean sales displayed for period 5 is the mean of the previous 5 periods:\n",
    "\n",
    "Rolling mean at period 5: (61.417+64.900+66.698+64.927+73.720)/5 = 66.33\n",
    "\n",
    "We can use similar syntax to calculate the rolling mean of multiple columns:\n",
    "\n"
   ]
  },
  {
   "cell_type": "code",
   "execution_count": 90,
   "id": "f851b469",
   "metadata": {},
   "outputs": [
    {
     "data": {
      "text/html": [
       "<div>\n",
       "<style scoped>\n",
       "    .dataframe tbody tr th:only-of-type {\n",
       "        vertical-align: middle;\n",
       "    }\n",
       "\n",
       "    .dataframe tbody tr th {\n",
       "        vertical-align: top;\n",
       "    }\n",
       "\n",
       "    .dataframe thead th {\n",
       "        text-align: right;\n",
       "    }\n",
       "</style>\n",
       "<table border=\"1\" class=\"dataframe\">\n",
       "  <thead>\n",
       "    <tr style=\"text-align: right;\">\n",
       "      <th></th>\n",
       "      <th>period</th>\n",
       "      <th>leads</th>\n",
       "      <th>sales</th>\n",
       "      <th>rolling_sales_5</th>\n",
       "      <th>rolling_leads_5</th>\n",
       "      <th>rolling_leads_10</th>\n",
       "      <th>rolling_sales_10</th>\n",
       "      <th>rolling_sales_50</th>\n",
       "    </tr>\n",
       "  </thead>\n",
       "  <tbody>\n",
       "    <tr>\n",
       "      <th>0</th>\n",
       "      <td>1</td>\n",
       "      <td>11.427457</td>\n",
       "      <td>61.417425</td>\n",
       "      <td>NaN</td>\n",
       "      <td>NaN</td>\n",
       "      <td>NaN</td>\n",
       "      <td>NaN</td>\n",
       "      <td>NaN</td>\n",
       "    </tr>\n",
       "    <tr>\n",
       "      <th>1</th>\n",
       "      <td>2</td>\n",
       "      <td>14.588598</td>\n",
       "      <td>64.900826</td>\n",
       "      <td>NaN</td>\n",
       "      <td>NaN</td>\n",
       "      <td>NaN</td>\n",
       "      <td>NaN</td>\n",
       "      <td>NaN</td>\n",
       "    </tr>\n",
       "    <tr>\n",
       "      <th>2</th>\n",
       "      <td>3</td>\n",
       "      <td>12.452504</td>\n",
       "      <td>66.698494</td>\n",
       "      <td>NaN</td>\n",
       "      <td>NaN</td>\n",
       "      <td>NaN</td>\n",
       "      <td>NaN</td>\n",
       "      <td>NaN</td>\n",
       "    </tr>\n",
       "    <tr>\n",
       "      <th>3</th>\n",
       "      <td>4</td>\n",
       "      <td>11.352780</td>\n",
       "      <td>64.927513</td>\n",
       "      <td>NaN</td>\n",
       "      <td>NaN</td>\n",
       "      <td>NaN</td>\n",
       "      <td>NaN</td>\n",
       "      <td>NaN</td>\n",
       "    </tr>\n",
       "    <tr>\n",
       "      <th>4</th>\n",
       "      <td>5</td>\n",
       "      <td>9.049441</td>\n",
       "      <td>73.720630</td>\n",
       "      <td>66.332978</td>\n",
       "      <td>11.774156</td>\n",
       "      <td>66.332978</td>\n",
       "      <td>NaN</td>\n",
       "      <td>NaN</td>\n",
       "    </tr>\n",
       "    <tr>\n",
       "      <th>5</th>\n",
       "      <td>6</td>\n",
       "      <td>13.271988</td>\n",
       "      <td>77.687668</td>\n",
       "      <td>69.587026</td>\n",
       "      <td>12.143062</td>\n",
       "      <td>69.587026</td>\n",
       "      <td>NaN</td>\n",
       "      <td>NaN</td>\n",
       "    </tr>\n",
       "    <tr>\n",
       "      <th>6</th>\n",
       "      <td>7</td>\n",
       "      <td>9.314157</td>\n",
       "      <td>78.125728</td>\n",
       "      <td>72.232007</td>\n",
       "      <td>11.088174</td>\n",
       "      <td>72.232007</td>\n",
       "      <td>NaN</td>\n",
       "      <td>NaN</td>\n",
       "    </tr>\n",
       "    <tr>\n",
       "      <th>7</th>\n",
       "      <td>8</td>\n",
       "      <td>17.943687</td>\n",
       "      <td>75.280301</td>\n",
       "      <td>73.948368</td>\n",
       "      <td>12.186411</td>\n",
       "      <td>73.948368</td>\n",
       "      <td>NaN</td>\n",
       "      <td>NaN</td>\n",
       "    </tr>\n",
       "    <tr>\n",
       "      <th>8</th>\n",
       "      <td>9</td>\n",
       "      <td>19.309592</td>\n",
       "      <td>73.181613</td>\n",
       "      <td>75.599188</td>\n",
       "      <td>13.777773</td>\n",
       "      <td>75.599188</td>\n",
       "      <td>NaN</td>\n",
       "      <td>NaN</td>\n",
       "    </tr>\n",
       "    <tr>\n",
       "      <th>9</th>\n",
       "      <td>10</td>\n",
       "      <td>8.285389</td>\n",
       "      <td>85.272259</td>\n",
       "      <td>77.909514</td>\n",
       "      <td>13.624963</td>\n",
       "      <td>77.909514</td>\n",
       "      <td>72.121246</td>\n",
       "      <td>NaN</td>\n",
       "    </tr>\n",
       "  </tbody>\n",
       "</table>\n",
       "</div>"
      ],
      "text/plain": [
       "   period      leads      sales  rolling_sales_5  rolling_leads_5  \\\n",
       "0       1  11.427457  61.417425              NaN              NaN   \n",
       "1       2  14.588598  64.900826              NaN              NaN   \n",
       "2       3  12.452504  66.698494              NaN              NaN   \n",
       "3       4  11.352780  64.927513              NaN              NaN   \n",
       "4       5   9.049441  73.720630        66.332978        11.774156   \n",
       "5       6  13.271988  77.687668        69.587026        12.143062   \n",
       "6       7   9.314157  78.125728        72.232007        11.088174   \n",
       "7       8  17.943687  75.280301        73.948368        12.186411   \n",
       "8       9  19.309592  73.181613        75.599188        13.777773   \n",
       "9      10   8.285389  85.272259        77.909514        13.624963   \n",
       "\n",
       "   rolling_leads_10  rolling_sales_10  rolling_sales_50  \n",
       "0               NaN               NaN               NaN  \n",
       "1               NaN               NaN               NaN  \n",
       "2               NaN               NaN               NaN  \n",
       "3               NaN               NaN               NaN  \n",
       "4         66.332978               NaN               NaN  \n",
       "5         69.587026               NaN               NaN  \n",
       "6         72.232007               NaN               NaN  \n",
       "7         73.948368               NaN               NaN  \n",
       "8         75.599188               NaN               NaN  \n",
       "9         77.909514         72.121246               NaN  "
      ]
     },
     "execution_count": 90,
     "metadata": {},
     "output_type": "execute_result"
    }
   ],
   "source": [
    "#find rolling mean of previous 5 leads periods \n",
    "df['rolling_sales_10'] = df['sales'].rolling(10).mean() \n",
    "\n",
    "#find rolling mean of previous 5 leads periods\n",
    "df['rolling_sales_50'] = df['sales'].rolling(50).mean()\n",
    "\n",
    "#view first 10 rows\n",
    "df.head(10)"
   ]
  },
  {
   "cell_type": "markdown",
   "id": "eef8f638",
   "metadata": {},
   "source": [
    "# We can also create a quick line plot using Matplotlib to visualize the raw sales compared to the rolling mean of sales:\n",
    "\n",
    "import matplotlib.pyplot as plt\n",
    "plt.plot(df['rolling_sales_5'], label='Rolling Mean')\n",
    "plt.plot(df['sales'], label='Raw Data')\n",
    "plt.legend()\n",
    "plt.ylabel('Sales')\n",
    "plt.xlabel('Period')\n",
    "plt.show()"
   ]
  },
  {
   "cell_type": "code",
   "execution_count": 91,
   "id": "23345444",
   "metadata": {},
   "outputs": [
    {
     "data": {
      "image/png": "[encoded data removed]",
      "text/plain": [
       "<Figure size 640x480 with 1 Axes>"
      ]
     },
     "metadata": {},
     "output_type": "display_data"
    }
   ],
   "source": [
    "import matplotlib.pyplot as plt \n",
    "plt.plot(df['rolling_sales_5'], label='Rolling Mean_5') \n",
    "plt.plot(df['rolling_sales_10'], label='Rolling Mean_10')\n",
    "plt.plot(df['rolling_sales_50'], label='rolling_sales_50')\n",
    "plt.plot(df['sales'], label='Raw Data') \n",
    "plt.legend() \n",
    "plt.ylabel('Sales') \n",
    "plt.xlabel('Period') \n",
    "plt.show()"
   ]
  },
  {
   "cell_type": "markdown",
   "id": "f47fe534",
   "metadata": {},
   "source": [
    "# Creating time-series charts with .plot()"
   ]
  },
  {
   "cell_type": "code",
   "execution_count": 165,
   "id": "16399ebb",
   "metadata": {},
   "outputs": [],
   "source": [
    "# generate a random walk time-series\n",
    "np.random.seed(123)\n",
    "s = pd.Series(np.random.randn(1096),\n",
    "index=pd.date_range('2012-01-01','2014-12-31'))\n",
    "walk_ts = s.cumsum()"
   ]
  },
  {
   "cell_type": "code",
   "execution_count": 166,
   "id": "e771daa0",
   "metadata": {},
   "outputs": [
    {
     "data": {
      "image/png": "[encoded data removed]",
      "text/plain": [
       "<Figure size 432x288 with 1 Axes>"
      ]
     },
     "metadata": {
      "needs_background": "light"
     },
     "output_type": "display_data"
    }
   ],
   "source": [
    "# this plots the walk - just that easy :)\n",
    "s.plot();"
   ]
  },
  {
   "cell_type": "code",
   "execution_count": 167,
   "id": "8572fe8a",
   "metadata": {},
   "outputs": [
    {
     "data": {
      "image/png": "[encoded data removed]",
      "text/plain": [
       "<Figure size 432x288 with 1 Axes>"
      ]
     },
     "metadata": {
      "needs_background": "light"
     },
     "output_type": "display_data"
    }
   ],
   "source": [
    "# this plots the walk - just that easy :)\n",
    "walk_ts.plot();"
   ]
  },
  {
   "cell_type": "code",
   "execution_count": 168,
   "id": "4a8def06",
   "metadata": {},
   "outputs": [
    {
     "data": {
      "text/plain": [
       "<matplotlib.axes._subplots.AxesSubplot at 0x2056e5fe508>"
      ]
     },
     "execution_count": 168,
     "metadata": {},
     "output_type": "execute_result"
    },
    {
     "data": {
      "image/png": "[encoded data removed]",
      "text/plain": [
       "<Figure size 432x288 with 1 Axes>"
      ]
     },
     "metadata": {
      "needs_background": "light"
     },
     "output_type": "display_data"
    }
   ],
   "source": [
    "\n",
    "walk_ts.plot(grid=True)"
   ]
  },
  {
   "cell_type": "code",
   "execution_count": 169,
   "id": "63e3dc1c",
   "metadata": {},
   "outputs": [],
   "source": [
    "# # the same plot as plotting the Series it is created from\n",
    "# walk_df = pd.DataFrame(walk_ts)\n",
    "# walk_df.plot(grid=True);"
   ]
  },
  {
   "cell_type": "code",
   "execution_count": 170,
   "id": "4def2cf0",
   "metadata": {},
   "outputs": [
    {
     "data": {
      "text/html": [
       "<div>\n",
       "<style scoped>\n",
       "    .dataframe tbody tr th:only-of-type {\n",
       "        vertical-align: middle;\n",
       "    }\n",
       "\n",
       "    .dataframe tbody tr th {\n",
       "        vertical-align: top;\n",
       "    }\n",
       "\n",
       "    .dataframe thead th {\n",
       "        text-align: right;\n",
       "    }\n",
       "</style>\n",
       "<table border=\"1\" class=\"dataframe\">\n",
       "  <thead>\n",
       "    <tr style=\"text-align: right;\">\n",
       "      <th></th>\n",
       "      <th>A</th>\n",
       "      <th>B</th>\n",
       "    </tr>\n",
       "  </thead>\n",
       "  <tbody>\n",
       "    <tr>\n",
       "      <td>2012-01-01</td>\n",
       "      <td>1.764052</td>\n",
       "      <td>0.400157</td>\n",
       "    </tr>\n",
       "    <tr>\n",
       "      <td>2012-01-02</td>\n",
       "      <td>2.742790</td>\n",
       "      <td>2.641050</td>\n",
       "    </tr>\n",
       "    <tr>\n",
       "      <td>2012-01-03</td>\n",
       "      <td>4.610348</td>\n",
       "      <td>1.663773</td>\n",
       "    </tr>\n",
       "    <tr>\n",
       "      <td>2012-01-04</td>\n",
       "      <td>5.560437</td>\n",
       "      <td>1.512415</td>\n",
       "    </tr>\n",
       "    <tr>\n",
       "      <td>2012-01-05</td>\n",
       "      <td>5.457218</td>\n",
       "      <td>1.923014</td>\n",
       "    </tr>\n",
       "  </tbody>\n",
       "</table>\n",
       "</div>"
      ],
      "text/plain": [
       "                   A         B\n",
       "2012-01-01  1.764052  0.400157\n",
       "2012-01-02  2.742790  2.641050\n",
       "2012-01-03  4.610348  1.663773\n",
       "2012-01-04  5.560437  1.512415\n",
       "2012-01-05  5.457218  1.923014"
      ]
     },
     "execution_count": 170,
     "metadata": {},
     "output_type": "execute_result"
    }
   ],
   "source": [
    "# generate two random walks, one in each of\n",
    "# two columns in a DataFrame\n",
    "np.random.seed(0)\n",
    "df = pd.DataFrame(np.random.randn(1096, 2),\n",
    "index=walk_ts.index, columns=list('AB'))\n",
    "walk_df = df.cumsum()\n",
    "walk_df.head()"
   ]
  },
  {
   "cell_type": "code",
   "execution_count": 171,
   "id": "b7221e68",
   "metadata": {},
   "outputs": [
    {
     "data": {
      "text/plain": [
       "Text(0, 0.5, 'Money')"
      ]
     },
     "execution_count": 171,
     "metadata": {},
     "output_type": "execute_result"
    },
    {
     "data": {
      "image/png": "[encoded data removed]",
      "text/plain": [
       "<Figure size 432x288 with 1 Axes>"
      ]
     },
     "metadata": {
      "needs_background": "light"
     },
     "output_type": "display_data"
    }
   ],
   "source": [
    "# plot the DataFrame, which will plot a line\n",
    "# for each column, with a legend\n",
    "walk_df.plot(title='Title of the Chart')\n",
    "plt.xlabel('Time')\n",
    "plt.ylabel('Money')\n"
   ]
  },
  {
   "cell_type": "code",
   "execution_count": 172,
   "id": "627f25cf",
   "metadata": {},
   "outputs": [
    {
     "data": {
      "text/plain": [
       "<matplotlib.legend.Legend at 0x2056e7a7448>"
      ]
     },
     "execution_count": 172,
     "metadata": {},
     "output_type": "execute_result"
    },
    {
     "data": {
      "image/png": "[encoded data removed]",
      "text/plain": [
       "<Figure size 432x288 with 1 Axes>"
      ]
     },
     "metadata": {
      "needs_background": "light"
     },
     "output_type": "display_data"
    }
   ],
   "source": [
    "# change the legend items to be different\n",
    "# from the names of the columns in the DataFrame\n",
    "ax = walk_df.plot(title='Title of the Chart')\n",
    "# this sets the legend labels\n",
    "ax.legend(['1', '2'])"
   ]
  },
  {
   "cell_type": "code",
   "execution_count": 173,
   "id": "6caadeb4",
   "metadata": {},
   "outputs": [
    {
     "data": {
      "image/png": "[encoded data removed]",
      "text/plain": [
       "<Figure size 432x288 with 1 Axes>"
      ]
     },
     "metadata": {
      "needs_background": "light"
     },
     "output_type": "display_data"
    }
   ],
   "source": [
    "# change the position of the legend\n",
    "ax = walk_df.plot(title='Title of the Chart')\n",
    "# put the legend in the upper center of the chart\n",
    "ax.legend(['1', '2'], loc='upper center');"
   ]
  },
  {
   "cell_type": "code",
   "execution_count": 174,
   "id": "25ad98e7",
   "metadata": {},
   "outputs": [
    {
     "data": {
      "image/png": "[encoded data removed]",
      "text/plain": [
       "<Figure size 432x288 with 1 Axes>"
      ]
     },
     "metadata": {
      "needs_background": "light"
     },
     "output_type": "display_data"
    }
   ],
   "source": [
    "# change the line colors on the plot\n",
    "# use character code for the first line,\n",
    "# hex RGB for the second\n",
    "walk_df.plot(style=['g', '#FF0000']);"
   ]
  },
  {
   "cell_type": "code",
   "execution_count": 175,
   "id": "aecaa25a",
   "metadata": {},
   "outputs": [
    {
     "data": {
      "text/plain": [
       "<matplotlib.legend.Legend at 0x2056f9b98c8>"
      ]
     },
     "execution_count": 175,
     "metadata": {},
     "output_type": "execute_result"
    },
    {
     "data": {
      "image/png": "[encoded data removed]",
      "text/plain": [
       "<Figure size 432x288 with 1 Axes>"
      ]
     },
     "metadata": {
      "needs_background": "light"
     },
     "output_type": "display_data"
    }
   ],
   "source": [
    "# show off different line styles\n",
    "t = np.arange(0., 5., 0.2)\n",
    "legend_labels = ['Solid', 'Dashed', 'Dotted',\n",
    "'Dot-dashed', 'Points']\n",
    "line_style = pd.DataFrame({0 : t,\n",
    "1 : t**1.5,\n",
    "2 : t**2.0,\n",
    "3 : t**2.5,\n",
    "4 : t**3.0})\n",
    "# generate the plot, specifying color and line style for each line\n",
    "ax = line_style.plot(style=['r-', 'g--', 'b:', 'm-.', 'k:'])\n",
    "# set the legend\n",
    "ax.legend(legend_labels, loc='upper left')"
   ]
  },
  {
   "cell_type": "markdown",
   "id": "bd16f494",
   "metadata": {},
   "source": [
    "# Python | ARIMA Model for Time Series Forecasting"
   ]
  },
  {
   "cell_type": "markdown",
   "id": "b3e9c3b9",
   "metadata": {},
   "source": [
    "### A Time Series is defined as a series of data points indexed in time order. The time order can be daily, monthly, or even yearly. Given below is an example of a Time Series that illustrates the number of passengers of an airline per month from the year 1949 to 1960."
   ]
  },
  {
   "attachments": {
    "aripassenger.png": {
     "image/png": "[encoded data removed]"
    }
   },
   "cell_type": "markdown",
   "id": "68443396",
   "metadata": {},
   "source": [
    "![aripassenger.png](attachment:aripassenger.png)"
   ]
  },
  {
   "cell_type": "markdown",
   "id": "2e273e3d",
   "metadata": {},
   "source": [
    "# Time Series Forecasting\n",
    "Time Series forecasting is the process of using a statistical model to predict future values of a time series based on past results."
   ]
  },
  {
   "cell_type": "markdown",
   "id": "8cfff73a",
   "metadata": {},
   "source": [
    "- To predict the number of incoming or churning customers.\n",
    "- To explaining seasonal patterns in sales.\n",
    "- To detect unusual events and estimate the magnitude of their effect.\n",
    "- To Estimate the effect of a newly launched product on number of sold units."
   ]
  },
  {
   "cell_type": "markdown",
   "id": "2fc09592",
   "metadata": {},
   "source": [
    "# Components of a Time Series:\n",
    "\n",
    "Trend:\n",
    "\n",
    "The trend shows a general direction of the time series data over a long period of time. A trend can be increasing(upward), decreasing(downward), or horizontal(stationary).\n",
    "\n",
    "Seasonality:\n",
    "\n",
    "The seasonality component exhibits a trend that repeats with respect to timing, direction, and magnitude. Some examples include an increase in water consumption in summer due to hot weather conditions, or an increase in the number of airline passengers during holidays each year.\n",
    "\n",
    "Cyclical Component: \n",
    "\n",
    "These are the trends with no set repetition over a particular period of time. A cycle refers to the period of ups and downs, booms and slums of a time series, mostly observed in business cycles. These cycles do not exhibit a seasonal variation but generally occur over a time period of 3 to 12 years depending on the nature of the time series.\n",
    "Irregular Variation: These are the fluctuations in the time series data which become evident when trend and cyclical variations are removed. These variations are unpredictable, erratic, and may or may not be random.\n",
    "\n",
    "ETS Decomposition:\n",
    "\n",
    "ETS Decomposition is used to separate different components of a time series. The term ETS stands for Error, Trend, and Seasonality."
   ]
  },
  {
   "cell_type": "code",
   "execution_count": 93,
   "id": "2d3a680e",
   "metadata": {},
   "outputs": [],
   "source": [
    "# Importing required libraries\n",
    "import numpy as np\n",
    "import pandas as pd\n",
    "\n",
    "import matplotlib.pyplot as plt\n",
    "from statsmodels.tsa.seasonal import seasonal_decompose"
   ]
  },
  {
   "cell_type": "code",
   "execution_count": 94,
   "id": "793a27f1",
   "metadata": {},
   "outputs": [],
   "source": [
    "# Read the AirPassengers dataset\n",
    "airline = pd.read_csv('AirPassengers.csv',index_col ='Month',parse_dates = True)"
   ]
  },
  {
   "cell_type": "code",
   "execution_count": 95,
   "id": "c336304a",
   "metadata": {},
   "outputs": [
    {
     "data": {
      "text/html": [
       "<div>\n",
       "<style scoped>\n",
       "    .dataframe tbody tr th:only-of-type {\n",
       "        vertical-align: middle;\n",
       "    }\n",
       "\n",
       "    .dataframe tbody tr th {\n",
       "        vertical-align: top;\n",
       "    }\n",
       "\n",
       "    .dataframe thead th {\n",
       "        text-align: right;\n",
       "    }\n",
       "</style>\n",
       "<table border=\"1\" class=\"dataframe\">\n",
       "  <thead>\n",
       "    <tr style=\"text-align: right;\">\n",
       "      <th></th>\n",
       "      <th>Passengers</th>\n",
       "    </tr>\n",
       "    <tr>\n",
       "      <th>Month</th>\n",
       "      <th></th>\n",
       "    </tr>\n",
       "  </thead>\n",
       "  <tbody>\n",
       "    <tr>\n",
       "      <th>1949-01-01</th>\n",
       "      <td>112</td>\n",
       "    </tr>\n",
       "    <tr>\n",
       "      <th>1949-02-01</th>\n",
       "      <td>118</td>\n",
       "    </tr>\n",
       "    <tr>\n",
       "      <th>1949-03-01</th>\n",
       "      <td>132</td>\n",
       "    </tr>\n",
       "    <tr>\n",
       "      <th>1949-04-01</th>\n",
       "      <td>129</td>\n",
       "    </tr>\n",
       "    <tr>\n",
       "      <th>1949-05-01</th>\n",
       "      <td>121</td>\n",
       "    </tr>\n",
       "  </tbody>\n",
       "</table>\n",
       "</div>"
      ],
      "text/plain": [
       "            Passengers\n",
       "Month                 \n",
       "1949-01-01         112\n",
       "1949-02-01         118\n",
       "1949-03-01         132\n",
       "1949-04-01         129\n",
       "1949-05-01         121"
      ]
     },
     "execution_count": 95,
     "metadata": {},
     "output_type": "execute_result"
    }
   ],
   "source": [
    "# Print the first five rows of the dataset\n",
    "airline.head()"
   ]
  },
  {
   "cell_type": "markdown",
   "id": "42f85e4a",
   "metadata": {},
   "source": [
    "# https://www.statsmodels.org/dev/examples/notebooks/generated/stl_decomposition.html"
   ]
  },
  {
   "cell_type": "code",
   "execution_count": 96,
   "id": "01cbb33d",
   "metadata": {},
   "outputs": [],
   "source": [
    "# ETS Decomposition\n",
    "result = seasonal_decompose(airline['Passengers'],model ='multiplicative')"
   ]
  },
  {
   "cell_type": "code",
   "execution_count": 97,
   "id": "90d1171d",
   "metadata": {},
   "outputs": [
    {
     "data": {
      "image/png": "[encoded data removed]",
      "text/plain": [
       "<Figure size 640x480 with 4 Axes>"
      ]
     },
     "execution_count": 97,
     "metadata": {},
     "output_type": "execute_result"
    },
    {
     "data": {
      "image/png": "[encoded data removed]",
      "text/plain": [
       "<Figure size 640x480 with 4 Axes>"
      ]
     },
     "metadata": {},
     "output_type": "display_data"
    }
   ],
   "source": [
    "# ETS plot\n",
    "result.plot()"
   ]
  },
  {
   "cell_type": "markdown",
   "id": "7688bf09",
   "metadata": {},
   "source": [
    "# ARIMA Model for Time Series Forecasting\n"
   ]
  },
  {
   "cell_type": "markdown",
   "id": "929d86f8",
   "metadata": {},
   "source": [
    "#### ARIMA stands for autoregressive integrated moving average model and is specified by three order parameters: (p, d, q)."
   ]
  },
  {
   "cell_type": "markdown",
   "id": "b2940776",
   "metadata": {},
   "source": [
    "\n",
    "AR(p) Autoregression:\n",
    "    A regression model that utilizes the dependent relationship between a current observation and observations over a previous period.An auto regressive (AR(p)) component refers to the use of past values in the regression equation for the time series.\n",
    "\n",
    "I(d) Integration \n",
    "    Uses differencing of observations (subtracting an observation from observation at the previous time step) in order to make the time series stationary. Differencing involves the subtraction of the current values of a series with its previous values d number of times.\n",
    "\n",
    "MA(q) Moving Average \n",
    "    A model that uses the dependency between an observation and a residual error from a moving average model applied to lagged observations. A moving average component depicts the error of the model as a combination of previous error terms. The order q represents the number of terms to be included in the model.\n"
   ]
  },
  {
   "cell_type": "markdown",
   "id": "b4cb3d33",
   "metadata": {},
   "source": [
    "# Types of ARIMA Model"
   ]
  },
  {
   "cell_type": "markdown",
   "id": "66af69f9",
   "metadata": {},
   "source": [
    "ARIMA:Non-seasonal Autoregressive Integrated Moving Averages\n",
    "    \n",
    "SARIMA:Seasonal ARIMA\n",
    "    \n",
    "SARIMAX:Seasonal ARIMA with exogenous variables\n",
    "    \n",
    "Pyramid Auto-ARIMA\n",
    "\n",
    "The ‘auto_arima’ function from the ‘pmdarima’ library helps us to identify the most optimal parameters for an ARIMA model and returns a fitted ARIMA model."
   ]
  },
  {
   "cell_type": "code",
   "execution_count": null,
   "id": "a46489b5",
   "metadata": {},
   "outputs": [],
   "source": [
    "# To install the library\n",
    "!conda install -c conda-forge pmdarima"
   ]
  },
  {
   "cell_type": "code",
   "execution_count": null,
   "id": "6a8f2a03",
   "metadata": {},
   "outputs": [],
   "source": [
    "from pmdarima import auto_arima"
   ]
  },
  {
   "cell_type": "code",
   "execution_count": null,
   "id": "1e56e559",
   "metadata": {},
   "outputs": [],
   "source": [
    "import warnings\n",
    "warnings.filterwarnings(\"ignore\")"
   ]
  },
  {
   "cell_type": "code",
   "execution_count": null,
   "id": "64bbb015",
   "metadata": {},
   "outputs": [],
   "source": [
    "# Fit auto_arima function to AirPassengers dataset\n",
    "stepwise_fit = auto_arima(airline['Passengers'], start_p = 1, start_q = 1, max_p = 3, max_q = 3, m = 12,\n",
    "                         start_P = 0, \n",
    "                         seasonal = True,\n",
    "                         d = None, \n",
    "                         D = 1, \n",
    "                         trace = True,\n",
    "                         error_action ='ignore',   # we don't want to know if an order does not work\n",
    "                         suppress_warnings = True,  # we don't want convergence warnings\n",
    "                         stepwise = True)           # set to stepwise\n",
    "  \n",
    "# To print the summary\n",
    "stepwise_fit.summary() "
   ]
  }
 ],
 "metadata": {
  "kernelspec": {
   "display_name": "Python 3 (ipykernel)",
   "language": "python",
   "name": "python3"
  },
  "language_info": {
   "codemirror_mode": {
    "name": "ipython",
    "version": 3
   },
   "file_extension": ".py",
   "mimetype": "text/x-python",
   "name": "python",
   "nbconvert_exporter": "python",
   "pygments_lexer": "ipython3",
   "version": "3.11.5"
  }
 },
 "nbformat": 4,
 "nbformat_minor": 5
}
