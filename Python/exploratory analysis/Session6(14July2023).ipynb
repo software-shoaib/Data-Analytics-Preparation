{
 "cells": [
  {
   "cell_type": "markdown",
   "id": "990df63e",
   "metadata": {},
   "source": [
    "# Functions\n",
    "    - functions are block of code that performs a specific task Every time when it is called or invoked. "
   ]
  },
  {
   "cell_type": "code",
   "execution_count": 1,
   "id": "45ea9e84",
   "metadata": {},
   "outputs": [],
   "source": [
    "# function definition\n",
    "def add_values():\n",
    "    a = 10 \n",
    "    b = 20\n",
    "    c = a+b\n",
    "    print(c)\n",
    "    \n",
    "# parameter less function"
   ]
  },
  {
   "cell_type": "code",
   "execution_count": 2,
   "id": "23c488e6",
   "metadata": {},
   "outputs": [
    {
     "name": "stdout",
     "output_type": "stream",
     "text": [
      "30\n"
     ]
    }
   ],
   "source": [
    "# call \n",
    "\n",
    "add_values()"
   ]
  },
  {
   "cell_type": "code",
   "execution_count": 4,
   "id": "fd0b942e",
   "metadata": {},
   "outputs": [],
   "source": [
    "# parmetrized function\n",
    "def add(num1,num2):\n",
    "    print(num1+num2)"
   ]
  },
  {
   "cell_type": "code",
   "execution_count": 6,
   "id": "2e49991d",
   "metadata": {},
   "outputs": [
    {
     "name": "stdout",
     "output_type": "stream",
     "text": [
      "50\n"
     ]
    }
   ],
   "source": [
    "# positional arguments\n",
    "add(20,30)"
   ]
  },
  {
   "cell_type": "code",
   "execution_count": 7,
   "id": "273acbf7",
   "metadata": {},
   "outputs": [
    {
     "name": "stdout",
     "output_type": "stream",
     "text": [
      "7\n"
     ]
    }
   ],
   "source": [
    "# positional arguments\n",
    "add(2,5)"
   ]
  },
  {
   "cell_type": "code",
   "execution_count": 8,
   "id": "be39348b",
   "metadata": {},
   "outputs": [
    {
     "name": "stdout",
     "output_type": "stream",
     "text": [
      "16\n"
     ]
    }
   ],
   "source": [
    "# positional arguments\n",
    "add(7,9)"
   ]
  },
  {
   "cell_type": "code",
   "execution_count": 11,
   "id": "b24cda00",
   "metadata": {},
   "outputs": [],
   "source": [
    "def full_name(student_name,father_name):\n",
    "    print(f'student name is {student_name} and his father name is {father_name}')"
   ]
  },
  {
   "cell_type": "code",
   "execution_count": 12,
   "id": "7bf6c848",
   "metadata": {},
   "outputs": [
    {
     "name": "stdout",
     "output_type": "stream",
     "text": [
      "student name is Muhammad ALi and his father name is Muhammad Aslam\n"
     ]
    }
   ],
   "source": [
    "# positional arguments\n",
    "full_name('Muhammad ALi','Muhammad Aslam')"
   ]
  },
  {
   "cell_type": "code",
   "execution_count": 13,
   "id": "fe9f4f77",
   "metadata": {},
   "outputs": [
    {
     "name": "stdout",
     "output_type": "stream",
     "text": [
      "student name is Muhammad Aslam and his father name is Muhammad Ali\n"
     ]
    }
   ],
   "source": [
    "# positional arguments\n",
    "full_name('Muhammad Aslam', 'Muhammad Ali')"
   ]
  },
  {
   "cell_type": "code",
   "execution_count": 14,
   "id": "d8715345",
   "metadata": {},
   "outputs": [
    {
     "name": "stdout",
     "output_type": "stream",
     "text": [
      "student name is Muhammad Ali and his father name is Muhammad Aslam\n"
     ]
    }
   ],
   "source": [
    "# keyword argumnets\n",
    "\n",
    "full_name(father_name=\"Muhammad Aslam\", student_name=\"Muhammad Ali\")"
   ]
  },
  {
   "cell_type": "code",
   "execution_count": 15,
   "id": "a8f14e87",
   "metadata": {},
   "outputs": [],
   "source": [
    "def add_values(a,b,c):\n",
    "    print(f'''\n",
    "        The value of a is {a}\n",
    "        The value of b is {b}\n",
    "        The value of c is {c}\n",
    "        \n",
    "        The sum of a b c is {a+b+c}\n",
    "        ''')\n",
    "    "
   ]
  },
  {
   "cell_type": "code",
   "execution_count": 18,
   "id": "265d373d",
   "metadata": {},
   "outputs": [
    {
     "name": "stdout",
     "output_type": "stream",
     "text": [
      "\n",
      "        The value of a is 100\n",
      "        The value of b is 200\n",
      "        The value of c is 300\n",
      "        \n",
      "        The sum of a b c is 600\n",
      "        \n"
     ]
    }
   ],
   "source": [
    "# keyword arguments\n",
    "add_values(c=300,a=100,b=200,)"
   ]
  },
  {
   "cell_type": "code",
   "execution_count": 22,
   "id": "c17a19f7",
   "metadata": {},
   "outputs": [],
   "source": [
    "def tax_calculator(salary):\n",
    "    if salary >= 100000:\n",
    "        tax_amount = salary*.10\n",
    "    elif salary >= 75000:\n",
    "        tax_amount = salary * .075\n",
    "    elif salary >= 50000:\n",
    "        tax_amount = salary * .05\n",
    "    else:\n",
    "        tax_amount = salary * 0\n",
    "    print(f\"Your salary is {salary}\")\n",
    "    print(f\"Your tax is {tax_amount}\")\n",
    "    print(f\"Your net salary is {salary-tax_amount}\")"
   ]
  },
  {
   "cell_type": "code",
   "execution_count": 23,
   "id": "dd4b5838",
   "metadata": {},
   "outputs": [
    {
     "ename": "TypeError",
     "evalue": "tax_calculator() missing 1 required positional argument: 'salary'",
     "output_type": "error",
     "traceback": [
      "\u001b[1;31m---------------------------------------------------------------------------\u001b[0m",
      "\u001b[1;31mTypeError\u001b[0m                                 Traceback (most recent call last)",
      "\u001b[1;32m<ipython-input-23-d519c03638a5>\u001b[0m in \u001b[0;36m<module>\u001b[1;34m\u001b[0m\n\u001b[1;32m----> 1\u001b[1;33m \u001b[0mtax_calculator\u001b[0m\u001b[1;33m(\u001b[0m\u001b[1;33m)\u001b[0m\u001b[1;33m\u001b[0m\u001b[1;33m\u001b[0m\u001b[0m\n\u001b[0m",
      "\u001b[1;31mTypeError\u001b[0m: tax_calculator() missing 1 required positional argument: 'salary'"
     ]
    }
   ],
   "source": [
    "tax_calculator()"
   ]
  },
  {
   "cell_type": "code",
   "execution_count": 24,
   "id": "52a543b4",
   "metadata": {},
   "outputs": [
    {
     "name": "stdout",
     "output_type": "stream",
     "text": [
      "Your salary is 100000\n",
      "Your tax is 10000.0\n",
      "Your net salary is 90000.0\n"
     ]
    }
   ],
   "source": [
    "tax_calculator(100000)"
   ]
  },
  {
   "cell_type": "code",
   "execution_count": 31,
   "id": "0346eb1b",
   "metadata": {},
   "outputs": [],
   "source": [
    "def salaryCalc(sales,basic_salary=25000):\n",
    "    if sales <= 1000:\n",
    "        commission =  basic_salary * .02\n",
    "    elif sales <= 2000:\n",
    "        commission =  basic_salary * .04\n",
    "    elif sales <= 3000:\n",
    "        commission =  basic_salary * .06\n",
    "    elif sales <= 4000:\n",
    "        commission =  basic_salary * .08\n",
    "    else:\n",
    "        commission =  basic_salary * .10 \n",
    "    print(basic_salary + commission)"
   ]
  },
  {
   "cell_type": "code",
   "execution_count": 33,
   "id": "1c274af2",
   "metadata": {},
   "outputs": [
    {
     "name": "stdout",
     "output_type": "stream",
     "text": [
      "55000.0\n"
     ]
    }
   ],
   "source": [
    "emp1_salary = salaryCalc(5000,50000)\n",
    "emp1_salary"
   ]
  },
  {
   "cell_type": "code",
   "execution_count": 34,
   "id": "c3170724",
   "metadata": {},
   "outputs": [
    {
     "name": "stdout",
     "output_type": "stream",
     "text": [
      "26000.0\n"
     ]
    }
   ],
   "source": [
    "emp2_salary = salaryCalc(2000)\n",
    "emp2_salary"
   ]
  },
  {
   "cell_type": "code",
   "execution_count": 35,
   "id": "1d2394df",
   "metadata": {},
   "outputs": [
    {
     "name": "stdout",
     "output_type": "stream",
     "text": [
      "abcd xyz\n"
     ]
    }
   ],
   "source": [
    "print(\"abcd\",\"xyz\")"
   ]
  },
  {
   "cell_type": "code",
   "execution_count": 36,
   "id": "7671e687",
   "metadata": {},
   "outputs": [
    {
     "name": "stdout",
     "output_type": "stream",
     "text": [
      "abcd__xyz\n"
     ]
    }
   ],
   "source": [
    "print(\"abcd\",\"xyz\",sep=\"__\")"
   ]
  },
  {
   "cell_type": "raw",
   "id": "10734e5a",
   "metadata": {},
   "source": [
    "# 8-2. Favorite Book: Write a function called favorite_book() that accepts one\n",
    "parameter, title The function should print a message, such as One of my\n",
    "favorite books is Alice in Wonderland Call the function, making sure to\n",
    "include a book title as an argument in the function call"
   ]
  },
  {
   "cell_type": "code",
   "execution_count": 37,
   "id": "5aa230b2",
   "metadata": {},
   "outputs": [],
   "source": [
    "def favorite_book(title):\n",
    "    print(f\"One of my favorite books is {title}\")"
   ]
  },
  {
   "cell_type": "code",
   "execution_count": 38,
   "id": "0c6a63f5",
   "metadata": {},
   "outputs": [
    {
     "name": "stdout",
     "output_type": "stream",
     "text": [
      "One of my favorite books is Python Crash Course\n"
     ]
    }
   ],
   "source": [
    "favorite_book(\"Python Crash Course\")"
   ]
  },
  {
   "cell_type": "code",
   "execution_count": 39,
   "id": "51b8a7bc",
   "metadata": {},
   "outputs": [
    {
     "name": "stdout",
     "output_type": "stream",
     "text": [
      "One of my favorite books is Alice in Wonderland\n"
     ]
    }
   ],
   "source": [
    "favorite_book(\"Alice in Wonderland\")"
   ]
  },
  {
   "cell_type": "raw",
   "id": "c9962be1",
   "metadata": {},
   "source": [
    "8-3. T-Shirt: Write a function called make_shirt() that accepts a size and the\n",
    "text of a message that should be printed on the shirt The function should print\n",
    "a sentence summarizing the size of the shirt and the message printed on it\n",
    "Call the function once using positional arguments to make a shirt Call the\n",
    "function a second time using keyword arguments"
   ]
  },
  {
   "cell_type": "code",
   "execution_count": 40,
   "id": "b74765d2",
   "metadata": {},
   "outputs": [],
   "source": [
    "def make_shirt(size,txt):\n",
    "    print(f\"The size of the shirt is {size}\")\n",
    "    print(f\"The message printed on shirt is: {txt}\")   \n",
    "    "
   ]
  },
  {
   "cell_type": "code",
   "execution_count": 41,
   "id": "910213b6",
   "metadata": {},
   "outputs": [
    {
     "name": "stdout",
     "output_type": "stream",
     "text": [
      "The size of the shirt is Medium\n",
      "The message printed on shirt is: Be Happy\n"
     ]
    }
   ],
   "source": [
    "make_shirt('Medium','Be Happy')"
   ]
  },
  {
   "cell_type": "code",
   "execution_count": 42,
   "id": "6b7062ab",
   "metadata": {},
   "outputs": [
    {
     "name": "stdout",
     "output_type": "stream",
     "text": [
      "The size of the shirt is Medium\n",
      "The message printed on shirt is: I love Python\n"
     ]
    }
   ],
   "source": [
    "make_shirt('Medium','I love Python')"
   ]
  },
  {
   "cell_type": "code",
   "execution_count": 43,
   "id": "d0d2b456",
   "metadata": {},
   "outputs": [
    {
     "name": "stdout",
     "output_type": "stream",
     "text": [
      "The size of the shirt is Small\n",
      "The message printed on shirt is: Hurrahhhhhhhhhh\n"
     ]
    }
   ],
   "source": [
    "make_shirt('Small','Hurrahhhhhhhhhh')"
   ]
  },
  {
   "cell_type": "raw",
   "id": "fe8c3c7b",
   "metadata": {},
   "source": [
    "8-4. Large Shirts: Modify the make_shirt() function so that shirts are large\n",
    "by default with a message that reads I love Python Make a large shirt and a\n",
    "medium shirt with the default message, and a shirt of any size with a different\n",
    "message"
   ]
  },
  {
   "cell_type": "code",
   "execution_count": 44,
   "id": "2dda24f1",
   "metadata": {},
   "outputs": [],
   "source": [
    "def make_shirt(size='Large',txt=\"I love Python\"):\n",
    "    print(f\"The size of the shirt is {size}\")\n",
    "    print(f\"The message printed on shirt is: {txt}\")"
   ]
  },
  {
   "cell_type": "code",
   "execution_count": 45,
   "id": "abdd3cc5",
   "metadata": {},
   "outputs": [
    {
     "name": "stdout",
     "output_type": "stream",
     "text": [
      "The size of the shirt is Large\n",
      "The message printed on shirt is: I love Python\n"
     ]
    }
   ],
   "source": [
    "make_shirt()"
   ]
  },
  {
   "cell_type": "code",
   "execution_count": 46,
   "id": "9d681957",
   "metadata": {},
   "outputs": [
    {
     "name": "stdout",
     "output_type": "stream",
     "text": [
      "The size of the shirt is Medium\n",
      "The message printed on shirt is: I love Python\n"
     ]
    }
   ],
   "source": [
    "make_shirt(\"Medium\")"
   ]
  },
  {
   "cell_type": "code",
   "execution_count": 47,
   "id": "6031cff7",
   "metadata": {},
   "outputs": [
    {
     "name": "stdout",
     "output_type": "stream",
     "text": [
      "The size of the shirt is small\n",
      "The message printed on shirt is: Beautiful\n"
     ]
    }
   ],
   "source": [
    "make_shirt(\"small\", \"Beautiful\")"
   ]
  },
  {
   "cell_type": "markdown",
   "id": "d8347ed6",
   "metadata": {},
   "source": [
    "# Return Values"
   ]
  },
  {
   "cell_type": "code",
   "execution_count": 69,
   "id": "2a85b92c",
   "metadata": {},
   "outputs": [],
   "source": [
    "def salaryCalc(sales,basic_salary=25000):\n",
    "    if sales <= 1000:\n",
    "        commission =  basic_salary * .02\n",
    "    elif sales <= 2000:\n",
    "        commission =  basic_salary * .04\n",
    "    elif sales <= 3000:\n",
    "        commission =  basic_salary * .06\n",
    "    elif sales <= 4000:\n",
    "        commission =  basic_salary * .08\n",
    "    else:\n",
    "        commission =  basic_salary * .10 \n",
    "    total = basic_salary + commission\n",
    "    return total\n",
    "    \n",
    "# all the variable declared inside a function are local variables\n",
    "# scope of local variables is inside the function\n",
    "# local variables can not be accesses outside the function"
   ]
  },
  {
   "cell_type": "code",
   "execution_count": 68,
   "id": "7a7852ed",
   "metadata": {},
   "outputs": [
    {
     "name": "stdout",
     "output_type": "stream",
     "text": [
      "30600.0\n"
     ]
    }
   ],
   "source": [
    "emp1 = salaryCalc(500,30000)\n",
    "print(emp1)"
   ]
  },
  {
   "cell_type": "code",
   "execution_count": 78,
   "id": "6f00802d",
   "metadata": {},
   "outputs": [],
   "source": [
    "def random_func():\n",
    "    c = 2 + 4\n",
    "    return c"
   ]
  },
  {
   "cell_type": "code",
   "execution_count": 79,
   "id": "f5cd0e17",
   "metadata": {},
   "outputs": [],
   "source": [
    "c = random_func()"
   ]
  },
  {
   "cell_type": "code",
   "execution_count": 80,
   "id": "2c185e12",
   "metadata": {},
   "outputs": [
    {
     "name": "stdout",
     "output_type": "stream",
     "text": [
      "6\n"
     ]
    }
   ],
   "source": [
    "print(c)"
   ]
  },
  {
   "cell_type": "raw",
   "id": "7a534be8",
   "metadata": {},
   "source": [
    "8-7. Album: Write a function called make_album() that builds a dictionary\n",
    "describing a music album The function should take in an artist name and an\n",
    "album title, and it should return a dictionary containing these two pieces of\n",
    "information Use the function to make three dictionaries representing different\n",
    "albums Print each return value to show that the dictionaries are storing the\n",
    "album information correctly\n",
    "Add an optional parameter to make_album() that allows you to store the\n",
    "number of tracks on an album If the calling line includes a value for the number of tracks, add that value to the album’s dictionary Make at least one new\n",
    "function call that includes the number of tracks on an album"
   ]
  },
  {
   "cell_type": "code",
   "execution_count": 2,
   "id": "72339e26",
   "metadata": {},
   "outputs": [],
   "source": [
    "def make_album(artist_name, album_title):\n",
    "    music_album = {}\n",
    "    \n",
    "    music_album['artist_name'] = artist_name\n",
    "    music_album['album_title'] = album_title\n",
    "    \n",
    "    return music_album\n",
    "    "
   ]
  },
  {
   "cell_type": "code",
   "execution_count": 3,
   "id": "d5409726",
   "metadata": {},
   "outputs": [
    {
     "data": {
      "text/plain": [
       "{'artist_name': 'hassan ali', 'album_title': 'yeh jahan'}"
      ]
     },
     "execution_count": 3,
     "metadata": {},
     "output_type": "execute_result"
    }
   ],
   "source": [
    "make_album('hassan ali', 'yeh jahan')"
   ]
  },
  {
   "cell_type": "code",
   "execution_count": 4,
   "id": "bec848ba",
   "metadata": {},
   "outputs": [
    {
     "data": {
      "text/plain": [
       "{'artist_name': 'nasir', 'album_title': 'hello'}"
      ]
     },
     "execution_count": 4,
     "metadata": {},
     "output_type": "execute_result"
    }
   ],
   "source": [
    "make_album('nasir', 'hello')"
   ]
  },
  {
   "cell_type": "code",
   "execution_count": 10,
   "id": "f4917240",
   "metadata": {},
   "outputs": [],
   "source": [
    "def make_album(artist_name, album_title,num_of_track=''):\n",
    "    music_album = {}\n",
    "    \n",
    "    music_album['artist_name'] = artist_name\n",
    "    music_album['album_title'] = album_title\n",
    "    music_album['tracks'] = num_of_track\n",
    "    \n",
    "    return music_album\n",
    "    "
   ]
  },
  {
   "cell_type": "code",
   "execution_count": 11,
   "id": "a8cfdd36",
   "metadata": {},
   "outputs": [
    {
     "data": {
      "text/plain": [
       "{'artist_name': 'asad', 'album_title': 'OK', 'tracks': 10}"
      ]
     },
     "execution_count": 11,
     "metadata": {},
     "output_type": "execute_result"
    }
   ],
   "source": [
    "make_album(\"asad\",\"OK\",10)"
   ]
  },
  {
   "cell_type": "code",
   "execution_count": 12,
   "id": "c8d9e28e",
   "metadata": {},
   "outputs": [
    {
     "data": {
      "text/plain": [
       "{'artist_name': 'asad', 'album_title': 'OK', 'tracks': ''}"
      ]
     },
     "execution_count": 12,
     "metadata": {},
     "output_type": "execute_result"
    }
   ],
   "source": [
    "make_album(\"asad\",\"OK\")"
   ]
  },
  {
   "cell_type": "code",
   "execution_count": 8,
   "id": "52694473",
   "metadata": {},
   "outputs": [],
   "source": [
    "value = ''"
   ]
  },
  {
   "cell_type": "code",
   "execution_count": 9,
   "id": "a66cca52",
   "metadata": {},
   "outputs": [
    {
     "data": {
      "text/plain": [
       "False"
      ]
     },
     "execution_count": 9,
     "metadata": {},
     "output_type": "execute_result"
    }
   ],
   "source": [
    "bool(value)"
   ]
  },
  {
   "cell_type": "code",
   "execution_count": 28,
   "id": "d39a66e1",
   "metadata": {},
   "outputs": [],
   "source": [
    "def make_album2(artist_name, album_title,num_of_track=''):\n",
    "    music_album = {}\n",
    "    \n",
    "    music_album['artist_name'] = artist_name\n",
    "    music_album['album_title'] = album_title\n",
    "    if num_of_track:\n",
    "         music_album['tracks'] = num_of_track       \n",
    "    return music_album"
   ]
  },
  {
   "cell_type": "code",
   "execution_count": 29,
   "id": "fd66de6b",
   "metadata": {},
   "outputs": [
    {
     "data": {
      "text/plain": [
       "{'artist_name': 'asad', 'album_title': 'OK', 'tracks': 10}"
      ]
     },
     "execution_count": 29,
     "metadata": {},
     "output_type": "execute_result"
    }
   ],
   "source": [
    "make_album2(\"asad\",\"OK\",10)\n"
   ]
  },
  {
   "cell_type": "code",
   "execution_count": 30,
   "id": "027242be",
   "metadata": {},
   "outputs": [
    {
     "data": {
      "text/plain": [
       "{'artist_name': 'asad', 'album_title': 'OK'}"
      ]
     },
     "execution_count": 30,
     "metadata": {},
     "output_type": "execute_result"
    }
   ],
   "source": [
    "make_album2(\"asad\",\"OK\")\n"
   ]
  },
  {
   "cell_type": "code",
   "execution_count": null,
   "id": "fcdbc659",
   "metadata": {},
   "outputs": [],
   "source": []
  }
 ],
 "metadata": {
  "kernelspec": {
   "display_name": "Python 3",
   "language": "python",
   "name": "python3"
  },
  "language_info": {
   "codemirror_mode": {
    "name": "ipython",
    "version": 3
   },
   "file_extension": ".py",
   "mimetype": "text/x-python",
   "name": "python",
   "nbconvert_exporter": "python",
   "pygments_lexer": "ipython3",
   "version": "3.7.4"
  }
 },
 "nbformat": 4,
 "nbformat_minor": 5
}
