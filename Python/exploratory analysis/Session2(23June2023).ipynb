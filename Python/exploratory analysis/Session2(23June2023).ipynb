{
 "cells": [
  {
   "cell_type": "markdown",
   "id": "4df156cf",
   "metadata": {},
   "source": [
    "# Todays Topics\n",
    "    - String and its use cases and string built in functionalities\n",
    "    - User input \n",
    "    - String Concatenation, String formation \n",
    "    - type casting\n",
    "    - if else\n",
    "    - multiple if else elif "
   ]
  },
  {
   "cell_type": "markdown",
   "id": "80685786",
   "metadata": {},
   "source": [
    "# Python String \n",
    "     - A python string data can be a character , word, sentence, paragraph\n",
    "     - Any thing that is placed inside quoatation marks will behave as string.\n",
    "     - String a immutable. Unchangeable.\n",
    "     "
   ]
  },
  {
   "cell_type": "code",
   "execution_count": 1,
   "id": "8340189a",
   "metadata": {},
   "outputs": [],
   "source": [
    "# defining a string variable \n",
    "\n",
    "course  = \"data analytics using python\""
   ]
  },
  {
   "cell_type": "code",
   "execution_count": 5,
   "id": "c423ec03",
   "metadata": {},
   "outputs": [
    {
     "name": "stdout",
     "output_type": "stream",
     "text": [
      "<class 'str'>\n"
     ]
    }
   ],
   "source": [
    "print(type(course))"
   ]
  },
  {
   "cell_type": "code",
   "execution_count": 6,
   "id": "139de750",
   "metadata": {},
   "outputs": [],
   "source": [
    "course  = \"python programming fundamentals\""
   ]
  },
  {
   "cell_type": "code",
   "execution_count": 7,
   "id": "c4229e9d",
   "metadata": {},
   "outputs": [
    {
     "data": {
      "text/plain": [
       "'python programming fundamentals'"
      ]
     },
     "execution_count": 7,
     "metadata": {},
     "output_type": "execute_result"
    }
   ],
   "source": [
    "course"
   ]
  },
  {
   "cell_type": "code",
   "execution_count": 8,
   "id": "b294a6ce",
   "metadata": {},
   "outputs": [
    {
     "data": {
      "text/plain": [
       "'PYTHON PROGRAMMING FUNDAMENTALS'"
      ]
     },
     "execution_count": 8,
     "metadata": {},
     "output_type": "execute_result"
    }
   ],
   "source": [
    "course.upper()"
   ]
  },
  {
   "cell_type": "code",
   "execution_count": 9,
   "id": "50dfd252",
   "metadata": {},
   "outputs": [
    {
     "data": {
      "text/plain": [
       "'python programming fundamentals'"
      ]
     },
     "execution_count": 9,
     "metadata": {},
     "output_type": "execute_result"
    }
   ],
   "source": [
    "course"
   ]
  },
  {
   "cell_type": "code",
   "execution_count": 10,
   "id": "6b211545",
   "metadata": {
    "scrolled": true
   },
   "outputs": [
    {
     "data": {
      "text/plain": [
       "'PYTHON PROGRAMMING FUNDAMENTALS'"
      ]
     },
     "execution_count": 10,
     "metadata": {},
     "output_type": "execute_result"
    }
   ],
   "source": [
    "upperCourse = course.upper()\n",
    "upperCourse"
   ]
  },
  {
   "cell_type": "code",
   "execution_count": 11,
   "id": "dcf533e2",
   "metadata": {},
   "outputs": [
    {
     "data": {
      "text/plain": [
       "'Python Programming Fundamentals'"
      ]
     },
     "execution_count": 11,
     "metadata": {},
     "output_type": "execute_result"
    }
   ],
   "source": [
    "course.title()"
   ]
  },
  {
   "cell_type": "code",
   "execution_count": 12,
   "id": "64ad7209",
   "metadata": {},
   "outputs": [
    {
     "data": {
      "text/plain": [
       "3"
      ]
     },
     "execution_count": 12,
     "metadata": {},
     "output_type": "execute_result"
    }
   ],
   "source": [
    "course.count('a')"
   ]
  },
  {
   "cell_type": "code",
   "execution_count": 13,
   "id": "5eee65e3",
   "metadata": {},
   "outputs": [
    {
     "data": {
      "text/plain": [
       "2"
      ]
     },
     "execution_count": 13,
     "metadata": {},
     "output_type": "execute_result"
    }
   ],
   "source": [
    "course.count('am')"
   ]
  },
  {
   "cell_type": "code",
   "execution_count": 14,
   "id": "f52ff269",
   "metadata": {},
   "outputs": [
    {
     "data": {
      "text/plain": [
       "2"
      ]
     },
     "execution_count": 14,
     "metadata": {},
     "output_type": "execute_result"
    }
   ],
   "source": [
    "course.count('p')"
   ]
  },
  {
   "cell_type": "code",
   "execution_count": 15,
   "id": "37ff4e08",
   "metadata": {},
   "outputs": [
    {
     "data": {
      "text/plain": [
       "False"
      ]
     },
     "execution_count": 15,
     "metadata": {},
     "output_type": "execute_result"
    }
   ],
   "source": [
    "course.endswith(\"Z\")"
   ]
  },
  {
   "cell_type": "code",
   "execution_count": 16,
   "id": "57412f23",
   "metadata": {},
   "outputs": [
    {
     "data": {
      "text/plain": [
       "True"
      ]
     },
     "execution_count": 16,
     "metadata": {},
     "output_type": "execute_result"
    }
   ],
   "source": [
    "course.endswith(\"s\")"
   ]
  },
  {
   "cell_type": "code",
   "execution_count": 17,
   "id": "f645ec02",
   "metadata": {},
   "outputs": [
    {
     "data": {
      "text/plain": [
       "False"
      ]
     },
     "execution_count": 17,
     "metadata": {},
     "output_type": "execute_result"
    }
   ],
   "source": [
    "course.startswith(\"P\")"
   ]
  },
  {
   "cell_type": "code",
   "execution_count": 20,
   "id": "57d59b4e",
   "metadata": {},
   "outputs": [
    {
     "data": {
      "text/plain": [
       "10"
      ]
     },
     "execution_count": 20,
     "metadata": {},
     "output_type": "execute_result"
    }
   ],
   "source": [
    "course.find(\"g\")"
   ]
  },
  {
   "cell_type": "code",
   "execution_count": 22,
   "id": "b389e4ea",
   "metadata": {},
   "outputs": [
    {
     "data": {
      "text/plain": [
       "-1"
      ]
     },
     "execution_count": 22,
     "metadata": {},
     "output_type": "execute_result"
    }
   ],
   "source": [
    "# if any character (substring) is not in string it will say -1\n",
    "course.find(\"hello\")"
   ]
  },
  {
   "cell_type": "code",
   "execution_count": 26,
   "id": "7a684d8d",
   "metadata": {},
   "outputs": [
    {
     "name": "stdout",
     "output_type": "stream",
     "text": [
      "email not sent to student nasir\n",
      "email not sent to student ali\n",
      "email sent to  aftab\n",
      "email not sent to student faisal\n",
      "email not sent to student Kashif\n"
     ]
    }
   ],
   "source": [
    "# students = ['nasir', 'ali', 'aftab', 'faisal', 'Kashif']\n",
    "# for student in students:\n",
    "#     if student.endswith(\"b\"):\n",
    "#         print( \"email sent to \",student)\n",
    "#     else:\n",
    "#         print(\"email not sent to student\",student)"
   ]
  },
  {
   "cell_type": "markdown",
   "id": "b28ce2ba",
   "metadata": {},
   "source": [
    "### String Concatenation"
   ]
  },
  {
   "cell_type": "code",
   "execution_count": 27,
   "id": "cafced66",
   "metadata": {},
   "outputs": [],
   "source": [
    "fname = \"Syed\"\n",
    "mname = \"Asif\"\n",
    "lname = 'Raza'"
   ]
  },
  {
   "cell_type": "code",
   "execution_count": 30,
   "id": "1771cfbd",
   "metadata": {},
   "outputs": [
    {
     "name": "stdout",
     "output_type": "stream",
     "text": [
      "SyedAsifRaza\n"
     ]
    },
    {
     "data": {
      "text/plain": [
       "12"
      ]
     },
     "execution_count": 30,
     "metadata": {},
     "output_type": "execute_result"
    }
   ],
   "source": [
    "fullname = fname + mname + lname \n",
    "print(fullname)\n",
    "len(fullname)"
   ]
  },
  {
   "cell_type": "code",
   "execution_count": 31,
   "id": "c9863ce4",
   "metadata": {},
   "outputs": [
    {
     "name": "stdout",
     "output_type": "stream",
     "text": [
      "Syed Asif Raza\n"
     ]
    },
    {
     "data": {
      "text/plain": [
       "14"
      ]
     },
     "execution_count": 31,
     "metadata": {},
     "output_type": "execute_result"
    }
   ],
   "source": [
    "fullname = fname +\" \"+ mname +\" \"+ lname \n",
    "print(fullname)\n",
    "len(fullname)"
   ]
  },
  {
   "cell_type": "markdown",
   "id": "52471b61",
   "metadata": {},
   "source": [
    "### String formation"
   ]
  },
  {
   "cell_type": "code",
   "execution_count": 34,
   "id": "37f9ed2b",
   "metadata": {},
   "outputs": [
    {
     "name": "stdout",
     "output_type": "stream",
     "text": [
      "My friends full name is SyedAsifRaza\n"
     ]
    }
   ],
   "source": [
    "print(\"My friends full name is {} {} {}\".format(fname,mname,lname))"
   ]
  },
  {
   "cell_type": "code",
   "execution_count": 36,
   "id": "5ca6863d",
   "metadata": {},
   "outputs": [
    {
     "name": "stdout",
     "output_type": "stream",
     "text": [
      "My friends full name is Syed Asif Raza\n"
     ]
    }
   ],
   "source": [
    "print(f\"My friends full name is {fname} {mname} {lname}\")"
   ]
  },
  {
   "cell_type": "markdown",
   "id": "405b8dc3",
   "metadata": {},
   "source": [
    "### User input"
   ]
  },
  {
   "cell_type": "code",
   "execution_count": 38,
   "id": "a6f840ba",
   "metadata": {},
   "outputs": [
    {
     "name": "stdout",
     "output_type": "stream",
     "text": [
      "100\n"
     ]
    }
   ],
   "source": [
    "value  = input()\n",
    "# the value input via input function will \n",
    "#be stored in str type value"
   ]
  },
  {
   "cell_type": "code",
   "execution_count": 43,
   "id": "dd0bfdfa",
   "metadata": {},
   "outputs": [
    {
     "data": {
      "text/plain": [
       "'100'"
      ]
     },
     "execution_count": 43,
     "metadata": {},
     "output_type": "execute_result"
    }
   ],
   "source": [
    "value"
   ]
  },
  {
   "cell_type": "code",
   "execution_count": 40,
   "id": "6a3dba50",
   "metadata": {},
   "outputs": [
    {
     "data": {
      "text/plain": [
       "str"
      ]
     },
     "execution_count": 40,
     "metadata": {},
     "output_type": "execute_result"
    }
   ],
   "source": [
    "type(value)"
   ]
  },
  {
   "cell_type": "code",
   "execution_count": 45,
   "id": "28f4128f",
   "metadata": {},
   "outputs": [
    {
     "data": {
      "text/plain": [
       "str"
      ]
     },
     "execution_count": 45,
     "metadata": {},
     "output_type": "execute_result"
    }
   ],
   "source": [
    "newValue = value\n",
    "type(newValue)"
   ]
  },
  {
   "cell_type": "code",
   "execution_count": 46,
   "id": "34fd7444",
   "metadata": {},
   "outputs": [
    {
     "data": {
      "text/plain": [
       "int"
      ]
     },
     "execution_count": 46,
     "metadata": {},
     "output_type": "execute_result"
    }
   ],
   "source": [
    "# Type casting > wrapping int on str\n",
    "newValue = int(value)\n",
    "type(newValue)"
   ]
  },
  {
   "cell_type": "code",
   "execution_count": 47,
   "id": "52aff9c0",
   "metadata": {},
   "outputs": [
    {
     "name": "stdout",
     "output_type": "stream",
     "text": [
      "What is the price of item1?100\n",
      "What is the price of item12?200\n",
      "What is the price of item3?300\n",
      "What is the price of item4?400\n",
      "What is the price of item5?500\n",
      "100200300400500\n"
     ]
    }
   ],
   "source": [
    "item1_cost = input(\"What is the price of item1?\")\n",
    "item2_cost = input(\"What is the price of item12?\")\n",
    "item3_cost = input(\"What is the price of item3?\")\n",
    "item4_cost = input(\"What is the price of item4?\")\n",
    "item5_cost = input(\"What is the price of item5?\")\n",
    "\n",
    "total  = item1_cost+item2_cost+item3_cost+item4_cost+item5_cost\n",
    "print(total)"
   ]
  },
  {
   "cell_type": "code",
   "execution_count": 48,
   "id": "76b6b451",
   "metadata": {},
   "outputs": [
    {
     "name": "stdout",
     "output_type": "stream",
     "text": [
      "What is the price of item1?100\n",
      "What is the price of item12?200\n",
      "What is the price of item3?300\n",
      "What is the price of item4?400\n",
      "What is the price of item5?500\n",
      "1500\n"
     ]
    }
   ],
   "source": [
    "item1_cost = int(input(\"What is the price of item1?\"))\n",
    "item2_cost = int(input(\"What is the price of item12?\"))\n",
    "item3_cost = int(input(\"What is the price of item3?\"))\n",
    "item4_cost = int(input(\"What is the price of item4?\"))\n",
    "item5_cost = int(input(\"What is the price of item5?\"))\n",
    "\n",
    "total  = item1_cost+item2_cost+item3_cost+item4_cost+item5_cost\n",
    "print(total)"
   ]
  },
  {
   "cell_type": "code",
   "execution_count": 49,
   "id": "b0ab2ada",
   "metadata": {},
   "outputs": [],
   "source": [
    "name = 'Asad'\n",
    "age  = 20 "
   ]
  },
  {
   "cell_type": "code",
   "execution_count": 52,
   "id": "fdd1df2a",
   "metadata": {},
   "outputs": [
    {
     "ename": "TypeError",
     "evalue": "can only concatenate str (not \"int\") to str",
     "output_type": "error",
     "traceback": [
      "\u001b[1;31m---------------------------------------------------------------------------\u001b[0m",
      "\u001b[1;31mTypeError\u001b[0m                                 Traceback (most recent call last)",
      "\u001b[1;32m<ipython-input-52-4ada1d3b7e68>\u001b[0m in \u001b[0;36m<module>\u001b[1;34m\u001b[0m\n\u001b[1;32m----> 1\u001b[1;33m \u001b[0mprint\u001b[0m\u001b[1;33m(\u001b[0m\u001b[1;34m\"Your name is \"\u001b[0m\u001b[1;33m+\u001b[0m \u001b[0mname\u001b[0m\u001b[1;33m+\u001b[0m \u001b[1;34m\"and your age is \"\u001b[0m\u001b[1;33m+\u001b[0m \u001b[1;33m(\u001b[0m\u001b[0mage\u001b[0m\u001b[1;33m)\u001b[0m \u001b[1;33m)\u001b[0m\u001b[1;33m\u001b[0m\u001b[1;33m\u001b[0m\u001b[0m\n\u001b[0m",
      "\u001b[1;31mTypeError\u001b[0m: can only concatenate str (not \"int\") to str"
     ]
    }
   ],
   "source": [
    "print(\"Your name is \"+ name+ \"and your age is \"+ (age) )"
   ]
  },
  {
   "cell_type": "code",
   "execution_count": 53,
   "id": "6b593eba",
   "metadata": {},
   "outputs": [
    {
     "name": "stdout",
     "output_type": "stream",
     "text": [
      "Your name is Asadand your age is 20\n"
     ]
    }
   ],
   "source": [
    "print(\"Your name is \"+ name+ \"and your age is \"+ str(age) )"
   ]
  },
  {
   "cell_type": "markdown",
   "id": "9d725c82",
   "metadata": {},
   "source": [
    "# Conditions- Conditionals \n",
    "if statement"
   ]
  },
  {
   "cell_type": "code",
   "execution_count": 55,
   "id": "fabbecd1",
   "metadata": {},
   "outputs": [
    {
     "name": "stdout",
     "output_type": "stream",
     "text": [
      "B is greater than A\n",
      "B is greater than A\n",
      "B is greater than A\n",
      "B is greater than A\n",
      "B is greater than A\n",
      "B is greater than A\n",
      "B is greater than A\n",
      "B is greater than A\n"
     ]
    }
   ],
   "source": [
    "a  = 10 \n",
    "b = 20 \n",
    "\n",
    "if b > a:\n",
    "    # indenting\n",
    "    print('B is greater than A')\n",
    "    print('B is greater than A')\n",
    "    print('B is greater than A')\n",
    "    print('B is greater than A')\n",
    "    print('B is greater than A')\n",
    "    print('B is greater than A')\n",
    "    print('B is greater than A')\n",
    "    print('B is greater than A')\n",
    "    \n"
   ]
  },
  {
   "cell_type": "code",
   "execution_count": 56,
   "id": "66c60c5a",
   "metadata": {},
   "outputs": [
    {
     "name": "stdout",
     "output_type": "stream",
     "text": [
      "Enter your age: 16\n",
      "You are a teenager you are not allowed\n"
     ]
    }
   ],
   "source": [
    "user_age = int(input(\"Enter your age: \"))\n",
    "if user_age <=19:\n",
    "    print(\"You are a teenager you are not allowed\")"
   ]
  },
  {
   "cell_type": "markdown",
   "id": "4b955dfd",
   "metadata": {},
   "source": [
    "### Else"
   ]
  },
  {
   "cell_type": "code",
   "execution_count": 58,
   "id": "3bb2e2c0",
   "metadata": {},
   "outputs": [
    {
     "name": "stdout",
     "output_type": "stream",
     "text": [
      "Enter your age: 30\n",
      "You are not a teenager you are allowed\n"
     ]
    }
   ],
   "source": [
    "user_age = int(input(\"Enter your age: \"))\n",
    "if user_age <=19:\n",
    "    print(\"You are a teenager you are not allowed\")\n",
    "else:\n",
    "    print(\"You are not a teenager you are allowed\")\n",
    "    "
   ]
  },
  {
   "cell_type": "code",
   "execution_count": 60,
   "id": "5408c112",
   "metadata": {},
   "outputs": [
    {
     "name": "stdout",
     "output_type": "stream",
     "text": [
      "What is the price per kg of Meat1100\n",
      "Buy 3 KG\n"
     ]
    }
   ],
   "source": [
    "price = int(input(\"What is the price per kg of Meat\"))\n",
    "if price <=1000:\n",
    "    print(\"Buy 5KG\")\n",
    "else:\n",
    "    print(\"Buy 3 KG\")"
   ]
  },
  {
   "cell_type": "code",
   "execution_count": 64,
   "id": "1c6066a4",
   "metadata": {},
   "outputs": [
    {
     "name": "stdout",
     "output_type": "stream",
     "text": [
      "Do like black or white colorred\n",
      "idont know what you are!\n"
     ]
    }
   ],
   "source": [
    "color  = input(\"Do like black or white color\")\n",
    "if color == 'black':\n",
    "    print(\"You may be accountant\")\n",
    "else:\n",
    "    if color == \"white\":\n",
    "        print(\"You may be a doctor \")\n",
    "    else:\n",
    "        print(\"idont know what you are!\")\n",
    "    "
   ]
  },
  {
   "cell_type": "code",
   "execution_count": 66,
   "id": "1eae43e7",
   "metadata": {},
   "outputs": [
    {
     "name": "stdout",
     "output_type": "stream",
     "text": [
      "Do like black or white colorwhite\n",
      "You may be a doctor \n"
     ]
    }
   ],
   "source": [
    "color  = input(\"Do like black or white color\")\n",
    "if color == 'black':\n",
    "    print(\"You may be accountant\")\n",
    "elif color == \"white\":\n",
    "        print(\"You may be a doctor \")\n",
    "else:\n",
    "        print(\"idont know what you are!\")"
   ]
  },
  {
   "cell_type": "code",
   "execution_count": 67,
   "id": "742167bf",
   "metadata": {},
   "outputs": [
    {
     "name": "stdout",
     "output_type": "stream",
     "text": [
      "Do like black or white colorBlack\n",
      "idont know what you are!\n"
     ]
    }
   ],
   "source": [
    "color  = input(\"Do like black or white color\")\n",
    "if color == 'black':\n",
    "    print(\"You may be accountant\")\n",
    "elif color == \"white\":\n",
    "        print(\"You may be a doctor \")\n",
    "else:\n",
    "        print(\"idont know what you are!\")"
   ]
  },
  {
   "cell_type": "code",
   "execution_count": 68,
   "id": "b91b0e8c",
   "metadata": {},
   "outputs": [
    {
     "name": "stdout",
     "output_type": "stream",
     "text": [
      "Do like black or white colorBLACK\n",
      "You may be accountant\n"
     ]
    }
   ],
   "source": [
    "color  = input(\"Do like black or white color\").lower()\n",
    "if color == 'black':\n",
    "    print(\"You may be accountant\")\n",
    "elif color == \"white\":\n",
    "        print(\"You may be a doctor \")\n",
    "else:\n",
    "        print(\"idont know what you are!\")"
   ]
  },
  {
   "cell_type": "code",
   "execution_count": 72,
   "id": "8e605292",
   "metadata": {},
   "outputs": [
    {
     "name": "stdout",
     "output_type": "stream",
     "text": [
      "Enter your python marks78\n",
      "Enter your data analytics marks87\n",
      "Enter your bi marks89\n",
      "Enter your excel marks98\n",
      "Enter your ml marks70\n",
      "Enter the total marks500\n",
      "Your grade is A\n",
      "Your percentage is 84.39999999999999. \n"
     ]
    }
   ],
   "source": [
    "python = int(input(\"Enter your python marks\"))\n",
    "data = int(input(\"Enter your data analytics marks\"))\n",
    "bi =int(input(\"Enter your bi marks\"))\n",
    "excel =int(input(\"Enter your excel marks\"))\n",
    "ml =int(input(\"Enter your ml marks\"))\n",
    "total_obt = python+data+bi+excel+ml\n",
    "total = int(input(\"Enter the total marks\"))\n",
    "percentage  = total_obt/total*100\n",
    "if percentage >=90:\n",
    "    print(\"Your grade is A*\")\n",
    "elif percentage >=80:\n",
    "    print(\"Your grade is A\")\n",
    "elif percentage >=70:\n",
    "    print(\"Your grade is B\")\n",
    "elif percentage >=60:\n",
    "    print(\"Your grade is C\")\n",
    "elif percentage >=50:\n",
    "    print(\"Your grade is D\")\n",
    "else:\n",
    "    print(\"Fails\")\n",
    "print(f\"Your percentage is {percentage}. \")"
   ]
  },
  {
   "cell_type": "code",
   "execution_count": 73,
   "id": "268f698e",
   "metadata": {},
   "outputs": [],
   "source": [
    "a = 10 \n",
    "b= 20  # assignment "
   ]
  },
  {
   "cell_type": "code",
   "execution_count": 74,
   "id": "89a8bd70",
   "metadata": {},
   "outputs": [
    {
     "data": {
      "text/plain": [
       "20"
      ]
     },
     "execution_count": 74,
     "metadata": {},
     "output_type": "execute_result"
    }
   ],
   "source": [
    "a = b \n",
    "a"
   ]
  },
  {
   "cell_type": "code",
   "execution_count": 75,
   "id": "7a68287e",
   "metadata": {},
   "outputs": [
    {
     "data": {
      "text/plain": [
       "True"
      ]
     },
     "execution_count": 75,
     "metadata": {},
     "output_type": "execute_result"
    }
   ],
   "source": [
    "a==b  # equalto "
   ]
  },
  {
   "cell_type": "code",
   "execution_count": 7,
   "id": "e6913f15",
   "metadata": {},
   "outputs": [
    {
     "name": "stdout",
     "output_type": "stream",
     "text": [
      "Enter students nameAsad\n",
      "Enter courseDA\n",
      "Enter institute nameSBIL\n",
      "Enter your python marks12\n",
      "Enter your data analytics marks23\n",
      "Enter your bi marks12\n",
      "Enter your excel marks12\n",
      "Enter your ml marks12\n",
      "Enter the total marks200\n",
      "\n",
      "                SBIL\n",
      "                =================================\n",
      "      Name of Student: Asad\n",
      "      Course attended: DA\n",
      "      \n",
      "      Percentage: 35.5\n",
      "      Grade Achieved: Fails\n",
      "      \n",
      "      \n"
     ]
    }
   ],
   "source": [
    "name  = input(\"Enter students name\")\n",
    "course  = input(\"Enter course\")\n",
    "institute = input(\"Enter institute name\")\n",
    "\n",
    "python = int(input(\"Enter your python marks\"))\n",
    "data = int(input(\"Enter your data analytics marks\"))\n",
    "bi =int(input(\"Enter your bi marks\"))\n",
    "excel =int(input(\"Enter your excel marks\"))\n",
    "ml =int(input(\"Enter your ml marks\"))\n",
    "\n",
    "total_obt = python+data+bi+excel+ml\n",
    "total = int(input(\"Enter the total marks\"))\n",
    "percentage  = total_obt/total*100\n",
    "grade  = \"\"\n",
    "if percentage >=90:\n",
    "    grade = \"A*\"\n",
    "elif percentage >=80:\n",
    "    grade = \"A\"\n",
    "elif percentage >=70:\n",
    "    grade = \"B\"\n",
    "elif percentage >=60:\n",
    "    grade = \"C\"\n",
    "elif percentage >=50:\n",
    "    grade = \"D\"\n",
    "else:\n",
    "    grade = \"Fails\"\n",
    "\n",
    "print(f\"\"\"\n",
    "                {institute}\n",
    "                =================================\n",
    "      Name of Student: {name}\n",
    "      Course attended: {course}\n",
    "      \n",
    "      Percentage: {percentage}\n",
    "      Grade Achieved: {grade}\n",
    "      \n",
    "      \"\"\")  \n",
    "      "
   ]
  },
  {
   "cell_type": "code",
   "execution_count": 1,
   "id": "73d595ad",
   "metadata": {},
   "outputs": [
    {
     "name": "stdout",
     "output_type": "stream",
     "text": [
      "what is the age of your friend?45\n",
      "Where does your frined live?Karachi\n",
      "What do he do?Accountant\n",
      "My friends is 45 years old. He lives in Karachi. He is a qulaified Accountant.\n"
     ]
    }
   ],
   "source": [
    "age = (input(\"what is the age of your friend?\"))\n",
    "location = input(\"Where does your frined live?\")\n",
    "profession = input(\"What do he do?\")\n",
    "\n",
    "\n",
    "text  = f\"My friends is {age} years old. He lives in {location}. He is a qulaified {profession}.\"\n",
    "print(text)"
   ]
  },
  {
   "cell_type": "code",
   "execution_count": 2,
   "id": "30370a4e",
   "metadata": {},
   "outputs": [
    {
     "ename": "TypeError",
     "evalue": "can only concatenate str (not \"int\") to str",
     "output_type": "error",
     "traceback": [
      "\u001b[1;31m---------------------------------------------------------------------------\u001b[0m",
      "\u001b[1;31mTypeError\u001b[0m                                 Traceback (most recent call last)",
      "\u001b[1;32m<ipython-input-2-a1f38c8c2df6>\u001b[0m in \u001b[0;36m<module>\u001b[1;34m\u001b[0m\n\u001b[1;32m----> 1\u001b[1;33m \u001b[0mage\u001b[0m \u001b[1;33m+\u001b[0m \u001b[1;36m5\u001b[0m\u001b[1;33m\u001b[0m\u001b[1;33m\u001b[0m\u001b[0m\n\u001b[0m",
      "\u001b[1;31mTypeError\u001b[0m: can only concatenate str (not \"int\") to str"
     ]
    }
   ],
   "source": [
    "age + 5 "
   ]
  },
  {
   "cell_type": "code",
   "execution_count": 3,
   "id": "14211de9",
   "metadata": {},
   "outputs": [
    {
     "name": "stdout",
     "output_type": "stream",
     "text": [
      "what is the age of your friend?45\n",
      "Where does your frined live?karachi\n",
      "What do he do?Lawer\n",
      "My friends is 45 years old. He lives in karachi. He is a qulaified Lawer.\n"
     ]
    }
   ],
   "source": [
    "age = int(input(\"what is the age of your friend?\"))\n",
    "location = input(\"Where does your frined live?\")\n",
    "profession = input(\"What do he do?\")\n",
    "\n",
    "\n",
    "text  = f\"My friends is {age} years old. He lives in {location}. He is a qulaified {profession}.\"\n",
    "print(text)"
   ]
  },
  {
   "cell_type": "code",
   "execution_count": 4,
   "id": "8002246a",
   "metadata": {},
   "outputs": [
    {
     "data": {
      "text/plain": [
       "55"
      ]
     },
     "execution_count": 4,
     "metadata": {},
     "output_type": "execute_result"
    }
   ],
   "source": [
    "age + 10 "
   ]
  },
  {
   "cell_type": "code",
   "execution_count": 6,
   "id": "e05d325d",
   "metadata": {},
   "outputs": [
    {
     "name": "stdout",
     "output_type": "stream",
     "text": [
      "what is the age of your friend?23\n",
      "Where does your frined live?Khi\n",
      "What do he do?Fariq\n",
      "            My friends is 23 years old. \n",
      "        \n",
      "        \n",
      "He lives in Khi. \n",
      "        \n",
      "        \n",
      "        \n",
      "                                        He is a qulaified Fariq\n"
     ]
    }
   ],
   "source": [
    "age = int(input(\"what is the age of your friend?\"))\n",
    "location = input(\"Where does your frined live?\")\n",
    "profession = input(\"What do he do?\")\n",
    "\n",
    "\n",
    "text  = f\"\"\"            My friends is {age} years old. \n",
    "        \n",
    "        \n",
    "He lives in {location}. \n",
    "        \n",
    "        \n",
    "        \n",
    "                                        He is a qulaified {profession}\"\"\"\n",
    "print(text)"
   ]
  },
  {
   "cell_type": "code",
   "execution_count": null,
   "id": "910da28e",
   "metadata": {},
   "outputs": [],
   "source": []
  }
 ],
 "metadata": {
  "kernelspec": {
   "display_name": "Python 3",
   "language": "python",
   "name": "python3"
  },
  "language_info": {
   "codemirror_mode": {
    "name": "ipython",
    "version": 3
   },
   "file_extension": ".py",
   "mimetype": "text/x-python",
   "name": "python",
   "nbconvert_exporter": "python",
   "pygments_lexer": "ipython3",
   "version": "3.7.4"
  }
 },
 "nbformat": 4,
 "nbformat_minor": 5
}
