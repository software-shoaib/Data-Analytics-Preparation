{
 "cells": [
  {
   "cell_type": "markdown",
   "id": "20613b4e",
   "metadata": {},
   "source": [
    "# Modules \n",
    "     - modules are packages\n",
    "     - mudules have functions classes \n",
    "     - module have functions of same domain\n",
    "     "
   ]
  },
  {
   "cell_type": "markdown",
   "id": "8a5fd246",
   "metadata": {},
   "source": [
    "#### Build-In Modules\n",
    "    - numpy \n",
    "    - pandas \n",
    "    - matplotlib\n",
    "    - scikit learn \n",
    "    - math\n",
    "    - random\n",
    "    - os"
   ]
  },
  {
   "cell_type": "code",
   "execution_count": 12,
   "id": "d4493c02",
   "metadata": {},
   "outputs": [],
   "source": [
    "import random"
   ]
  },
  {
   "cell_type": "code",
   "execution_count": 13,
   "id": "7f350a58",
   "metadata": {},
   "outputs": [
    {
     "data": {
      "text/plain": [
       "5"
      ]
     },
     "execution_count": 13,
     "metadata": {},
     "output_type": "execute_result"
    }
   ],
   "source": [
    "random.randint(1,10)  # 1 and 10 both include "
   ]
  },
  {
   "cell_type": "code",
   "execution_count": 14,
   "id": "c03b1661",
   "metadata": {},
   "outputs": [
    {
     "data": {
      "text/plain": [
       "8"
      ]
     },
     "execution_count": 14,
     "metadata": {},
     "output_type": "execute_result"
    }
   ],
   "source": [
    "random.randrange(1,10) # 10 exclude hy"
   ]
  },
  {
   "cell_type": "markdown",
   "id": "99a347c4",
   "metadata": {},
   "source": [
    "# Guessing Number Program"
   ]
  },
  {
   "cell_type": "code",
   "execution_count": 15,
   "id": "155715a3",
   "metadata": {},
   "outputs": [],
   "source": [
    "import number"
   ]
  },
  {
   "cell_type": "code",
   "execution_count": 16,
   "id": "16b16472",
   "metadata": {},
   "outputs": [
    {
     "data": {
      "text/plain": [
       "'3 is not even'"
      ]
     },
     "execution_count": 16,
     "metadata": {},
     "output_type": "execute_result"
    }
   ],
   "source": [
    "number.isEven(3)"
   ]
  },
  {
   "cell_type": "code",
   "execution_count": 17,
   "id": "c30f488f",
   "metadata": {},
   "outputs": [
    {
     "data": {
      "text/plain": [
       "'10 is even'"
      ]
     },
     "execution_count": 17,
     "metadata": {},
     "output_type": "execute_result"
    }
   ],
   "source": [
    "number.isEven(10)"
   ]
  },
  {
   "cell_type": "code",
   "execution_count": 18,
   "id": "23bd8c14",
   "metadata": {},
   "outputs": [
    {
     "data": {
      "text/plain": [
       "'345656677878 is not odd'"
      ]
     },
     "execution_count": 18,
     "metadata": {},
     "output_type": "execute_result"
    }
   ],
   "source": [
    "number.isOdd(345656677878)"
   ]
  },
  {
   "cell_type": "code",
   "execution_count": 19,
   "id": "57468445",
   "metadata": {},
   "outputs": [
    {
     "data": {
      "text/plain": [
       "'123456687989 is odd'"
      ]
     },
     "execution_count": 19,
     "metadata": {},
     "output_type": "execute_result"
    }
   ],
   "source": [
    "number.isOdd(123456687989)"
   ]
  },
  {
   "cell_type": "code",
   "execution_count": 20,
   "id": "50e40def",
   "metadata": {},
   "outputs": [
    {
     "name": "stdout",
     "output_type": "stream",
     "text": [
      "lucky number is 4 you loss\n"
     ]
    }
   ],
   "source": [
    "number.lottery(2)"
   ]
  },
  {
   "cell_type": "code",
   "execution_count": 22,
   "id": "e403da04",
   "metadata": {},
   "outputs": [
    {
     "name": "stdout",
     "output_type": "stream",
     "text": [
      "lucky number is 4 you loss\n",
      "lucky number is 9 you loss\n",
      "lucky number is 5 you loss\n",
      "lucky number is 4 you loss\n",
      "lucky number is 9 you loss\n",
      "lucky number is 4 you loss\n",
      "lucky number is 3 you loss\n",
      "lucky number is 0 you loss\n",
      "lucky number is 8 you loss\n",
      "lucky number is 3 you loss\n",
      "lucky number is 4 you loss\n",
      "lucky number is 7 you loss\n",
      "lucky number is 10 you loss\n",
      "lucky number is 10 you loss\n",
      "lucky number is 10 you loss\n",
      "lucky number is 3 you loss\n",
      "lucky number is 0 you loss\n",
      "lucky number is 0 you loss\n",
      "lucky number is 0 you loss\n",
      "lucky number is 2 You win!\n"
     ]
    }
   ],
   "source": [
    "for a in range(20):\n",
    "    g = random.randint(1,10)\n",
    "    number.lottery(g)"
   ]
  },
  {
   "cell_type": "raw",
   "id": "4d1def9f",
   "metadata": {},
   "source": [
    "5-8. Hello Admin: Make a list of five or more usernames, including the name\n",
    "'admin' Imagine you are writing code that will print a greeting to each user\n",
    "after they log in to a website Loop through the list, and print a greeting to\n",
    "each user:\n",
    "•\t If the username is 'admin', print a special greeting, such as Hello admin,\n",
    "would you like to see a status report?\n",
    "•\t Otherwise, print a generic greeting, such as Hello Eric, thank you for logging in again.\n",
    "5-9. No Users: Add an if test to hello_admin.py to make sure the list of users is\n",
    "not empty\n",
    "•\t If the list is empty, print the message We need to find some users!\n",
    "•\t Remove all of the usernames from your list, and make sure the correct\n",
    "message is printed\n",
    "5-10. Checking Usernames: Do the following to create a program that simulates\n",
    "how websites ensure that everyone has a unique username\n",
    "•\t Make a list of five or more usernames called current_users\n",
    "•\t Make another list of five usernames called new_users Make sure one or\n",
    "two of the new usernames are also in the current_users list\n",
    "•\t Loop through the new_users list to see if each new username has already\n",
    "been used If it has, print a message that the person will need to enter a\n",
    "new username If a username has not been used, print a message saying\n",
    "that the username is available\n",
    "•\t Make sure your comparison is case insensitive If 'John' has been used,\n",
    "'JOHN' should not be accepted\n",
    "5-11. Ordinal Numbers: Ordinal numbers indicate their position in a list, such\n",
    "as 1st or 2nd Most ordinal numbers end in th, except 1, 2, and 3\n",
    "•\t Store the numbers 1 through 9 in a list\n",
    "•\t Loop through the list\n",
    "•\t Use an if-elif-else chain inside the loop to print the proper ordinal ending for each number Your output should read \"1st 2nd 3rd 4th 5th 6th\n",
    "7th 8th 9th\", and each result should be on a separate line"
   ]
  },
  {
   "cell_type": "code",
   "execution_count": 28,
   "id": "a62d188c",
   "metadata": {},
   "outputs": [
    {
     "name": "stdout",
     "output_type": "stream",
     "text": [
      "Welcome nasir\n",
      "Hello admin,would you like to see a status report?\n",
      "Welcome asad01\n",
      "Hello admin,would you like to see a status report?\n",
      "Welcome hamza_ali\n",
      "Welcome faisal_bobby\n",
      "Welcome nasir01\n",
      "Hello admin,would you like to see a status report?\n"
     ]
    }
   ],
   "source": [
    "# 5-8. Hello Admin: Make a list of five or more usernames, including the name\n",
    "# 'admin' Imagine you are writing code that will print a greeting to each user\n",
    "# after they log in to a website Loop through the list, and print a greeting to\n",
    "# each user:\n",
    "# •\t If the username is 'admin', print a special greeting, such as Hello admin,\n",
    "# would you like to see a status report?\n",
    "# •\t Otherwise, print a generic greeting, such as Hello Eric, thank you for logging in again.\n",
    "\n",
    "usernames = ['nasir',\"admin\",'asad01', 'admin', 'hamza_ali', 'faisal_bobby', 'nasir01', 'admin']\n",
    "\n",
    "for username in usernames:\n",
    "    if username == \"admin\":\n",
    "        print(f\"Hello {username},would you like to see a status report?\")\n",
    "    else:\n",
    "        print(f\"Welcome { username}\")\n",
    "\n",
    "        \n",
    "\n",
    "# for username in usernames:\n",
    "#     if username != \"admin\":\n",
    "#         print(f\"Welcome { username}\")        \n",
    "#     else:\n",
    "#         print(f\"Hello {username},would you like to see a status report?\")\n",
    "        "
   ]
  },
  {
   "cell_type": "code",
   "execution_count": 48,
   "id": "c4515234",
   "metadata": {},
   "outputs": [
    {
     "name": "stdout",
     "output_type": "stream",
     "text": [
      "We need to find some users!\n"
     ]
    }
   ],
   "source": [
    "# 5-9. No Users: Add an if test to hello_admin.py to make sure the list of users is\n",
    "# not empty\n",
    "# •\t If the list is empty, print the message We need to find some users!\n",
    "# •\t Remove all of the usernames from your list, and make sure the correct\n",
    "# message is printed\n",
    "\n",
    "usernames = ['nasir',\"admin\",'asad01', 'admin', 'hamza_ali', 'faisal_bobby', 'nasir01', 'admin']\n",
    "usernames = usernames.clear()\n",
    "\n",
    "if usernames:\n",
    "    for username in usernames:\n",
    "        if username == \"admin\":\n",
    "            print(f\"Hello {username},would you like to see a status report?\")\n",
    "        else:\n",
    "            print(f\"Welcome {username}\")\n",
    "    \n",
    "else:\n",
    "    \n",
    "    print(\"We need to find some users!\")"
   ]
  },
  {
   "cell_type": "code",
   "execution_count": 29,
   "id": "b3f20c87",
   "metadata": {},
   "outputs": [],
   "source": [
    "val = 12"
   ]
  },
  {
   "cell_type": "code",
   "execution_count": 30,
   "id": "f86de16e",
   "metadata": {},
   "outputs": [
    {
     "data": {
      "text/plain": [
       "True"
      ]
     },
     "execution_count": 30,
     "metadata": {},
     "output_type": "execute_result"
    }
   ],
   "source": [
    "# boolean TRUE ya False\n",
    "\n",
    "bool(val)"
   ]
  },
  {
   "cell_type": "code",
   "execution_count": 31,
   "id": "ca902060",
   "metadata": {},
   "outputs": [
    {
     "data": {
      "text/plain": [
       "False"
      ]
     },
     "execution_count": 31,
     "metadata": {},
     "output_type": "execute_result"
    }
   ],
   "source": [
    "val = ''\n",
    "bool(val)"
   ]
  },
  {
   "cell_type": "code",
   "execution_count": 44,
   "id": "155f77de",
   "metadata": {},
   "outputs": [
    {
     "data": {
      "text/plain": [
       "False"
      ]
     },
     "execution_count": 44,
     "metadata": {},
     "output_type": "execute_result"
    }
   ],
   "source": [
    "alist = []\n",
    "bool(alist)"
   ]
  },
  {
   "cell_type": "code",
   "execution_count": 41,
   "id": "500f91ab",
   "metadata": {},
   "outputs": [
    {
     "data": {
      "text/plain": [
       "0"
      ]
     },
     "execution_count": 41,
     "metadata": {},
     "output_type": "execute_result"
    }
   ],
   "source": [
    "len(alist)"
   ]
  },
  {
   "cell_type": "raw",
   "id": "f2533924",
   "metadata": {},
   "source": [
    "5-10. Checking Usernames: Do the following to create a program that simulates\n",
    "how websites ensure that everyone has a unique username\n",
    "•\t Make a list of five or more usernames called current_users\n",
    "•\t Make another list of five usernames called new_users Make sure one or\n",
    "two of the new usernames are also in the current_users list\n",
    "•\t Loop through the new_users list to see if each new username has already\n",
    "been used If it has, print a message that the person will need to enter a\n",
    "new username If a username has not been used, print a message saying\n",
    "that the username is available\n",
    "•\t Make sure your comparison is case insensitive If 'John' has been used,\n",
    "'JOHN' should not be accepted"
   ]
  },
  {
   "cell_type": "code",
   "execution_count": 53,
   "id": "9d20c883",
   "metadata": {},
   "outputs": [
    {
     "name": "stdout",
     "output_type": "stream",
     "text": [
      "Username fahadali created successfully!\n",
      "Username asad06 created successfully!\n",
      "Username nasir is not available!\n",
      "Username kashif007 created successfully!\n",
      "Username admin is not available!\n"
     ]
    }
   ],
   "source": [
    "current_users = ['nasir',\"admin\",'asad01', 'admin', 'hamza_ali', 'faisal_bobby', 'nasir01', 'admin']\n",
    "new_users  = ['fahadali','asad06','nasir', 'kashif007', 'admin']\n",
    "\n",
    "for newuser in new_users:\n",
    "    if newuser not in current_users:\n",
    "        print(f\"Username {newuser} created successfully!\")\n",
    "    else:\n",
    "        \n",
    "        print(f\"Username {newuser} is not available!\")\n",
    "    "
   ]
  },
  {
   "cell_type": "code",
   "execution_count": 50,
   "id": "ca885ce4",
   "metadata": {},
   "outputs": [
    {
     "data": {
      "text/plain": [
       "False"
      ]
     },
     "execution_count": 50,
     "metadata": {},
     "output_type": "execute_result"
    }
   ],
   "source": [
    "7  in [1,2,3,4,5,6]"
   ]
  },
  {
   "cell_type": "code",
   "execution_count": 52,
   "id": "7156f639",
   "metadata": {},
   "outputs": [
    {
     "data": {
      "text/plain": [
       "False"
      ]
     },
     "execution_count": 52,
     "metadata": {},
     "output_type": "execute_result"
    }
   ],
   "source": [
    "2  not in [1,2,3,4,5,6]"
   ]
  },
  {
   "cell_type": "code",
   "execution_count": 56,
   "id": "4d5a4fc8",
   "metadata": {},
   "outputs": [],
   "source": [
    "current_users = ['nasir','asad01', 'hamza_ali', 'faisal_bobby', 'nasir01', 'admin']\n",
    "def create_newuser(newuser):\n",
    "    \n",
    "    if newuser not in current_users:\n",
    "        print(f\"Username {newuser} created successfully!\")\n",
    "    else:\n",
    "        print(f\"Username {newuser} is not available!\")"
   ]
  },
  {
   "cell_type": "code",
   "execution_count": 57,
   "id": "0fe49703",
   "metadata": {},
   "outputs": [
    {
     "name": "stdout",
     "output_type": "stream",
     "text": [
      "Username hassan created successfully!\n"
     ]
    }
   ],
   "source": [
    "create_newuser(\"hassan\")"
   ]
  },
  {
   "cell_type": "code",
   "execution_count": 58,
   "id": "740110d6",
   "metadata": {},
   "outputs": [
    {
     "name": "stdout",
     "output_type": "stream",
     "text": [
      "Username Admin created successfully!\n"
     ]
    }
   ],
   "source": [
    "create_newuser(\"Admin\")"
   ]
  },
  {
   "cell_type": "code",
   "execution_count": 61,
   "id": "3eaa033a",
   "metadata": {},
   "outputs": [],
   "source": [
    "current_users = ['nasir','asad01', 'hamza_ali', 'faisal_bobby', 'nasir01', 'admin']\n",
    "\n",
    "def create_newuser(newuser):\n",
    "    \n",
    "    if newuser.islower():\n",
    "        if newuser not in current_users:\n",
    "            print(f\"Username {newuser} created successfully!\")\n",
    "        else:\n",
    "            print(f\"Username {newuser} is not available!\")\n",
    "        \n",
    "    else:\n",
    "        print(f\"Username {newuser} is not valid!\")\n",
    "    "
   ]
  },
  {
   "cell_type": "code",
   "execution_count": 60,
   "id": "4d70e5d3",
   "metadata": {},
   "outputs": [
    {
     "data": {
      "text/plain": [
       "True"
      ]
     },
     "execution_count": 60,
     "metadata": {},
     "output_type": "execute_result"
    }
   ],
   "source": [
    "\"hello\".islower()"
   ]
  },
  {
   "cell_type": "code",
   "execution_count": 62,
   "id": "6b0a36e0",
   "metadata": {},
   "outputs": [
    {
     "name": "stdout",
     "output_type": "stream",
     "text": [
      "Username Fahad is not valid!\n"
     ]
    }
   ],
   "source": [
    "create_newuser(\"Fahad\")"
   ]
  },
  {
   "cell_type": "code",
   "execution_count": 63,
   "id": "ab1716f1",
   "metadata": {},
   "outputs": [
    {
     "name": "stdout",
     "output_type": "stream",
     "text": [
      "Username hamza_ali is not available!\n"
     ]
    }
   ],
   "source": [
    "create_newuser('hamza_ali')"
   ]
  },
  {
   "cell_type": "raw",
   "id": "451a273d",
   "metadata": {},
   "source": [
    "5-11. Ordinal Numbers: \n",
    "Ordinal numbers indicate their position in a list, such\n",
    "as 1st or 2nd Most ordinal numbers end in th, except 1, 2, and 3\n",
    "•\t Store the numbers 1 through 9 in a list\n",
    "•\t Loop through the list\n",
    "•\t Use an if-elif-else chain inside the loop to print the proper ordinal ending for each number Your output should read \"1st 2nd 3rd 4th 5th 6th\n",
    "7th 8th 9th\", and each result should be on a separate line"
   ]
  },
  {
   "cell_type": "code",
   "execution_count": 65,
   "id": "8cd1914b",
   "metadata": {},
   "outputs": [
    {
     "name": "stdout",
     "output_type": "stream",
     "text": [
      "1st\n",
      "2nd\n",
      "3rd\n",
      "4th\n",
      "5th\n",
      "6th\n",
      "7th\n",
      "8th\n",
      "9th\n"
     ]
    }
   ],
   "source": [
    "nums  = [1,2,3,4,5,6,7,8,9]\n",
    "\n",
    "for n in nums:\n",
    "    if n == 1:\n",
    "        print(f\"{n}st\")\n",
    "    elif n==2:\n",
    "        print(f\"{n}nd\")\n",
    "    elif n==3:\n",
    "        print(f\"{n}rd\")\n",
    "    else:\n",
    "        print(f\"{n}th\")\n",
    "        \n",
    "    "
   ]
  },
  {
   "cell_type": "raw",
   "id": "6ff70138",
   "metadata": {},
   "source": [
    "6-8. Pets: Make several dictionaries, where the name of each dictionary is the\n",
    "name of a pet In each dictionary, include the kind of animal and the owner’s\n",
    "name Store these dictionaries in a list called pets Next, loop through your list\n",
    "and as you do print everything you know about each pet\n",
    "6-9. Favorite Places: Make a dictionary called favorite_places Think of three\n",
    "names to use as keys in the dictionary, and store one to three favorite places\n",
    "for each person To make this exercise a bit more interesting, ask some friends\n",
    "to name a few of their favorite places Loop through the dictionary, and print\n",
    "each person’s name and their favorite places\n",
    "6-10. Favorite Numbers: Modify your program from Exercise 6-2 (page 102) so\n",
    "each person can have more than one favorite number Then print each person’s\n",
    "name along with their favorite numbers\n",
    "6-11. Cities: Make a dictionary called cities Use the names of three cities as\n",
    "keys in your dictionary Create a dictionary of information about each city and\n",
    "include the country that the city is in, its approximate population, and one fact\n",
    "about that city The keys for each city’s dictionary should be something like\n",
    "country, population, and fact Print the name of each city and all of the information you have stored about it\n",
    "6-12. Extensions: We’re now working with examples that are complex enough\n",
    "that they can be extended in any number of ways Use one of the example programs \n",
    "from this chapter, and extend it by adding new keys and values, changing the context \n",
    "of the program or improving the formatting of the output"
   ]
  },
  {
   "cell_type": "code",
   "execution_count": 69,
   "id": "6c3c97e8",
   "metadata": {},
   "outputs": [
    {
     "name": "stdout",
     "output_type": "stream",
     "text": [
      " There is Dog whose owner is John\n",
      " There is Goat whose owner is Harry\n",
      " There is Parrot whose owner is Samson\n",
      " There is Dog whose owner is Asad\n"
     ]
    }
   ],
   "source": [
    "# 6-8. Pets: Make several dictionaries, where the name of each dictionary is the\n",
    "# name of a pet.\n",
    "#In each dictionary, include the kind of animal and the owner’s\n",
    "# name \n",
    "#Store these dictionaries in a list called pets Next, \\\n",
    "#loop through your list\n",
    "# and as you do print everything you know about each pet\n",
    "tonny = {'kind':\"Dog\", 'owner_name':\"John\"}\n",
    "monny = {'kind':\"Goat\",'owner_name':\"Harry\"}\n",
    "raju = {'kind':\"Parrot\",'owner_name':'Samson'}\n",
    "sheru = {'kind':\"Dog\",'owner_name':\"Asad\"}\n",
    "\n",
    "pets = [tonny,monny,raju,sheru]\n",
    "\n",
    "for pet in pets:\n",
    "    print(f\" There is {pet['kind']} whose owner is {pet['owner_name']}\")"
   ]
  },
  {
   "cell_type": "markdown",
   "id": "c7392eee",
   "metadata": {},
   "source": [
    "# Passing an arbitrary number of arguments"
   ]
  },
  {
   "cell_type": "code",
   "execution_count": 70,
   "id": "5ca57fb1",
   "metadata": {},
   "outputs": [],
   "source": [
    "# we have two parameters \n",
    "def addnums(a,b):\n",
    "    return a+b"
   ]
  },
  {
   "cell_type": "code",
   "execution_count": 72,
   "id": "bcdce895",
   "metadata": {},
   "outputs": [
    {
     "data": {
      "text/plain": [
       "68"
      ]
     },
     "execution_count": 72,
     "metadata": {},
     "output_type": "execute_result"
    }
   ],
   "source": [
    "# we are sending two arguments \n",
    "addnums(23,45)"
   ]
  },
  {
   "cell_type": "code",
   "execution_count": 73,
   "id": "7e0ff6fc",
   "metadata": {},
   "outputs": [
    {
     "ename": "TypeError",
     "evalue": "addnums() missing 1 required positional argument: 'b'",
     "output_type": "error",
     "traceback": [
      "\u001b[1;31m---------------------------------------------------------------------------\u001b[0m",
      "\u001b[1;31mTypeError\u001b[0m                                 Traceback (most recent call last)",
      "\u001b[1;32m<ipython-input-73-82107c2f20a3>\u001b[0m in \u001b[0;36m<module>\u001b[1;34m\u001b[0m\n\u001b[0;32m      1\u001b[0m \u001b[1;31m# what if user sends less than two arguments\u001b[0m\u001b[1;33m\u001b[0m\u001b[1;33m\u001b[0m\u001b[1;33m\u001b[0m\u001b[0m\n\u001b[1;32m----> 2\u001b[1;33m \u001b[0maddnums\u001b[0m\u001b[1;33m(\u001b[0m\u001b[1;36m45\u001b[0m\u001b[1;33m)\u001b[0m\u001b[1;33m\u001b[0m\u001b[1;33m\u001b[0m\u001b[0m\n\u001b[0m",
      "\u001b[1;31mTypeError\u001b[0m: addnums() missing 1 required positional argument: 'b'"
     ]
    }
   ],
   "source": [
    "# what if user sends less than two arguments \n",
    "addnums(45)\n",
    "# it will throw error "
   ]
  },
  {
   "cell_type": "code",
   "execution_count": 77,
   "id": "10255159",
   "metadata": {},
   "outputs": [],
   "source": [
    "# solution if default values \n",
    "def addnums(a=10,b=30):\n",
    "    return a+b"
   ]
  },
  {
   "cell_type": "code",
   "execution_count": 78,
   "id": "23e8e264",
   "metadata": {},
   "outputs": [
    {
     "data": {
      "text/plain": [
       "5"
      ]
     },
     "execution_count": 78,
     "metadata": {},
     "output_type": "execute_result"
    }
   ],
   "source": [
    "addnums(2,3)"
   ]
  },
  {
   "cell_type": "code",
   "execution_count": 80,
   "id": "7529e69d",
   "metadata": {},
   "outputs": [
    {
     "data": {
      "text/plain": [
       "32"
      ]
     },
     "execution_count": 80,
     "metadata": {},
     "output_type": "execute_result"
    }
   ],
   "source": [
    "addnums(2)"
   ]
  },
  {
   "cell_type": "code",
   "execution_count": 81,
   "id": "0d051c3b",
   "metadata": {},
   "outputs": [
    {
     "data": {
      "text/plain": [
       "40"
      ]
     },
     "execution_count": 81,
     "metadata": {},
     "output_type": "execute_result"
    }
   ],
   "source": [
    "addnums()"
   ]
  },
  {
   "cell_type": "code",
   "execution_count": 83,
   "id": "535474de",
   "metadata": {},
   "outputs": [
    {
     "ename": "TypeError",
     "evalue": "addnums() takes from 0 to 2 positional arguments but 3 were given",
     "output_type": "error",
     "traceback": [
      "\u001b[1;31m---------------------------------------------------------------------------\u001b[0m",
      "\u001b[1;31mTypeError\u001b[0m                                 Traceback (most recent call last)",
      "\u001b[1;32m<ipython-input-83-23e2ccf77750>\u001b[0m in \u001b[0;36m<module>\u001b[1;34m\u001b[0m\n\u001b[1;32m----> 1\u001b[1;33m \u001b[0maddnums\u001b[0m\u001b[1;33m(\u001b[0m\u001b[1;36m1\u001b[0m\u001b[1;33m,\u001b[0m\u001b[1;36m2\u001b[0m\u001b[1;33m,\u001b[0m\u001b[1;36m1000\u001b[0m\u001b[1;33m)\u001b[0m \u001b[1;31m#if user sends more than two values\u001b[0m\u001b[1;33m\u001b[0m\u001b[1;33m\u001b[0m\u001b[0m\n\u001b[0m",
      "\u001b[1;31mTypeError\u001b[0m: addnums() takes from 0 to 2 positional arguments but 3 were given"
     ]
    }
   ],
   "source": [
    "addnums(1,2,1000) #if user sends more than two values \n",
    "# it will throw error "
   ]
  },
  {
   "cell_type": "markdown",
   "id": "add59b4a",
   "metadata": {},
   "source": [
    "# Solutions is arbitrary number of arguments "
   ]
  },
  {
   "cell_type": "code",
   "execution_count": 89,
   "id": "337ba535",
   "metadata": {},
   "outputs": [],
   "source": [
    "# nums* will recieve values in form of colection (tuple)\n",
    "def addnums(*nums):\n",
    "    \n",
    "    print(sum(nums))    "
   ]
  },
  {
   "cell_type": "code",
   "execution_count": 90,
   "id": "ef264e5f",
   "metadata": {},
   "outputs": [
    {
     "name": "stdout",
     "output_type": "stream",
     "text": [
      "10\n"
     ]
    }
   ],
   "source": [
    "addnums(1,2,3,4)"
   ]
  },
  {
   "cell_type": "code",
   "execution_count": 98,
   "id": "b12f4d1e",
   "metadata": {},
   "outputs": [],
   "source": [
    "# make a function that takes undefined values as arguments\n",
    "# sqaure each value and print the sum of all the sqaured values\n",
    "\n",
    "def square_sum(*nums):\n",
    "    num_list = []\n",
    "    for n in nums:\n",
    "        if n%2 == 0 :\n",
    "            num_list.append(n**2)\n",
    "    return sum(num_list)"
   ]
  },
  {
   "cell_type": "code",
   "execution_count": 99,
   "id": "c1dad08f",
   "metadata": {},
   "outputs": [
    {
     "data": {
      "text/plain": [
       "20"
      ]
     },
     "execution_count": 99,
     "metadata": {},
     "output_type": "execute_result"
    }
   ],
   "source": [
    "square_sum(1,2,3,4,5)"
   ]
  },
  {
   "cell_type": "code",
   "execution_count": null,
   "id": "e5d9447c",
   "metadata": {},
   "outputs": [],
   "source": []
  }
 ],
 "metadata": {
  "kernelspec": {
   "display_name": "Python 3",
   "language": "python",
   "name": "python3"
  },
  "language_info": {
   "codemirror_mode": {
    "name": "ipython",
    "version": 3
   },
   "file_extension": ".py",
   "mimetype": "text/x-python",
   "name": "python",
   "nbconvert_exporter": "python",
   "pygments_lexer": "ipython3",
   "version": "3.7.4"
  }
 },
 "nbformat": 4,
 "nbformat_minor": 5
}
