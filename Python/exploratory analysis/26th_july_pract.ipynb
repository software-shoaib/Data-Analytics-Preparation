{
 "cells": [
  {
   "cell_type": "code",
   "execution_count": 1,
   "id": "6445aa93",
   "metadata": {},
   "outputs": [],
   "source": [
    "import pandas as pd\n"
   ]
  },
  {
   "cell_type": "code",
   "execution_count": 2,
   "id": "688a8be4",
   "metadata": {},
   "outputs": [
    {
     "data": {
      "text/plain": [
       "Ali         4500\n",
       "Hassan     15000\n",
       "Nasir      15600\n",
       "Shoaib     44000\n",
       "Kashif     56000\n",
       "Ahmed      10000\n",
       "Sohail      3000\n",
       "Shakeel     4000\n",
       "Asad       34000\n",
       "Hamza       1000\n",
       "dtype: int64"
      ]
     },
     "execution_count": 2,
     "metadata": {},
     "output_type": "execute_result"
    }
   ],
   "source": [
    "sales =pd.Series([4500,15000,15600,44000,56000,10000,3000,4000,34000,1000], index=['Ali', 'Hassan', 'Nasir', 'Shoaib', 'Kashif',\"Ahmed\", 'Sohail', 'Shakeel', 'Asad','Hamza'])\n",
    "\n",
    "sales"
   ]
  },
  {
   "cell_type": "code",
   "execution_count": 3,
   "id": "ed83dc90",
   "metadata": {},
   "outputs": [
    {
     "data": {
      "text/plain": [
       "Ali         4950.0\n",
       "Hassan     16500.0\n",
       "Nasir      17160.0\n",
       "Shoaib     48400.0\n",
       "Kashif     61600.0\n",
       "Ahmed      11000.0\n",
       "Sohail      3300.0\n",
       "Shakeel     4400.0\n",
       "Asad       37400.0\n",
       "Hamza       1100.0\n",
       "dtype: float64"
      ]
     },
     "execution_count": 3,
     "metadata": {},
     "output_type": "execute_result"
    }
   ],
   "source": [
    "sales.apply(lambda s: s+s*.10)"
   ]
  },
  {
   "cell_type": "code",
   "execution_count": 4,
   "id": "98c10cef",
   "metadata": {},
   "outputs": [
    {
     "data": {
      "text/plain": [
       "Ali         4590.0\n",
       "Hassan     15300.0\n",
       "Nasir      15912.0\n",
       "Shoaib     47080.0\n",
       "Kashif     61600.0\n",
       "Ahmed      10200.0\n",
       "Sohail      3060.0\n",
       "Shakeel     4080.0\n",
       "Asad       35700.0\n",
       "Hamza       1020.0\n",
       "dtype: float64"
      ]
     },
     "execution_count": 4,
     "metadata": {},
     "output_type": "execute_result"
    }
   ],
   "source": [
    "sales.apply(lambda s: s+s*.10 if s>50000 else s+s*.07 if s>40000 else s+s*.05 if s>20000 else s+s*.02)"
   ]
  },
  {
   "cell_type": "code",
   "execution_count": 8,
   "id": "7c302ad7",
   "metadata": {},
   "outputs": [],
   "source": [
    "def Discount(amount):\n",
    "    if amount>500000:\n",
    "        return amount+amount*.10\n",
    "    elif amount>40000:\n",
    "        return amount+amount*.07\n",
    "    elif amount>20000:\n",
    "        return amount+amount*.05\n",
    "    else:\n",
    "        return amount+amount*.02\n"
   ]
  },
  {
   "cell_type": "code",
   "execution_count": 9,
   "id": "db061e86",
   "metadata": {},
   "outputs": [
    {
     "data": {
      "text/plain": [
       "Ali         4590.0\n",
       "Hassan     15300.0\n",
       "Nasir      15912.0\n",
       "Shoaib     47080.0\n",
       "Kashif     59920.0\n",
       "Ahmed      10200.0\n",
       "Sohail      3060.0\n",
       "Shakeel     4080.0\n",
       "Asad       35700.0\n",
       "Hamza       1020.0\n",
       "dtype: float64"
      ]
     },
     "execution_count": 9,
     "metadata": {},
     "output_type": "execute_result"
    }
   ],
   "source": [
    "sales.apply(Discount)"
   ]
  },
  {
   "cell_type": "code",
   "execution_count": null,
   "id": "b64eb562",
   "metadata": {},
   "outputs": [],
   "source": [
    "sales"
   ]
  }
 ],
 "metadata": {
  "kernelspec": {
   "display_name": "Python 3 (ipykernel)",
   "language": "python",
   "name": "python3"
  },
  "language_info": {
   "codemirror_mode": {
    "name": "ipython",
    "version": 3
   },
   "file_extension": ".py",
   "mimetype": "text/x-python",
   "name": "python",
   "nbconvert_exporter": "python",
   "pygments_lexer": "ipython3",
   "version": "3.10.6"
  }
 },
 "nbformat": 4,
 "nbformat_minor": 5
}
