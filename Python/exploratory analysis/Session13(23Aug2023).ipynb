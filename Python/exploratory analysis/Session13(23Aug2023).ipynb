{
 "cells": [
  {
   "cell_type": "markdown",
   "id": "ea2da261",
   "metadata": {},
   "source": [
    "# Group By"
   ]
  },
  {
   "cell_type": "code",
   "execution_count": 1,
   "id": "b3c65fd3",
   "metadata": {},
   "outputs": [],
   "source": [
    "import pandas as pd"
   ]
  },
  {
   "cell_type": "code",
   "execution_count": 2,
   "id": "ce908740",
   "metadata": {},
   "outputs": [],
   "source": [
    "import matplotlib.pyplot as plt"
   ]
  },
  {
   "cell_type": "code",
   "execution_count": 6,
   "id": "c59a52db",
   "metadata": {},
   "outputs": [
    {
     "name": "stdout",
     "output_type": "stream",
     "text": [
      "<class 'pandas.core.frame.DataFrame'>\n",
      "RangeIndex: 45 entries, 0 to 44\n",
      "Data columns (total 8 columns):\n",
      "OrderDate     43 non-null datetime64[ns]\n",
      "Region        43 non-null object\n",
      "Manager       43 non-null object\n",
      "SalesMan      43 non-null object\n",
      "Item          43 non-null object\n",
      "Units         45 non-null float64\n",
      "Unit_price    45 non-null float64\n",
      "Sale_amt      45 non-null float64\n",
      "dtypes: datetime64[ns](1), float64(3), object(4)\n",
      "memory usage: 2.9+ KB\n"
     ]
    }
   ],
   "source": [
    "data.info()\n",
    "# data.OrderDate.dt.month_name()"
   ]
  },
  {
   "cell_type": "code",
   "execution_count": 9,
   "id": "ff52fc8d",
   "metadata": {},
   "outputs": [],
   "source": [
    "data = pd.read_excel('SaleData.xlsx')\n",
    "data.head(10)\n",
    "data.set_index('OrderDate', inplace=True)"
   ]
  },
  {
   "cell_type": "code",
   "execution_count": 10,
   "id": "1132cde5",
   "metadata": {},
   "outputs": [
    {
     "name": "stdout",
     "output_type": "stream",
     "text": [
      "<class 'pandas.core.frame.DataFrame'>\n",
      "DatetimeIndex: 45 entries, 2018-01-06 to NaT\n",
      "Data columns (total 7 columns):\n",
      "Region        43 non-null object\n",
      "Manager       43 non-null object\n",
      "SalesMan      43 non-null object\n",
      "Item          43 non-null object\n",
      "Units         45 non-null float64\n",
      "Unit_price    45 non-null float64\n",
      "Sale_amt      45 non-null float64\n",
      "dtypes: float64(3), object(4)\n",
      "memory usage: 2.8+ KB\n"
     ]
    }
   ],
   "source": [
    "data.info()"
   ]
  },
  {
   "cell_type": "code",
   "execution_count": 11,
   "id": "cac2df89",
   "metadata": {},
   "outputs": [
    {
     "data": {
      "text/html": [
       "<div>\n",
       "<style scoped>\n",
       "    .dataframe tbody tr th:only-of-type {\n",
       "        vertical-align: middle;\n",
       "    }\n",
       "\n",
       "    .dataframe tbody tr th {\n",
       "        vertical-align: top;\n",
       "    }\n",
       "\n",
       "    .dataframe thead th {\n",
       "        text-align: right;\n",
       "    }\n",
       "</style>\n",
       "<table border=\"1\" class=\"dataframe\">\n",
       "  <thead>\n",
       "    <tr style=\"text-align: right;\">\n",
       "      <th></th>\n",
       "      <th>Region</th>\n",
       "      <th>Manager</th>\n",
       "      <th>SalesMan</th>\n",
       "      <th>Item</th>\n",
       "      <th>Units</th>\n",
       "      <th>Unit_price</th>\n",
       "      <th>Sale_amt</th>\n",
       "    </tr>\n",
       "    <tr>\n",
       "      <th>OrderDate</th>\n",
       "      <th></th>\n",
       "      <th></th>\n",
       "      <th></th>\n",
       "      <th></th>\n",
       "      <th></th>\n",
       "      <th></th>\n",
       "      <th></th>\n",
       "    </tr>\n",
       "  </thead>\n",
       "  <tbody>\n",
       "    <tr>\n",
       "      <td>2018-01-06</td>\n",
       "      <td>East</td>\n",
       "      <td>Martha</td>\n",
       "      <td>Alexander</td>\n",
       "      <td>Television</td>\n",
       "      <td>95.0</td>\n",
       "      <td>1198.0</td>\n",
       "      <td>113810.0</td>\n",
       "    </tr>\n",
       "    <tr>\n",
       "      <td>2018-01-23</td>\n",
       "      <td>Central</td>\n",
       "      <td>Hermann</td>\n",
       "      <td>Shelli</td>\n",
       "      <td>Home Theater</td>\n",
       "      <td>50.0</td>\n",
       "      <td>500.0</td>\n",
       "      <td>25000.0</td>\n",
       "    </tr>\n",
       "    <tr>\n",
       "      <td>2018-02-09</td>\n",
       "      <td>Central</td>\n",
       "      <td>Hermann</td>\n",
       "      <td>Luis</td>\n",
       "      <td>Television</td>\n",
       "      <td>36.0</td>\n",
       "      <td>1198.0</td>\n",
       "      <td>43128.0</td>\n",
       "    </tr>\n",
       "  </tbody>\n",
       "</table>\n",
       "</div>"
      ],
      "text/plain": [
       "             Region  Manager   SalesMan          Item  Units  Unit_price  \\\n",
       "OrderDate                                                                  \n",
       "2018-01-06     East   Martha  Alexander    Television   95.0      1198.0   \n",
       "2018-01-23  Central  Hermann     Shelli  Home Theater   50.0       500.0   \n",
       "2018-02-09  Central  Hermann       Luis    Television   36.0      1198.0   \n",
       "\n",
       "            Sale_amt  \n",
       "OrderDate             \n",
       "2018-01-06  113810.0  \n",
       "2018-01-23   25000.0  \n",
       "2018-02-09   43128.0  "
      ]
     },
     "execution_count": 11,
     "metadata": {},
     "output_type": "execute_result"
    }
   ],
   "source": [
    "data.head(3)"
   ]
  },
  {
   "cell_type": "code",
   "execution_count": 12,
   "id": "c5699b19",
   "metadata": {},
   "outputs": [
    {
     "data": {
      "text/plain": [
       "array(['East', 'Central', 'West', nan], dtype=object)"
      ]
     },
     "execution_count": 12,
     "metadata": {},
     "output_type": "execute_result"
    }
   ],
   "source": [
    "data.Region.unique()"
   ]
  },
  {
   "cell_type": "code",
   "execution_count": 13,
   "id": "c6e89fe2",
   "metadata": {},
   "outputs": [],
   "source": [
    "data.dropna(inplace=True)"
   ]
  },
  {
   "cell_type": "code",
   "execution_count": 14,
   "id": "2f680d33",
   "metadata": {},
   "outputs": [
    {
     "data": {
      "text/plain": [
       "array(['East', 'Central', 'West'], dtype=object)"
      ]
     },
     "execution_count": 14,
     "metadata": {},
     "output_type": "execute_result"
    }
   ],
   "source": [
    "data.Region.unique()"
   ]
  },
  {
   "cell_type": "code",
   "execution_count": 15,
   "id": "5bd9382c",
   "metadata": {},
   "outputs": [
    {
     "data": {
      "text/plain": [
       "array(['Martha', 'Hermann', 'Timothy', 'Douglas'], dtype=object)"
      ]
     },
     "execution_count": 15,
     "metadata": {},
     "output_type": "execute_result"
    }
   ],
   "source": [
    "data.Manager.unique()"
   ]
  },
  {
   "cell_type": "code",
   "execution_count": 16,
   "id": "553db450",
   "metadata": {},
   "outputs": [
    {
     "data": {
      "text/plain": [
       "array(['Alexander', 'Shelli', 'Luis', 'David', 'Stephen', 'Steven',\n",
       "       'Michael', 'Sigal', 'Diana', 'Karen', 'John'], dtype=object)"
      ]
     },
     "execution_count": 16,
     "metadata": {},
     "output_type": "execute_result"
    }
   ],
   "source": [
    "data.SalesMan.unique()"
   ]
  },
  {
   "cell_type": "code",
   "execution_count": 17,
   "id": "8490846f",
   "metadata": {},
   "outputs": [
    {
     "data": {
      "text/plain": [
       "array(['Television', 'Home Theater', 'Cell Phone', 'Desk', 'Video Games'],\n",
       "      dtype=object)"
      ]
     },
     "execution_count": 17,
     "metadata": {},
     "output_type": "execute_result"
    }
   ],
   "source": [
    "data.Item.unique()"
   ]
  },
  {
   "cell_type": "code",
   "execution_count": 19,
   "id": "175e536e",
   "metadata": {},
   "outputs": [],
   "source": [
    "region_gp = data.groupby('Region')"
   ]
  },
  {
   "cell_type": "code",
   "execution_count": 13,
   "id": "34344535",
   "metadata": {},
   "outputs": [
    {
     "data": {
      "text/plain": [
       "{'Central': Int64Index([ 1,  2,  3,  6,  7, 10, 14, 16, 19, 20, 22, 23, 26, 27, 29, 30, 31,\n",
       "             33, 34, 36, 39, 40, 41, 42],\n",
       "            dtype='int64'),\n",
       " 'East': Int64Index([0, 5, 9, 11, 12, 13, 15, 17, 18, 21, 24, 28, 32], dtype='int64'),\n",
       " 'West': Int64Index([4, 8, 25, 35, 37, 38], dtype='int64')}"
      ]
     },
     "execution_count": 13,
     "metadata": {},
     "output_type": "execute_result"
    }
   ],
   "source": [
    "region_gp.groups"
   ]
  },
  {
   "cell_type": "code",
   "execution_count": 22,
   "id": "b6ad3b61",
   "metadata": {},
   "outputs": [
    {
     "data": {
      "text/plain": [
       "829769.5"
      ]
     },
     "execution_count": 22,
     "metadata": {},
     "output_type": "execute_result"
    }
   ],
   "source": [
    "region_central = region_gp.get_group('Central')\n",
    "region_central['Sale_amt'].sum()"
   ]
  },
  {
   "cell_type": "code",
   "execution_count": 15,
   "id": "ac62fb0f",
   "metadata": {},
   "outputs": [],
   "source": [
    "# data[data.Region =='Central']"
   ]
  },
  {
   "cell_type": "code",
   "execution_count": 24,
   "id": "d71fedae",
   "metadata": {},
   "outputs": [
    {
     "data": {
      "text/plain": [
       "Region\n",
       "Central    829769.5\n",
       "East       321007.0\n",
       "West       154899.0\n",
       "Name: Sale_amt, dtype: float64"
      ]
     },
     "execution_count": 24,
     "metadata": {},
     "output_type": "execute_result"
    }
   ],
   "source": [
    "sums = data.groupby('Region')['Sale_amt'].sum()\n",
    "sums"
   ]
  },
  {
   "cell_type": "code",
   "execution_count": 17,
   "id": "2e758849",
   "metadata": {},
   "outputs": [
    {
     "data": {
      "text/plain": [
       "<BarContainer object of 3 artists>"
      ]
     },
     "execution_count": 17,
     "metadata": {},
     "output_type": "execute_result"
    },
    {
     "data": {
      "image/png": "[encoded data removed]",
      "text/plain": [
       "<Figure size 432x288 with 1 Axes>"
      ]
     },
     "metadata": {
      "needs_background": "light"
     },
     "output_type": "display_data"
    }
   ],
   "source": [
    "plt.bar(sums.index,sums.values )"
   ]
  },
  {
   "cell_type": "code",
   "execution_count": 25,
   "id": "3111e160",
   "metadata": {},
   "outputs": [
    {
     "data": {
      "text/plain": [
       "Region\n",
       "Central    34573.729167\n",
       "East       24692.846154\n",
       "West       25816.500000\n",
       "Name: Sale_amt, dtype: float64"
      ]
     },
     "execution_count": 25,
     "metadata": {},
     "output_type": "execute_result"
    }
   ],
   "source": [
    "avg_sales = data.groupby('Region')['Sale_amt'].mean()\n",
    "avg_sales"
   ]
  },
  {
   "cell_type": "code",
   "execution_count": 19,
   "id": "b5033858",
   "metadata": {},
   "outputs": [
    {
     "data": {
      "text/plain": [
       "<BarContainer object of 3 artists>"
      ]
     },
     "execution_count": 19,
     "metadata": {},
     "output_type": "execute_result"
    },
    {
     "data": {
      "image/png": "[encoded data removed]",
      "text/plain": [
       "<Figure size 432x288 with 1 Axes>"
      ]
     },
     "metadata": {
      "needs_background": "light"
     },
     "output_type": "display_data"
    }
   ],
   "source": [
    "plt.bar(avg_sales.index,avg_sales.values )"
   ]
  },
  {
   "cell_type": "code",
   "execution_count": 26,
   "id": "4ee7bb05",
   "metadata": {},
   "outputs": [
    {
     "data": {
      "text/html": [
       "<div>\n",
       "<style scoped>\n",
       "    .dataframe tbody tr th:only-of-type {\n",
       "        vertical-align: middle;\n",
       "    }\n",
       "\n",
       "    .dataframe tbody tr th {\n",
       "        vertical-align: top;\n",
       "    }\n",
       "\n",
       "    .dataframe thead th {\n",
       "        text-align: right;\n",
       "    }\n",
       "</style>\n",
       "<table border=\"1\" class=\"dataframe\">\n",
       "  <thead>\n",
       "    <tr style=\"text-align: right;\">\n",
       "      <th></th>\n",
       "      <th>count</th>\n",
       "      <th>max</th>\n",
       "      <th>min</th>\n",
       "      <th>mean</th>\n",
       "      <th>sum</th>\n",
       "    </tr>\n",
       "    <tr>\n",
       "      <th>Region</th>\n",
       "      <th></th>\n",
       "      <th></th>\n",
       "      <th></th>\n",
       "      <th></th>\n",
       "      <th></th>\n",
       "    </tr>\n",
       "  </thead>\n",
       "  <tbody>\n",
       "    <tr>\n",
       "      <td>Central</td>\n",
       "      <td>24</td>\n",
       "      <td>107820.0</td>\n",
       "      <td>250.0</td>\n",
       "      <td>34573.729167</td>\n",
       "      <td>829769.5</td>\n",
       "    </tr>\n",
       "    <tr>\n",
       "      <td>East</td>\n",
       "      <td>13</td>\n",
       "      <td>113810.0</td>\n",
       "      <td>936.0</td>\n",
       "      <td>24692.846154</td>\n",
       "      <td>321007.0</td>\n",
       "    </tr>\n",
       "    <tr>\n",
       "      <td>West</td>\n",
       "      <td>6</td>\n",
       "      <td>67088.0</td>\n",
       "      <td>375.0</td>\n",
       "      <td>25816.500000</td>\n",
       "      <td>154899.0</td>\n",
       "    </tr>\n",
       "  </tbody>\n",
       "</table>\n",
       "</div>"
      ],
      "text/plain": [
       "         count       max    min          mean       sum\n",
       "Region                                                 \n",
       "Central     24  107820.0  250.0  34573.729167  829769.5\n",
       "East        13  113810.0  936.0  24692.846154  321007.0\n",
       "West         6   67088.0  375.0  25816.500000  154899.0"
      ]
     },
     "execution_count": 26,
     "metadata": {},
     "output_type": "execute_result"
    }
   ],
   "source": [
    "sums = data.groupby('Region')['Sale_amt'].aggregate(['count','max','min','mean','sum'])\n",
    "sums"
   ]
  },
  {
   "cell_type": "code",
   "execution_count": 27,
   "id": "11e3ee52",
   "metadata": {},
   "outputs": [],
   "source": [
    "# Top manager on sales amount\n",
    "\n",
    "top_managers= data.groupby('Manager')['Sale_amt'].sum().sort_values(ascending=False)"
   ]
  },
  {
   "cell_type": "code",
   "execution_count": 28,
   "id": "47a6ed67",
   "metadata": {},
   "outputs": [
    {
     "data": {
      "text/plain": [
       "<BarContainer object of 4 artists>"
      ]
     },
     "execution_count": 28,
     "metadata": {},
     "output_type": "execute_result"
    },
    {
     "data": {
      "image/png": "[encoded data removed]",
      "text/plain": [
       "<Figure size 432x288 with 1 Axes>"
      ]
     },
     "metadata": {
      "needs_background": "light"
     },
     "output_type": "display_data"
    }
   ],
   "source": [
    "plt.bar(top_managers.index,top_managers.values)"
   ]
  },
  {
   "cell_type": "code",
   "execution_count": 29,
   "id": "08ec7393",
   "metadata": {},
   "outputs": [],
   "source": [
    "top_items_sales_amt = data.groupby('Item')['Sale_amt'].sum().sort_values(ascending=False)"
   ]
  },
  {
   "cell_type": "code",
   "execution_count": 30,
   "id": "b3eeb816",
   "metadata": {},
   "outputs": [
    {
     "data": {
      "text/plain": [
       "<BarContainer object of 5 artists>"
      ]
     },
     "execution_count": 30,
     "metadata": {},
     "output_type": "execute_result"
    },
    {
     "data": {
      "image/png": "[encoded data removed]",
      "text/plain": [
       "<Figure size 432x288 with 1 Axes>"
      ]
     },
     "metadata": {
      "needs_background": "light"
     },
     "output_type": "display_data"
    }
   ],
   "source": [
    "plt.bar(top_items_sales_amt.index,top_items_sales_amt.values)"
   ]
  },
  {
   "cell_type": "code",
   "execution_count": 31,
   "id": "70d88a50",
   "metadata": {},
   "outputs": [
    {
     "data": {
      "text/html": [
       "<div>\n",
       "<style scoped>\n",
       "    .dataframe tbody tr th:only-of-type {\n",
       "        vertical-align: middle;\n",
       "    }\n",
       "\n",
       "    .dataframe tbody tr th {\n",
       "        vertical-align: top;\n",
       "    }\n",
       "\n",
       "    .dataframe thead th {\n",
       "        text-align: right;\n",
       "    }\n",
       "</style>\n",
       "<table border=\"1\" class=\"dataframe\">\n",
       "  <thead>\n",
       "    <tr style=\"text-align: right;\">\n",
       "      <th></th>\n",
       "      <th>Region</th>\n",
       "      <th>Manager</th>\n",
       "      <th>SalesMan</th>\n",
       "      <th>Item</th>\n",
       "      <th>Units</th>\n",
       "      <th>Unit_price</th>\n",
       "      <th>Sale_amt</th>\n",
       "    </tr>\n",
       "    <tr>\n",
       "      <th>OrderDate</th>\n",
       "      <th></th>\n",
       "      <th></th>\n",
       "      <th></th>\n",
       "      <th></th>\n",
       "      <th></th>\n",
       "      <th></th>\n",
       "      <th></th>\n",
       "    </tr>\n",
       "  </thead>\n",
       "  <tbody>\n",
       "    <tr>\n",
       "      <td>2018-01-06</td>\n",
       "      <td>East</td>\n",
       "      <td>Martha</td>\n",
       "      <td>Alexander</td>\n",
       "      <td>Television</td>\n",
       "      <td>95.0</td>\n",
       "      <td>1198.0</td>\n",
       "      <td>113810.0</td>\n",
       "    </tr>\n",
       "  </tbody>\n",
       "</table>\n",
       "</div>"
      ],
      "text/plain": [
       "           Region Manager   SalesMan        Item  Units  Unit_price  Sale_amt\n",
       "OrderDate                                                                    \n",
       "2018-01-06   East  Martha  Alexander  Television   95.0      1198.0  113810.0"
      ]
     },
     "execution_count": 31,
     "metadata": {},
     "output_type": "execute_result"
    }
   ],
   "source": [
    "data.head(1)"
   ]
  },
  {
   "cell_type": "code",
   "execution_count": 32,
   "id": "e8675f10",
   "metadata": {},
   "outputs": [
    {
     "data": {
      "text/plain": [
       "Region   Item        \n",
       "Central  Cell Phone      1\n",
       "         Desk            2\n",
       "         Home Theater    8\n",
       "         Television      9\n",
       "         Video Games     4\n",
       "East     Cell Phone      3\n",
       "         Home Theater    5\n",
       "         Television      2\n",
       "         Video Games     3\n",
       "West     Cell Phone      1\n",
       "         Desk            1\n",
       "         Home Theater    2\n",
       "         Television      2\n",
       "Name: Item, dtype: int64"
      ]
     },
     "execution_count": 32,
     "metadata": {},
     "output_type": "execute_result"
    }
   ],
   "source": [
    "# Region wise item sale count\n",
    "# data.groupby('Region')['Item'].count()\n",
    "data.groupby(['Region','Item'])['Item'].count()"
   ]
  },
  {
   "cell_type": "markdown",
   "id": "50e3242e",
   "metadata": {},
   "source": [
    "# Time Series  Data"
   ]
  },
  {
   "cell_type": "raw",
   "id": "afe46571",
   "metadata": {},
   "source": [
    "Creating time series with specific frequencies\n",
    "• Date offsets\n",
    "• Representation of differences in time with timedelta\n",
    "• Durations of time with Period objects\n",
    "• Calendars\n",
    "• Time zones\n",
    "• Shifting and lagging\n",
    "• Up and down sampling\n",
    "• Time series moving-window operations"
   ]
  },
  {
   "cell_type": "code",
   "execution_count": 33,
   "id": "39900882",
   "metadata": {},
   "outputs": [],
   "source": [
    "import datetime\n",
    "from datetime import datetime"
   ]
  },
  {
   "cell_type": "code",
   "execution_count": 35,
   "id": "98a2707a",
   "metadata": {},
   "outputs": [],
   "source": [
    "date = datetime(2014, 12, 15)"
   ]
  },
  {
   "cell_type": "code",
   "execution_count": 36,
   "id": "85e47a2b",
   "metadata": {},
   "outputs": [
    {
     "data": {
      "text/plain": [
       "datetime.datetime(2014, 12, 15, 0, 0)"
      ]
     },
     "execution_count": 36,
     "metadata": {},
     "output_type": "execute_result"
    }
   ],
   "source": [
    "date"
   ]
  },
  {
   "cell_type": "code",
   "execution_count": 30,
   "id": "99b99b79",
   "metadata": {},
   "outputs": [
    {
     "data": {
      "text/plain": [
       "2014"
      ]
     },
     "execution_count": 30,
     "metadata": {},
     "output_type": "execute_result"
    }
   ],
   "source": [
    "date.year"
   ]
  },
  {
   "cell_type": "code",
   "execution_count": 31,
   "id": "522d384c",
   "metadata": {},
   "outputs": [
    {
     "data": {
      "text/plain": [
       "12"
      ]
     },
     "execution_count": 31,
     "metadata": {},
     "output_type": "execute_result"
    }
   ],
   "source": [
    "date.month"
   ]
  },
  {
   "cell_type": "code",
   "execution_count": 32,
   "id": "7469b71c",
   "metadata": {},
   "outputs": [
    {
     "data": {
      "text/plain": [
       "15"
      ]
     },
     "execution_count": 32,
     "metadata": {},
     "output_type": "execute_result"
    }
   ],
   "source": [
    "date.day"
   ]
  },
  {
   "cell_type": "code",
   "execution_count": 37,
   "id": "7da65d23",
   "metadata": {},
   "outputs": [],
   "source": [
    "new_date = datetime(2014, 12, 15, 17, 30)"
   ]
  },
  {
   "cell_type": "code",
   "execution_count": 38,
   "id": "d14e509a",
   "metadata": {},
   "outputs": [
    {
     "data": {
      "text/plain": [
       "datetime.datetime(2014, 12, 15, 17, 30)"
      ]
     },
     "execution_count": 38,
     "metadata": {},
     "output_type": "execute_result"
    }
   ],
   "source": [
    "new_date"
   ]
  },
  {
   "cell_type": "code",
   "execution_count": 39,
   "id": "cb45aedd",
   "metadata": {},
   "outputs": [
    {
     "data": {
      "text/plain": [
       "17"
      ]
     },
     "execution_count": 39,
     "metadata": {},
     "output_type": "execute_result"
    }
   ],
   "source": [
    "new_date.hour"
   ]
  },
  {
   "cell_type": "code",
   "execution_count": 40,
   "id": "0d970639",
   "metadata": {},
   "outputs": [
    {
     "data": {
      "text/plain": [
       "30"
      ]
     },
     "execution_count": 40,
     "metadata": {},
     "output_type": "execute_result"
    }
   ],
   "source": [
    "new_date.minute"
   ]
  },
  {
   "cell_type": "code",
   "execution_count": 42,
   "id": "611ea422",
   "metadata": {},
   "outputs": [],
   "source": [
    "today = datetime.now()"
   ]
  },
  {
   "cell_type": "code",
   "execution_count": 43,
   "id": "96c72b1a",
   "metadata": {},
   "outputs": [
    {
     "data": {
      "text/plain": [
       "datetime.datetime(2023, 9, 1, 18, 22, 14, 600373)"
      ]
     },
     "execution_count": 43,
     "metadata": {},
     "output_type": "execute_result"
    }
   ],
   "source": [
    "today"
   ]
  },
  {
   "cell_type": "code",
   "execution_count": 44,
   "id": "9e1f8712",
   "metadata": {},
   "outputs": [
    {
     "data": {
      "text/plain": [
       "datetime.date(2023, 9, 1)"
      ]
     },
     "execution_count": 44,
     "metadata": {},
     "output_type": "execute_result"
    }
   ],
   "source": [
    "today.date()"
   ]
  },
  {
   "cell_type": "code",
   "execution_count": 45,
   "id": "f5f9aeb6",
   "metadata": {},
   "outputs": [
    {
     "data": {
      "text/plain": [
       "datetime.time(18, 22, 14, 600373)"
      ]
     },
     "execution_count": 45,
     "metadata": {},
     "output_type": "execute_result"
    }
   ],
   "source": [
    "today.time()"
   ]
  },
  {
   "cell_type": "markdown",
   "id": "9b76dc5c",
   "metadata": {},
   "source": [
    "# Timestamp objects"
   ]
  },
  {
   "cell_type": "code",
   "execution_count": 46,
   "id": "80ee10e3",
   "metadata": {},
   "outputs": [
    {
     "data": {
      "text/plain": [
       "Timestamp('2014-11-30 00:00:00')"
      ]
     },
     "execution_count": 46,
     "metadata": {},
     "output_type": "execute_result"
    }
   ],
   "source": [
    "pd.Timestamp('2014-11-30')"
   ]
  },
  {
   "cell_type": "code",
   "execution_count": 47,
   "id": "44cd2207",
   "metadata": {},
   "outputs": [
    {
     "data": {
      "text/plain": [
       "Timestamp('2014-12-15 17:30:00')"
      ]
     },
     "execution_count": 47,
     "metadata": {},
     "output_type": "execute_result"
    }
   ],
   "source": [
    "pd.Timestamp('2014-12-15 17:30')"
   ]
  },
  {
   "cell_type": "code",
   "execution_count": 49,
   "id": "859c41c4",
   "metadata": {},
   "outputs": [
    {
     "data": {
      "text/plain": [
       "Timestamp('2023-09-01 17:30:00')"
      ]
     },
     "execution_count": 49,
     "metadata": {},
     "output_type": "execute_result"
    }
   ],
   "source": [
    "pd.Timestamp('17:30')"
   ]
  },
  {
   "cell_type": "code",
   "execution_count": 50,
   "id": "ca48152a",
   "metadata": {},
   "outputs": [
    {
     "data": {
      "text/plain": [
       "Timestamp('2023-09-01 18:23:44.818445')"
      ]
     },
     "execution_count": 50,
     "metadata": {},
     "output_type": "execute_result"
    }
   ],
   "source": [
    "pd.Timestamp(\"now\")"
   ]
  },
  {
   "cell_type": "markdown",
   "id": "6597a06e",
   "metadata": {},
   "source": [
    "# Timedelta\n",
    "- A difference between two pandas Timestamp objects is represented by a timedelta\n",
    "  object, which is a representation of an exact difference in time. \n",
    "- These are common as results of determining the duration between two dates or to calculate the date at a\n",
    "  specific interval of time from another date and/or time."
   ]
  },
  {
   "cell_type": "code",
   "execution_count": 53,
   "id": "6867920b",
   "metadata": {},
   "outputs": [
    {
     "data": {
      "text/plain": [
       "datetime.datetime(2023, 9, 1, 0, 0)"
      ]
     },
     "execution_count": 53,
     "metadata": {},
     "output_type": "execute_result"
    }
   ],
   "source": [
    "today = datetime(2023, 9, 1)\n",
    "today"
   ]
  },
  {
   "cell_type": "code",
   "execution_count": 54,
   "id": "ed95ac94",
   "metadata": {},
   "outputs": [
    {
     "data": {
      "text/plain": [
       "datetime.datetime(2023, 9, 2, 0, 0)"
      ]
     },
     "execution_count": 54,
     "metadata": {},
     "output_type": "execute_result"
    }
   ],
   "source": [
    "tomorrow = today + pd.Timedelta(days=1)\n",
    "tomorrow"
   ]
  },
  {
   "cell_type": "code",
   "execution_count": 55,
   "id": "65fdc334",
   "metadata": {},
   "outputs": [
    {
     "data": {
      "text/plain": [
       "datetime.datetime(2023, 9, 11, 0, 0)"
      ]
     },
     "execution_count": 55,
     "metadata": {},
     "output_type": "execute_result"
    }
   ],
   "source": [
    "nextmonth_today = today + pd.Timedelta(days=10)\n",
    "nextmonth_today"
   ]
  },
  {
   "cell_type": "code",
   "execution_count": 58,
   "id": "3945ccb7",
   "metadata": {},
   "outputs": [
    {
     "data": {
      "text/plain": [
       "datetime.timedelta(days=24)"
      ]
     },
     "execution_count": 58,
     "metadata": {},
     "output_type": "execute_result"
    }
   ],
   "source": [
    "date1 = datetime(2023, 9, 1)\n",
    "date2 = datetime(2023, 9, 25)\n",
    "\n",
    "date1 - date2\n",
    "date2-date1"
   ]
  },
  {
   "cell_type": "markdown",
   "id": "0035aff5",
   "metadata": {},
   "source": [
    "# Introducing time-series data"
   ]
  },
  {
   "cell_type": "markdown",
   "id": "208edd4c",
   "metadata": {},
   "source": [
    "## DatetimeIndex"
   ]
  },
  {
   "cell_type": "code",
   "execution_count": 59,
   "id": "7a86fd08",
   "metadata": {},
   "outputs": [],
   "source": [
    "import numpy as np"
   ]
  },
  {
   "cell_type": "code",
   "execution_count": 60,
   "id": "5889d504",
   "metadata": {},
   "outputs": [
    {
     "data": {
      "text/plain": [
       "Apple    1\n",
       "Bat      2\n",
       "Cat      3\n",
       "Dog      4\n",
       "dtype: int64"
      ]
     },
     "execution_count": 60,
     "metadata": {},
     "output_type": "execute_result"
    }
   ],
   "source": [
    "series = pd.Series([1,2,3,4], index=[\"Apple\",\"Bat\",\"Cat\",\"Dog\"])\n",
    "series"
   ]
  },
  {
   "cell_type": "code",
   "execution_count": 67,
   "id": "6601012f",
   "metadata": {},
   "outputs": [
    {
     "data": {
      "text/plain": [
       "[datetime.datetime(2023, 9, 1, 0, 0), datetime.datetime(2023, 9, 2, 0, 0)]"
      ]
     },
     "execution_count": 67,
     "metadata": {},
     "output_type": "execute_result"
    }
   ],
   "source": [
    "dates = [datetime(2023, 9, 1), datetime(2023, 9, 2)]\n",
    "dates"
   ]
  },
  {
   "cell_type": "code",
   "execution_count": 68,
   "id": "375f1b71",
   "metadata": {},
   "outputs": [
    {
     "data": {
      "text/plain": [
       "2023-09-01    10000\n",
       "2023-09-02    25000\n",
       "dtype: int64"
      ]
     },
     "execution_count": 68,
     "metadata": {},
     "output_type": "execute_result"
    }
   ],
   "source": [
    "ts = pd.Series([10000, 25000], dates)\n",
    "ts"
   ]
  },
  {
   "cell_type": "code",
   "execution_count": 69,
   "id": "2eea92b1",
   "metadata": {},
   "outputs": [
    {
     "data": {
      "text/html": [
       "<div>\n",
       "<style scoped>\n",
       "    .dataframe tbody tr th:only-of-type {\n",
       "        vertical-align: middle;\n",
       "    }\n",
       "\n",
       "    .dataframe tbody tr th {\n",
       "        vertical-align: top;\n",
       "    }\n",
       "\n",
       "    .dataframe thead th {\n",
       "        text-align: right;\n",
       "    }\n",
       "</style>\n",
       "<table border=\"1\" class=\"dataframe\">\n",
       "  <thead>\n",
       "    <tr style=\"text-align: right;\">\n",
       "      <th></th>\n",
       "      <th>Region</th>\n",
       "      <th>Manager</th>\n",
       "      <th>SalesMan</th>\n",
       "      <th>Item</th>\n",
       "      <th>Units</th>\n",
       "      <th>Unit_price</th>\n",
       "      <th>Sale_amt</th>\n",
       "    </tr>\n",
       "    <tr>\n",
       "      <th>OrderDate</th>\n",
       "      <th></th>\n",
       "      <th></th>\n",
       "      <th></th>\n",
       "      <th></th>\n",
       "      <th></th>\n",
       "      <th></th>\n",
       "      <th></th>\n",
       "    </tr>\n",
       "  </thead>\n",
       "  <tbody>\n",
       "    <tr>\n",
       "      <td>2018-01-06</td>\n",
       "      <td>East</td>\n",
       "      <td>Martha</td>\n",
       "      <td>Alexander</td>\n",
       "      <td>Television</td>\n",
       "      <td>95.0</td>\n",
       "      <td>1198.0</td>\n",
       "      <td>113810.0</td>\n",
       "    </tr>\n",
       "    <tr>\n",
       "      <td>2018-01-23</td>\n",
       "      <td>Central</td>\n",
       "      <td>Hermann</td>\n",
       "      <td>Shelli</td>\n",
       "      <td>Home Theater</td>\n",
       "      <td>50.0</td>\n",
       "      <td>500.0</td>\n",
       "      <td>25000.0</td>\n",
       "    </tr>\n",
       "    <tr>\n",
       "      <td>2018-02-09</td>\n",
       "      <td>Central</td>\n",
       "      <td>Hermann</td>\n",
       "      <td>Luis</td>\n",
       "      <td>Television</td>\n",
       "      <td>36.0</td>\n",
       "      <td>1198.0</td>\n",
       "      <td>43128.0</td>\n",
       "    </tr>\n",
       "    <tr>\n",
       "      <td>2018-02-26</td>\n",
       "      <td>Central</td>\n",
       "      <td>Timothy</td>\n",
       "      <td>David</td>\n",
       "      <td>Cell Phone</td>\n",
       "      <td>27.0</td>\n",
       "      <td>225.0</td>\n",
       "      <td>6075.0</td>\n",
       "    </tr>\n",
       "    <tr>\n",
       "      <td>2018-03-15</td>\n",
       "      <td>West</td>\n",
       "      <td>Timothy</td>\n",
       "      <td>Stephen</td>\n",
       "      <td>Television</td>\n",
       "      <td>56.0</td>\n",
       "      <td>1198.0</td>\n",
       "      <td>67088.0</td>\n",
       "    </tr>\n",
       "    <tr>\n",
       "      <td>2018-04-01</td>\n",
       "      <td>East</td>\n",
       "      <td>Martha</td>\n",
       "      <td>Alexander</td>\n",
       "      <td>Home Theater</td>\n",
       "      <td>60.0</td>\n",
       "      <td>500.0</td>\n",
       "      <td>30000.0</td>\n",
       "    </tr>\n",
       "    <tr>\n",
       "      <td>2018-04-18</td>\n",
       "      <td>Central</td>\n",
       "      <td>Martha</td>\n",
       "      <td>Steven</td>\n",
       "      <td>Television</td>\n",
       "      <td>75.0</td>\n",
       "      <td>1198.0</td>\n",
       "      <td>89850.0</td>\n",
       "    </tr>\n",
       "    <tr>\n",
       "      <td>2018-05-05</td>\n",
       "      <td>Central</td>\n",
       "      <td>Hermann</td>\n",
       "      <td>Luis</td>\n",
       "      <td>Television</td>\n",
       "      <td>90.0</td>\n",
       "      <td>1198.0</td>\n",
       "      <td>107820.0</td>\n",
       "    </tr>\n",
       "    <tr>\n",
       "      <td>2018-05-22</td>\n",
       "      <td>West</td>\n",
       "      <td>Douglas</td>\n",
       "      <td>Michael</td>\n",
       "      <td>Television</td>\n",
       "      <td>32.0</td>\n",
       "      <td>1198.0</td>\n",
       "      <td>38336.0</td>\n",
       "    </tr>\n",
       "    <tr>\n",
       "      <td>2018-06-08</td>\n",
       "      <td>East</td>\n",
       "      <td>Martha</td>\n",
       "      <td>Alexander</td>\n",
       "      <td>Home Theater</td>\n",
       "      <td>60.0</td>\n",
       "      <td>500.0</td>\n",
       "      <td>30000.0</td>\n",
       "    </tr>\n",
       "    <tr>\n",
       "      <td>2018-06-25</td>\n",
       "      <td>Central</td>\n",
       "      <td>Hermann</td>\n",
       "      <td>Sigal</td>\n",
       "      <td>Television</td>\n",
       "      <td>90.0</td>\n",
       "      <td>1198.0</td>\n",
       "      <td>107820.0</td>\n",
       "    </tr>\n",
       "    <tr>\n",
       "      <td>2018-07-12</td>\n",
       "      <td>East</td>\n",
       "      <td>Martha</td>\n",
       "      <td>Diana</td>\n",
       "      <td>Home Theater</td>\n",
       "      <td>29.0</td>\n",
       "      <td>500.0</td>\n",
       "      <td>14500.0</td>\n",
       "    </tr>\n",
       "    <tr>\n",
       "      <td>2018-07-29</td>\n",
       "      <td>East</td>\n",
       "      <td>Douglas</td>\n",
       "      <td>Karen</td>\n",
       "      <td>Home Theater</td>\n",
       "      <td>81.0</td>\n",
       "      <td>500.0</td>\n",
       "      <td>40500.0</td>\n",
       "    </tr>\n",
       "    <tr>\n",
       "      <td>2018-08-15</td>\n",
       "      <td>East</td>\n",
       "      <td>Martha</td>\n",
       "      <td>Alexander</td>\n",
       "      <td>Television</td>\n",
       "      <td>35.0</td>\n",
       "      <td>1198.0</td>\n",
       "      <td>41930.0</td>\n",
       "    </tr>\n",
       "    <tr>\n",
       "      <td>2018-09-01</td>\n",
       "      <td>Central</td>\n",
       "      <td>Douglas</td>\n",
       "      <td>John</td>\n",
       "      <td>Desk</td>\n",
       "      <td>2.0</td>\n",
       "      <td>125.0</td>\n",
       "      <td>250.0</td>\n",
       "    </tr>\n",
       "    <tr>\n",
       "      <td>2018-09-18</td>\n",
       "      <td>East</td>\n",
       "      <td>Martha</td>\n",
       "      <td>Alexander</td>\n",
       "      <td>Video Games</td>\n",
       "      <td>16.0</td>\n",
       "      <td>58.5</td>\n",
       "      <td>936.0</td>\n",
       "    </tr>\n",
       "    <tr>\n",
       "      <td>2018-10-05</td>\n",
       "      <td>Central</td>\n",
       "      <td>Hermann</td>\n",
       "      <td>Sigal</td>\n",
       "      <td>Home Theater</td>\n",
       "      <td>28.0</td>\n",
       "      <td>500.0</td>\n",
       "      <td>14000.0</td>\n",
       "    </tr>\n",
       "    <tr>\n",
       "      <td>2018-10-22</td>\n",
       "      <td>East</td>\n",
       "      <td>Martha</td>\n",
       "      <td>Alexander</td>\n",
       "      <td>Cell Phone</td>\n",
       "      <td>64.0</td>\n",
       "      <td>225.0</td>\n",
       "      <td>14400.0</td>\n",
       "    </tr>\n",
       "    <tr>\n",
       "      <td>2018-11-08</td>\n",
       "      <td>East</td>\n",
       "      <td>Douglas</td>\n",
       "      <td>Karen</td>\n",
       "      <td>Cell Phone</td>\n",
       "      <td>15.0</td>\n",
       "      <td>225.0</td>\n",
       "      <td>3375.0</td>\n",
       "    </tr>\n",
       "    <tr>\n",
       "      <td>2018-11-25</td>\n",
       "      <td>Central</td>\n",
       "      <td>Hermann</td>\n",
       "      <td>Shelli</td>\n",
       "      <td>Video Games</td>\n",
       "      <td>96.0</td>\n",
       "      <td>58.5</td>\n",
       "      <td>5616.0</td>\n",
       "    </tr>\n",
       "    <tr>\n",
       "      <td>2018-12-12</td>\n",
       "      <td>Central</td>\n",
       "      <td>Douglas</td>\n",
       "      <td>John</td>\n",
       "      <td>Television</td>\n",
       "      <td>67.0</td>\n",
       "      <td>1198.0</td>\n",
       "      <td>80266.0</td>\n",
       "    </tr>\n",
       "    <tr>\n",
       "      <td>2018-12-29</td>\n",
       "      <td>East</td>\n",
       "      <td>Douglas</td>\n",
       "      <td>Karen</td>\n",
       "      <td>Video Games</td>\n",
       "      <td>74.0</td>\n",
       "      <td>58.5</td>\n",
       "      <td>4329.0</td>\n",
       "    </tr>\n",
       "    <tr>\n",
       "      <td>2019-01-15</td>\n",
       "      <td>Central</td>\n",
       "      <td>Timothy</td>\n",
       "      <td>David</td>\n",
       "      <td>Home Theater</td>\n",
       "      <td>46.0</td>\n",
       "      <td>500.0</td>\n",
       "      <td>23000.0</td>\n",
       "    </tr>\n",
       "    <tr>\n",
       "      <td>2019-02-01</td>\n",
       "      <td>Central</td>\n",
       "      <td>Douglas</td>\n",
       "      <td>John</td>\n",
       "      <td>Home Theater</td>\n",
       "      <td>87.0</td>\n",
       "      <td>500.0</td>\n",
       "      <td>43500.0</td>\n",
       "    </tr>\n",
       "    <tr>\n",
       "      <td>2019-02-18</td>\n",
       "      <td>East</td>\n",
       "      <td>Martha</td>\n",
       "      <td>Alexander</td>\n",
       "      <td>Home Theater</td>\n",
       "      <td>4.0</td>\n",
       "      <td>500.0</td>\n",
       "      <td>2000.0</td>\n",
       "    </tr>\n",
       "    <tr>\n",
       "      <td>2019-03-07</td>\n",
       "      <td>West</td>\n",
       "      <td>Timothy</td>\n",
       "      <td>Stephen</td>\n",
       "      <td>Home Theater</td>\n",
       "      <td>7.0</td>\n",
       "      <td>500.0</td>\n",
       "      <td>3500.0</td>\n",
       "    </tr>\n",
       "    <tr>\n",
       "      <td>2019-03-24</td>\n",
       "      <td>Central</td>\n",
       "      <td>Hermann</td>\n",
       "      <td>Luis</td>\n",
       "      <td>Video Games</td>\n",
       "      <td>50.0</td>\n",
       "      <td>58.5</td>\n",
       "      <td>2925.0</td>\n",
       "    </tr>\n",
       "    <tr>\n",
       "      <td>2019-04-10</td>\n",
       "      <td>Central</td>\n",
       "      <td>Martha</td>\n",
       "      <td>Steven</td>\n",
       "      <td>Television</td>\n",
       "      <td>66.0</td>\n",
       "      <td>1198.0</td>\n",
       "      <td>79068.0</td>\n",
       "    </tr>\n",
       "    <tr>\n",
       "      <td>2019-04-27</td>\n",
       "      <td>East</td>\n",
       "      <td>Martha</td>\n",
       "      <td>Diana</td>\n",
       "      <td>Cell Phone</td>\n",
       "      <td>96.0</td>\n",
       "      <td>225.0</td>\n",
       "      <td>21600.0</td>\n",
       "    </tr>\n",
       "    <tr>\n",
       "      <td>2019-05-14</td>\n",
       "      <td>Central</td>\n",
       "      <td>Timothy</td>\n",
       "      <td>David</td>\n",
       "      <td>Television</td>\n",
       "      <td>53.0</td>\n",
       "      <td>1198.0</td>\n",
       "      <td>63494.0</td>\n",
       "    </tr>\n",
       "    <tr>\n",
       "      <td>2019-05-31</td>\n",
       "      <td>Central</td>\n",
       "      <td>Timothy</td>\n",
       "      <td>David</td>\n",
       "      <td>Home Theater</td>\n",
       "      <td>80.0</td>\n",
       "      <td>500.0</td>\n",
       "      <td>40000.0</td>\n",
       "    </tr>\n",
       "    <tr>\n",
       "      <td>2019-06-17</td>\n",
       "      <td>Central</td>\n",
       "      <td>Hermann</td>\n",
       "      <td>Shelli</td>\n",
       "      <td>Desk</td>\n",
       "      <td>5.0</td>\n",
       "      <td>125.0</td>\n",
       "      <td>625.0</td>\n",
       "    </tr>\n",
       "    <tr>\n",
       "      <td>2019-07-04</td>\n",
       "      <td>East</td>\n",
       "      <td>Martha</td>\n",
       "      <td>Alexander</td>\n",
       "      <td>Video Games</td>\n",
       "      <td>62.0</td>\n",
       "      <td>58.5</td>\n",
       "      <td>3627.0</td>\n",
       "    </tr>\n",
       "    <tr>\n",
       "      <td>2019-07-21</td>\n",
       "      <td>Central</td>\n",
       "      <td>Hermann</td>\n",
       "      <td>Sigal</td>\n",
       "      <td>Video Games</td>\n",
       "      <td>55.0</td>\n",
       "      <td>58.5</td>\n",
       "      <td>3217.5</td>\n",
       "    </tr>\n",
       "    <tr>\n",
       "      <td>2019-08-07</td>\n",
       "      <td>Central</td>\n",
       "      <td>Hermann</td>\n",
       "      <td>Shelli</td>\n",
       "      <td>Video Games</td>\n",
       "      <td>42.0</td>\n",
       "      <td>58.5</td>\n",
       "      <td>2457.0</td>\n",
       "    </tr>\n",
       "    <tr>\n",
       "      <td>2019-08-24</td>\n",
       "      <td>West</td>\n",
       "      <td>Timothy</td>\n",
       "      <td>Stephen</td>\n",
       "      <td>Desk</td>\n",
       "      <td>3.0</td>\n",
       "      <td>125.0</td>\n",
       "      <td>375.0</td>\n",
       "    </tr>\n",
       "    <tr>\n",
       "      <td>2019-09-10</td>\n",
       "      <td>Central</td>\n",
       "      <td>Timothy</td>\n",
       "      <td>David</td>\n",
       "      <td>Television</td>\n",
       "      <td>7.0</td>\n",
       "      <td>1198.0</td>\n",
       "      <td>8386.0</td>\n",
       "    </tr>\n",
       "    <tr>\n",
       "      <td>2019-09-27</td>\n",
       "      <td>West</td>\n",
       "      <td>Timothy</td>\n",
       "      <td>Stephen</td>\n",
       "      <td>Cell Phone</td>\n",
       "      <td>76.0</td>\n",
       "      <td>225.0</td>\n",
       "      <td>17100.0</td>\n",
       "    </tr>\n",
       "    <tr>\n",
       "      <td>2019-10-14</td>\n",
       "      <td>West</td>\n",
       "      <td>Douglas</td>\n",
       "      <td>Michael</td>\n",
       "      <td>Home Theater</td>\n",
       "      <td>57.0</td>\n",
       "      <td>500.0</td>\n",
       "      <td>28500.0</td>\n",
       "    </tr>\n",
       "    <tr>\n",
       "      <td>2019-10-31</td>\n",
       "      <td>Central</td>\n",
       "      <td>Martha</td>\n",
       "      <td>Steven</td>\n",
       "      <td>Television</td>\n",
       "      <td>14.0</td>\n",
       "      <td>1198.0</td>\n",
       "      <td>16772.0</td>\n",
       "    </tr>\n",
       "    <tr>\n",
       "      <td>2019-11-17</td>\n",
       "      <td>Central</td>\n",
       "      <td>Hermann</td>\n",
       "      <td>Luis</td>\n",
       "      <td>Home Theater</td>\n",
       "      <td>11.0</td>\n",
       "      <td>500.0</td>\n",
       "      <td>5500.0</td>\n",
       "    </tr>\n",
       "    <tr>\n",
       "      <td>2019-12-04</td>\n",
       "      <td>Central</td>\n",
       "      <td>Hermann</td>\n",
       "      <td>Luis</td>\n",
       "      <td>Home Theater</td>\n",
       "      <td>94.0</td>\n",
       "      <td>500.0</td>\n",
       "      <td>47000.0</td>\n",
       "    </tr>\n",
       "    <tr>\n",
       "      <td>2019-12-21</td>\n",
       "      <td>Central</td>\n",
       "      <td>Martha</td>\n",
       "      <td>Steven</td>\n",
       "      <td>Home Theater</td>\n",
       "      <td>28.0</td>\n",
       "      <td>500.0</td>\n",
       "      <td>14000.0</td>\n",
       "    </tr>\n",
       "  </tbody>\n",
       "</table>\n",
       "</div>"
      ],
      "text/plain": [
       "             Region  Manager   SalesMan          Item  Units  Unit_price  \\\n",
       "OrderDate                                                                  \n",
       "2018-01-06     East   Martha  Alexander    Television   95.0      1198.0   \n",
       "2018-01-23  Central  Hermann     Shelli  Home Theater   50.0       500.0   \n",
       "2018-02-09  Central  Hermann       Luis    Television   36.0      1198.0   \n",
       "2018-02-26  Central  Timothy      David    Cell Phone   27.0       225.0   \n",
       "2018-03-15     West  Timothy    Stephen    Television   56.0      1198.0   \n",
       "2018-04-01     East   Martha  Alexander  Home Theater   60.0       500.0   \n",
       "2018-04-18  Central   Martha     Steven    Television   75.0      1198.0   \n",
       "2018-05-05  Central  Hermann       Luis    Television   90.0      1198.0   \n",
       "2018-05-22     West  Douglas    Michael    Television   32.0      1198.0   \n",
       "2018-06-08     East   Martha  Alexander  Home Theater   60.0       500.0   \n",
       "2018-06-25  Central  Hermann      Sigal    Television   90.0      1198.0   \n",
       "2018-07-12     East   Martha      Diana  Home Theater   29.0       500.0   \n",
       "2018-07-29     East  Douglas      Karen  Home Theater   81.0       500.0   \n",
       "2018-08-15     East   Martha  Alexander    Television   35.0      1198.0   \n",
       "2018-09-01  Central  Douglas       John          Desk    2.0       125.0   \n",
       "2018-09-18     East   Martha  Alexander   Video Games   16.0        58.5   \n",
       "2018-10-05  Central  Hermann      Sigal  Home Theater   28.0       500.0   \n",
       "2018-10-22     East   Martha  Alexander    Cell Phone   64.0       225.0   \n",
       "2018-11-08     East  Douglas      Karen    Cell Phone   15.0       225.0   \n",
       "2018-11-25  Central  Hermann     Shelli   Video Games   96.0        58.5   \n",
       "2018-12-12  Central  Douglas       John    Television   67.0      1198.0   \n",
       "2018-12-29     East  Douglas      Karen   Video Games   74.0        58.5   \n",
       "2019-01-15  Central  Timothy      David  Home Theater   46.0       500.0   \n",
       "2019-02-01  Central  Douglas       John  Home Theater   87.0       500.0   \n",
       "2019-02-18     East   Martha  Alexander  Home Theater    4.0       500.0   \n",
       "2019-03-07     West  Timothy    Stephen  Home Theater    7.0       500.0   \n",
       "2019-03-24  Central  Hermann       Luis   Video Games   50.0        58.5   \n",
       "2019-04-10  Central   Martha     Steven    Television   66.0      1198.0   \n",
       "2019-04-27     East   Martha      Diana    Cell Phone   96.0       225.0   \n",
       "2019-05-14  Central  Timothy      David    Television   53.0      1198.0   \n",
       "2019-05-31  Central  Timothy      David  Home Theater   80.0       500.0   \n",
       "2019-06-17  Central  Hermann     Shelli          Desk    5.0       125.0   \n",
       "2019-07-04     East   Martha  Alexander   Video Games   62.0        58.5   \n",
       "2019-07-21  Central  Hermann      Sigal   Video Games   55.0        58.5   \n",
       "2019-08-07  Central  Hermann     Shelli   Video Games   42.0        58.5   \n",
       "2019-08-24     West  Timothy    Stephen          Desk    3.0       125.0   \n",
       "2019-09-10  Central  Timothy      David    Television    7.0      1198.0   \n",
       "2019-09-27     West  Timothy    Stephen    Cell Phone   76.0       225.0   \n",
       "2019-10-14     West  Douglas    Michael  Home Theater   57.0       500.0   \n",
       "2019-10-31  Central   Martha     Steven    Television   14.0      1198.0   \n",
       "2019-11-17  Central  Hermann       Luis  Home Theater   11.0       500.0   \n",
       "2019-12-04  Central  Hermann       Luis  Home Theater   94.0       500.0   \n",
       "2019-12-21  Central   Martha     Steven  Home Theater   28.0       500.0   \n",
       "\n",
       "            Sale_amt  \n",
       "OrderDate             \n",
       "2018-01-06  113810.0  \n",
       "2018-01-23   25000.0  \n",
       "2018-02-09   43128.0  \n",
       "2018-02-26    6075.0  \n",
       "2018-03-15   67088.0  \n",
       "2018-04-01   30000.0  \n",
       "2018-04-18   89850.0  \n",
       "2018-05-05  107820.0  \n",
       "2018-05-22   38336.0  \n",
       "2018-06-08   30000.0  \n",
       "2018-06-25  107820.0  \n",
       "2018-07-12   14500.0  \n",
       "2018-07-29   40500.0  \n",
       "2018-08-15   41930.0  \n",
       "2018-09-01     250.0  \n",
       "2018-09-18     936.0  \n",
       "2018-10-05   14000.0  \n",
       "2018-10-22   14400.0  \n",
       "2018-11-08    3375.0  \n",
       "2018-11-25    5616.0  \n",
       "2018-12-12   80266.0  \n",
       "2018-12-29    4329.0  \n",
       "2019-01-15   23000.0  \n",
       "2019-02-01   43500.0  \n",
       "2019-02-18    2000.0  \n",
       "2019-03-07    3500.0  \n",
       "2019-03-24    2925.0  \n",
       "2019-04-10   79068.0  \n",
       "2019-04-27   21600.0  \n",
       "2019-05-14   63494.0  \n",
       "2019-05-31   40000.0  \n",
       "2019-06-17     625.0  \n",
       "2019-07-04    3627.0  \n",
       "2019-07-21    3217.5  \n",
       "2019-08-07    2457.0  \n",
       "2019-08-24     375.0  \n",
       "2019-09-10    8386.0  \n",
       "2019-09-27   17100.0  \n",
       "2019-10-14   28500.0  \n",
       "2019-10-31   16772.0  \n",
       "2019-11-17    5500.0  \n",
       "2019-12-04   47000.0  \n",
       "2019-12-21   14000.0  "
      ]
     },
     "execution_count": 69,
     "metadata": {},
     "output_type": "execute_result"
    }
   ],
   "source": [
    "data"
   ]
  },
  {
   "cell_type": "code",
   "execution_count": 70,
   "id": "abb9592d",
   "metadata": {},
   "outputs": [
    {
     "data": {
      "text/plain": [
       "DatetimeIndex(['2023-09-01', '2023-09-02'], dtype='datetime64[ns]', freq=None)"
      ]
     },
     "execution_count": 70,
     "metadata": {},
     "output_type": "execute_result"
    }
   ],
   "source": [
    "ts.index"
   ]
  },
  {
   "cell_type": "code",
   "execution_count": 71,
   "id": "78bbe339",
   "metadata": {},
   "outputs": [
    {
     "data": {
      "text/plain": [
       "array([10000, 25000], dtype=int64)"
      ]
     },
     "execution_count": 71,
     "metadata": {},
     "output_type": "execute_result"
    }
   ],
   "source": [
    "ts.values"
   ]
  },
  {
   "cell_type": "code",
   "execution_count": 72,
   "id": "f512b32d",
   "metadata": {},
   "outputs": [
    {
     "data": {
      "text/plain": [
       "Index(['Apple', 'Bat', 'Cat', 'Dog'], dtype='object')"
      ]
     },
     "execution_count": 72,
     "metadata": {},
     "output_type": "execute_result"
    }
   ],
   "source": [
    "series.index"
   ]
  },
  {
   "cell_type": "code",
   "execution_count": 73,
   "id": "10b80ccb",
   "metadata": {},
   "outputs": [
    {
     "data": {
      "text/plain": [
       "array([1, 2, 3, 4], dtype=int64)"
      ]
     },
     "execution_count": 73,
     "metadata": {},
     "output_type": "execute_result"
    }
   ],
   "source": [
    "series.values"
   ]
  },
  {
   "cell_type": "code",
   "execution_count": 74,
   "id": "4228462d",
   "metadata": {},
   "outputs": [
    {
     "data": {
      "text/plain": [
       "DatetimeIndex(['2018-01-06', '2018-01-23', '2018-02-09', '2018-02-26',\n",
       "               '2018-03-15', '2018-04-01', '2018-04-18', '2018-05-05',\n",
       "               '2018-05-22', '2018-06-08', '2018-06-25', '2018-07-12',\n",
       "               '2018-07-29', '2018-08-15', '2018-09-01', '2018-09-18',\n",
       "               '2018-10-05', '2018-10-22', '2018-11-08', '2018-11-25',\n",
       "               '2018-12-12', '2018-12-29', '2019-01-15', '2019-02-01',\n",
       "               '2019-02-18', '2019-03-07', '2019-03-24', '2019-04-10',\n",
       "               '2019-04-27', '2019-05-14', '2019-05-31', '2019-06-17',\n",
       "               '2019-07-04', '2019-07-21', '2019-08-07', '2019-08-24',\n",
       "               '2019-09-10', '2019-09-27', '2019-10-14', '2019-10-31',\n",
       "               '2019-11-17', '2019-12-04', '2019-12-21'],\n",
       "              dtype='datetime64[ns]', name='OrderDate', freq=None)"
      ]
     },
     "execution_count": 74,
     "metadata": {},
     "output_type": "execute_result"
    }
   ],
   "source": [
    "data.index"
   ]
  },
  {
   "cell_type": "code",
   "execution_count": 76,
   "id": "91808a33",
   "metadata": {},
   "outputs": [
    {
     "data": {
      "text/plain": [
       "array([['East', 'Martha', 'Alexander', 'Television', 95.0, 1198.0,\n",
       "        113810.0],\n",
       "       ['Central', 'Hermann', 'Shelli', 'Home Theater', 50.0, 500.0,\n",
       "        25000.0],\n",
       "       ['Central', 'Hermann', 'Luis', 'Television', 36.0, 1198.0,\n",
       "        43128.0],\n",
       "       ['Central', 'Timothy', 'David', 'Cell Phone', 27.0, 225.0, 6075.0],\n",
       "       ['West', 'Timothy', 'Stephen', 'Television', 56.0, 1198.0,\n",
       "        67088.0],\n",
       "       ['East', 'Martha', 'Alexander', 'Home Theater', 60.0, 500.0,\n",
       "        30000.0],\n",
       "       ['Central', 'Martha', 'Steven', 'Television', 75.0, 1198.0,\n",
       "        89850.0],\n",
       "       ['Central', 'Hermann', 'Luis', 'Television', 90.0, 1198.0,\n",
       "        107820.0],\n",
       "       ['West', 'Douglas', 'Michael', 'Television', 32.0, 1198.0,\n",
       "        38336.0],\n",
       "       ['East', 'Martha', 'Alexander', 'Home Theater', 60.0, 500.0,\n",
       "        30000.0],\n",
       "       ['Central', 'Hermann', 'Sigal', 'Television', 90.0, 1198.0,\n",
       "        107820.0],\n",
       "       ['East', 'Martha', 'Diana', 'Home Theater', 29.0, 500.0, 14500.0],\n",
       "       ['East', 'Douglas', 'Karen', 'Home Theater', 81.0, 500.0, 40500.0],\n",
       "       ['East', 'Martha', 'Alexander', 'Television', 35.0, 1198.0,\n",
       "        41930.0],\n",
       "       ['Central', 'Douglas', 'John', 'Desk', 2.0, 125.0, 250.0],\n",
       "       ['East', 'Martha', 'Alexander', 'Video Games', 16.0, 58.5, 936.0],\n",
       "       ['Central', 'Hermann', 'Sigal', 'Home Theater', 28.0, 500.0,\n",
       "        14000.0],\n",
       "       ['East', 'Martha', 'Alexander', 'Cell Phone', 64.0, 225.0,\n",
       "        14400.0],\n",
       "       ['East', 'Douglas', 'Karen', 'Cell Phone', 15.0, 225.0, 3375.0],\n",
       "       ['Central', 'Hermann', 'Shelli', 'Video Games', 96.0, 58.5,\n",
       "        5616.0],\n",
       "       ['Central', 'Douglas', 'John', 'Television', 67.0, 1198.0,\n",
       "        80266.0],\n",
       "       ['East', 'Douglas', 'Karen', 'Video Games', 74.0, 58.5, 4329.0],\n",
       "       ['Central', 'Timothy', 'David', 'Home Theater', 46.0, 500.0,\n",
       "        23000.0],\n",
       "       ['Central', 'Douglas', 'John', 'Home Theater', 87.0, 500.0,\n",
       "        43500.0],\n",
       "       ['East', 'Martha', 'Alexander', 'Home Theater', 4.0, 500.0,\n",
       "        2000.0],\n",
       "       ['West', 'Timothy', 'Stephen', 'Home Theater', 7.0, 500.0, 3500.0],\n",
       "       ['Central', 'Hermann', 'Luis', 'Video Games', 50.0, 58.5, 2925.0],\n",
       "       ['Central', 'Martha', 'Steven', 'Television', 66.0, 1198.0,\n",
       "        79068.0],\n",
       "       ['East', 'Martha', 'Diana', 'Cell Phone', 96.0, 225.0, 21600.0],\n",
       "       ['Central', 'Timothy', 'David', 'Television', 53.0, 1198.0,\n",
       "        63494.0],\n",
       "       ['Central', 'Timothy', 'David', 'Home Theater', 80.0, 500.0,\n",
       "        40000.0],\n",
       "       ['Central', 'Hermann', 'Shelli', 'Desk', 5.0, 125.0, 625.0],\n",
       "       ['East', 'Martha', 'Alexander', 'Video Games', 62.0, 58.5, 3627.0],\n",
       "       ['Central', 'Hermann', 'Sigal', 'Video Games', 55.0, 58.5, 3217.5],\n",
       "       ['Central', 'Hermann', 'Shelli', 'Video Games', 42.0, 58.5,\n",
       "        2457.0],\n",
       "       ['West', 'Timothy', 'Stephen', 'Desk', 3.0, 125.0, 375.0],\n",
       "       ['Central', 'Timothy', 'David', 'Television', 7.0, 1198.0, 8386.0],\n",
       "       ['West', 'Timothy', 'Stephen', 'Cell Phone', 76.0, 225.0, 17100.0],\n",
       "       ['West', 'Douglas', 'Michael', 'Home Theater', 57.0, 500.0,\n",
       "        28500.0],\n",
       "       ['Central', 'Martha', 'Steven', 'Television', 14.0, 1198.0,\n",
       "        16772.0],\n",
       "       ['Central', 'Hermann', 'Luis', 'Home Theater', 11.0, 500.0,\n",
       "        5500.0],\n",
       "       ['Central', 'Hermann', 'Luis', 'Home Theater', 94.0, 500.0,\n",
       "        47000.0],\n",
       "       ['Central', 'Martha', 'Steven', 'Home Theater', 28.0, 500.0,\n",
       "        14000.0]], dtype=object)"
      ]
     },
     "execution_count": 76,
     "metadata": {},
     "output_type": "execute_result"
    }
   ],
   "source": [
    "data.values"
   ]
  },
  {
   "cell_type": "code",
   "execution_count": 80,
   "id": "de8c8578",
   "metadata": {},
   "outputs": [
    {
     "data": {
      "text/plain": [
       "Region              East\n",
       "Manager           Martha\n",
       "SalesMan       Alexander\n",
       "Item          Television\n",
       "Units                 95\n",
       "Unit_price          1198\n",
       "Sale_amt          113810\n",
       "Name: 2018-01-06 00:00:00, dtype: object"
      ]
     },
     "execution_count": 80,
     "metadata": {},
     "output_type": "execute_result"
    }
   ],
   "source": [
    "data.loc['2018-01-06']"
   ]
  },
  {
   "cell_type": "code",
   "execution_count": 81,
   "id": "5341a574",
   "metadata": {},
   "outputs": [
    {
     "data": {
      "text/html": [
       "<div>\n",
       "<style scoped>\n",
       "    .dataframe tbody tr th:only-of-type {\n",
       "        vertical-align: middle;\n",
       "    }\n",
       "\n",
       "    .dataframe tbody tr th {\n",
       "        vertical-align: top;\n",
       "    }\n",
       "\n",
       "    .dataframe thead th {\n",
       "        text-align: right;\n",
       "    }\n",
       "</style>\n",
       "<table border=\"1\" class=\"dataframe\">\n",
       "  <thead>\n",
       "    <tr style=\"text-align: right;\">\n",
       "      <th></th>\n",
       "      <th>Region</th>\n",
       "      <th>Manager</th>\n",
       "      <th>SalesMan</th>\n",
       "      <th>Item</th>\n",
       "      <th>Units</th>\n",
       "      <th>Unit_price</th>\n",
       "      <th>Sale_amt</th>\n",
       "    </tr>\n",
       "    <tr>\n",
       "      <th>OrderDate</th>\n",
       "      <th></th>\n",
       "      <th></th>\n",
       "      <th></th>\n",
       "      <th></th>\n",
       "      <th></th>\n",
       "      <th></th>\n",
       "      <th></th>\n",
       "    </tr>\n",
       "  </thead>\n",
       "  <tbody>\n",
       "    <tr>\n",
       "      <td>2018-01-06</td>\n",
       "      <td>East</td>\n",
       "      <td>Martha</td>\n",
       "      <td>Alexander</td>\n",
       "      <td>Television</td>\n",
       "      <td>95.0</td>\n",
       "      <td>1198.0</td>\n",
       "      <td>113810.0</td>\n",
       "    </tr>\n",
       "    <tr>\n",
       "      <td>2018-01-23</td>\n",
       "      <td>Central</td>\n",
       "      <td>Hermann</td>\n",
       "      <td>Shelli</td>\n",
       "      <td>Home Theater</td>\n",
       "      <td>50.0</td>\n",
       "      <td>500.0</td>\n",
       "      <td>25000.0</td>\n",
       "    </tr>\n",
       "    <tr>\n",
       "      <td>2018-02-09</td>\n",
       "      <td>Central</td>\n",
       "      <td>Hermann</td>\n",
       "      <td>Luis</td>\n",
       "      <td>Television</td>\n",
       "      <td>36.0</td>\n",
       "      <td>1198.0</td>\n",
       "      <td>43128.0</td>\n",
       "    </tr>\n",
       "    <tr>\n",
       "      <td>2018-02-26</td>\n",
       "      <td>Central</td>\n",
       "      <td>Timothy</td>\n",
       "      <td>David</td>\n",
       "      <td>Cell Phone</td>\n",
       "      <td>27.0</td>\n",
       "      <td>225.0</td>\n",
       "      <td>6075.0</td>\n",
       "    </tr>\n",
       "    <tr>\n",
       "      <td>2018-03-15</td>\n",
       "      <td>West</td>\n",
       "      <td>Timothy</td>\n",
       "      <td>Stephen</td>\n",
       "      <td>Television</td>\n",
       "      <td>56.0</td>\n",
       "      <td>1198.0</td>\n",
       "      <td>67088.0</td>\n",
       "    </tr>\n",
       "    <tr>\n",
       "      <td>2018-04-01</td>\n",
       "      <td>East</td>\n",
       "      <td>Martha</td>\n",
       "      <td>Alexander</td>\n",
       "      <td>Home Theater</td>\n",
       "      <td>60.0</td>\n",
       "      <td>500.0</td>\n",
       "      <td>30000.0</td>\n",
       "    </tr>\n",
       "    <tr>\n",
       "      <td>2018-04-18</td>\n",
       "      <td>Central</td>\n",
       "      <td>Martha</td>\n",
       "      <td>Steven</td>\n",
       "      <td>Television</td>\n",
       "      <td>75.0</td>\n",
       "      <td>1198.0</td>\n",
       "      <td>89850.0</td>\n",
       "    </tr>\n",
       "    <tr>\n",
       "      <td>2018-05-05</td>\n",
       "      <td>Central</td>\n",
       "      <td>Hermann</td>\n",
       "      <td>Luis</td>\n",
       "      <td>Television</td>\n",
       "      <td>90.0</td>\n",
       "      <td>1198.0</td>\n",
       "      <td>107820.0</td>\n",
       "    </tr>\n",
       "    <tr>\n",
       "      <td>2018-05-22</td>\n",
       "      <td>West</td>\n",
       "      <td>Douglas</td>\n",
       "      <td>Michael</td>\n",
       "      <td>Television</td>\n",
       "      <td>32.0</td>\n",
       "      <td>1198.0</td>\n",
       "      <td>38336.0</td>\n",
       "    </tr>\n",
       "    <tr>\n",
       "      <td>2018-06-08</td>\n",
       "      <td>East</td>\n",
       "      <td>Martha</td>\n",
       "      <td>Alexander</td>\n",
       "      <td>Home Theater</td>\n",
       "      <td>60.0</td>\n",
       "      <td>500.0</td>\n",
       "      <td>30000.0</td>\n",
       "    </tr>\n",
       "    <tr>\n",
       "      <td>2018-06-25</td>\n",
       "      <td>Central</td>\n",
       "      <td>Hermann</td>\n",
       "      <td>Sigal</td>\n",
       "      <td>Television</td>\n",
       "      <td>90.0</td>\n",
       "      <td>1198.0</td>\n",
       "      <td>107820.0</td>\n",
       "    </tr>\n",
       "    <tr>\n",
       "      <td>2018-07-12</td>\n",
       "      <td>East</td>\n",
       "      <td>Martha</td>\n",
       "      <td>Diana</td>\n",
       "      <td>Home Theater</td>\n",
       "      <td>29.0</td>\n",
       "      <td>500.0</td>\n",
       "      <td>14500.0</td>\n",
       "    </tr>\n",
       "    <tr>\n",
       "      <td>2018-07-29</td>\n",
       "      <td>East</td>\n",
       "      <td>Douglas</td>\n",
       "      <td>Karen</td>\n",
       "      <td>Home Theater</td>\n",
       "      <td>81.0</td>\n",
       "      <td>500.0</td>\n",
       "      <td>40500.0</td>\n",
       "    </tr>\n",
       "    <tr>\n",
       "      <td>2018-08-15</td>\n",
       "      <td>East</td>\n",
       "      <td>Martha</td>\n",
       "      <td>Alexander</td>\n",
       "      <td>Television</td>\n",
       "      <td>35.0</td>\n",
       "      <td>1198.0</td>\n",
       "      <td>41930.0</td>\n",
       "    </tr>\n",
       "    <tr>\n",
       "      <td>2018-09-01</td>\n",
       "      <td>Central</td>\n",
       "      <td>Douglas</td>\n",
       "      <td>John</td>\n",
       "      <td>Desk</td>\n",
       "      <td>2.0</td>\n",
       "      <td>125.0</td>\n",
       "      <td>250.0</td>\n",
       "    </tr>\n",
       "    <tr>\n",
       "      <td>2018-09-18</td>\n",
       "      <td>East</td>\n",
       "      <td>Martha</td>\n",
       "      <td>Alexander</td>\n",
       "      <td>Video Games</td>\n",
       "      <td>16.0</td>\n",
       "      <td>58.5</td>\n",
       "      <td>936.0</td>\n",
       "    </tr>\n",
       "    <tr>\n",
       "      <td>2018-10-05</td>\n",
       "      <td>Central</td>\n",
       "      <td>Hermann</td>\n",
       "      <td>Sigal</td>\n",
       "      <td>Home Theater</td>\n",
       "      <td>28.0</td>\n",
       "      <td>500.0</td>\n",
       "      <td>14000.0</td>\n",
       "    </tr>\n",
       "    <tr>\n",
       "      <td>2018-10-22</td>\n",
       "      <td>East</td>\n",
       "      <td>Martha</td>\n",
       "      <td>Alexander</td>\n",
       "      <td>Cell Phone</td>\n",
       "      <td>64.0</td>\n",
       "      <td>225.0</td>\n",
       "      <td>14400.0</td>\n",
       "    </tr>\n",
       "    <tr>\n",
       "      <td>2018-11-08</td>\n",
       "      <td>East</td>\n",
       "      <td>Douglas</td>\n",
       "      <td>Karen</td>\n",
       "      <td>Cell Phone</td>\n",
       "      <td>15.0</td>\n",
       "      <td>225.0</td>\n",
       "      <td>3375.0</td>\n",
       "    </tr>\n",
       "    <tr>\n",
       "      <td>2018-11-25</td>\n",
       "      <td>Central</td>\n",
       "      <td>Hermann</td>\n",
       "      <td>Shelli</td>\n",
       "      <td>Video Games</td>\n",
       "      <td>96.0</td>\n",
       "      <td>58.5</td>\n",
       "      <td>5616.0</td>\n",
       "    </tr>\n",
       "    <tr>\n",
       "      <td>2018-12-12</td>\n",
       "      <td>Central</td>\n",
       "      <td>Douglas</td>\n",
       "      <td>John</td>\n",
       "      <td>Television</td>\n",
       "      <td>67.0</td>\n",
       "      <td>1198.0</td>\n",
       "      <td>80266.0</td>\n",
       "    </tr>\n",
       "    <tr>\n",
       "      <td>2018-12-29</td>\n",
       "      <td>East</td>\n",
       "      <td>Douglas</td>\n",
       "      <td>Karen</td>\n",
       "      <td>Video Games</td>\n",
       "      <td>74.0</td>\n",
       "      <td>58.5</td>\n",
       "      <td>4329.0</td>\n",
       "    </tr>\n",
       "  </tbody>\n",
       "</table>\n",
       "</div>"
      ],
      "text/plain": [
       "             Region  Manager   SalesMan          Item  Units  Unit_price  \\\n",
       "OrderDate                                                                  \n",
       "2018-01-06     East   Martha  Alexander    Television   95.0      1198.0   \n",
       "2018-01-23  Central  Hermann     Shelli  Home Theater   50.0       500.0   \n",
       "2018-02-09  Central  Hermann       Luis    Television   36.0      1198.0   \n",
       "2018-02-26  Central  Timothy      David    Cell Phone   27.0       225.0   \n",
       "2018-03-15     West  Timothy    Stephen    Television   56.0      1198.0   \n",
       "2018-04-01     East   Martha  Alexander  Home Theater   60.0       500.0   \n",
       "2018-04-18  Central   Martha     Steven    Television   75.0      1198.0   \n",
       "2018-05-05  Central  Hermann       Luis    Television   90.0      1198.0   \n",
       "2018-05-22     West  Douglas    Michael    Television   32.0      1198.0   \n",
       "2018-06-08     East   Martha  Alexander  Home Theater   60.0       500.0   \n",
       "2018-06-25  Central  Hermann      Sigal    Television   90.0      1198.0   \n",
       "2018-07-12     East   Martha      Diana  Home Theater   29.0       500.0   \n",
       "2018-07-29     East  Douglas      Karen  Home Theater   81.0       500.0   \n",
       "2018-08-15     East   Martha  Alexander    Television   35.0      1198.0   \n",
       "2018-09-01  Central  Douglas       John          Desk    2.0       125.0   \n",
       "2018-09-18     East   Martha  Alexander   Video Games   16.0        58.5   \n",
       "2018-10-05  Central  Hermann      Sigal  Home Theater   28.0       500.0   \n",
       "2018-10-22     East   Martha  Alexander    Cell Phone   64.0       225.0   \n",
       "2018-11-08     East  Douglas      Karen    Cell Phone   15.0       225.0   \n",
       "2018-11-25  Central  Hermann     Shelli   Video Games   96.0        58.5   \n",
       "2018-12-12  Central  Douglas       John    Television   67.0      1198.0   \n",
       "2018-12-29     East  Douglas      Karen   Video Games   74.0        58.5   \n",
       "\n",
       "            Sale_amt  \n",
       "OrderDate             \n",
       "2018-01-06  113810.0  \n",
       "2018-01-23   25000.0  \n",
       "2018-02-09   43128.0  \n",
       "2018-02-26    6075.0  \n",
       "2018-03-15   67088.0  \n",
       "2018-04-01   30000.0  \n",
       "2018-04-18   89850.0  \n",
       "2018-05-05  107820.0  \n",
       "2018-05-22   38336.0  \n",
       "2018-06-08   30000.0  \n",
       "2018-06-25  107820.0  \n",
       "2018-07-12   14500.0  \n",
       "2018-07-29   40500.0  \n",
       "2018-08-15   41930.0  \n",
       "2018-09-01     250.0  \n",
       "2018-09-18     936.0  \n",
       "2018-10-05   14000.0  \n",
       "2018-10-22   14400.0  \n",
       "2018-11-08    3375.0  \n",
       "2018-11-25    5616.0  \n",
       "2018-12-12   80266.0  \n",
       "2018-12-29    4329.0  "
      ]
     },
     "execution_count": 81,
     "metadata": {},
     "output_type": "execute_result"
    }
   ],
   "source": [
    "data.loc['2018']"
   ]
  },
  {
   "cell_type": "code",
   "execution_count": 82,
   "id": "68101179",
   "metadata": {},
   "outputs": [
    {
     "data": {
      "text/html": [
       "<div>\n",
       "<style scoped>\n",
       "    .dataframe tbody tr th:only-of-type {\n",
       "        vertical-align: middle;\n",
       "    }\n",
       "\n",
       "    .dataframe tbody tr th {\n",
       "        vertical-align: top;\n",
       "    }\n",
       "\n",
       "    .dataframe thead th {\n",
       "        text-align: right;\n",
       "    }\n",
       "</style>\n",
       "<table border=\"1\" class=\"dataframe\">\n",
       "  <thead>\n",
       "    <tr style=\"text-align: right;\">\n",
       "      <th></th>\n",
       "      <th>Region</th>\n",
       "      <th>Manager</th>\n",
       "      <th>SalesMan</th>\n",
       "      <th>Item</th>\n",
       "      <th>Units</th>\n",
       "      <th>Unit_price</th>\n",
       "      <th>Sale_amt</th>\n",
       "    </tr>\n",
       "    <tr>\n",
       "      <th>OrderDate</th>\n",
       "      <th></th>\n",
       "      <th></th>\n",
       "      <th></th>\n",
       "      <th></th>\n",
       "      <th></th>\n",
       "      <th></th>\n",
       "      <th></th>\n",
       "    </tr>\n",
       "  </thead>\n",
       "  <tbody>\n",
       "    <tr>\n",
       "      <td>2018-01-06</td>\n",
       "      <td>East</td>\n",
       "      <td>Martha</td>\n",
       "      <td>Alexander</td>\n",
       "      <td>Television</td>\n",
       "      <td>95.0</td>\n",
       "      <td>1198.0</td>\n",
       "      <td>113810.0</td>\n",
       "    </tr>\n",
       "    <tr>\n",
       "      <td>2018-01-23</td>\n",
       "      <td>Central</td>\n",
       "      <td>Hermann</td>\n",
       "      <td>Shelli</td>\n",
       "      <td>Home Theater</td>\n",
       "      <td>50.0</td>\n",
       "      <td>500.0</td>\n",
       "      <td>25000.0</td>\n",
       "    </tr>\n",
       "  </tbody>\n",
       "</table>\n",
       "</div>"
      ],
      "text/plain": [
       "             Region  Manager   SalesMan          Item  Units  Unit_price  \\\n",
       "OrderDate                                                                  \n",
       "2018-01-06     East   Martha  Alexander    Television   95.0      1198.0   \n",
       "2018-01-23  Central  Hermann     Shelli  Home Theater   50.0       500.0   \n",
       "\n",
       "            Sale_amt  \n",
       "OrderDate             \n",
       "2018-01-06  113810.0  \n",
       "2018-01-23   25000.0  "
      ]
     },
     "execution_count": 82,
     "metadata": {},
     "output_type": "execute_result"
    }
   ],
   "source": [
    "data.loc['2018-1']"
   ]
  },
  {
   "cell_type": "code",
   "execution_count": 83,
   "id": "fd2564ef",
   "metadata": {},
   "outputs": [
    {
     "data": {
      "text/plain": [
       "Region              East\n",
       "Manager           Martha\n",
       "SalesMan       Alexander\n",
       "Item          Television\n",
       "Units                 95\n",
       "Unit_price          1198\n",
       "Sale_amt          113810\n",
       "Name: 2018-01-06 00:00:00, dtype: object"
      ]
     },
     "execution_count": 83,
     "metadata": {},
     "output_type": "execute_result"
    }
   ],
   "source": [
    "data.loc['2018-1-6']"
   ]
  },
  {
   "cell_type": "code",
   "execution_count": 84,
   "id": "5ab49bf9",
   "metadata": {},
   "outputs": [
    {
     "data": {
      "text/html": [
       "<div>\n",
       "<style scoped>\n",
       "    .dataframe tbody tr th:only-of-type {\n",
       "        vertical-align: middle;\n",
       "    }\n",
       "\n",
       "    .dataframe tbody tr th {\n",
       "        vertical-align: top;\n",
       "    }\n",
       "\n",
       "    .dataframe thead th {\n",
       "        text-align: right;\n",
       "    }\n",
       "</style>\n",
       "<table border=\"1\" class=\"dataframe\">\n",
       "  <thead>\n",
       "    <tr style=\"text-align: right;\">\n",
       "      <th></th>\n",
       "      <th>Region</th>\n",
       "      <th>Manager</th>\n",
       "      <th>SalesMan</th>\n",
       "      <th>Item</th>\n",
       "      <th>Units</th>\n",
       "      <th>Unit_price</th>\n",
       "      <th>Sale_amt</th>\n",
       "    </tr>\n",
       "    <tr>\n",
       "      <th>OrderDate</th>\n",
       "      <th></th>\n",
       "      <th></th>\n",
       "      <th></th>\n",
       "      <th></th>\n",
       "      <th></th>\n",
       "      <th></th>\n",
       "      <th></th>\n",
       "    </tr>\n",
       "  </thead>\n",
       "  <tbody>\n",
       "    <tr>\n",
       "      <td>2018-01-06</td>\n",
       "      <td>East</td>\n",
       "      <td>Martha</td>\n",
       "      <td>Alexander</td>\n",
       "      <td>Television</td>\n",
       "      <td>95.0</td>\n",
       "      <td>1198.0</td>\n",
       "      <td>113810.0</td>\n",
       "    </tr>\n",
       "    <tr>\n",
       "      <td>2018-01-23</td>\n",
       "      <td>Central</td>\n",
       "      <td>Hermann</td>\n",
       "      <td>Shelli</td>\n",
       "      <td>Home Theater</td>\n",
       "      <td>50.0</td>\n",
       "      <td>500.0</td>\n",
       "      <td>25000.0</td>\n",
       "    </tr>\n",
       "    <tr>\n",
       "      <td>2018-02-09</td>\n",
       "      <td>Central</td>\n",
       "      <td>Hermann</td>\n",
       "      <td>Luis</td>\n",
       "      <td>Television</td>\n",
       "      <td>36.0</td>\n",
       "      <td>1198.0</td>\n",
       "      <td>43128.0</td>\n",
       "    </tr>\n",
       "    <tr>\n",
       "      <td>2018-02-26</td>\n",
       "      <td>Central</td>\n",
       "      <td>Timothy</td>\n",
       "      <td>David</td>\n",
       "      <td>Cell Phone</td>\n",
       "      <td>27.0</td>\n",
       "      <td>225.0</td>\n",
       "      <td>6075.0</td>\n",
       "    </tr>\n",
       "    <tr>\n",
       "      <td>2018-03-15</td>\n",
       "      <td>West</td>\n",
       "      <td>Timothy</td>\n",
       "      <td>Stephen</td>\n",
       "      <td>Television</td>\n",
       "      <td>56.0</td>\n",
       "      <td>1198.0</td>\n",
       "      <td>67088.0</td>\n",
       "    </tr>\n",
       "    <tr>\n",
       "      <td>2018-04-01</td>\n",
       "      <td>East</td>\n",
       "      <td>Martha</td>\n",
       "      <td>Alexander</td>\n",
       "      <td>Home Theater</td>\n",
       "      <td>60.0</td>\n",
       "      <td>500.0</td>\n",
       "      <td>30000.0</td>\n",
       "    </tr>\n",
       "    <tr>\n",
       "      <td>2018-04-18</td>\n",
       "      <td>Central</td>\n",
       "      <td>Martha</td>\n",
       "      <td>Steven</td>\n",
       "      <td>Television</td>\n",
       "      <td>75.0</td>\n",
       "      <td>1198.0</td>\n",
       "      <td>89850.0</td>\n",
       "    </tr>\n",
       "    <tr>\n",
       "      <td>2018-05-05</td>\n",
       "      <td>Central</td>\n",
       "      <td>Hermann</td>\n",
       "      <td>Luis</td>\n",
       "      <td>Television</td>\n",
       "      <td>90.0</td>\n",
       "      <td>1198.0</td>\n",
       "      <td>107820.0</td>\n",
       "    </tr>\n",
       "    <tr>\n",
       "      <td>2018-05-22</td>\n",
       "      <td>West</td>\n",
       "      <td>Douglas</td>\n",
       "      <td>Michael</td>\n",
       "      <td>Television</td>\n",
       "      <td>32.0</td>\n",
       "      <td>1198.0</td>\n",
       "      <td>38336.0</td>\n",
       "    </tr>\n",
       "    <tr>\n",
       "      <td>2018-06-08</td>\n",
       "      <td>East</td>\n",
       "      <td>Martha</td>\n",
       "      <td>Alexander</td>\n",
       "      <td>Home Theater</td>\n",
       "      <td>60.0</td>\n",
       "      <td>500.0</td>\n",
       "      <td>30000.0</td>\n",
       "    </tr>\n",
       "    <tr>\n",
       "      <td>2018-06-25</td>\n",
       "      <td>Central</td>\n",
       "      <td>Hermann</td>\n",
       "      <td>Sigal</td>\n",
       "      <td>Television</td>\n",
       "      <td>90.0</td>\n",
       "      <td>1198.0</td>\n",
       "      <td>107820.0</td>\n",
       "    </tr>\n",
       "    <tr>\n",
       "      <td>2018-07-12</td>\n",
       "      <td>East</td>\n",
       "      <td>Martha</td>\n",
       "      <td>Diana</td>\n",
       "      <td>Home Theater</td>\n",
       "      <td>29.0</td>\n",
       "      <td>500.0</td>\n",
       "      <td>14500.0</td>\n",
       "    </tr>\n",
       "    <tr>\n",
       "      <td>2018-07-29</td>\n",
       "      <td>East</td>\n",
       "      <td>Douglas</td>\n",
       "      <td>Karen</td>\n",
       "      <td>Home Theater</td>\n",
       "      <td>81.0</td>\n",
       "      <td>500.0</td>\n",
       "      <td>40500.0</td>\n",
       "    </tr>\n",
       "    <tr>\n",
       "      <td>2018-08-15</td>\n",
       "      <td>East</td>\n",
       "      <td>Martha</td>\n",
       "      <td>Alexander</td>\n",
       "      <td>Television</td>\n",
       "      <td>35.0</td>\n",
       "      <td>1198.0</td>\n",
       "      <td>41930.0</td>\n",
       "    </tr>\n",
       "    <tr>\n",
       "      <td>2018-09-01</td>\n",
       "      <td>Central</td>\n",
       "      <td>Douglas</td>\n",
       "      <td>John</td>\n",
       "      <td>Desk</td>\n",
       "      <td>2.0</td>\n",
       "      <td>125.0</td>\n",
       "      <td>250.0</td>\n",
       "    </tr>\n",
       "    <tr>\n",
       "      <td>2018-09-18</td>\n",
       "      <td>East</td>\n",
       "      <td>Martha</td>\n",
       "      <td>Alexander</td>\n",
       "      <td>Video Games</td>\n",
       "      <td>16.0</td>\n",
       "      <td>58.5</td>\n",
       "      <td>936.0</td>\n",
       "    </tr>\n",
       "    <tr>\n",
       "      <td>2018-10-05</td>\n",
       "      <td>Central</td>\n",
       "      <td>Hermann</td>\n",
       "      <td>Sigal</td>\n",
       "      <td>Home Theater</td>\n",
       "      <td>28.0</td>\n",
       "      <td>500.0</td>\n",
       "      <td>14000.0</td>\n",
       "    </tr>\n",
       "  </tbody>\n",
       "</table>\n",
       "</div>"
      ],
      "text/plain": [
       "             Region  Manager   SalesMan          Item  Units  Unit_price  \\\n",
       "OrderDate                                                                  \n",
       "2018-01-06     East   Martha  Alexander    Television   95.0      1198.0   \n",
       "2018-01-23  Central  Hermann     Shelli  Home Theater   50.0       500.0   \n",
       "2018-02-09  Central  Hermann       Luis    Television   36.0      1198.0   \n",
       "2018-02-26  Central  Timothy      David    Cell Phone   27.0       225.0   \n",
       "2018-03-15     West  Timothy    Stephen    Television   56.0      1198.0   \n",
       "2018-04-01     East   Martha  Alexander  Home Theater   60.0       500.0   \n",
       "2018-04-18  Central   Martha     Steven    Television   75.0      1198.0   \n",
       "2018-05-05  Central  Hermann       Luis    Television   90.0      1198.0   \n",
       "2018-05-22     West  Douglas    Michael    Television   32.0      1198.0   \n",
       "2018-06-08     East   Martha  Alexander  Home Theater   60.0       500.0   \n",
       "2018-06-25  Central  Hermann      Sigal    Television   90.0      1198.0   \n",
       "2018-07-12     East   Martha      Diana  Home Theater   29.0       500.0   \n",
       "2018-07-29     East  Douglas      Karen  Home Theater   81.0       500.0   \n",
       "2018-08-15     East   Martha  Alexander    Television   35.0      1198.0   \n",
       "2018-09-01  Central  Douglas       John          Desk    2.0       125.0   \n",
       "2018-09-18     East   Martha  Alexander   Video Games   16.0        58.5   \n",
       "2018-10-05  Central  Hermann      Sigal  Home Theater   28.0       500.0   \n",
       "\n",
       "            Sale_amt  \n",
       "OrderDate             \n",
       "2018-01-06  113810.0  \n",
       "2018-01-23   25000.0  \n",
       "2018-02-09   43128.0  \n",
       "2018-02-26    6075.0  \n",
       "2018-03-15   67088.0  \n",
       "2018-04-01   30000.0  \n",
       "2018-04-18   89850.0  \n",
       "2018-05-05  107820.0  \n",
       "2018-05-22   38336.0  \n",
       "2018-06-08   30000.0  \n",
       "2018-06-25  107820.0  \n",
       "2018-07-12   14500.0  \n",
       "2018-07-29   40500.0  \n",
       "2018-08-15   41930.0  \n",
       "2018-09-01     250.0  \n",
       "2018-09-18     936.0  \n",
       "2018-10-05   14000.0  "
      ]
     },
     "execution_count": 84,
     "metadata": {},
     "output_type": "execute_result"
    }
   ],
   "source": [
    "data.loc['2018-1-6':'2018-10-05']"
   ]
  },
  {
   "cell_type": "code",
   "execution_count": 85,
   "id": "564f4cd3",
   "metadata": {},
   "outputs": [
    {
     "data": {
      "text/plain": [
       "DatetimeIndex(['2018-01-06', '2018-01-23', '2018-02-09', '2018-02-26',\n",
       "               '2018-03-15', '2018-04-01', '2018-04-18', '2018-05-05',\n",
       "               '2018-05-22', '2018-06-08', '2018-06-25', '2018-07-12',\n",
       "               '2018-07-29', '2018-08-15', '2018-09-01', '2018-09-18',\n",
       "               '2018-10-05', '2018-10-22', '2018-11-08', '2018-11-25',\n",
       "               '2018-12-12', '2018-12-29', '2019-01-15', '2019-02-01',\n",
       "               '2019-02-18', '2019-03-07', '2019-03-24', '2019-04-10',\n",
       "               '2019-04-27', '2019-05-14', '2019-05-31', '2019-06-17',\n",
       "               '2019-07-04', '2019-07-21', '2019-08-07', '2019-08-24',\n",
       "               '2019-09-10', '2019-09-27', '2019-10-14', '2019-10-31',\n",
       "               '2019-11-17', '2019-12-04', '2019-12-21'],\n",
       "              dtype='datetime64[ns]', name='OrderDate', freq=None)"
      ]
     },
     "execution_count": 85,
     "metadata": {},
     "output_type": "execute_result"
    }
   ],
   "source": [
    "data.index"
   ]
  },
  {
   "cell_type": "code",
   "execution_count": 88,
   "id": "38770003",
   "metadata": {},
   "outputs": [
    {
     "data": {
      "text/html": [
       "<div>\n",
       "<style scoped>\n",
       "    .dataframe tbody tr th:only-of-type {\n",
       "        vertical-align: middle;\n",
       "    }\n",
       "\n",
       "    .dataframe tbody tr th {\n",
       "        vertical-align: top;\n",
       "    }\n",
       "\n",
       "    .dataframe thead th {\n",
       "        text-align: right;\n",
       "    }\n",
       "</style>\n",
       "<table border=\"1\" class=\"dataframe\">\n",
       "  <thead>\n",
       "    <tr style=\"text-align: right;\">\n",
       "      <th></th>\n",
       "      <th>Region</th>\n",
       "      <th>Manager</th>\n",
       "      <th>SalesMan</th>\n",
       "      <th>Item</th>\n",
       "      <th>Units</th>\n",
       "      <th>Unit_price</th>\n",
       "      <th>Sale_amt</th>\n",
       "    </tr>\n",
       "    <tr>\n",
       "      <th>OrderDate</th>\n",
       "      <th></th>\n",
       "      <th></th>\n",
       "      <th></th>\n",
       "      <th></th>\n",
       "      <th></th>\n",
       "      <th></th>\n",
       "      <th></th>\n",
       "    </tr>\n",
       "  </thead>\n",
       "  <tbody>\n",
       "    <tr>\n",
       "      <td>2018-12-12</td>\n",
       "      <td>Central</td>\n",
       "      <td>Douglas</td>\n",
       "      <td>John</td>\n",
       "      <td>Television</td>\n",
       "      <td>67.0</td>\n",
       "      <td>1198.0</td>\n",
       "      <td>80266.0</td>\n",
       "    </tr>\n",
       "    <tr>\n",
       "      <td>2018-12-29</td>\n",
       "      <td>East</td>\n",
       "      <td>Douglas</td>\n",
       "      <td>Karen</td>\n",
       "      <td>Video Games</td>\n",
       "      <td>74.0</td>\n",
       "      <td>58.5</td>\n",
       "      <td>4329.0</td>\n",
       "    </tr>\n",
       "    <tr>\n",
       "      <td>2019-01-15</td>\n",
       "      <td>Central</td>\n",
       "      <td>Timothy</td>\n",
       "      <td>David</td>\n",
       "      <td>Home Theater</td>\n",
       "      <td>46.0</td>\n",
       "      <td>500.0</td>\n",
       "      <td>23000.0</td>\n",
       "    </tr>\n",
       "    <tr>\n",
       "      <td>2019-02-01</td>\n",
       "      <td>Central</td>\n",
       "      <td>Douglas</td>\n",
       "      <td>John</td>\n",
       "      <td>Home Theater</td>\n",
       "      <td>87.0</td>\n",
       "      <td>500.0</td>\n",
       "      <td>43500.0</td>\n",
       "    </tr>\n",
       "    <tr>\n",
       "      <td>2019-02-18</td>\n",
       "      <td>East</td>\n",
       "      <td>Martha</td>\n",
       "      <td>Alexander</td>\n",
       "      <td>Home Theater</td>\n",
       "      <td>4.0</td>\n",
       "      <td>500.0</td>\n",
       "      <td>2000.0</td>\n",
       "    </tr>\n",
       "    <tr>\n",
       "      <td>2019-03-07</td>\n",
       "      <td>West</td>\n",
       "      <td>Timothy</td>\n",
       "      <td>Stephen</td>\n",
       "      <td>Home Theater</td>\n",
       "      <td>7.0</td>\n",
       "      <td>500.0</td>\n",
       "      <td>3500.0</td>\n",
       "    </tr>\n",
       "    <tr>\n",
       "      <td>2019-03-24</td>\n",
       "      <td>Central</td>\n",
       "      <td>Hermann</td>\n",
       "      <td>Luis</td>\n",
       "      <td>Video Games</td>\n",
       "      <td>50.0</td>\n",
       "      <td>58.5</td>\n",
       "      <td>2925.0</td>\n",
       "    </tr>\n",
       "    <tr>\n",
       "      <td>2019-04-10</td>\n",
       "      <td>Central</td>\n",
       "      <td>Martha</td>\n",
       "      <td>Steven</td>\n",
       "      <td>Television</td>\n",
       "      <td>66.0</td>\n",
       "      <td>1198.0</td>\n",
       "      <td>79068.0</td>\n",
       "    </tr>\n",
       "    <tr>\n",
       "      <td>2019-04-27</td>\n",
       "      <td>East</td>\n",
       "      <td>Martha</td>\n",
       "      <td>Diana</td>\n",
       "      <td>Cell Phone</td>\n",
       "      <td>96.0</td>\n",
       "      <td>225.0</td>\n",
       "      <td>21600.0</td>\n",
       "    </tr>\n",
       "    <tr>\n",
       "      <td>2019-05-14</td>\n",
       "      <td>Central</td>\n",
       "      <td>Timothy</td>\n",
       "      <td>David</td>\n",
       "      <td>Television</td>\n",
       "      <td>53.0</td>\n",
       "      <td>1198.0</td>\n",
       "      <td>63494.0</td>\n",
       "    </tr>\n",
       "    <tr>\n",
       "      <td>2019-05-31</td>\n",
       "      <td>Central</td>\n",
       "      <td>Timothy</td>\n",
       "      <td>David</td>\n",
       "      <td>Home Theater</td>\n",
       "      <td>80.0</td>\n",
       "      <td>500.0</td>\n",
       "      <td>40000.0</td>\n",
       "    </tr>\n",
       "    <tr>\n",
       "      <td>2019-06-17</td>\n",
       "      <td>Central</td>\n",
       "      <td>Hermann</td>\n",
       "      <td>Shelli</td>\n",
       "      <td>Desk</td>\n",
       "      <td>5.0</td>\n",
       "      <td>125.0</td>\n",
       "      <td>625.0</td>\n",
       "    </tr>\n",
       "    <tr>\n",
       "      <td>2019-07-04</td>\n",
       "      <td>East</td>\n",
       "      <td>Martha</td>\n",
       "      <td>Alexander</td>\n",
       "      <td>Video Games</td>\n",
       "      <td>62.0</td>\n",
       "      <td>58.5</td>\n",
       "      <td>3627.0</td>\n",
       "    </tr>\n",
       "    <tr>\n",
       "      <td>2019-07-21</td>\n",
       "      <td>Central</td>\n",
       "      <td>Hermann</td>\n",
       "      <td>Sigal</td>\n",
       "      <td>Video Games</td>\n",
       "      <td>55.0</td>\n",
       "      <td>58.5</td>\n",
       "      <td>3217.5</td>\n",
       "    </tr>\n",
       "    <tr>\n",
       "      <td>2019-08-07</td>\n",
       "      <td>Central</td>\n",
       "      <td>Hermann</td>\n",
       "      <td>Shelli</td>\n",
       "      <td>Video Games</td>\n",
       "      <td>42.0</td>\n",
       "      <td>58.5</td>\n",
       "      <td>2457.0</td>\n",
       "    </tr>\n",
       "    <tr>\n",
       "      <td>2019-08-24</td>\n",
       "      <td>West</td>\n",
       "      <td>Timothy</td>\n",
       "      <td>Stephen</td>\n",
       "      <td>Desk</td>\n",
       "      <td>3.0</td>\n",
       "      <td>125.0</td>\n",
       "      <td>375.0</td>\n",
       "    </tr>\n",
       "    <tr>\n",
       "      <td>2019-09-10</td>\n",
       "      <td>Central</td>\n",
       "      <td>Timothy</td>\n",
       "      <td>David</td>\n",
       "      <td>Television</td>\n",
       "      <td>7.0</td>\n",
       "      <td>1198.0</td>\n",
       "      <td>8386.0</td>\n",
       "    </tr>\n",
       "    <tr>\n",
       "      <td>2019-09-27</td>\n",
       "      <td>West</td>\n",
       "      <td>Timothy</td>\n",
       "      <td>Stephen</td>\n",
       "      <td>Cell Phone</td>\n",
       "      <td>76.0</td>\n",
       "      <td>225.0</td>\n",
       "      <td>17100.0</td>\n",
       "    </tr>\n",
       "    <tr>\n",
       "      <td>2019-10-14</td>\n",
       "      <td>West</td>\n",
       "      <td>Douglas</td>\n",
       "      <td>Michael</td>\n",
       "      <td>Home Theater</td>\n",
       "      <td>57.0</td>\n",
       "      <td>500.0</td>\n",
       "      <td>28500.0</td>\n",
       "    </tr>\n",
       "    <tr>\n",
       "      <td>2019-10-31</td>\n",
       "      <td>Central</td>\n",
       "      <td>Martha</td>\n",
       "      <td>Steven</td>\n",
       "      <td>Television</td>\n",
       "      <td>14.0</td>\n",
       "      <td>1198.0</td>\n",
       "      <td>16772.0</td>\n",
       "    </tr>\n",
       "    <tr>\n",
       "      <td>2019-11-17</td>\n",
       "      <td>Central</td>\n",
       "      <td>Hermann</td>\n",
       "      <td>Luis</td>\n",
       "      <td>Home Theater</td>\n",
       "      <td>11.0</td>\n",
       "      <td>500.0</td>\n",
       "      <td>5500.0</td>\n",
       "    </tr>\n",
       "    <tr>\n",
       "      <td>2019-12-04</td>\n",
       "      <td>Central</td>\n",
       "      <td>Hermann</td>\n",
       "      <td>Luis</td>\n",
       "      <td>Home Theater</td>\n",
       "      <td>94.0</td>\n",
       "      <td>500.0</td>\n",
       "      <td>47000.0</td>\n",
       "    </tr>\n",
       "    <tr>\n",
       "      <td>2019-12-21</td>\n",
       "      <td>Central</td>\n",
       "      <td>Martha</td>\n",
       "      <td>Steven</td>\n",
       "      <td>Home Theater</td>\n",
       "      <td>28.0</td>\n",
       "      <td>500.0</td>\n",
       "      <td>14000.0</td>\n",
       "    </tr>\n",
       "  </tbody>\n",
       "</table>\n",
       "</div>"
      ],
      "text/plain": [
       "             Region  Manager   SalesMan          Item  Units  Unit_price  \\\n",
       "OrderDate                                                                  \n",
       "2018-12-12  Central  Douglas       John    Television   67.0      1198.0   \n",
       "2018-12-29     East  Douglas      Karen   Video Games   74.0        58.5   \n",
       "2019-01-15  Central  Timothy      David  Home Theater   46.0       500.0   \n",
       "2019-02-01  Central  Douglas       John  Home Theater   87.0       500.0   \n",
       "2019-02-18     East   Martha  Alexander  Home Theater    4.0       500.0   \n",
       "2019-03-07     West  Timothy    Stephen  Home Theater    7.0       500.0   \n",
       "2019-03-24  Central  Hermann       Luis   Video Games   50.0        58.5   \n",
       "2019-04-10  Central   Martha     Steven    Television   66.0      1198.0   \n",
       "2019-04-27     East   Martha      Diana    Cell Phone   96.0       225.0   \n",
       "2019-05-14  Central  Timothy      David    Television   53.0      1198.0   \n",
       "2019-05-31  Central  Timothy      David  Home Theater   80.0       500.0   \n",
       "2019-06-17  Central  Hermann     Shelli          Desk    5.0       125.0   \n",
       "2019-07-04     East   Martha  Alexander   Video Games   62.0        58.5   \n",
       "2019-07-21  Central  Hermann      Sigal   Video Games   55.0        58.5   \n",
       "2019-08-07  Central  Hermann     Shelli   Video Games   42.0        58.5   \n",
       "2019-08-24     West  Timothy    Stephen          Desk    3.0       125.0   \n",
       "2019-09-10  Central  Timothy      David    Television    7.0      1198.0   \n",
       "2019-09-27     West  Timothy    Stephen    Cell Phone   76.0       225.0   \n",
       "2019-10-14     West  Douglas    Michael  Home Theater   57.0       500.0   \n",
       "2019-10-31  Central   Martha     Steven    Television   14.0      1198.0   \n",
       "2019-11-17  Central  Hermann       Luis  Home Theater   11.0       500.0   \n",
       "2019-12-04  Central  Hermann       Luis  Home Theater   94.0       500.0   \n",
       "2019-12-21  Central   Martha     Steven  Home Theater   28.0       500.0   \n",
       "\n",
       "            Sale_amt  \n",
       "OrderDate             \n",
       "2018-12-12   80266.0  \n",
       "2018-12-29    4329.0  \n",
       "2019-01-15   23000.0  \n",
       "2019-02-01   43500.0  \n",
       "2019-02-18    2000.0  \n",
       "2019-03-07    3500.0  \n",
       "2019-03-24    2925.0  \n",
       "2019-04-10   79068.0  \n",
       "2019-04-27   21600.0  \n",
       "2019-05-14   63494.0  \n",
       "2019-05-31   40000.0  \n",
       "2019-06-17     625.0  \n",
       "2019-07-04    3627.0  \n",
       "2019-07-21    3217.5  \n",
       "2019-08-07    2457.0  \n",
       "2019-08-24     375.0  \n",
       "2019-09-10    8386.0  \n",
       "2019-09-27   17100.0  \n",
       "2019-10-14   28500.0  \n",
       "2019-10-31   16772.0  \n",
       "2019-11-17    5500.0  \n",
       "2019-12-04   47000.0  \n",
       "2019-12-21   14000.0  "
      ]
     },
     "execution_count": 88,
     "metadata": {},
     "output_type": "execute_result"
    }
   ],
   "source": [
    "data.loc['2018-12-1':'2019-12-31']"
   ]
  },
  {
   "cell_type": "code",
   "execution_count": null,
   "id": "b6df4365",
   "metadata": {},
   "outputs": [],
   "source": []
  }
 ],
 "metadata": {
  "kernelspec": {
   "display_name": "Python 3",
   "language": "python",
   "name": "python3"
  },
  "language_info": {
   "codemirror_mode": {
    "name": "ipython",
    "version": 3
   },
   "file_extension": ".py",
   "mimetype": "text/x-python",
   "name": "python",
   "nbconvert_exporter": "python",
   "pygments_lexer": "ipython3",
   "version": "3.7.4"
  }
 },
 "nbformat": 4,
 "nbformat_minor": 5
}
