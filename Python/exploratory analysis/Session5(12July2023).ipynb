{
 "cells": [
  {
   "cell_type": "markdown",
   "id": "634e0dc5",
   "metadata": {},
   "source": [
    "# Iterating over a dictionary using a for loop"
   ]
  },
  {
   "cell_type": "code",
   "execution_count": 3,
   "id": "ac1058f2",
   "metadata": {},
   "outputs": [],
   "source": [
    "order = {'keyboard':1000, 'laptop':25000, 'mouse':5000}"
   ]
  },
  {
   "cell_type": "code",
   "execution_count": 4,
   "id": "75c1aba9",
   "metadata": {},
   "outputs": [
    {
     "data": {
      "text/plain": [
       "{'keyboard': 1000, 'laptop': 25000, 'mouse': 5000}"
      ]
     },
     "execution_count": 4,
     "metadata": {},
     "output_type": "execute_result"
    }
   ],
   "source": [
    "order"
   ]
  },
  {
   "cell_type": "code",
   "execution_count": 5,
   "id": "87dac4ee",
   "metadata": {},
   "outputs": [
    {
     "name": "stdout",
     "output_type": "stream",
     "text": [
      "keyboard\n",
      "laptop\n",
      "mouse\n"
     ]
    }
   ],
   "source": [
    "# by default it iterates over  keys only\n",
    "for prod in order:   # str, list, dict,tuple,set\n",
    "    print(prod)  "
   ]
  },
  {
   "cell_type": "code",
   "execution_count": 6,
   "id": "c7ef13a4",
   "metadata": {},
   "outputs": [
    {
     "name": "stdout",
     "output_type": "stream",
     "text": [
      "keyboard\n",
      "laptop\n",
      "mouse\n"
     ]
    }
   ],
   "source": [
    "# dict.keys() returns keys only\n",
    "for prod in order.keys():\n",
    "    print(prod)  "
   ]
  },
  {
   "cell_type": "code",
   "execution_count": 7,
   "id": "ec43922e",
   "metadata": {},
   "outputs": [
    {
     "name": "stdout",
     "output_type": "stream",
     "text": [
      "1000\n",
      "25000\n",
      "5000\n"
     ]
    }
   ],
   "source": [
    "# dict.values() returns values only\n",
    "for prod in order.values():\n",
    "    print(prod)"
   ]
  },
  {
   "cell_type": "code",
   "execution_count": 8,
   "id": "4a58a66b",
   "metadata": {},
   "outputs": [
    {
     "name": "stdout",
     "output_type": "stream",
     "text": [
      "('keyboard', 1000)\n",
      "('laptop', 25000)\n",
      "('mouse', 5000)\n"
     ]
    }
   ],
   "source": [
    "#dict.items() return list of pair of keys and value as a tuple\n",
    "for prod in order.items():\n",
    "    print(prod)\n",
    "    "
   ]
  },
  {
   "cell_type": "code",
   "execution_count": 9,
   "id": "a69ba96a",
   "metadata": {},
   "outputs": [],
   "source": [
    "alist = [24,18] # packing "
   ]
  },
  {
   "cell_type": "code",
   "execution_count": 10,
   "id": "4e042da6",
   "metadata": {},
   "outputs": [
    {
     "data": {
      "text/plain": [
       "24"
      ]
     },
     "execution_count": 10,
     "metadata": {},
     "output_type": "execute_result"
    }
   ],
   "source": [
    "apples, oranges  = alist  # unpacking\n",
    "apples"
   ]
  },
  {
   "cell_type": "code",
   "execution_count": 11,
   "id": "74b1fd07",
   "metadata": {},
   "outputs": [
    {
     "data": {
      "text/plain": [
       "18"
      ]
     },
     "execution_count": 11,
     "metadata": {},
     "output_type": "execute_result"
    }
   ],
   "source": [
    "oranges"
   ]
  },
  {
   "cell_type": "code",
   "execution_count": 12,
   "id": "f1c435d5",
   "metadata": {},
   "outputs": [],
   "source": [
    "atuple = ('keyboard', 1000)"
   ]
  },
  {
   "cell_type": "code",
   "execution_count": 13,
   "id": "aa6c8959",
   "metadata": {},
   "outputs": [
    {
     "name": "stdout",
     "output_type": "stream",
     "text": [
      "keyboard\n",
      "1000\n"
     ]
    }
   ],
   "source": [
    "key, value = atuple\n",
    "print(key)\n",
    "print(value)"
   ]
  },
  {
   "cell_type": "code",
   "execution_count": 15,
   "id": "516b6ce0",
   "metadata": {},
   "outputs": [
    {
     "name": "stdout",
     "output_type": "stream",
     "text": [
      "Key is keyboard and value is 1000\n",
      "Key is laptop and value is 25000\n",
      "Key is mouse and value is 5000\n"
     ]
    }
   ],
   "source": [
    "#dict.items() return list of pair of keys and value as a tuple\n",
    "# we unppack the tuple in for loop\n",
    "\n",
    "for key, value in order.items():\n",
    "    print(f'Key is {key} and value is {value}')\n",
    "    "
   ]
  },
  {
   "cell_type": "markdown",
   "id": "7ddffe81",
   "metadata": {},
   "source": [
    "# A List of Dictionaries"
   ]
  },
  {
   "cell_type": "code",
   "execution_count": 16,
   "id": "ea0a2b81",
   "metadata": {},
   "outputs": [],
   "source": [
    "order1 = {'item':'AC', 'price':100000, 'manufacturer':\"Dawlance\", 'customer_id':'1234'}\n",
    "order2 = {'item':'Mobile', 'price':50000, 'manufacturer':\"Samsumg\", 'customer_id':'1234'}\n",
    "order3 = {'item':'Laptop', 'price':200000, 'manufacturer':\"Lenovo\", 'customer_id':'1235'}\n",
    "order4 = {'item':'Shoes', 'price':1000, 'manufacturer':\"Bata\", 'customer_id':'1134'}\n",
    "order5 = {'item':'Shirt', 'price':1500, 'manufacturer':\"Nike\", 'customer_id':'2234'}"
   ]
  },
  {
   "cell_type": "code",
   "execution_count": 17,
   "id": "576686a9",
   "metadata": {},
   "outputs": [],
   "source": [
    "orders = [order1, order2, order3, order4, order5]\n",
    "orders = [\n",
    "             {'item':'AC', 'price':100000, 'manufacturer':\"Dawlance\", 'customer_id':'1234'},\n",
    "             {'item':'Mobile', 'price':50000, 'manufacturer':\"Samsumg\", 'customer_id':'1234'},\n",
    "             {'item':'Laptop', 'price':200000, 'manufacturer':\"Lenovo\", 'customer_id':'1235'},\n",
    "             {'item':'Shoes', 'price':1000, 'manufacturer':\"Bata\", 'customer_id':'1134'},\n",
    "             {'item':'Shirt', 'price':1500, 'manufacturer':\"Nike\", 'customer_id':'2234'}\n",
    "         ]"
   ]
  },
  {
   "cell_type": "code",
   "execution_count": 18,
   "id": "f582a4f2",
   "metadata": {},
   "outputs": [
    {
     "name": "stdout",
     "output_type": "stream",
     "text": [
      "{'item': 'AC', 'price': 100000, 'manufacturer': 'Dawlance', 'customer_id': '1234'}\n",
      "{'item': 'Mobile', 'price': 50000, 'manufacturer': 'Samsumg', 'customer_id': '1234'}\n",
      "{'item': 'Laptop', 'price': 200000, 'manufacturer': 'Lenovo', 'customer_id': '1235'}\n",
      "{'item': 'Shoes', 'price': 1000, 'manufacturer': 'Bata', 'customer_id': '1134'}\n",
      "{'item': 'Shirt', 'price': 1500, 'manufacturer': 'Nike', 'customer_id': '2234'}\n"
     ]
    }
   ],
   "source": [
    "for order in orders:\n",
    "    print(order)"
   ]
  },
  {
   "cell_type": "code",
   "execution_count": 19,
   "id": "78011f14",
   "metadata": {},
   "outputs": [
    {
     "name": "stdout",
     "output_type": "stream",
     "text": [
      "{'item': 'Mobile', 'price': 50000, 'manufacturer': 'Samsumg', 'customer_id': '1234'}\n",
      "{'item': 'Shoes', 'price': 1000, 'manufacturer': 'Bata', 'customer_id': '1134'}\n",
      "{'item': 'Shirt', 'price': 1500, 'manufacturer': 'Nike', 'customer_id': '2234'}\n"
     ]
    }
   ],
   "source": [
    "for order in orders:\n",
    "    #{'item': 'AC', 'price': 100000, 'manufacturer': 'Dawlance', 'customer_id': '1234'}\n",
    "    for key in order.keys():\n",
    "        if key == 'price':\n",
    "            if order[key] <=50000:\n",
    "                print(order)"
   ]
  },
  {
   "cell_type": "markdown",
   "id": "192c9eae",
   "metadata": {},
   "source": [
    "# While Loop"
   ]
  },
  {
   "cell_type": "code",
   "execution_count": 24,
   "id": "7e7a9cc1",
   "metadata": {},
   "outputs": [
    {
     "name": "stdout",
     "output_type": "stream",
     "text": [
      "Continue shopping....\n",
      "9000\n",
      "Continue shopping....\n",
      "8000\n",
      "Continue shopping....\n",
      "7000\n",
      "Continue shopping....\n",
      "6000\n",
      "Continue shopping....\n",
      "5000\n",
      "Continue shopping....\n",
      "4000\n",
      "Continue shopping....\n",
      "3000\n",
      "Continue shopping....\n",
      "2000\n",
      "Continue shopping....\n",
      "1000\n",
      "Continue shopping....\n",
      "0\n",
      "Continue shopping....\n",
      "-1000\n",
      "Stop Shopping\n"
     ]
    }
   ],
   "source": [
    "amount =10000\n",
    "while amount>=0:\n",
    "    print(\"Continue shopping....\")\n",
    "    \n",
    "#     amount = amount-1500\n",
    "    amount -=1000\n",
    "    print(amount)\n",
    "else:\n",
    "    print(\"Stop Shopping\")"
   ]
  },
  {
   "cell_type": "markdown",
   "id": "4ab0a3a3",
   "metadata": {},
   "source": [
    "# Difference between for loop and while loop\n",
    "    - for loop iterates over collections like range, list, tuple , dictioary, set etc..\n",
    "    - for loop will iterate completley untill n unless we use continue or break \n",
    "    \n",
    "    - while iterates over a condition is true\n",
    "    - while loops can also be inreruptted using continue and break\n",
    "    - while loops number of iterations are undefined"
   ]
  },
  {
   "cell_type": "code",
   "execution_count": 25,
   "id": "0d78ccf6",
   "metadata": {},
   "outputs": [
    {
     "name": "stdout",
     "output_type": "stream",
     "text": [
      "0\n",
      "1\n",
      "2\n",
      "3\n",
      "4\n",
      "5\n",
      "6\n",
      "7\n",
      "8\n",
      "9\n"
     ]
    }
   ],
   "source": [
    "for num in range(10):\n",
    "    print(num)"
   ]
  },
  {
   "cell_type": "code",
   "execution_count": 26,
   "id": "342a1b65",
   "metadata": {},
   "outputs": [
    {
     "name": "stdout",
     "output_type": "stream",
     "text": [
      "0\n",
      "1\n",
      "2\n",
      "3\n",
      "4\n",
      "6\n",
      "7\n",
      "8\n",
      "9\n"
     ]
    }
   ],
   "source": [
    "for num in range(10):\n",
    "    if num == 5:\n",
    "        continue\n",
    "    else:\n",
    "        print(num)"
   ]
  },
  {
   "cell_type": "code",
   "execution_count": 27,
   "id": "b30b7f22",
   "metadata": {},
   "outputs": [
    {
     "name": "stdout",
     "output_type": "stream",
     "text": [
      "0\n",
      "1\n",
      "2\n",
      "3\n",
      "4\n"
     ]
    }
   ],
   "source": [
    "for num in range(10):\n",
    "    if num == 5:\n",
    "        break\n",
    "    else:\n",
    "        print(num)"
   ]
  },
  {
   "cell_type": "code",
   "execution_count": 31,
   "id": "af38273a",
   "metadata": {},
   "outputs": [
    {
     "name": "stdout",
     "output_type": "stream",
     "text": [
      "Enter your guests name or q to quit:asad\n",
      "Enter your guests name or q to quit:ali \n",
      "Enter your guests name or q to quit:daad\n",
      "Enter your guests name or q to quit:saaad\n",
      "Enter your guests name or q to quit:aslam\n",
      "['asad', 'ali ', 'daad', 'saaad', 'aslam']\n"
     ]
    }
   ],
   "source": [
    "guests = []\n",
    "for n in range(5):\n",
    "    name = input(\"Enter your guests name or q to quit:\")\n",
    "    if name == \"q\":\n",
    "        break\n",
    "    else:\n",
    "        guests.append(name)\n",
    "print(guests)"
   ]
  },
  {
   "cell_type": "code",
   "execution_count": 32,
   "id": "a1371783",
   "metadata": {},
   "outputs": [
    {
     "name": "stdout",
     "output_type": "stream",
     "text": [
      "Enter your guests name or q to quit:nasir\n",
      "Enter your guests name or q to quit:asad\n",
      "Enter your guests name or q to quit:saad\n",
      "Enter your guests name or q to quit:masood\n",
      "Enter your guests name or q to quit:ali\n",
      "Enter your guests name or q to quit:kashif\n",
      "Enter your guests name or q to quit:faheem\n",
      "Enter your guests name or q to quit:shoaib\n",
      "Enter your guests name or q to quit:hunaid\n",
      "Enter your guests name or q to quit:hassan\n",
      "Enter your guests name or q to quit:q\n"
     ]
    },
    {
     "data": {
      "text/plain": [
       "['nasir',\n",
       " 'asad',\n",
       " 'saad',\n",
       " 'masood',\n",
       " 'ali',\n",
       " 'kashif',\n",
       " 'faheem',\n",
       " 'shoaib',\n",
       " 'hunaid',\n",
       " 'hassan']"
      ]
     },
     "execution_count": 32,
     "metadata": {},
     "output_type": "execute_result"
    }
   ],
   "source": [
    "guests = []\n",
    "while True:\n",
    "    name = input(\"Enter your guests name or q to quit:\")\n",
    "   \n",
    "    if name == \"q\":\n",
    "        break\n",
    "    else:\n",
    "        guests.append(name)\n",
    "        \n",
    "guests"
   ]
  },
  {
   "cell_type": "code",
   "execution_count": 33,
   "id": "09583965",
   "metadata": {},
   "outputs": [
    {
     "name": "stdout",
     "output_type": "stream",
     "text": [
      "Enter your guests name or q to quit:nasir\n",
      "Enter your guests name or q to quit:q\n"
     ]
    },
    {
     "data": {
      "text/plain": [
       "['nasir']"
      ]
     },
     "execution_count": 33,
     "metadata": {},
     "output_type": "execute_result"
    }
   ],
   "source": [
    "guests = []\n",
    "flag = True \n",
    "while flag:\n",
    "    name = input(\"Enter your guests name or q to quit:\")\n",
    "   \n",
    "    if name == \"q\":\n",
    "        flag = False\n",
    "    else:\n",
    "        guests.append(name)\n",
    "        \n",
    "guests"
   ]
  },
  {
   "cell_type": "raw",
   "id": "9f7f3e66",
   "metadata": {},
   "source": [
    "7-1. Rental Car: Write a program that asks the user what kind of rental car they\n",
    "would like Print a message about that car, such as “Let me see if I can find you\n",
    "a Subaru ”"
   ]
  },
  {
   "cell_type": "code",
   "execution_count": 34,
   "id": "ccc37fc3",
   "metadata": {},
   "outputs": [
    {
     "name": "stdout",
     "output_type": "stream",
     "text": [
      "what kind of rental car they would like? Sabaru\n",
      "Let me see if I can find you a Sabaru \n"
     ]
    }
   ],
   "source": [
    "car_name = input(\"what kind of rental car they would like? \")\n",
    "print(f\"Let me see if I can find you a {car_name} \")"
   ]
  },
  {
   "cell_type": "raw",
   "id": "e50c0394",
   "metadata": {},
   "source": [
    "7-2. Restaurant Seating: Write a program that asks the user how many people\n",
    "are in their dinner group If the answer is more than eight, \n",
    "print a message saying they’ll have to wait for a table Otherwise, report that their table is ready"
   ]
  },
  {
   "cell_type": "code",
   "execution_count": null,
   "id": "2e2cd892",
   "metadata": {},
   "outputs": [],
   "source": [
    "people = int(input(\"how many peopleare in their dinner group? \"))\n",
    "if people > 8:\n",
    "    "
   ]
  }
 ],
 "metadata": {
  "kernelspec": {
   "display_name": "Python 3",
   "language": "python",
   "name": "python3"
  },
  "language_info": {
   "codemirror_mode": {
    "name": "ipython",
    "version": 3
   },
   "file_extension": ".py",
   "mimetype": "text/x-python",
   "name": "python",
   "nbconvert_exporter": "python",
   "pygments_lexer": "ipython3",
   "version": "3.7.4"
  }
 },
 "nbformat": 4,
 "nbformat_minor": 5
}
