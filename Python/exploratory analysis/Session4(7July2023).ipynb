{
 "cells": [
  {
   "cell_type": "markdown",
   "id": "e7d6c1dd",
   "metadata": {},
   "source": [
    "# Tuple\n",
    "   - Represtation > () \n",
    "   - Tuple is immutable. Can be copied, indexed, sliced, but no other value can be aadded similiry we can not delete any \n",
    "     value from tuple"
   ]
  },
  {
   "cell_type": "code",
   "execution_count": 1,
   "id": "314cc2f4",
   "metadata": {},
   "outputs": [],
   "source": [
    "my_tuple = (\"Nasir\", 'Hussain', \"Data Analytics\", 'SBIL')"
   ]
  },
  {
   "cell_type": "code",
   "execution_count": 2,
   "id": "9a57e9a5",
   "metadata": {},
   "outputs": [
    {
     "data": {
      "text/plain": [
       "('Nasir', 'Hussain', 'Data Analytics', 'SBIL')"
      ]
     },
     "execution_count": 2,
     "metadata": {},
     "output_type": "execute_result"
    }
   ],
   "source": [
    "my_tuple"
   ]
  },
  {
   "cell_type": "code",
   "execution_count": 4,
   "id": "81764a96",
   "metadata": {},
   "outputs": [
    {
     "name": "stdout",
     "output_type": "stream",
     "text": [
      "<class 'tuple'>\n"
     ]
    }
   ],
   "source": [
    "print(type(my_tuple))"
   ]
  },
  {
   "cell_type": "code",
   "execution_count": 5,
   "id": "c235f48e",
   "metadata": {},
   "outputs": [
    {
     "data": {
      "text/plain": [
       "'Data Analytics'"
      ]
     },
     "execution_count": 5,
     "metadata": {},
     "output_type": "execute_result"
    }
   ],
   "source": [
    "my_tuple[2]"
   ]
  },
  {
   "cell_type": "code",
   "execution_count": 6,
   "id": "b2734074",
   "metadata": {},
   "outputs": [
    {
     "data": {
      "text/plain": [
       "'SBIL'"
      ]
     },
     "execution_count": 6,
     "metadata": {},
     "output_type": "execute_result"
    }
   ],
   "source": [
    "my_tuple[-1]"
   ]
  },
  {
   "cell_type": "code",
   "execution_count": 23,
   "id": "c1f57983",
   "metadata": {},
   "outputs": [
    {
     "data": {
      "text/plain": [
       "('Nasir', 'Hussain', 'Data Analytics', 'SBIL')"
      ]
     },
     "execution_count": 23,
     "metadata": {},
     "output_type": "execute_result"
    }
   ],
   "source": [
    "my_tuple"
   ]
  },
  {
   "cell_type": "code",
   "execution_count": 7,
   "id": "1cafd872",
   "metadata": {},
   "outputs": [
    {
     "data": {
      "text/plain": [
       "('Hussain', 'Data Analytics')"
      ]
     },
     "execution_count": 7,
     "metadata": {},
     "output_type": "execute_result"
    }
   ],
   "source": [
    "my_tuple[1:3]"
   ]
  },
  {
   "cell_type": "code",
   "execution_count": 8,
   "id": "df4bbdf8",
   "metadata": {},
   "outputs": [
    {
     "data": {
      "text/plain": [
       "1"
      ]
     },
     "execution_count": 8,
     "metadata": {},
     "output_type": "execute_result"
    }
   ],
   "source": [
    "my_tuple.count('Hussain')"
   ]
  },
  {
   "cell_type": "code",
   "execution_count": 9,
   "id": "f18b47c0",
   "metadata": {},
   "outputs": [
    {
     "data": {
      "text/plain": [
       "1"
      ]
     },
     "execution_count": 9,
     "metadata": {},
     "output_type": "execute_result"
    }
   ],
   "source": [
    "my_tuple.index(\"Hussain\")"
   ]
  },
  {
   "cell_type": "markdown",
   "id": "7167ce86",
   "metadata": {},
   "source": [
    "# Dictionary\n",
    "    - Representation > {}\n",
    "    - Dictionary Member is combination of KEY:VALUE pair\n",
    "    - There is no index concept in dictionary.\n",
    "    - Mutable"
   ]
  },
  {
   "cell_type": "code",
   "execution_count": 10,
   "id": "8fe99ee1",
   "metadata": {},
   "outputs": [],
   "source": [
    "record1 = {'roll_num':1234,'name':'Kamran','course':\"Data Analytics\"}"
   ]
  },
  {
   "cell_type": "code",
   "execution_count": 11,
   "id": "c617292d",
   "metadata": {},
   "outputs": [
    {
     "data": {
      "text/plain": [
       "{'roll_num': 1234, 'name': 'Kamran', 'course': 'Data Analytics'}"
      ]
     },
     "execution_count": 11,
     "metadata": {},
     "output_type": "execute_result"
    }
   ],
   "source": [
    "record1"
   ]
  },
  {
   "cell_type": "code",
   "execution_count": 12,
   "id": "93bcbb26",
   "metadata": {},
   "outputs": [
    {
     "name": "stdout",
     "output_type": "stream",
     "text": [
      "<class 'dict'>\n"
     ]
    }
   ],
   "source": [
    "print(type(record1))"
   ]
  },
  {
   "cell_type": "code",
   "execution_count": 13,
   "id": "7809417e",
   "metadata": {},
   "outputs": [
    {
     "data": {
      "text/plain": [
       "'Kamran'"
      ]
     },
     "execution_count": 13,
     "metadata": {},
     "output_type": "execute_result"
    }
   ],
   "source": [
    "# Accesssing member from dictionry: using key\n",
    "record1['name']"
   ]
  },
  {
   "cell_type": "code",
   "execution_count": 14,
   "id": "228d9e81",
   "metadata": {},
   "outputs": [
    {
     "data": {
      "text/plain": [
       "1234"
      ]
     },
     "execution_count": 14,
     "metadata": {},
     "output_type": "execute_result"
    }
   ],
   "source": [
    "record1['roll_num']"
   ]
  },
  {
   "cell_type": "code",
   "execution_count": 15,
   "id": "10132d24",
   "metadata": {},
   "outputs": [
    {
     "data": {
      "text/plain": [
       "{'roll_num': 1234, 'name': 'Kamran'}"
      ]
     },
     "execution_count": 15,
     "metadata": {},
     "output_type": "execute_result"
    }
   ],
   "source": [
    "# deleting a member (key:value) using key\n",
    "del record1['course']\n",
    "record1"
   ]
  },
  {
   "cell_type": "code",
   "execution_count": 16,
   "id": "1b56643e",
   "metadata": {},
   "outputs": [
    {
     "data": {
      "text/plain": [
       "{'roll_num': 4321, 'name': 'Kamran'}"
      ]
     },
     "execution_count": 16,
     "metadata": {},
     "output_type": "execute_result"
    }
   ],
   "source": [
    "# updating the value of a key. \n",
    "record1['roll_num'] = 4321\n",
    "record1"
   ]
  },
  {
   "cell_type": "code",
   "execution_count": 17,
   "id": "86c59537",
   "metadata": {},
   "outputs": [
    {
     "data": {
      "text/plain": [
       "{'roll_num': 4321, 'name': 'Kamran', 'course': 'Data Sciences'}"
      ]
     },
     "execution_count": 17,
     "metadata": {},
     "output_type": "execute_result"
    }
   ],
   "source": [
    "# adding a new member in dictionary\n",
    "record1['course'] = \"Data Sciences\"\n",
    "record1"
   ]
  },
  {
   "cell_type": "code",
   "execution_count": 18,
   "id": "852d5ee3",
   "metadata": {},
   "outputs": [
    {
     "data": {
      "text/plain": [
       "{'roll_num': 4321,\n",
       " 'name': 'Kamran',\n",
       " 'course': 'Data Sciences',\n",
       " 'Days': 'Wednesday & Thursday'}"
      ]
     },
     "execution_count": 18,
     "metadata": {},
     "output_type": "execute_result"
    }
   ],
   "source": [
    "record1['Days']= \"Wednesday & Thursday\"\n",
    "record1"
   ]
  },
  {
   "cell_type": "code",
   "execution_count": 19,
   "id": "e1e3ae40",
   "metadata": {},
   "outputs": [
    {
     "data": {
      "text/plain": [
       "{'roll_num': 4321,\n",
       " 'name': 'Kamran',\n",
       " 'course': 'Data Sciences',\n",
       " 'Days': 'Wednesday & Thursday'}"
      ]
     },
     "execution_count": 19,
     "metadata": {},
     "output_type": "execute_result"
    }
   ],
   "source": [
    "record2  = record1.copy()\n",
    "record2"
   ]
  },
  {
   "cell_type": "code",
   "execution_count": 20,
   "id": "6dbf3d39",
   "metadata": {},
   "outputs": [
    {
     "data": {
      "text/plain": [
       "dict_keys(['roll_num', 'name', 'course', 'Days'])"
      ]
     },
     "execution_count": 20,
     "metadata": {},
     "output_type": "execute_result"
    }
   ],
   "source": [
    "record2.keys()"
   ]
  },
  {
   "cell_type": "code",
   "execution_count": 21,
   "id": "e7fe7598",
   "metadata": {},
   "outputs": [
    {
     "data": {
      "text/plain": [
       "dict_values([4321, 'Kamran', 'Data Sciences', 'Wednesday & Thursday'])"
      ]
     },
     "execution_count": 21,
     "metadata": {},
     "output_type": "execute_result"
    }
   ],
   "source": [
    "record2.values()"
   ]
  },
  {
   "cell_type": "code",
   "execution_count": 22,
   "id": "80efedd3",
   "metadata": {},
   "outputs": [
    {
     "data": {
      "text/plain": [
       "dict_items([('roll_num', 4321), ('name', 'Kamran'), ('course', 'Data Sciences'), ('Days', 'Wednesday & Thursday')])"
      ]
     },
     "execution_count": 22,
     "metadata": {},
     "output_type": "execute_result"
    }
   ],
   "source": [
    "record2.items()"
   ]
  },
  {
   "cell_type": "code",
   "execution_count": 24,
   "id": "f2ada8e9",
   "metadata": {},
   "outputs": [
    {
     "name": "stdout",
     "output_type": "stream",
     "text": [
      "Kamran\n",
      "Kamran\n"
     ]
    }
   ],
   "source": [
    "print(record2.get(\"name\"))\n",
    "print(record2['name'])"
   ]
  },
  {
   "cell_type": "markdown",
   "id": "9299b74c",
   "metadata": {},
   "source": [
    "# Set\n",
    "   - representation > {}\n",
    "   - a  collection of distinct object (unique)\n",
    "   - index , slice "
   ]
  },
  {
   "cell_type": "code",
   "execution_count": 26,
   "id": "77f93563",
   "metadata": {},
   "outputs": [
    {
     "data": {
      "text/plain": [
       "dict"
      ]
     },
     "execution_count": 26,
     "metadata": {},
     "output_type": "execute_result"
    }
   ],
   "source": [
    "transaction = {}\n",
    "type(transaction)"
   ]
  },
  {
   "cell_type": "code",
   "execution_count": 27,
   "id": "2e932c52",
   "metadata": {},
   "outputs": [
    {
     "data": {
      "text/plain": [
       "set"
      ]
     },
     "execution_count": 27,
     "metadata": {},
     "output_type": "execute_result"
    }
   ],
   "source": [
    "transaction = {2}\n",
    "type(transaction)"
   ]
  },
  {
   "cell_type": "code",
   "execution_count": 28,
   "id": "2bb56d7b",
   "metadata": {},
   "outputs": [],
   "source": [
    "a_set = {1,2,3,4,3,4,5,6,5,6,5,4,7,8,9,0}"
   ]
  },
  {
   "cell_type": "code",
   "execution_count": 29,
   "id": "330e29e6",
   "metadata": {},
   "outputs": [
    {
     "data": {
      "text/plain": [
       "10"
      ]
     },
     "execution_count": 29,
     "metadata": {},
     "output_type": "execute_result"
    }
   ],
   "source": [
    "len(a_set)"
   ]
  },
  {
   "cell_type": "code",
   "execution_count": 30,
   "id": "889387e4",
   "metadata": {},
   "outputs": [
    {
     "data": {
      "text/plain": [
       "{0, 1, 2, 3, 4, 5, 6, 7, 8, 9}"
      ]
     },
     "execution_count": 30,
     "metadata": {},
     "output_type": "execute_result"
    }
   ],
   "source": [
    "a_set"
   ]
  },
  {
   "cell_type": "code",
   "execution_count": 32,
   "id": "2925b4fc",
   "metadata": {},
   "outputs": [
    {
     "ename": "TypeError",
     "evalue": "'set' object is not subscriptable",
     "output_type": "error",
     "traceback": [
      "\u001b[1;31m---------------------------------------------------------------------------\u001b[0m",
      "\u001b[1;31mTypeError\u001b[0m                                 Traceback (most recent call last)",
      "\u001b[1;32m<ipython-input-32-43d01820471f>\u001b[0m in \u001b[0;36m<module>\u001b[1;34m\u001b[0m\n\u001b[1;32m----> 1\u001b[1;33m \u001b[0ma_set\u001b[0m\u001b[1;33m[\u001b[0m\u001b[1;36m2\u001b[0m\u001b[1;33m]\u001b[0m\u001b[1;33m\u001b[0m\u001b[1;33m\u001b[0m\u001b[0m\n\u001b[0m",
      "\u001b[1;31mTypeError\u001b[0m: 'set' object is not subscriptable"
     ]
    }
   ],
   "source": [
    "a_set[2]"
   ]
  },
  {
   "cell_type": "markdown",
   "id": "81b6e273",
   "metadata": {},
   "source": [
    "# Loops\n",
    "    - Python loop are of two types:\n",
    "        - for-in loops\n",
    "        - while loops"
   ]
  },
  {
   "cell_type": "code",
   "execution_count": 33,
   "id": "40d8b8ce",
   "metadata": {},
   "outputs": [
    {
     "name": "stdout",
     "output_type": "stream",
     "text": [
      "Nasir\n",
      "Nasir\n",
      "Nasir\n",
      "Nasir\n",
      "Nasir\n",
      "Nasir\n",
      "Nasir\n",
      "Nasir\n",
      "Nasir\n",
      "Nasir\n",
      "Nasir\n",
      "Nasir\n"
     ]
    }
   ],
   "source": [
    "print('Nasir')\n",
    "print('Nasir')\n",
    "print('Nasir')\n",
    "print('Nasir')\n",
    "print('Nasir')\n",
    "print('Nasir')\n",
    "print('Nasir')\n",
    "print('Nasir')\n",
    "print('Nasir')\n",
    "print('Nasir')\n",
    "print('Nasir')\n",
    "print('Nasir')\n"
   ]
  },
  {
   "cell_type": "code",
   "execution_count": 35,
   "id": "2407fa82",
   "metadata": {},
   "outputs": [
    {
     "data": {
      "text/plain": [
       "[0, 1, 2, 3, 4, 5, 6, 7, 8, 9]"
      ]
     },
     "execution_count": 35,
     "metadata": {},
     "output_type": "execute_result"
    }
   ],
   "source": [
    "list(range(10))"
   ]
  },
  {
   "cell_type": "code",
   "execution_count": 43,
   "id": "d86b1edb",
   "metadata": {},
   "outputs": [
    {
     "name": "stdout",
     "output_type": "stream",
     "text": [
      "0 Nasir\n",
      "1 Nasir\n",
      "2 Nasir\n",
      "3 Nasir\n",
      "4 Nasir\n",
      "5 Nasir\n",
      "6 Nasir\n",
      "7 Nasir\n",
      "8 Nasir\n",
      "9 Nasir\n"
     ]
    }
   ],
   "source": [
    "for num in range(10):\n",
    "    print(num, \"Nasir\")"
   ]
  },
  {
   "cell_type": "code",
   "execution_count": 44,
   "id": "fc97be8f",
   "metadata": {},
   "outputs": [
    {
     "name": "stdout",
     "output_type": "stream",
     "text": [
      "1 Nasir\n",
      "2 Nasir\n",
      "3 Nasir\n",
      "4 Nasir\n",
      "5 Nasir\n",
      "6 Nasir\n",
      "7 Nasir\n",
      "8 Nasir\n",
      "9 Nasir\n"
     ]
    }
   ],
   "source": [
    "for num in range(1,10):\n",
    "    print(num, \"Nasir\")"
   ]
  },
  {
   "cell_type": "code",
   "execution_count": 45,
   "id": "83968ca0",
   "metadata": {},
   "outputs": [
    {
     "name": "stdout",
     "output_type": "stream",
     "text": [
      "1 Nasir\n",
      "2 Nasir\n",
      "3 Nasir\n",
      "4 Nasir\n",
      "5 Nasir\n",
      "6 Nasir\n",
      "7 Nasir\n",
      "8 Nasir\n",
      "9 Nasir\n"
     ]
    }
   ],
   "source": [
    "for num in range(1,10,1):\n",
    "    print(num, \"Nasir\")"
   ]
  },
  {
   "cell_type": "code",
   "execution_count": 46,
   "id": "0d2c5706",
   "metadata": {},
   "outputs": [
    {
     "name": "stdout",
     "output_type": "stream",
     "text": [
      "1 Nasir\n",
      "3 Nasir\n",
      "5 Nasir\n",
      "7 Nasir\n",
      "9 Nasir\n"
     ]
    }
   ],
   "source": [
    "for num in range(1,10,2):\n",
    "    print(num, \"Nasir\")"
   ]
  },
  {
   "cell_type": "code",
   "execution_count": 49,
   "id": "127b091a",
   "metadata": {},
   "outputs": [
    {
     "name": "stdout",
     "output_type": "stream",
     "text": [
      "10 Nasir\n",
      "9 Nasir\n",
      "8 Nasir\n",
      "7 Nasir\n",
      "6 Nasir\n",
      "5 Nasir\n",
      "4 Nasir\n",
      "3 Nasir\n",
      "2 Nasir\n",
      "1 Nasir\n"
     ]
    }
   ],
   "source": [
    "for num in range(10,0,-1):\n",
    "    print(num, \"Nasir\")"
   ]
  },
  {
   "cell_type": "code",
   "execution_count": 50,
   "id": "03cf6565",
   "metadata": {},
   "outputs": [
    {
     "name": "stdout",
     "output_type": "stream",
     "text": [
      "P\n",
      "a\n",
      "k\n",
      "i\n",
      "s\n",
      "t\n",
      "a\n",
      "n\n"
     ]
    }
   ],
   "source": [
    "for char in \"Pakistan\":\n",
    "    print(char)"
   ]
  },
  {
   "cell_type": "code",
   "execution_count": 55,
   "id": "6c006745",
   "metadata": {},
   "outputs": [
    {
     "name": "stdout",
     "output_type": "stream",
     "text": [
      "ASLAM\n",
      "FAISAL\n",
      "KASHIF ALI\n",
      "KASHIF AHMED\n",
      "KASHIF KHAN\n",
      "AHMED\n",
      "FARHAN\n",
      "HASAN\n",
      "UMER\n",
      "YASIR\n"
     ]
    }
   ],
   "source": [
    "students = ['aslam', 'faisal', 'kashif ali', 'kashif ahmed', 'kashif khan', 'ahmed', 'farhan', 'hasan', 'umer', 'yasir']\n",
    "\n",
    "for student in students:\n",
    "    print(student.upper())"
   ]
  },
  {
   "cell_type": "code",
   "execution_count": 56,
   "id": "6ca75723",
   "metadata": {},
   "outputs": [
    {
     "name": "stdout",
     "output_type": "stream",
     "text": [
      "Email sent to aslam\n",
      "Email sent to ahmed\n"
     ]
    }
   ],
   "source": [
    "for student in students:\n",
    "    if student.startswith(\"a\"):\n",
    "        print(\"Email sent to\", student)"
   ]
  },
  {
   "cell_type": "code",
   "execution_count": 57,
   "id": "82135e0d",
   "metadata": {},
   "outputs": [
    {
     "name": "stdout",
     "output_type": "stream",
     "text": [
      "Email sent to aslam\n",
      "Email sent to faisal\n",
      "Email sent to kashif ali\n",
      "Email sent to kashif ahmed\n",
      "Email sent to kashif khan\n",
      "Email sent to farhan\n",
      "Email sent to hasan\n"
     ]
    }
   ],
   "source": [
    "for student in students:\n",
    "    if student.count('a') >=2:\n",
    "        print(\"Email sent to\", student)"
   ]
  },
  {
   "cell_type": "code",
   "execution_count": null,
   "id": "231279aa",
   "metadata": {},
   "outputs": [],
   "source": []
  }
 ],
 "metadata": {
  "kernelspec": {
   "display_name": "Python 3",
   "language": "python",
   "name": "python3"
  },
  "language_info": {
   "codemirror_mode": {
    "name": "ipython",
    "version": 3
   },
   "file_extension": ".py",
   "mimetype": "text/x-python",
   "name": "python",
   "nbconvert_exporter": "python",
   "pygments_lexer": "ipython3",
   "version": "3.7.4"
  }
 },
 "nbformat": 4,
 "nbformat_minor": 5
}
