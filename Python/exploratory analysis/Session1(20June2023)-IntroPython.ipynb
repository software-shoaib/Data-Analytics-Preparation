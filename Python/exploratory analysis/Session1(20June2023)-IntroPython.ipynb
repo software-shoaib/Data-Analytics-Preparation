{
 "cells": [
  {
   "cell_type": "markdown",
   "id": "c279a266",
   "metadata": {},
   "source": [
    "# Introduction to Python for Data Analytics\n",
    "    - Python is an open source programming language\n",
    "    - we will use anaconda distribution for running python\n",
    "    - Jupyter notebook will be out IDE from anaconda to do data analytics \n",
    "    - Python is a case sensitive langauge \n",
    "    - Python is a high level language \n",
    "    "
   ]
  },
  {
   "cell_type": "markdown",
   "id": "b6c5e3a3",
   "metadata": {},
   "source": [
    "# Todays Topics :\n",
    "     - Print function\n",
    "     - Data types\n",
    "     - Variables "
   ]
  },
  {
   "cell_type": "markdown",
   "id": "5ddc895e",
   "metadata": {},
   "source": [
    "### print"
   ]
  },
  {
   "cell_type": "code",
   "execution_count": 5,
   "id": "7f78c2f2",
   "metadata": {},
   "outputs": [
    {
     "name": "stdout",
     "output_type": "stream",
     "text": [
      "100\n"
     ]
    }
   ],
   "source": [
    "print(100)"
   ]
  },
  {
   "cell_type": "code",
   "execution_count": 6,
   "id": "476541ef",
   "metadata": {},
   "outputs": [
    {
     "ename": "SyntaxError",
     "evalue": "invalid syntax (<ipython-input-6-3110b78f7dde>, line 1)",
     "output_type": "error",
     "traceback": [
      "\u001b[1;36m  File \u001b[1;32m\"<ipython-input-6-3110b78f7dde>\"\u001b[1;36m, line \u001b[1;32m1\u001b[0m\n\u001b[1;33m    print( Syed Asif Raza )\u001b[0m\n\u001b[1;37m                   ^\u001b[0m\n\u001b[1;31mSyntaxError\u001b[0m\u001b[1;31m:\u001b[0m invalid syntax\n"
     ]
    }
   ],
   "source": [
    "print( Syed Asif Raza )"
   ]
  },
  {
   "cell_type": "code",
   "execution_count": 7,
   "id": "292e030e",
   "metadata": {},
   "outputs": [
    {
     "name": "stdout",
     "output_type": "stream",
     "text": [
      "Syed Asif Raza\n"
     ]
    }
   ],
   "source": [
    "print( \"Syed Asif Raza\" )"
   ]
  },
  {
   "cell_type": "code",
   "execution_count": 8,
   "id": "95bf3513",
   "metadata": {},
   "outputs": [
    {
     "name": "stdout",
     "output_type": "stream",
     "text": [
      "Syed Asif Raza Saqib Ali Zeeshan Ameer Ali\n"
     ]
    }
   ],
   "source": [
    "print( \"Syed Asif Raza\", \"Saqib Ali\", \"Zeeshan Ameer Ali\" )"
   ]
  },
  {
   "cell_type": "code",
   "execution_count": 9,
   "id": "e9b8e505",
   "metadata": {},
   "outputs": [
    {
     "name": "stdout",
     "output_type": "stream",
     "text": [
      "Syed Asif Raza 500\n"
     ]
    }
   ],
   "source": [
    "print(\"Syed Asif Raza\", 500)"
   ]
  },
  {
   "cell_type": "markdown",
   "id": "1260b746",
   "metadata": {},
   "source": [
    "Value refers to data \n",
    "\n",
    "Data > text , numbers , \n",
    "\n",
    "       Boolean (True /False ) >> bool\n",
    "\n",
    "Text data in python >>>> String (str)\n",
    "\n",
    "\"Hassan\" , \"100\", 'Nasir', '''Python '''\n",
    "\n",
    "Numbers data >>> numeric data \n",
    "\n",
    "                    whole numbers    >>> integers (int)\n",
    "                    \n",
    "                    decimal numbers  >>> float (float)\n"
   ]
  },
  {
   "cell_type": "code",
   "execution_count": 36,
   "id": "ace35d32",
   "metadata": {},
   "outputs": [
    {
     "name": "stdout",
     "output_type": "stream",
     "text": [
      "Pakistan True False 1200 98.56\n"
     ]
    }
   ],
   "source": [
    "print(\"Pakistan\", True,False, 1200, 98.56)"
   ]
  },
  {
   "cell_type": "markdown",
   "id": "e20bc7fb",
   "metadata": {},
   "source": [
    "##### Making String using single double and triple quotes\n",
    "     \"Pakistan\"\n",
    "     'Pakistan'\n",
    "     '''Pakistan'''"
   ]
  },
  {
   "cell_type": "code",
   "execution_count": 37,
   "id": "3deef55d",
   "metadata": {},
   "outputs": [
    {
     "name": "stdout",
     "output_type": "stream",
     "text": [
      "I am a python leaner\n"
     ]
    }
   ],
   "source": [
    "print(\"I am a python leaner\")"
   ]
  },
  {
   "cell_type": "code",
   "execution_count": 38,
   "id": "b5d142f6",
   "metadata": {},
   "outputs": [
    {
     "name": "stdout",
     "output_type": "stream",
     "text": [
      "We are learning Data Analytics at SBIL\n"
     ]
    }
   ],
   "source": [
    "print('We are learning Data Analytics at SBIL')"
   ]
  },
  {
   "cell_type": "markdown",
   "id": "a201516a",
   "metadata": {},
   "source": [
    "We can not make a string with more than one lines using single or double quoatatons\n",
    "\n",
    "But we can make a multiline string using a tripple qouates"
   ]
  },
  {
   "cell_type": "code",
   "execution_count": 39,
   "id": "829f5d1c",
   "metadata": {},
   "outputs": [
    {
     "ename": "SyntaxError",
     "evalue": "EOL while scanning string literal (<ipython-input-39-9159d4f5fcf1>, line 1)",
     "output_type": "error",
     "traceback": [
      "\u001b[1;36m  File \u001b[1;32m\"<ipython-input-39-9159d4f5fcf1>\"\u001b[1;36m, line \u001b[1;32m1\u001b[0m\n\u001b[1;33m    print('I am a python leaner\u001b[0m\n\u001b[1;37m                               ^\u001b[0m\n\u001b[1;31mSyntaxError\u001b[0m\u001b[1;31m:\u001b[0m EOL while scanning string literal\n"
     ]
    }
   ],
   "source": [
    "print('I am a python leaner\n",
    "      We are learning Data Analytics at SBIL')"
   ]
  },
  {
   "cell_type": "code",
   "execution_count": 40,
   "id": "c88cef83",
   "metadata": {},
   "outputs": [
    {
     "name": "stdout",
     "output_type": "stream",
     "text": [
      "I am a python leaner \n",
      "We are learning       \n",
      "Data Analytics       \n",
      "at SBIL\n"
     ]
    }
   ],
   "source": [
    "print('''I am a python leaner \n",
    "We are learning       \n",
    "Data Analytics       \n",
    "at SBIL''')"
   ]
  },
  {
   "cell_type": "markdown",
   "id": "35e93ddb",
   "metadata": {},
   "source": [
    "# type()\n",
    "     to check the type of data of any given value"
   ]
  },
  {
   "cell_type": "code",
   "execution_count": 41,
   "id": "07bbda6e",
   "metadata": {},
   "outputs": [
    {
     "data": {
      "text/plain": [
       "str"
      ]
     },
     "execution_count": 41,
     "metadata": {},
     "output_type": "execute_result"
    }
   ],
   "source": [
    "type(\"SBIL\")"
   ]
  },
  {
   "cell_type": "code",
   "execution_count": 42,
   "id": "04319c87",
   "metadata": {},
   "outputs": [
    {
     "data": {
      "text/plain": [
       "int"
      ]
     },
     "execution_count": 42,
     "metadata": {},
     "output_type": "execute_result"
    }
   ],
   "source": [
    "type(890)"
   ]
  },
  {
   "cell_type": "code",
   "execution_count": 43,
   "id": "3da58616",
   "metadata": {},
   "outputs": [
    {
     "data": {
      "text/plain": [
       "float"
      ]
     },
     "execution_count": 43,
     "metadata": {},
     "output_type": "execute_result"
    }
   ],
   "source": [
    "type(45.45)"
   ]
  },
  {
   "cell_type": "code",
   "execution_count": 44,
   "id": "e35e9ce2",
   "metadata": {},
   "outputs": [
    {
     "data": {
      "text/plain": [
       "bool"
      ]
     },
     "execution_count": 44,
     "metadata": {},
     "output_type": "execute_result"
    }
   ],
   "source": [
    "type(True)"
   ]
  },
  {
   "cell_type": "markdown",
   "id": "ea92ec77",
   "metadata": {},
   "source": [
    "# Variables\n",
    "      - variable is identifier of any data\n",
    "      - variable holds data and acts as a container\n",
    "      - variables stores data on RAM."
   ]
  },
  {
   "cell_type": "code",
   "execution_count": 45,
   "id": "e39edb52",
   "metadata": {},
   "outputs": [],
   "source": [
    "student = \"Aftab Mohiuddin\""
   ]
  },
  {
   "cell_type": "markdown",
   "id": "e7612356",
   "metadata": {},
   "source": [
    "A value \"Aftab Mohiuddin\" of type string is assigned to a variable student using assignment operator ="
   ]
  },
  {
   "cell_type": "code",
   "execution_count": 46,
   "id": "007f5f0d",
   "metadata": {},
   "outputs": [
    {
     "name": "stdout",
     "output_type": "stream",
     "text": [
      "Aftab Mohiuddin\n"
     ]
    }
   ],
   "source": [
    "print(student)"
   ]
  },
  {
   "cell_type": "code",
   "execution_count": 47,
   "id": "c26331a1",
   "metadata": {},
   "outputs": [
    {
     "data": {
      "text/plain": [
       "2082543824112"
      ]
     },
     "execution_count": 47,
     "metadata": {},
     "output_type": "execute_result"
    }
   ],
   "source": [
    "id(student)"
   ]
  },
  {
   "cell_type": "code",
   "execution_count": 28,
   "id": "e6a1c6c0",
   "metadata": {},
   "outputs": [],
   "source": [
    "number = 123"
   ]
  },
  {
   "cell_type": "code",
   "execution_count": 48,
   "id": "fd6791e1",
   "metadata": {},
   "outputs": [
    {
     "data": {
      "text/plain": [
       "123"
      ]
     },
     "execution_count": 48,
     "metadata": {},
     "output_type": "execute_result"
    }
   ],
   "source": [
    "number"
   ]
  },
  {
   "cell_type": "code",
   "execution_count": 49,
   "id": "83d8ab4a",
   "metadata": {},
   "outputs": [],
   "source": [
    "marks = 89"
   ]
  },
  {
   "cell_type": "code",
   "execution_count": 50,
   "id": "8dedb514",
   "metadata": {},
   "outputs": [
    {
     "data": {
      "text/plain": [
       "89"
      ]
     },
     "execution_count": 50,
     "metadata": {},
     "output_type": "execute_result"
    }
   ],
   "source": [
    "marks"
   ]
  },
  {
   "cell_type": "code",
   "execution_count": 51,
   "id": "490b4f43",
   "metadata": {},
   "outputs": [
    {
     "data": {
      "text/plain": [
       "212"
      ]
     },
     "execution_count": 51,
     "metadata": {},
     "output_type": "execute_result"
    }
   ],
   "source": [
    "number + marks"
   ]
  },
  {
   "cell_type": "code",
   "execution_count": 34,
   "id": "de4965f3",
   "metadata": {},
   "outputs": [],
   "source": [
    "firstname = 'Nasir'\n",
    "lastname = 'Hussain'"
   ]
  },
  {
   "cell_type": "code",
   "execution_count": 52,
   "id": "9d91ef15",
   "metadata": {},
   "outputs": [
    {
     "data": {
      "text/plain": [
       "'NasirHussain'"
      ]
     },
     "execution_count": 52,
     "metadata": {},
     "output_type": "execute_result"
    }
   ],
   "source": [
    "firstname + lastname"
   ]
  },
  {
   "cell_type": "markdown",
   "id": "fda4489a",
   "metadata": {},
   "source": [
    "# Illegal Variable Names\n",
    "      - python keywords (if else break continue open close for while   in not etc...\n",
    "      - space in varaible \n",
    "      - starting with a number \n",
    "      - Use of Special character !@#$%^&*(){}\"<>? "
   ]
  },
  {
   "cell_type": "code",
   "execution_count": 54,
   "id": "99234fe3",
   "metadata": {},
   "outputs": [],
   "source": [
    "fathername  = \"Abdul Rasheed\""
   ]
  },
  {
   "cell_type": "code",
   "execution_count": 55,
   "id": "78ce456d",
   "metadata": {},
   "outputs": [],
   "source": [
    "father_name = \"Abdul Rasheed\""
   ]
  },
  {
   "cell_type": "code",
   "execution_count": 56,
   "id": "cbf3642b",
   "metadata": {},
   "outputs": [],
   "source": [
    "fatherName = \"Abdul Rasheed\""
   ]
  },
  {
   "cell_type": "code",
   "execution_count": 57,
   "id": "556b7329",
   "metadata": {},
   "outputs": [],
   "source": [
    "my_first_book_on_programming = \"Programming for kids\""
   ]
  },
  {
   "cell_type": "code",
   "execution_count": 59,
   "id": "7b3044a4",
   "metadata": {},
   "outputs": [],
   "source": [
    "my_1st_BookOnProgramming = \"Programming for kids\""
   ]
  },
  {
   "cell_type": "code",
   "execution_count": 61,
   "id": "c32b1e1a",
   "metadata": {},
   "outputs": [
    {
     "ename": "SyntaxError",
     "evalue": "invalid syntax (<ipython-input-61-8d0d57e64171>, line 1)",
     "output_type": "error",
     "traceback": [
      "\u001b[1;36m  File \u001b[1;32m\"<ipython-input-61-8d0d57e64171>\"\u001b[1;36m, line \u001b[1;32m1\u001b[0m\n\u001b[1;33m    my(1st)$BookOnProgramming = \"Programming for kids\"\u001b[0m\n\u001b[1;37m         ^\u001b[0m\n\u001b[1;31mSyntaxError\u001b[0m\u001b[1;31m:\u001b[0m invalid syntax\n"
     ]
    }
   ],
   "source": [
    "my(1st)BookOnProgramming = \"Programming for kids\""
   ]
  },
  {
   "cell_type": "code",
   "execution_count": 62,
   "id": "71e32b33",
   "metadata": {},
   "outputs": [
    {
     "data": {
      "text/plain": [
       "int"
      ]
     },
     "execution_count": 62,
     "metadata": {},
     "output_type": "execute_result"
    }
   ],
   "source": [
    "type(marks)"
   ]
  },
  {
   "cell_type": "code",
   "execution_count": 63,
   "id": "78a16d0c",
   "metadata": {},
   "outputs": [
    {
     "data": {
      "text/plain": [
       "int"
      ]
     },
     "execution_count": 63,
     "metadata": {},
     "output_type": "execute_result"
    }
   ],
   "source": [
    "type(number)"
   ]
  },
  {
   "cell_type": "code",
   "execution_count": 64,
   "id": "5f7ee363",
   "metadata": {},
   "outputs": [
    {
     "data": {
      "text/plain": [
       "str"
      ]
     },
     "execution_count": 64,
     "metadata": {},
     "output_type": "execute_result"
    }
   ],
   "source": [
    "type(fathername)"
   ]
  },
  {
   "cell_type": "markdown",
   "id": "e75b5cce",
   "metadata": {},
   "source": [
    "# Operators \n",
    "       +, -, *, /, //, **, %, >, <, >=, <=, ==, !="
   ]
  },
  {
   "cell_type": "code",
   "execution_count": 65,
   "id": "6746c03f",
   "metadata": {},
   "outputs": [],
   "source": [
    "val1 = 45\n",
    "val2 = 78"
   ]
  },
  {
   "cell_type": "code",
   "execution_count": 66,
   "id": "89bff999",
   "metadata": {},
   "outputs": [
    {
     "data": {
      "text/plain": [
       "123"
      ]
     },
     "execution_count": 66,
     "metadata": {},
     "output_type": "execute_result"
    }
   ],
   "source": [
    "val2 + val1"
   ]
  },
  {
   "cell_type": "code",
   "execution_count": 67,
   "id": "b4b943ce",
   "metadata": {},
   "outputs": [
    {
     "data": {
      "text/plain": [
       "33"
      ]
     },
     "execution_count": 67,
     "metadata": {},
     "output_type": "execute_result"
    }
   ],
   "source": [
    "val2 - val1"
   ]
  },
  {
   "cell_type": "code",
   "execution_count": 68,
   "id": "ccc96725",
   "metadata": {},
   "outputs": [
    {
     "data": {
      "text/plain": [
       "3510"
      ]
     },
     "execution_count": 68,
     "metadata": {},
     "output_type": "execute_result"
    }
   ],
   "source": [
    "val2 * val1"
   ]
  },
  {
   "cell_type": "markdown",
   "id": "ee51c40b",
   "metadata": {},
   "source": [
    "#### Float Division\n",
    "when both values are integers "
   ]
  },
  {
   "cell_type": "code",
   "execution_count": 69,
   "id": "e323a0a2",
   "metadata": {},
   "outputs": [
    {
     "data": {
      "text/plain": [
       "1.7333333333333334"
      ]
     },
     "execution_count": 69,
     "metadata": {},
     "output_type": "execute_result"
    }
   ],
   "source": [
    "val2 / val1    "
   ]
  },
  {
   "cell_type": "markdown",
   "id": "a791e4ca",
   "metadata": {},
   "source": [
    "#### Integer Division\n",
    "when both values are integers "
   ]
  },
  {
   "cell_type": "code",
   "execution_count": 70,
   "id": "612461bc",
   "metadata": {},
   "outputs": [
    {
     "data": {
      "text/plain": [
       "1"
      ]
     },
     "execution_count": 70,
     "metadata": {},
     "output_type": "execute_result"
    }
   ],
   "source": [
    "val2 // val1   "
   ]
  },
  {
   "cell_type": "code",
   "execution_count": 74,
   "id": "1de7daf6",
   "metadata": {},
   "outputs": [
    {
     "name": "stdout",
     "output_type": "stream",
     "text": [
      "8 9 64\n"
     ]
    }
   ],
   "source": [
    "print(2**3, 3**2,4**3)"
   ]
  },
  {
   "cell_type": "code",
   "execution_count": 75,
   "id": "c6c47da1",
   "metadata": {},
   "outputs": [
    {
     "data": {
      "text/plain": [
       "2.0"
      ]
     },
     "execution_count": 75,
     "metadata": {},
     "output_type": "execute_result"
    }
   ],
   "source": [
    "10/5   #it returns quoatient"
   ]
  },
  {
   "cell_type": "code",
   "execution_count": 76,
   "id": "86b84ffb",
   "metadata": {},
   "outputs": [
    {
     "data": {
      "text/plain": [
       "0"
      ]
     },
     "execution_count": 76,
     "metadata": {},
     "output_type": "execute_result"
    }
   ],
   "source": [
    "10%5  # it return remainder of the divsion"
   ]
  },
  {
   "cell_type": "code",
   "execution_count": 77,
   "id": "4c2af379",
   "metadata": {},
   "outputs": [
    {
     "data": {
      "text/plain": [
       "2"
      ]
     },
     "execution_count": 77,
     "metadata": {},
     "output_type": "execute_result"
    }
   ],
   "source": [
    "20%6"
   ]
  },
  {
   "cell_type": "code",
   "execution_count": 78,
   "id": "0851d9d2",
   "metadata": {},
   "outputs": [
    {
     "data": {
      "text/plain": [
       "3"
      ]
     },
     "execution_count": 78,
     "metadata": {},
     "output_type": "execute_result"
    }
   ],
   "source": [
    "30%9"
   ]
  },
  {
   "cell_type": "markdown",
   "id": "868e3fae",
   "metadata": {},
   "source": [
    "#### Boolean operators"
   ]
  },
  {
   "cell_type": "code",
   "execution_count": 79,
   "id": "12c8c5cf",
   "metadata": {},
   "outputs": [
    {
     "data": {
      "text/plain": [
       "True"
      ]
     },
     "execution_count": 79,
     "metadata": {},
     "output_type": "execute_result"
    }
   ],
   "source": [
    "500 > 400"
   ]
  },
  {
   "cell_type": "code",
   "execution_count": 80,
   "id": "c5dd1898",
   "metadata": {},
   "outputs": [
    {
     "data": {
      "text/plain": [
       "False"
      ]
     },
     "execution_count": 80,
     "metadata": {},
     "output_type": "execute_result"
    }
   ],
   "source": [
    "500 < 400"
   ]
  },
  {
   "cell_type": "code",
   "execution_count": 81,
   "id": "05a4e825",
   "metadata": {},
   "outputs": [
    {
     "data": {
      "text/plain": [
       "False"
      ]
     },
     "execution_count": 81,
     "metadata": {},
     "output_type": "execute_result"
    }
   ],
   "source": [
    "500 == 400"
   ]
  },
  {
   "cell_type": "code",
   "execution_count": 82,
   "id": "4f4590b6",
   "metadata": {},
   "outputs": [
    {
     "data": {
      "text/plain": [
       "True"
      ]
     },
     "execution_count": 82,
     "metadata": {},
     "output_type": "execute_result"
    }
   ],
   "source": [
    "500 == 1000/2"
   ]
  },
  {
   "cell_type": "code",
   "execution_count": 83,
   "id": "c2d9e193",
   "metadata": {},
   "outputs": [
    {
     "data": {
      "text/plain": [
       "True"
      ]
     },
     "execution_count": 83,
     "metadata": {},
     "output_type": "execute_result"
    }
   ],
   "source": [
    "2 >=2"
   ]
  },
  {
   "cell_type": "code",
   "execution_count": 84,
   "id": "48338d02",
   "metadata": {},
   "outputs": [
    {
     "data": {
      "text/plain": [
       "True"
      ]
     },
     "execution_count": 84,
     "metadata": {},
     "output_type": "execute_result"
    }
   ],
   "source": [
    "2 <= 2"
   ]
  },
  {
   "cell_type": "code",
   "execution_count": 85,
   "id": "cd0fd605",
   "metadata": {},
   "outputs": [
    {
     "data": {
      "text/plain": [
       "True"
      ]
     },
     "execution_count": 85,
     "metadata": {},
     "output_type": "execute_result"
    }
   ],
   "source": [
    "5 != 6"
   ]
  },
  {
   "cell_type": "markdown",
   "id": "b3322399",
   "metadata": {},
   "source": [
    "# Operator Precedence"
   ]
  },
  {
   "cell_type": "code",
   "execution_count": 86,
   "id": "a8b3bde6",
   "metadata": {},
   "outputs": [
    {
     "data": {
      "text/plain": [
       "2"
      ]
     },
     "execution_count": 86,
     "metadata": {},
     "output_type": "execute_result"
    }
   ],
   "source": [
    "10 - 4 * 2"
   ]
  },
  {
   "cell_type": "code",
   "execution_count": 87,
   "id": "ecadba2c",
   "metadata": {},
   "outputs": [
    {
     "data": {
      "text/plain": [
       "12"
      ]
     },
     "execution_count": 87,
     "metadata": {},
     "output_type": "execute_result"
    }
   ],
   "source": [
    "(10 - 4) * 2"
   ]
  },
  {
   "cell_type": "raw",
   "id": "546adb1a",
   "metadata": {},
   "source": [
    "Operators           Meaning\n",
    "()\t                Parentheses\n",
    "**\t                Exponent\n",
    "+x, -x, ~x\t        Unary plus, Unary minus,\n",
    "*, /, //, %\t        Multiplication, Division, Floor division, Modulus\n",
    "+, -\t            Addition, Subtraction\n"
   ]
  },
  {
   "cell_type": "markdown",
   "id": "e7dd910e",
   "metadata": {},
   "source": [
    "# Increment Operator / Decrement Operator"
   ]
  },
  {
   "cell_type": "code",
   "execution_count": 88,
   "id": "13ffa4a2",
   "metadata": {},
   "outputs": [],
   "source": [
    "num = 100"
   ]
  },
  {
   "cell_type": "code",
   "execution_count": 109,
   "id": "a146c55d",
   "metadata": {},
   "outputs": [
    {
     "name": "stdout",
     "output_type": "stream",
     "text": [
      "123\n"
     ]
    }
   ],
   "source": [
    "print(num+1)"
   ]
  },
  {
   "cell_type": "code",
   "execution_count": 92,
   "id": "a9f6b1f5",
   "metadata": {},
   "outputs": [],
   "source": [
    "num = num + 1 #101"
   ]
  },
  {
   "cell_type": "code",
   "execution_count": 113,
   "id": "4b6961d1",
   "metadata": {},
   "outputs": [
    {
     "data": {
      "text/plain": [
       "122"
      ]
     },
     "execution_count": 113,
     "metadata": {},
     "output_type": "execute_result"
    }
   ],
   "source": [
    "num"
   ]
  },
  {
   "cell_type": "code",
   "execution_count": 114,
   "id": "340662a1",
   "metadata": {},
   "outputs": [
    {
     "name": "stdout",
     "output_type": "stream",
     "text": [
      "123\n"
     ]
    }
   ],
   "source": [
    "num +=1\n",
    "print(num)"
   ]
  },
  {
   "cell_type": "code",
   "execution_count": 102,
   "id": "d9d0c253",
   "metadata": {},
   "outputs": [
    {
     "name": "stdout",
     "output_type": "stream",
     "text": [
      "102\n"
     ]
    }
   ],
   "source": [
    "num -=1\n",
    "print(num)"
   ]
  },
  {
   "cell_type": "code",
   "execution_count": 106,
   "id": "dd12557d",
   "metadata": {},
   "outputs": [
    {
     "name": "stdout",
     "output_type": "stream",
     "text": [
      "122\n"
     ]
    }
   ],
   "source": [
    "num +=5\n",
    "print(num)"
   ]
  },
  {
   "cell_type": "code",
   "execution_count": 116,
   "id": "c35b916c",
   "metadata": {},
   "outputs": [
    {
     "name": "stdout",
     "output_type": "stream",
     "text": [
      "3\n"
     ]
    }
   ],
   "source": [
    " print(5 * 2 // 3)"
   ]
  },
  {
   "cell_type": "code",
   "execution_count": 117,
   "id": "a6713469",
   "metadata": {},
   "outputs": [
    {
     "name": "stdout",
     "output_type": "stream",
     "text": [
      "3.3333333333333335\n"
     ]
    }
   ],
   "source": [
    "print(5 * 2 / 3)"
   ]
  },
  {
   "cell_type": "code",
   "execution_count": 118,
   "id": "a11b7545",
   "metadata": {},
   "outputs": [
    {
     "name": "stdout",
     "output_type": "stream",
     "text": [
      "512\n"
     ]
    }
   ],
   "source": [
    "print(2 ** 3 ** 2)"
   ]
  },
  {
   "cell_type": "code",
   "execution_count": 121,
   "id": "0c439043",
   "metadata": {},
   "outputs": [
    {
     "name": "stdout",
     "output_type": "stream",
     "text": [
      "Enter a number of your choice: 10\n",
      "You have supplied an even number\n"
     ]
    }
   ],
   "source": [
    "num  = int(input(\"Enter a number of your choice: \"))\n",
    "\n",
    "if num %2 == 0:\n",
    "    print(\"You have supplied an even number\")\n",
    "else:\n",
    "     print(\"You have supplied an odd number\")"
   ]
  },
  {
   "cell_type": "code",
   "execution_count": null,
   "id": "3cdf26c4",
   "metadata": {},
   "outputs": [],
   "source": []
  }
 ],
 "metadata": {
  "kernelspec": {
   "display_name": "Python 3 (ipykernel)",
   "language": "python",
   "name": "python3"
  },
  "language_info": {
   "codemirror_mode": {
    "name": "ipython",
    "version": 3
   },
   "file_extension": ".py",
   "mimetype": "text/x-python",
   "name": "python",
   "nbconvert_exporter": "python",
   "pygments_lexer": "ipython3",
   "version": "3.10.6"
  }
 },
 "nbformat": 4,
 "nbformat_minor": 5
}
