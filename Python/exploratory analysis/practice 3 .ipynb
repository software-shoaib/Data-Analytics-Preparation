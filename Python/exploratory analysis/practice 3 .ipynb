{
 "cells": [
  {
   "cell_type": "code",
   "execution_count": 1,
   "id": "5a740727",
   "metadata": {},
   "outputs": [
    {
     "name": "stdout",
     "output_type": "stream",
     "text": [
      "enter your current salary: 16\n",
      "enter your total years of service: 28\n",
      "your bonus amount is3.2\n"
     ]
    }
   ],
   "source": [
    "bonus_amount = 0\n",
    "\n",
    "current_salary = float(input(\"enter your current salary: \"))\n",
    "service_years = float(input(\"enter your total years of service: \"))\n",
    "\n",
    "if service_years > 10:\n",
    "    bonus_amount = current_salary* 0.20\n",
    "elif service_years > 5:\n",
    "    bonus_amount = current_salary* 0.15\n",
    "elif service_years > 3:\n",
    "    bonus_amount = current_salary* 0.10\n",
    "elif service_years > 2:\n",
    "    bonus_amount = current_salary* 0.5\n",
    "else:\n",
    "    bonus_amount\n",
    "    \n",
    "print(f\"your bonus amount is: {bonus_amount}\")"
   ]
  },
  {
   "cell_type": "code",
   "execution_count": 4,
   "id": "dff23090",
   "metadata": {},
   "outputs": [
    {
     "name": "stdout",
     "output_type": "stream",
     "text": [
      "Enter marks in paper1: 56\n",
      "Enter marks in paper2: 67\n",
      "Enter marks in paper3: 87\n",
      "Enter marks in paper4: 89\n",
      "Enter marks in paper5: 87\n",
      "Pass\n"
     ]
    }
   ],
   "source": [
    "paper1 = float(input(\"Enter marks in paper1: \"))\n",
    "paper2 = float(input(\"Enter marks in paper2: \"))\n",
    "paper3 = float(input(\"Enter marks in paper3: \"))\n",
    "paper4 = float(input(\"Enter marks in paper4: \"))\n",
    "paper5 = float(input(\"Enter marks in paper5: \"))\n",
    "\n",
    "if paper1>=50:\n",
    "    if paper2>=50:\n",
    "        if paper3>=50:\n",
    "            if paper4>=50:\n",
    "                if paper5>=50:\n",
    "                    result= \"Pass\"\n",
    "                else:\n",
    "                    result = \"Fails\"\n",
    "            else:\n",
    "                result = \"Fails\"\n",
    "        else:\n",
    "            result = \"Fails\"\n",
    "    else:\n",
    "        result = \"Fails\"\n",
    "else:\n",
    "    result = \"Fails\"\n",
    "    \n",
    "    \n",
    "print(result)"
   ]
  },
  {
   "cell_type": "code",
   "execution_count": null,
   "id": "f4d03e04",
   "metadata": {},
   "outputs": [],
   "source": [
    "age = int(input(\"enter your age: \"))\n",
    "if age >=18:\n",
    "    cnic = input(\"do you have valid cnic ? \").lower()\n",
    "    if cnic == \"yes\":\n",
    "        voter_list = input(\"do you have name in the list? \").lower()\n",
    "        if voter_list == \"yes\":\n",
    "            res = \"eligible for vote\"\n",
    "        else:\n",
    "            res = \"not eligible for vote\"\n",
    "    else:\n",
    "        res = \"not eligible for vote\"\n",
    "else:\n",
    "    res= \"not valid for vote because he has no valid CNIC and did not get into voter list\"\n",
    "    \n",
    "print(res)"
   ]
  },
  {
   "cell_type": "code",
   "execution_count": null,
   "id": "f1253c5e",
   "metadata": {},
   "outputs": [],
   "source": []
  }
 ],
 "metadata": {
  "kernelspec": {
   "display_name": "Python 3 (ipykernel)",
   "language": "python",
   "name": "python3"
  },
  "language_info": {
   "codemirror_mode": {
    "name": "ipython",
    "version": 3
   },
   "file_extension": ".py",
   "mimetype": "text/x-python",
   "name": "python",
   "nbconvert_exporter": "python",
   "pygments_lexer": "ipython3",
   "version": "3.10.6"
  }
 },
 "nbformat": 4,
 "nbformat_minor": 5
}
