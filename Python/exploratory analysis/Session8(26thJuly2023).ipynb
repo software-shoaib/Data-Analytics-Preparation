{
 "cells": [
  {
   "cell_type": "markdown",
   "id": "a87ad6e9",
   "metadata": {},
   "source": [
    "# Introduction to Pandas (Python Libarabry for Data Analysis)"
   ]
  },
  {
   "cell_type": "code",
   "execution_count": 1,
   "id": "850f3064",
   "metadata": {},
   "outputs": [],
   "source": [
    "import pandas as pd"
   ]
  },
  {
   "cell_type": "markdown",
   "id": "722f79c8",
   "metadata": {},
   "source": [
    "# Pandas Data Structures \n",
    "     - Pandas Series Object\n",
    "     - Pandas Data Frame"
   ]
  },
  {
   "cell_type": "markdown",
   "id": "519d290a",
   "metadata": {},
   "source": [
    "### Pandas Series Object\n",
    " - Pandas series is a collection of values just like python list but in vertical .\n",
    " - There will be index available in series. "
   ]
  },
  {
   "cell_type": "code",
   "execution_count": 2,
   "id": "4e86bcc6",
   "metadata": {},
   "outputs": [],
   "source": [
    "series1 = pd.Series([6,12,24,36,6,12,12])"
   ]
  },
  {
   "cell_type": "code",
   "execution_count": 3,
   "id": "0867189c",
   "metadata": {},
   "outputs": [
    {
     "data": {
      "text/plain": [
       "0     6\n",
       "1    12\n",
       "2    24\n",
       "3    36\n",
       "4     6\n",
       "5    12\n",
       "6    12\n",
       "dtype: int64"
      ]
     },
     "execution_count": 3,
     "metadata": {},
     "output_type": "execute_result"
    }
   ],
   "source": [
    "series1"
   ]
  },
  {
   "cell_type": "code",
   "execution_count": 4,
   "id": "80fda027",
   "metadata": {},
   "outputs": [
    {
     "data": {
      "text/plain": [
       "RangeIndex(start=0, stop=7, step=1)"
      ]
     },
     "execution_count": 4,
     "metadata": {},
     "output_type": "execute_result"
    }
   ],
   "source": [
    "# series assigns default indexing.\n",
    "series1.index"
   ]
  },
  {
   "cell_type": "code",
   "execution_count": 5,
   "id": "3011a99b",
   "metadata": {},
   "outputs": [
    {
     "data": {
      "text/plain": [
       "array([ 6, 12, 24, 36,  6, 12, 12], dtype=int64)"
      ]
     },
     "execution_count": 5,
     "metadata": {},
     "output_type": "execute_result"
    }
   ],
   "source": [
    "series1.values"
   ]
  },
  {
   "cell_type": "code",
   "execution_count": 6,
   "id": "b2f2213e",
   "metadata": {},
   "outputs": [
    {
     "data": {
      "text/plain": [
       "apples      6\n",
       "oranges    12\n",
       "peeches    24\n",
       "mangoes    36\n",
       "grapes      6\n",
       "olives     12\n",
       "bananas    12\n",
       "dtype: int64"
      ]
     },
     "execution_count": 6,
     "metadata": {},
     "output_type": "execute_result"
    }
   ],
   "source": [
    "# we can create customise indexing. \n",
    "series2 = pd.Series([6,12,24,36,6,12,12],index=['apples','oranges','peeches','mangoes','grapes','olives','bananas'])\n",
    "series2"
   ]
  },
  {
   "cell_type": "code",
   "execution_count": 7,
   "id": "3d5dca0f",
   "metadata": {},
   "outputs": [
    {
     "data": {
      "text/plain": [
       "36"
      ]
     },
     "execution_count": 7,
     "metadata": {},
     "output_type": "execute_result"
    }
   ],
   "source": [
    "series2['mangoes']"
   ]
  },
  {
   "cell_type": "code",
   "execution_count": 8,
   "id": "e78f4d56",
   "metadata": {},
   "outputs": [
    {
     "data": {
      "text/plain": [
       "12"
      ]
     },
     "execution_count": 8,
     "metadata": {},
     "output_type": "execute_result"
    }
   ],
   "source": [
    "series2['olives']"
   ]
  },
  {
   "cell_type": "code",
   "execution_count": 9,
   "id": "775e1b4f",
   "metadata": {},
   "outputs": [
    {
     "data": {
      "text/plain": [
       "6"
      ]
     },
     "execution_count": 9,
     "metadata": {},
     "output_type": "execute_result"
    }
   ],
   "source": [
    "# even we have provided our customise indices, defaults indices are also active and available.\n",
    "# accessing a value using default index\n",
    "series2[4]"
   ]
  },
  {
   "cell_type": "code",
   "execution_count": 10,
   "id": "3dd3444b",
   "metadata": {},
   "outputs": [
    {
     "data": {
      "text/plain": [
       "1      A\n",
       "2      B\n",
       "3      A\n",
       "4     A*\n",
       "5      B\n",
       "6      C\n",
       "7      D\n",
       "8      A\n",
       "9      B\n",
       "10    A*\n",
       "dtype: object"
      ]
     },
     "execution_count": 10,
     "metadata": {},
     "output_type": "execute_result"
    }
   ],
   "source": [
    "grades = pd.Series(['A', 'B','A','A*','B','C','D','A','B','A*'],index=[1,2,3,4,5,6,7,8,9,10])\n",
    "grades"
   ]
  },
  {
   "cell_type": "code",
   "execution_count": 11,
   "id": "57bae83e",
   "metadata": {},
   "outputs": [
    {
     "data": {
      "text/plain": [
       "'A*'"
      ]
     },
     "execution_count": 11,
     "metadata": {},
     "output_type": "execute_result"
    }
   ],
   "source": [
    "grades[10]"
   ]
  },
  {
   "cell_type": "code",
   "execution_count": 12,
   "id": "3571a9df",
   "metadata": {},
   "outputs": [
    {
     "data": {
      "text/plain": [
       "'A'"
      ]
     },
     "execution_count": 12,
     "metadata": {},
     "output_type": "execute_result"
    }
   ],
   "source": [
    "grades[3]"
   ]
  },
  {
   "cell_type": "code",
   "execution_count": 32,
   "id": "cdda1b20",
   "metadata": {},
   "outputs": [
    {
     "data": {
      "text/plain": [
       "10"
      ]
     },
     "execution_count": 32,
     "metadata": {},
     "output_type": "execute_result"
    }
   ],
   "source": [
    "#length of series \n",
    "len(grades)"
   ]
  },
  {
   "cell_type": "code",
   "execution_count": 33,
   "id": "3fcef3e3",
   "metadata": {},
   "outputs": [
    {
     "data": {
      "text/plain": [
       "'D'"
      ]
     },
     "execution_count": 33,
     "metadata": {},
     "output_type": "execute_result"
    }
   ],
   "source": [
    "grades.max()  # ASCII codes"
   ]
  },
  {
   "cell_type": "code",
   "execution_count": 34,
   "id": "e4deb25a",
   "metadata": {},
   "outputs": [
    {
     "data": {
      "text/plain": [
       "'A'"
      ]
     },
     "execution_count": 34,
     "metadata": {},
     "output_type": "execute_result"
    }
   ],
   "source": [
    "grades.min()"
   ]
  },
  {
   "cell_type": "code",
   "execution_count": 35,
   "id": "48bb7555",
   "metadata": {},
   "outputs": [
    {
     "data": {
      "text/plain": [
       "array(['A', 'B', 'A*', 'C', 'D'], dtype=object)"
      ]
     },
     "execution_count": 35,
     "metadata": {},
     "output_type": "execute_result"
    }
   ],
   "source": [
    "grades.unique()"
   ]
  },
  {
   "cell_type": "code",
   "execution_count": 36,
   "id": "3dc018f8",
   "metadata": {},
   "outputs": [
    {
     "data": {
      "text/plain": [
       "D     1\n",
       "C     1\n",
       "A*    2\n",
       "B     3\n",
       "A     3\n",
       "dtype: int64"
      ]
     },
     "execution_count": 36,
     "metadata": {},
     "output_type": "execute_result"
    }
   ],
   "source": [
    "grades.value_counts(ascending=True)"
   ]
  },
  {
   "cell_type": "code",
   "execution_count": 37,
   "id": "9111acfd",
   "metadata": {},
   "outputs": [
    {
     "data": {
      "text/plain": [
       "count     10\n",
       "unique     5\n",
       "top        A\n",
       "freq       3\n",
       "dtype: object"
      ]
     },
     "execution_count": 37,
     "metadata": {},
     "output_type": "execute_result"
    }
   ],
   "source": [
    "grades.describe()"
   ]
  },
  {
   "cell_type": "code",
   "execution_count": 38,
   "id": "878372d0",
   "metadata": {},
   "outputs": [
    {
     "data": {
      "text/plain": [
       "True"
      ]
     },
     "execution_count": 38,
     "metadata": {},
     "output_type": "execute_result"
    }
   ],
   "source": [
    "grades.all() <= 'D'"
   ]
  },
  {
   "cell_type": "code",
   "execution_count": 39,
   "id": "9802dfb1",
   "metadata": {},
   "outputs": [
    {
     "data": {
      "text/plain": [
       "True"
      ]
     },
     "execution_count": 39,
     "metadata": {},
     "output_type": "execute_result"
    }
   ],
   "source": [
    "grades.any() <'D'"
   ]
  },
  {
   "cell_type": "code",
   "execution_count": 40,
   "id": "ea454338",
   "metadata": {},
   "outputs": [
    {
     "data": {
      "text/plain": [
       "22    A\n",
       "dtype: object"
      ]
     },
     "execution_count": 40,
     "metadata": {},
     "output_type": "execute_result"
    }
   ],
   "source": [
    "newdata = pd.Series(['A'],index=[22])\n",
    "newdata"
   ]
  },
  {
   "cell_type": "code",
   "execution_count": 41,
   "id": "488d01f7",
   "metadata": {},
   "outputs": [
    {
     "data": {
      "text/plain": [
       "1      A\n",
       "2      B\n",
       "3      A\n",
       "4     A*\n",
       "5      B\n",
       "6      C\n",
       "7      D\n",
       "8      A\n",
       "9      B\n",
       "10    A*\n",
       "22     A\n",
       "dtype: object"
      ]
     },
     "execution_count": 41,
     "metadata": {},
     "output_type": "execute_result"
    }
   ],
   "source": [
    "grades.append(newdata)"
   ]
  },
  {
   "cell_type": "code",
   "execution_count": 42,
   "id": "77e1756f",
   "metadata": {},
   "outputs": [
    {
     "data": {
      "text/plain": [
       "Ali         A\n",
       "Hassan      B\n",
       "Nasir       A\n",
       "Shoaib     A*\n",
       "Kashif      B\n",
       "Ahmed       C\n",
       "Sohail      D\n",
       "Shakeel     A\n",
       "Asad        B\n",
       "Hamza      A*\n",
       "dtype: object"
      ]
     },
     "execution_count": 42,
     "metadata": {},
     "output_type": "execute_result"
    }
   ],
   "source": [
    "new_grades = pd.Series(['A', 'B','A','A*','B','C','D','A','B','A*'], index=['Ali', 'Hassan', 'Nasir', 'Shoaib', 'Kashif',\"Ahmed\", 'Sohail', 'Shakeel', 'Asad','Hamza'])\n",
    "new_grades"
   ]
  },
  {
   "cell_type": "code",
   "execution_count": 43,
   "id": "7bbfd555",
   "metadata": {},
   "outputs": [
    {
     "data": {
      "text/plain": [
       "Hassan     B\n",
       "Nasir      A\n",
       "Shoaib    A*\n",
       "Kashif     B\n",
       "Ahmed      C\n",
       "dtype: object"
      ]
     },
     "execution_count": 43,
     "metadata": {},
     "output_type": "execute_result"
    }
   ],
   "source": [
    "# We slice a series based on integer indices\n",
    "# and in string indices extreme index is not also included.\n",
    "new_grades[1:6]"
   ]
  },
  {
   "cell_type": "code",
   "execution_count": 44,
   "id": "2bb23bf3",
   "metadata": {},
   "outputs": [
    {
     "data": {
      "text/plain": [
       "Nasir       A\n",
       "Shoaib     A*\n",
       "Kashif      B\n",
       "Ahmed       C\n",
       "Sohail      D\n",
       "Shakeel     A\n",
       "dtype: object"
      ]
     },
     "execution_count": 44,
     "metadata": {},
     "output_type": "execute_result"
    }
   ],
   "source": [
    "# We slice a series using string indices.\n",
    "# and in string indices extreme index is included.\n",
    "new_grades['Nasir':'Shakeel']\n",
    "\n",
    "# better use customize index by loc \n",
    "new_grades.loc['Nasir':'Shakeel']"
   ]
  },
  {
   "cell_type": "code",
   "execution_count": 45,
   "id": "d6207d1d",
   "metadata": {
    "scrolled": true
   },
   "outputs": [
    {
     "data": {
      "text/plain": [
       "1      A\n",
       "2      B\n",
       "3      A\n",
       "4     A*\n",
       "5      B\n",
       "6      C\n",
       "7      D\n",
       "8      A\n",
       "9      B\n",
       "10    A*\n",
       "dtype: object"
      ]
     },
     "execution_count": 45,
     "metadata": {},
     "output_type": "execute_result"
    }
   ],
   "source": [
    "grades"
   ]
  },
  {
   "cell_type": "code",
   "execution_count": 46,
   "id": "9d4a806e",
   "metadata": {},
   "outputs": [
    {
     "data": {
      "text/plain": [
       "4    A*\n",
       "5     B\n",
       "6     C\n",
       "7     D\n",
       "dtype: object"
      ]
     },
     "execution_count": 46,
     "metadata": {},
     "output_type": "execute_result"
    }
   ],
   "source": [
    "grades.loc[4:7]"
   ]
  },
  {
   "cell_type": "code",
   "execution_count": 47,
   "id": "423c9b08",
   "metadata": {},
   "outputs": [
    {
     "data": {
      "text/plain": [
       "5    B\n",
       "6    C\n",
       "7    D\n",
       "dtype: object"
      ]
     },
     "execution_count": 47,
     "metadata": {},
     "output_type": "execute_result"
    }
   ],
   "source": [
    "grades.iloc[4:7]"
   ]
  },
  {
   "cell_type": "code",
   "execution_count": 48,
   "id": "e242a92b",
   "metadata": {},
   "outputs": [
    {
     "data": {
      "text/plain": [
       "6     C\n",
       "4    A*\n",
       "1     A\n",
       "2     B\n",
       "dtype: object"
      ]
     },
     "execution_count": 48,
     "metadata": {},
     "output_type": "execute_result"
    }
   ],
   "source": [
    "# fancy Indexing \n",
    "# we provide a list of indices.\n",
    "grades[   [6,4,1,2]  ]  "
   ]
  },
  {
   "cell_type": "code",
   "execution_count": 49,
   "id": "253f63bc",
   "metadata": {},
   "outputs": [],
   "source": [
    "salaries = pd.Series([60000,80000,90000,450000,45000,50000,40000,100000,56000,78000],index=new_grades.index)"
   ]
  },
  {
   "cell_type": "code",
   "execution_count": 50,
   "id": "34e019de",
   "metadata": {},
   "outputs": [
    {
     "data": {
      "text/plain": [
       "Ali         60000\n",
       "Hassan      80000\n",
       "Nasir       90000\n",
       "Shoaib     450000\n",
       "Kashif      45000\n",
       "Ahmed       50000\n",
       "Sohail      40000\n",
       "Shakeel    100000\n",
       "Asad        56000\n",
       "Hamza       78000\n",
       "dtype: int64"
      ]
     },
     "execution_count": 50,
     "metadata": {},
     "output_type": "execute_result"
    }
   ],
   "source": [
    "salaries"
   ]
  },
  {
   "cell_type": "code",
   "execution_count": 51,
   "id": "e4124fd8",
   "metadata": {},
   "outputs": [
    {
     "data": {
      "text/plain": [
       "Ali         66000.0\n",
       "Hassan      88000.0\n",
       "Nasir       99000.0\n",
       "Shoaib     495000.0\n",
       "Kashif      49500.0\n",
       "Ahmed       55000.0\n",
       "Sohail      44000.0\n",
       "Shakeel    110000.0\n",
       "Asad        61600.0\n",
       "Hamza       85800.0\n",
       "dtype: float64"
      ]
     },
     "execution_count": 51,
     "metadata": {},
     "output_type": "execute_result"
    }
   ],
   "source": [
    "salaries + salaries*.10"
   ]
  },
  {
   "cell_type": "code",
   "execution_count": 52,
   "id": "fc411fd7",
   "metadata": {},
   "outputs": [
    {
     "data": {
      "text/plain": [
       "Ali         66000.0\n",
       "Hassan      88000.0\n",
       "Nasir       99000.0\n",
       "Shoaib     495000.0\n",
       "Kashif      49500.0\n",
       "Ahmed       55000.0\n",
       "Sohail      44000.0\n",
       "Shakeel    110000.0\n",
       "Asad        61600.0\n",
       "Hamza       85800.0\n",
       "dtype: float64"
      ]
     },
     "execution_count": 52,
     "metadata": {},
     "output_type": "execute_result"
    }
   ],
   "source": [
    "# apply <------>lambda\n",
    "# lambda is function anonymous\n",
    "salaries.apply(lambda s: s+s*.10   )"
   ]
  },
  {
   "cell_type": "code",
   "execution_count": 53,
   "id": "fac3bb27",
   "metadata": {},
   "outputs": [
    {
     "data": {
      "text/plain": [
       "Ali         66000.0\n",
       "Hassan      88000.0\n",
       "Nasir       99000.0\n",
       "Shoaib     472500.0\n",
       "Kashif      54000.0\n",
       "Ahmed       55000.0\n",
       "Sohail      48000.0\n",
       "Shakeel    105000.0\n",
       "Asad        61600.0\n",
       "Hamza       85800.0\n",
       "dtype: float64"
      ]
     },
     "execution_count": 53,
     "metadata": {},
     "output_type": "execute_result"
    }
   ],
   "source": [
    "# increase 5% of salaries if salary is more than or equal to 100k,\n",
    "# increase 10% of salaries if salary is more than or equal to 50k,\n",
    "# increase 20 of salaries if salary is less 50k,\n",
    "\n",
    "salaries.apply(lambda s: s+ s*.05 if s>=100000 else  s+ s*.10 if s >=50000 else s+s*.20 )"
   ]
  },
  {
   "cell_type": "code",
   "execution_count": 54,
   "id": "c5daeb46",
   "metadata": {},
   "outputs": [],
   "source": [
    "def apply_increment(salary):\n",
    "    if salary >=100000:\n",
    "        return salary+salary*.05\n",
    "    elif salary >=50000:\n",
    "        return salary+salary*.10\n",
    "    else:\n",
    "        return salary+salary*.20"
   ]
  },
  {
   "cell_type": "code",
   "execution_count": 55,
   "id": "e2259d81",
   "metadata": {},
   "outputs": [
    {
     "data": {
      "text/plain": [
       "Ali         66000.0\n",
       "Hassan      88000.0\n",
       "Nasir       99000.0\n",
       "Shoaib     472500.0\n",
       "Kashif      54000.0\n",
       "Ahmed       55000.0\n",
       "Sohail      48000.0\n",
       "Shakeel    105000.0\n",
       "Asad        61600.0\n",
       "Hamza       85800.0\n",
       "dtype: float64"
      ]
     },
     "execution_count": 55,
     "metadata": {},
     "output_type": "execute_result"
    }
   ],
   "source": [
    "salaries.apply(apply_increment)"
   ]
  },
  {
   "cell_type": "code",
   "execution_count": 56,
   "id": "d9b4664b",
   "metadata": {},
   "outputs": [
    {
     "data": {
      "text/plain": [
       "0    2.0\n",
       "1    0.0\n",
       "2    4.0\n",
       "3    8.0\n",
       "4    NaN\n",
       "dtype: float64"
      ]
     },
     "execution_count": 56,
     "metadata": {},
     "output_type": "execute_result"
    }
   ],
   "source": [
    "import numpy as np\n",
    "\n",
    "s = pd.Series([2, 0, 4, 8, np.nan])\n",
    "s"
   ]
  },
  {
   "cell_type": "code",
   "execution_count": 57,
   "id": "a40d24d4",
   "metadata": {},
   "outputs": [
    {
     "data": {
      "text/plain": [
       "0    2.0\n",
       "2    4.0\n",
       "dtype: float64"
      ]
     },
     "execution_count": 57,
     "metadata": {},
     "output_type": "execute_result"
    }
   ],
   "source": [
    "s[s.between(1,4)]"
   ]
  },
  {
   "cell_type": "code",
   "execution_count": 58,
   "id": "2872cee7",
   "metadata": {},
   "outputs": [
    {
     "data": {
      "text/plain": [
       "0    2.0\n",
       "2    4.0\n",
       "dtype: float64"
      ]
     },
     "execution_count": 58,
     "metadata": {},
     "output_type": "execute_result"
    }
   ],
   "source": [
    "s[(s>=1) & (s<=4) ]"
   ]
  },
  {
   "cell_type": "code",
   "execution_count": 59,
   "id": "0462c64b",
   "metadata": {},
   "outputs": [
    {
     "data": {
      "text/plain": [
       "Shoaib     450000\n",
       "Shakeel    100000\n",
       "dtype: int64"
      ]
     },
     "execution_count": 59,
     "metadata": {},
     "output_type": "execute_result"
    }
   ],
   "source": [
    "salaries[salaries >=100000]\n",
    "# boolean indexing"
   ]
  },
  {
   "cell_type": "code",
   "execution_count": 60,
   "id": "87eba0e1",
   "metadata": {},
   "outputs": [
    {
     "data": {
      "text/plain": [
       "Ali       60000\n",
       "Nasir     90000\n",
       "Kashif    45000\n",
       "Asad      56000\n",
       "Hamza     78000\n",
       "dtype: int64"
      ]
     },
     "execution_count": 60,
     "metadata": {},
     "output_type": "execute_result"
    }
   ],
   "source": [
    "salaries[[True,False,True,False,True,False,False,False,True, True]]"
   ]
  },
  {
   "cell_type": "code",
   "execution_count": 61,
   "id": "73a2472f",
   "metadata": {},
   "outputs": [
    {
     "data": {
      "text/plain": [
       "Ali        False\n",
       "Hassan     False\n",
       "Nasir      False\n",
       "Shoaib      True\n",
       "Kashif     False\n",
       "Ahmed      False\n",
       "Sohail     False\n",
       "Shakeel     True\n",
       "Asad       False\n",
       "Hamza      False\n",
       "dtype: bool"
      ]
     },
     "execution_count": 61,
     "metadata": {},
     "output_type": "execute_result"
    }
   ],
   "source": [
    "salaries >=100000"
   ]
  },
  {
   "cell_type": "code",
   "execution_count": 62,
   "id": "49f0cc92",
   "metadata": {},
   "outputs": [
    {
     "data": {
      "text/plain": [
       "450000"
      ]
     },
     "execution_count": 62,
     "metadata": {},
     "output_type": "execute_result"
    }
   ],
   "source": [
    "salaries.max()"
   ]
  },
  {
   "cell_type": "code",
   "execution_count": 63,
   "id": "915f5222",
   "metadata": {},
   "outputs": [
    {
     "name": "stderr",
     "output_type": "stream",
     "text": [
      "C:\\Users\\Nasir Hussain\\Anaconda3\\lib\\site-packages\\ipykernel_launcher.py:1: FutureWarning: \n",
      "The current behaviour of 'Series.argmax' is deprecated, use 'idxmax'\n",
      "instead.\n",
      "The behavior of 'argmax' will be corrected to return the positional\n",
      "maximum in the future. For now, use 'series.values.argmax' or\n",
      "'np.argmax(np.array(values))' to get the position of the maximum\n",
      "row.\n",
      "  \"\"\"Entry point for launching an IPython kernel.\n"
     ]
    },
    {
     "data": {
      "text/plain": [
       "'Shoaib'"
      ]
     },
     "execution_count": 63,
     "metadata": {},
     "output_type": "execute_result"
    }
   ],
   "source": [
    "salaries.argmax()"
   ]
  },
  {
   "cell_type": "code",
   "execution_count": 64,
   "id": "1d8721e5",
   "metadata": {},
   "outputs": [
    {
     "data": {
      "text/plain": [
       "Ali         60000\n",
       "Hassan      80000\n",
       "Nasir       90000\n",
       "Shoaib     450000\n",
       "Kashif      45000\n",
       "Ahmed       50000\n",
       "Sohail      40000\n",
       "Shakeel    100000\n",
       "Asad        56000\n",
       "Hamza       78000\n",
       "dtype: int64"
      ]
     },
     "execution_count": 64,
     "metadata": {},
     "output_type": "execute_result"
    }
   ],
   "source": [
    "salaries"
   ]
  },
  {
   "cell_type": "markdown",
   "id": "514592bd",
   "metadata": {},
   "source": [
    "# Pandas DataFrame\n",
    " - A data frame has 1 or more than omne columns\n",
    " "
   ]
  },
  {
   "cell_type": "code",
   "execution_count": 65,
   "id": "6336071b",
   "metadata": {},
   "outputs": [
    {
     "data": {
      "text/plain": [
       "{'name': ['Nasir',\n",
       "  'Asad',\n",
       "  'Fahad',\n",
       "  'Zeeshan',\n",
       "  'Shan',\n",
       "  'Shoaib',\n",
       "  'Ali',\n",
       "  'Hassan',\n",
       "  'Yasir',\n",
       "  'Junaid'],\n",
       " 'roll': [11, 22, 33, 44, 55, 66, 77, 88, 99, 111],\n",
       " 'python': [78, 67, 89, 90, 91, 72, 76, 89, 67, nan],\n",
       " 'excel': [nan, 87, 67, nan, 78, 90, 76, 78, 90, 54],\n",
       " 'power_bi': [45, 67, 89, 87, 67, 90, 65, 67, nan, 90],\n",
       " 'pandas': [81, 85, 89, 87, 41, 45, 96, 56, 93, 78],\n",
       " 'machine_learning': [96, 95, 84, 85, 82, 81, 74, 75, 96, 90],\n",
       " 'statistics': [67, nan, 45, 98, 75, 71, 70, 60, 90, 93]}"
      ]
     },
     "execution_count": 65,
     "metadata": {},
     "output_type": "execute_result"
    }
   ],
   "source": [
    "result = {'name':          ['Nasir','Asad', 'Fahad','Zeeshan', 'Shan', 'Shoaib', 'Ali', 'Hassan', 'Yasir', 'Junaid'],\n",
    "          'roll':          [11,22,33,44,55,66,77,88,99,111],\n",
    "          'python':        [78,67,89,90,91,72,76,89,67,np.nan],\n",
    "          'excel':         [np.nan,87,67,np.nan,78,90,76,78,90,54],\n",
    "           'power_bi':     [45,67,89,87,67,90,65,67,np.nan,90],\n",
    "          'pandas':        [81,85,89,87,41,45,96,56,93,78],\n",
    "         'machine_learning':[96,95,84,85,82,81,74,75,96,90],\n",
    "         'statistics':     [67,np.nan,45,98,75,71,70,60,90,93]}\n",
    "result"
   ]
  },
  {
   "cell_type": "code",
   "execution_count": 66,
   "id": "30f8501c",
   "metadata": {},
   "outputs": [],
   "source": [
    "df  = pd.DataFrame(result)"
   ]
  },
  {
   "cell_type": "code",
   "execution_count": 67,
   "id": "f314088f",
   "metadata": {},
   "outputs": [
    {
     "data": {
      "text/html": [
       "<div>\n",
       "<style scoped>\n",
       "    .dataframe tbody tr th:only-of-type {\n",
       "        vertical-align: middle;\n",
       "    }\n",
       "\n",
       "    .dataframe tbody tr th {\n",
       "        vertical-align: top;\n",
       "    }\n",
       "\n",
       "    .dataframe thead th {\n",
       "        text-align: right;\n",
       "    }\n",
       "</style>\n",
       "<table border=\"1\" class=\"dataframe\">\n",
       "  <thead>\n",
       "    <tr style=\"text-align: right;\">\n",
       "      <th></th>\n",
       "      <th>name</th>\n",
       "      <th>roll</th>\n",
       "      <th>python</th>\n",
       "      <th>excel</th>\n",
       "      <th>power_bi</th>\n",
       "      <th>pandas</th>\n",
       "      <th>machine_learning</th>\n",
       "      <th>statistics</th>\n",
       "    </tr>\n",
       "  </thead>\n",
       "  <tbody>\n",
       "    <tr>\n",
       "      <td>0</td>\n",
       "      <td>Nasir</td>\n",
       "      <td>11</td>\n",
       "      <td>78.0</td>\n",
       "      <td>NaN</td>\n",
       "      <td>45.0</td>\n",
       "      <td>81</td>\n",
       "      <td>96</td>\n",
       "      <td>67.0</td>\n",
       "    </tr>\n",
       "    <tr>\n",
       "      <td>1</td>\n",
       "      <td>Asad</td>\n",
       "      <td>22</td>\n",
       "      <td>67.0</td>\n",
       "      <td>87.0</td>\n",
       "      <td>67.0</td>\n",
       "      <td>85</td>\n",
       "      <td>95</td>\n",
       "      <td>NaN</td>\n",
       "    </tr>\n",
       "    <tr>\n",
       "      <td>2</td>\n",
       "      <td>Fahad</td>\n",
       "      <td>33</td>\n",
       "      <td>89.0</td>\n",
       "      <td>67.0</td>\n",
       "      <td>89.0</td>\n",
       "      <td>89</td>\n",
       "      <td>84</td>\n",
       "      <td>45.0</td>\n",
       "    </tr>\n",
       "    <tr>\n",
       "      <td>3</td>\n",
       "      <td>Zeeshan</td>\n",
       "      <td>44</td>\n",
       "      <td>90.0</td>\n",
       "      <td>NaN</td>\n",
       "      <td>87.0</td>\n",
       "      <td>87</td>\n",
       "      <td>85</td>\n",
       "      <td>98.0</td>\n",
       "    </tr>\n",
       "    <tr>\n",
       "      <td>4</td>\n",
       "      <td>Shan</td>\n",
       "      <td>55</td>\n",
       "      <td>91.0</td>\n",
       "      <td>78.0</td>\n",
       "      <td>67.0</td>\n",
       "      <td>41</td>\n",
       "      <td>82</td>\n",
       "      <td>75.0</td>\n",
       "    </tr>\n",
       "    <tr>\n",
       "      <td>5</td>\n",
       "      <td>Shoaib</td>\n",
       "      <td>66</td>\n",
       "      <td>72.0</td>\n",
       "      <td>90.0</td>\n",
       "      <td>90.0</td>\n",
       "      <td>45</td>\n",
       "      <td>81</td>\n",
       "      <td>71.0</td>\n",
       "    </tr>\n",
       "    <tr>\n",
       "      <td>6</td>\n",
       "      <td>Ali</td>\n",
       "      <td>77</td>\n",
       "      <td>76.0</td>\n",
       "      <td>76.0</td>\n",
       "      <td>65.0</td>\n",
       "      <td>96</td>\n",
       "      <td>74</td>\n",
       "      <td>70.0</td>\n",
       "    </tr>\n",
       "    <tr>\n",
       "      <td>7</td>\n",
       "      <td>Hassan</td>\n",
       "      <td>88</td>\n",
       "      <td>89.0</td>\n",
       "      <td>78.0</td>\n",
       "      <td>67.0</td>\n",
       "      <td>56</td>\n",
       "      <td>75</td>\n",
       "      <td>60.0</td>\n",
       "    </tr>\n",
       "    <tr>\n",
       "      <td>8</td>\n",
       "      <td>Yasir</td>\n",
       "      <td>99</td>\n",
       "      <td>67.0</td>\n",
       "      <td>90.0</td>\n",
       "      <td>NaN</td>\n",
       "      <td>93</td>\n",
       "      <td>96</td>\n",
       "      <td>90.0</td>\n",
       "    </tr>\n",
       "    <tr>\n",
       "      <td>9</td>\n",
       "      <td>Junaid</td>\n",
       "      <td>111</td>\n",
       "      <td>NaN</td>\n",
       "      <td>54.0</td>\n",
       "      <td>90.0</td>\n",
       "      <td>78</td>\n",
       "      <td>90</td>\n",
       "      <td>93.0</td>\n",
       "    </tr>\n",
       "  </tbody>\n",
       "</table>\n",
       "</div>"
      ],
      "text/plain": [
       "      name  roll  python  excel  power_bi  pandas  machine_learning  \\\n",
       "0    Nasir    11    78.0    NaN      45.0      81                96   \n",
       "1     Asad    22    67.0   87.0      67.0      85                95   \n",
       "2    Fahad    33    89.0   67.0      89.0      89                84   \n",
       "3  Zeeshan    44    90.0    NaN      87.0      87                85   \n",
       "4     Shan    55    91.0   78.0      67.0      41                82   \n",
       "5   Shoaib    66    72.0   90.0      90.0      45                81   \n",
       "6      Ali    77    76.0   76.0      65.0      96                74   \n",
       "7   Hassan    88    89.0   78.0      67.0      56                75   \n",
       "8    Yasir    99    67.0   90.0       NaN      93                96   \n",
       "9   Junaid   111     NaN   54.0      90.0      78                90   \n",
       "\n",
       "   statistics  \n",
       "0        67.0  \n",
       "1         NaN  \n",
       "2        45.0  \n",
       "3        98.0  \n",
       "4        75.0  \n",
       "5        71.0  \n",
       "6        70.0  \n",
       "7        60.0  \n",
       "8        90.0  \n",
       "9        93.0  "
      ]
     },
     "execution_count": 67,
     "metadata": {},
     "output_type": "execute_result"
    }
   ],
   "source": [
    "df"
   ]
  },
  {
   "cell_type": "code",
   "execution_count": 156,
   "id": "4a1ebe30",
   "metadata": {},
   "outputs": [],
   "source": [
    "# sales = pd.read_excel('SaleData.xlsx')\n",
    "# sales = pd.read_excel(r'C:\\Users\\Nasir Hussain\\Desktop\\SaleData.xlsx')\n",
    "# sales = pd.read_excel('C:/Users/Nasir Hussain/Desktop/SaleData.xlsx')"
   ]
  },
  {
   "cell_type": "code",
   "execution_count": 157,
   "id": "c56c63a2",
   "metadata": {},
   "outputs": [
    {
     "data": {
      "text/plain": [
       "pandas.core.frame.DataFrame"
      ]
     },
     "execution_count": 157,
     "metadata": {},
     "output_type": "execute_result"
    }
   ],
   "source": [
    "type(df)"
   ]
  },
  {
   "cell_type": "code",
   "execution_count": 158,
   "id": "6f3fc7da",
   "metadata": {},
   "outputs": [
    {
     "data": {
      "text/plain": [
       "(10, 8)"
      ]
     },
     "execution_count": 158,
     "metadata": {},
     "output_type": "execute_result"
    }
   ],
   "source": [
    "df.shape"
   ]
  },
  {
   "cell_type": "code",
   "execution_count": 159,
   "id": "35971065",
   "metadata": {},
   "outputs": [
    {
     "name": "stdout",
     "output_type": "stream",
     "text": [
      "<class 'pandas.core.frame.DataFrame'>\n",
      "RangeIndex: 10 entries, 0 to 9\n",
      "Data columns (total 8 columns):\n",
      "name                10 non-null object\n",
      "roll                10 non-null int64\n",
      "python              9 non-null float64\n",
      "excel               8 non-null float64\n",
      "power_bi            9 non-null float64\n",
      "pandas              10 non-null int64\n",
      "machine_learning    10 non-null int64\n",
      "statistics          9 non-null float64\n",
      "dtypes: float64(4), int64(3), object(1)\n",
      "memory usage: 768.0+ bytes\n"
     ]
    }
   ],
   "source": [
    "df.info()"
   ]
  },
  {
   "cell_type": "code",
   "execution_count": 69,
   "id": "1b86fcec",
   "metadata": {},
   "outputs": [
    {
     "data": {
      "text/plain": [
       "name                0\n",
       "roll                0\n",
       "python              1\n",
       "excel               2\n",
       "power_bi            1\n",
       "pandas              0\n",
       "machine_learning    0\n",
       "statistics          1\n",
       "dtype: int64"
      ]
     },
     "execution_count": 69,
     "metadata": {},
     "output_type": "execute_result"
    }
   ],
   "source": [
    "df.isnull().sum()"
   ]
  },
  {
   "cell_type": "code",
   "execution_count": 161,
   "id": "2fecef3f",
   "metadata": {},
   "outputs": [
    {
     "data": {
      "text/plain": [
       "name                10\n",
       "roll                10\n",
       "python               9\n",
       "excel                8\n",
       "power_bi             9\n",
       "pandas              10\n",
       "machine_learning    10\n",
       "statistics           9\n",
       "dtype: int64"
      ]
     },
     "execution_count": 161,
     "metadata": {},
     "output_type": "execute_result"
    }
   ],
   "source": [
    "df.notnull().sum()"
   ]
  },
  {
   "cell_type": "markdown",
   "id": "b708156f",
   "metadata": {},
   "source": [
    "# Acessing column or columns"
   ]
  },
  {
   "cell_type": "code",
   "execution_count": 162,
   "id": "e19a0383",
   "metadata": {},
   "outputs": [
    {
     "data": {
      "text/plain": [
       "0    96\n",
       "1    95\n",
       "2    84\n",
       "3    85\n",
       "4    82\n",
       "5    81\n",
       "6    74\n",
       "7    75\n",
       "8    96\n",
       "9    90\n",
       "Name: machine_learning, dtype: int64"
      ]
     },
     "execution_count": 162,
     "metadata": {},
     "output_type": "execute_result"
    }
   ],
   "source": [
    "df['machine_learning']"
   ]
  },
  {
   "cell_type": "code",
   "execution_count": 163,
   "id": "27c689e5",
   "metadata": {},
   "outputs": [
    {
     "data": {
      "text/plain": [
       "0      Nasir\n",
       "1       Asad\n",
       "2      Fahad\n",
       "3    Zeeshan\n",
       "4       Shan\n",
       "5     Shoaib\n",
       "6        Ali\n",
       "7     Hassan\n",
       "8      Yasir\n",
       "9     Junaid\n",
       "Name: name, dtype: object"
      ]
     },
     "execution_count": 163,
     "metadata": {},
     "output_type": "execute_result"
    }
   ],
   "source": [
    "df['name']"
   ]
  },
  {
   "cell_type": "code",
   "execution_count": 164,
   "id": "58ce4d3a",
   "metadata": {},
   "outputs": [
    {
     "data": {
      "text/plain": [
       "0    78.0\n",
       "1    67.0\n",
       "2    89.0\n",
       "3    90.0\n",
       "4    91.0\n",
       "5    72.0\n",
       "6    76.0\n",
       "7    89.0\n",
       "8    67.0\n",
       "9     NaN\n",
       "Name: python, dtype: float64"
      ]
     },
     "execution_count": 164,
     "metadata": {},
     "output_type": "execute_result"
    }
   ],
   "source": [
    "df['python']"
   ]
  },
  {
   "cell_type": "code",
   "execution_count": 165,
   "id": "c80716f6",
   "metadata": {},
   "outputs": [
    {
     "data": {
      "text/plain": [
       "0    81\n",
       "1    85\n",
       "2    89\n",
       "3    87\n",
       "4    41\n",
       "5    45\n",
       "6    96\n",
       "7    56\n",
       "8    93\n",
       "9    78\n",
       "Name: pandas, dtype: int64"
      ]
     },
     "execution_count": 165,
     "metadata": {},
     "output_type": "execute_result"
    }
   ],
   "source": [
    "df['pandas']"
   ]
  },
  {
   "cell_type": "code",
   "execution_count": 166,
   "id": "faa92f3a",
   "metadata": {},
   "outputs": [
    {
     "data": {
      "text/html": [
       "<div>\n",
       "<style scoped>\n",
       "    .dataframe tbody tr th:only-of-type {\n",
       "        vertical-align: middle;\n",
       "    }\n",
       "\n",
       "    .dataframe tbody tr th {\n",
       "        vertical-align: top;\n",
       "    }\n",
       "\n",
       "    .dataframe thead th {\n",
       "        text-align: right;\n",
       "    }\n",
       "</style>\n",
       "<table border=\"1\" class=\"dataframe\">\n",
       "  <thead>\n",
       "    <tr style=\"text-align: right;\">\n",
       "      <th></th>\n",
       "      <th>pandas</th>\n",
       "      <th>machine_learning</th>\n",
       "    </tr>\n",
       "  </thead>\n",
       "  <tbody>\n",
       "    <tr>\n",
       "      <td>0</td>\n",
       "      <td>81</td>\n",
       "      <td>96</td>\n",
       "    </tr>\n",
       "    <tr>\n",
       "      <td>1</td>\n",
       "      <td>85</td>\n",
       "      <td>95</td>\n",
       "    </tr>\n",
       "    <tr>\n",
       "      <td>2</td>\n",
       "      <td>89</td>\n",
       "      <td>84</td>\n",
       "    </tr>\n",
       "    <tr>\n",
       "      <td>3</td>\n",
       "      <td>87</td>\n",
       "      <td>85</td>\n",
       "    </tr>\n",
       "    <tr>\n",
       "      <td>4</td>\n",
       "      <td>41</td>\n",
       "      <td>82</td>\n",
       "    </tr>\n",
       "    <tr>\n",
       "      <td>5</td>\n",
       "      <td>45</td>\n",
       "      <td>81</td>\n",
       "    </tr>\n",
       "    <tr>\n",
       "      <td>6</td>\n",
       "      <td>96</td>\n",
       "      <td>74</td>\n",
       "    </tr>\n",
       "    <tr>\n",
       "      <td>7</td>\n",
       "      <td>56</td>\n",
       "      <td>75</td>\n",
       "    </tr>\n",
       "    <tr>\n",
       "      <td>8</td>\n",
       "      <td>93</td>\n",
       "      <td>96</td>\n",
       "    </tr>\n",
       "    <tr>\n",
       "      <td>9</td>\n",
       "      <td>78</td>\n",
       "      <td>90</td>\n",
       "    </tr>\n",
       "  </tbody>\n",
       "</table>\n",
       "</div>"
      ],
      "text/plain": [
       "   pandas  machine_learning\n",
       "0      81                96\n",
       "1      85                95\n",
       "2      89                84\n",
       "3      87                85\n",
       "4      41                82\n",
       "5      45                81\n",
       "6      96                74\n",
       "7      56                75\n",
       "8      93                96\n",
       "9      78                90"
      ]
     },
     "execution_count": 166,
     "metadata": {},
     "output_type": "execute_result"
    }
   ],
   "source": [
    "df[['pandas', 'machine_learning']]"
   ]
  },
  {
   "cell_type": "code",
   "execution_count": 70,
   "id": "bef6642a",
   "metadata": {},
   "outputs": [
    {
     "data": {
      "text/plain": [
       "Index(['name', 'roll', 'python', 'excel', 'power_bi', 'pandas',\n",
       "       'machine_learning', 'statistics'],\n",
       "      dtype='object')"
      ]
     },
     "execution_count": 70,
     "metadata": {},
     "output_type": "execute_result"
    }
   ],
   "source": [
    "df.columns"
   ]
  },
  {
   "cell_type": "code",
   "execution_count": 171,
   "id": "170c7012",
   "metadata": {},
   "outputs": [
    {
     "data": {
      "text/html": [
       "<div>\n",
       "<style scoped>\n",
       "    .dataframe tbody tr th:only-of-type {\n",
       "        vertical-align: middle;\n",
       "    }\n",
       "\n",
       "    .dataframe tbody tr th {\n",
       "        vertical-align: top;\n",
       "    }\n",
       "\n",
       "    .dataframe thead th {\n",
       "        text-align: right;\n",
       "    }\n",
       "</style>\n",
       "<table border=\"1\" class=\"dataframe\">\n",
       "  <thead>\n",
       "    <tr style=\"text-align: right;\">\n",
       "      <th></th>\n",
       "      <th>roll</th>\n",
       "      <th>python</th>\n",
       "      <th>excel</th>\n",
       "      <th>power_bi</th>\n",
       "      <th>pandas</th>\n",
       "    </tr>\n",
       "  </thead>\n",
       "  <tbody>\n",
       "    <tr>\n",
       "      <td>0</td>\n",
       "      <td>11</td>\n",
       "      <td>78.0</td>\n",
       "      <td>NaN</td>\n",
       "      <td>45.0</td>\n",
       "      <td>81</td>\n",
       "    </tr>\n",
       "    <tr>\n",
       "      <td>1</td>\n",
       "      <td>22</td>\n",
       "      <td>67.0</td>\n",
       "      <td>87.0</td>\n",
       "      <td>67.0</td>\n",
       "      <td>85</td>\n",
       "    </tr>\n",
       "    <tr>\n",
       "      <td>2</td>\n",
       "      <td>33</td>\n",
       "      <td>89.0</td>\n",
       "      <td>67.0</td>\n",
       "      <td>89.0</td>\n",
       "      <td>89</td>\n",
       "    </tr>\n",
       "    <tr>\n",
       "      <td>3</td>\n",
       "      <td>44</td>\n",
       "      <td>90.0</td>\n",
       "      <td>NaN</td>\n",
       "      <td>87.0</td>\n",
       "      <td>87</td>\n",
       "    </tr>\n",
       "    <tr>\n",
       "      <td>4</td>\n",
       "      <td>55</td>\n",
       "      <td>91.0</td>\n",
       "      <td>78.0</td>\n",
       "      <td>67.0</td>\n",
       "      <td>41</td>\n",
       "    </tr>\n",
       "    <tr>\n",
       "      <td>5</td>\n",
       "      <td>66</td>\n",
       "      <td>72.0</td>\n",
       "      <td>90.0</td>\n",
       "      <td>90.0</td>\n",
       "      <td>45</td>\n",
       "    </tr>\n",
       "    <tr>\n",
       "      <td>6</td>\n",
       "      <td>77</td>\n",
       "      <td>76.0</td>\n",
       "      <td>76.0</td>\n",
       "      <td>65.0</td>\n",
       "      <td>96</td>\n",
       "    </tr>\n",
       "    <tr>\n",
       "      <td>7</td>\n",
       "      <td>88</td>\n",
       "      <td>89.0</td>\n",
       "      <td>78.0</td>\n",
       "      <td>67.0</td>\n",
       "      <td>56</td>\n",
       "    </tr>\n",
       "    <tr>\n",
       "      <td>8</td>\n",
       "      <td>99</td>\n",
       "      <td>67.0</td>\n",
       "      <td>90.0</td>\n",
       "      <td>NaN</td>\n",
       "      <td>93</td>\n",
       "    </tr>\n",
       "    <tr>\n",
       "      <td>9</td>\n",
       "      <td>111</td>\n",
       "      <td>NaN</td>\n",
       "      <td>54.0</td>\n",
       "      <td>90.0</td>\n",
       "      <td>78</td>\n",
       "    </tr>\n",
       "  </tbody>\n",
       "</table>\n",
       "</div>"
      ],
      "text/plain": [
       "   roll  python  excel  power_bi  pandas\n",
       "0    11    78.0    NaN      45.0      81\n",
       "1    22    67.0   87.0      67.0      85\n",
       "2    33    89.0   67.0      89.0      89\n",
       "3    44    90.0    NaN      87.0      87\n",
       "4    55    91.0   78.0      67.0      41\n",
       "5    66    72.0   90.0      90.0      45\n",
       "6    77    76.0   76.0      65.0      96\n",
       "7    88    89.0   78.0      67.0      56\n",
       "8    99    67.0   90.0       NaN      93\n",
       "9   111     NaN   54.0      90.0      78"
      ]
     },
     "execution_count": 171,
     "metadata": {},
     "output_type": "execute_result"
    }
   ],
   "source": [
    "df.loc[:,'roll':'pandas'] # [row,col]>> [strow:endrow, stcol:endcol]"
   ]
  },
  {
   "cell_type": "code",
   "execution_count": 172,
   "id": "d04835d4",
   "metadata": {},
   "outputs": [
    {
     "data": {
      "text/html": [
       "<div>\n",
       "<style scoped>\n",
       "    .dataframe tbody tr th:only-of-type {\n",
       "        vertical-align: middle;\n",
       "    }\n",
       "\n",
       "    .dataframe tbody tr th {\n",
       "        vertical-align: top;\n",
       "    }\n",
       "\n",
       "    .dataframe thead th {\n",
       "        text-align: right;\n",
       "    }\n",
       "</style>\n",
       "<table border=\"1\" class=\"dataframe\">\n",
       "  <thead>\n",
       "    <tr style=\"text-align: right;\">\n",
       "      <th></th>\n",
       "      <th>roll</th>\n",
       "      <th>python</th>\n",
       "      <th>excel</th>\n",
       "      <th>power_bi</th>\n",
       "      <th>pandas</th>\n",
       "    </tr>\n",
       "  </thead>\n",
       "  <tbody>\n",
       "    <tr>\n",
       "      <td>2</td>\n",
       "      <td>33</td>\n",
       "      <td>89.0</td>\n",
       "      <td>67.0</td>\n",
       "      <td>89.0</td>\n",
       "      <td>89</td>\n",
       "    </tr>\n",
       "    <tr>\n",
       "      <td>3</td>\n",
       "      <td>44</td>\n",
       "      <td>90.0</td>\n",
       "      <td>NaN</td>\n",
       "      <td>87.0</td>\n",
       "      <td>87</td>\n",
       "    </tr>\n",
       "    <tr>\n",
       "      <td>4</td>\n",
       "      <td>55</td>\n",
       "      <td>91.0</td>\n",
       "      <td>78.0</td>\n",
       "      <td>67.0</td>\n",
       "      <td>41</td>\n",
       "    </tr>\n",
       "    <tr>\n",
       "      <td>5</td>\n",
       "      <td>66</td>\n",
       "      <td>72.0</td>\n",
       "      <td>90.0</td>\n",
       "      <td>90.0</td>\n",
       "      <td>45</td>\n",
       "    </tr>\n",
       "    <tr>\n",
       "      <td>6</td>\n",
       "      <td>77</td>\n",
       "      <td>76.0</td>\n",
       "      <td>76.0</td>\n",
       "      <td>65.0</td>\n",
       "      <td>96</td>\n",
       "    </tr>\n",
       "  </tbody>\n",
       "</table>\n",
       "</div>"
      ],
      "text/plain": [
       "   roll  python  excel  power_bi  pandas\n",
       "2    33    89.0   67.0      89.0      89\n",
       "3    44    90.0    NaN      87.0      87\n",
       "4    55    91.0   78.0      67.0      41\n",
       "5    66    72.0   90.0      90.0      45\n",
       "6    77    76.0   76.0      65.0      96"
      ]
     },
     "execution_count": 172,
     "metadata": {},
     "output_type": "execute_result"
    }
   ],
   "source": [
    "df.loc[2:6,'roll':'pandas']"
   ]
  },
  {
   "cell_type": "code",
   "execution_count": 174,
   "id": "e539495a",
   "metadata": {},
   "outputs": [
    {
     "data": {
      "text/html": [
       "<div>\n",
       "<style scoped>\n",
       "    .dataframe tbody tr th:only-of-type {\n",
       "        vertical-align: middle;\n",
       "    }\n",
       "\n",
       "    .dataframe tbody tr th {\n",
       "        vertical-align: top;\n",
       "    }\n",
       "\n",
       "    .dataframe thead th {\n",
       "        text-align: right;\n",
       "    }\n",
       "</style>\n",
       "<table border=\"1\" class=\"dataframe\">\n",
       "  <thead>\n",
       "    <tr style=\"text-align: right;\">\n",
       "      <th></th>\n",
       "      <th>python</th>\n",
       "      <th>excel</th>\n",
       "      <th>power_bi</th>\n",
       "      <th>pandas</th>\n",
       "    </tr>\n",
       "  </thead>\n",
       "  <tbody>\n",
       "    <tr>\n",
       "      <td>2</td>\n",
       "      <td>89.0</td>\n",
       "      <td>67.0</td>\n",
       "      <td>89.0</td>\n",
       "      <td>89</td>\n",
       "    </tr>\n",
       "    <tr>\n",
       "      <td>3</td>\n",
       "      <td>90.0</td>\n",
       "      <td>NaN</td>\n",
       "      <td>87.0</td>\n",
       "      <td>87</td>\n",
       "    </tr>\n",
       "    <tr>\n",
       "      <td>4</td>\n",
       "      <td>91.0</td>\n",
       "      <td>78.0</td>\n",
       "      <td>67.0</td>\n",
       "      <td>41</td>\n",
       "    </tr>\n",
       "    <tr>\n",
       "      <td>5</td>\n",
       "      <td>72.0</td>\n",
       "      <td>90.0</td>\n",
       "      <td>90.0</td>\n",
       "      <td>45</td>\n",
       "    </tr>\n",
       "  </tbody>\n",
       "</table>\n",
       "</div>"
      ],
      "text/plain": [
       "   python  excel  power_bi  pandas\n",
       "2    89.0   67.0      89.0      89\n",
       "3    90.0    NaN      87.0      87\n",
       "4    91.0   78.0      67.0      41\n",
       "5    72.0   90.0      90.0      45"
      ]
     },
     "execution_count": 174,
     "metadata": {},
     "output_type": "execute_result"
    }
   ],
   "source": [
    "df.iloc[2:6,2:6]"
   ]
  },
  {
   "cell_type": "code",
   "execution_count": null,
   "id": "b62fb254",
   "metadata": {},
   "outputs": [],
   "source": []
  }
 ],
 "metadata": {
  "kernelspec": {
   "display_name": "Python 3",
   "language": "python",
   "name": "python3"
  },
  "language_info": {
   "codemirror_mode": {
    "name": "ipython",
    "version": 3
   },
   "file_extension": ".py",
   "mimetype": "text/x-python",
   "name": "python",
   "nbconvert_exporter": "python",
   "pygments_lexer": "ipython3",
   "version": "3.7.4"
  }
 },
 "nbformat": 4,
 "nbformat_minor": 5
}
