{
 "cells": [
  {
   "cell_type": "markdown",
   "id": "74e0a576",
   "metadata": {},
   "source": [
    "# Revision of if else and elif"
   ]
  },
  {
   "cell_type": "raw",
   "id": "c3a60aff",
   "metadata": {},
   "source": [
    "1) A company decided to give bonus of 5% to employee if his/her year of service is more than 5 years,10% to employee if his/her year of service is more than 10 years,15% to employee if his/her year of service is more than 15 years,20% to employee if his/her year of service is more than 20 years.\n",
    "Ask user for their salary and year of service and print the net bonus amount."
   ]
  },
  {
   "cell_type": "code",
   "execution_count": 1,
   "id": "0a605305",
   "metadata": {},
   "outputs": [
    {
     "name": "stdout",
     "output_type": "stream",
     "text": [
      "Enter your current salary: 6\n",
      "Enter your total year of service:5\n",
      "Your bonus amount is 0.6000000000000001\n"
     ]
    }
   ],
   "source": [
    "bonus_amount = 0 \n",
    "current_salary = float(input(\"Enter your current salary: \"))\n",
    "service_years = float(input(\"Enter your total year of service:\"))\n",
    "if service_years > 10:bonus_amount = current_salary* .20    \n",
    "elif service_years>5:bonus_amount = current_salary * 0.15\n",
    "elif service_years>3:bonus_amount = current_salary * 0.10\n",
    "elif service_years>2:bonus_amount = current_salary*0.05\n",
    "else:bonus_amount = current_salary*0\n",
    "\n",
    "print(f\"Your bonus amount is {bonus_amount}\" )"
   ]
  },
  {
   "cell_type": "markdown",
   "id": "d012925b",
   "metadata": {},
   "source": [
    "# Todays Topic\n",
    "   - nested ifs \n",
    "   - Collections (Python Data structures)\n",
    "         - list \n",
    "         - tuple\n",
    "         - dictionaries \n",
    "         - set "
   ]
  },
  {
   "cell_type": "code",
   "execution_count": 2,
   "id": "254d8d41",
   "metadata": {},
   "outputs": [],
   "source": [
    "# a student is declared pass only if he passes all the papers "
   ]
  },
  {
   "cell_type": "code",
   "execution_count": 7,
   "id": "515147cd",
   "metadata": {},
   "outputs": [
    {
     "name": "stdout",
     "output_type": "stream",
     "text": [
      "Enter marks in paper1: 78\n",
      "Enter marks in paper2: 89\n",
      "Enter marks in paper3: 90\n",
      "Enter marks in paper4: 67\n",
      "Enter marks in paper5: 56\n",
      "Pass\n"
     ]
    }
   ],
   "source": [
    "paper1 = float(input(\"Enter marks in paper1: \"))\n",
    "paper2 = float(input(\"Enter marks in paper2: \"))\n",
    "paper3 = float(input(\"Enter marks in paper3: \"))\n",
    "paper4 = float(input(\"Enter marks in paper4: \"))\n",
    "paper5 = float(input(\"Enter marks in paper5: \"))\n",
    "\n",
    "if paper1 >=50:\n",
    "    if paper2>=50:\n",
    "        if paper3>=50:\n",
    "            if paper4>=50:\n",
    "                if paper5>=50:\n",
    "                    result = \"Pass\"\n",
    "                else:\n",
    "                    result=\"Fails\"\n",
    "            else:\n",
    "                result=\"Fails\"\n",
    "        else:\n",
    "            result=\"Fails\"\n",
    "    else:\n",
    "        result=\"Fails\"        \n",
    "else:\n",
    "    result=\"Fails\"\n",
    "\n",
    "print(result)"
   ]
  },
  {
   "cell_type": "code",
   "execution_count": 5,
   "id": "ce3cf2a5",
   "metadata": {},
   "outputs": [
    {
     "data": {
      "text/plain": [
       "'Fails'"
      ]
     },
     "execution_count": 5,
     "metadata": {},
     "output_type": "execute_result"
    }
   ],
   "source": [
    "result"
   ]
  },
  {
   "cell_type": "code",
   "execution_count": 16,
   "id": "9bbd5be7",
   "metadata": {},
   "outputs": [
    {
     "name": "stdout",
     "output_type": "stream",
     "text": [
      "Tell me your age: 34\n",
      "Do you have a valid CNIC? YES\n",
      "is your name in list? Yes\n",
      "Elibigle for vote\n"
     ]
    }
   ],
   "source": [
    "# a person can caste vote if and only if he has a valid CNIC, and age is grater than or \n",
    "# equal to 18\n",
    "# and his name must be in voter list\n",
    "\n",
    "age  = int(input(\"Tell me your age: \"))\n",
    "if age >=18:\n",
    "    \n",
    "    cnic = input(\"Do you have a valid CNIC? \").lower()   \n",
    "    if cnic == \"yes\":\n",
    "        \n",
    "        name_in_list = input(\"is your name in list? \").lower()        \n",
    "        if name_in_list == \"yes\":\n",
    "            \n",
    "            status = \"Elibigle for vote\"\n",
    "        \n",
    "        else:\n",
    "            status = \"Not eligible for vote\"\n",
    "    else:\n",
    "        status = \"Not eligible for vote\"\n",
    "else:\n",
    "    status = \"Not eligible for vote\"\n",
    "print(status)"
   ]
  },
  {
   "cell_type": "code",
   "execution_count": 10,
   "id": "d65a214e",
   "metadata": {},
   "outputs": [
    {
     "data": {
      "text/plain": [
       "'Elibigle for vote'"
      ]
     },
     "execution_count": 10,
     "metadata": {},
     "output_type": "execute_result"
    }
   ],
   "source": [
    "status"
   ]
  },
  {
   "cell_type": "markdown",
   "id": "1601eb94",
   "metadata": {},
   "source": [
    "# Python Collections (Python Data Structures)\n",
    "\n",
    "   - list\n",
    "   - tuple\n",
    "   - dictionary\n",
    "   - set\n",
    "   "
   ]
  },
  {
   "cell_type": "code",
   "execution_count": 17,
   "id": "1cfe1f53",
   "metadata": {},
   "outputs": [],
   "source": [
    "marks =34"
   ]
  },
  {
   "cell_type": "code",
   "execution_count": 18,
   "id": "5835cde5",
   "metadata": {},
   "outputs": [],
   "source": [
    "name = \"Nasir\""
   ]
  },
  {
   "cell_type": "markdown",
   "id": "8c45776d",
   "metadata": {},
   "source": [
    "# List\n",
    "    representation > [  ]"
   ]
  },
  {
   "cell_type": "code",
   "execution_count": 19,
   "id": "80078e32",
   "metadata": {},
   "outputs": [],
   "source": [
    "# list of string values\n",
    "students  = [\"nasir\", \"ahmed\", 'ali',\"asad\", \"asif\", \"kahan\"]"
   ]
  },
  {
   "cell_type": "code",
   "execution_count": 20,
   "id": "ccf2f067",
   "metadata": {},
   "outputs": [
    {
     "data": {
      "text/plain": [
       "['nasir', 'ahmed', 'ali', 'asad', 'asif', 'kahan']"
      ]
     },
     "execution_count": 20,
     "metadata": {},
     "output_type": "execute_result"
    }
   ],
   "source": [
    "students"
   ]
  },
  {
   "cell_type": "code",
   "execution_count": 22,
   "id": "a7db8984",
   "metadata": {},
   "outputs": [
    {
     "data": {
      "text/plain": [
       "[56, 78, 89, 98, 67, 78, 90, 98, 78]"
      ]
     },
     "execution_count": 22,
     "metadata": {},
     "output_type": "execute_result"
    }
   ],
   "source": [
    "# list of numeric values \n",
    "marks = [56,78,89,98,67,78,90,98,78]\n",
    "marks"
   ]
  },
  {
   "cell_type": "code",
   "execution_count": 24,
   "id": "17194cad",
   "metadata": {},
   "outputs": [
    {
     "data": {
      "text/plain": [
       "[23, 34, 'Asad', 'Baber', True, False, 45.6]"
      ]
     },
     "execution_count": 24,
     "metadata": {},
     "output_type": "execute_result"
    }
   ],
   "source": [
    "# list of mix values\n",
    "misc_list = [23, 34, \"Asad\", \"Baber\", True , False, 45.6]\n",
    "misc_list"
   ]
  },
  {
   "cell_type": "code",
   "execution_count": 25,
   "id": "57a2c763",
   "metadata": {},
   "outputs": [],
   "source": [
    "empty_list = []"
   ]
  },
  {
   "cell_type": "code",
   "execution_count": 27,
   "id": "b1cfaecf",
   "metadata": {},
   "outputs": [
    {
     "name": "stdout",
     "output_type": "stream",
     "text": [
      "<class 'list'>\n"
     ]
    }
   ],
   "source": [
    "print(type(misc_list))"
   ]
  },
  {
   "cell_type": "markdown",
   "id": "321e765b",
   "metadata": {},
   "source": [
    "### List indices (Index)\n",
    "    list is an iterable object. Every iterable object has position or index or keys\n",
    "    iterables object are items that can be accesses individually. \n",
    "    Every collection is iterable onbject."
   ]
  },
  {
   "cell_type": "code",
   "execution_count": 32,
   "id": "f38b9cdb",
   "metadata": {},
   "outputs": [],
   "source": [
    "students  = [\"nasir\", \"ahmed\", 'ali',\"asad\", \"asif\", \"khan\"]\n",
    "# index        0         1       2    3       4        5\n",
    "# left to right"
   ]
  },
  {
   "cell_type": "code",
   "execution_count": 33,
   "id": "cfab9475",
   "metadata": {},
   "outputs": [
    {
     "data": {
      "text/plain": [
       "'ali'"
      ]
     },
     "execution_count": 33,
     "metadata": {},
     "output_type": "execute_result"
    }
   ],
   "source": [
    "students[2]"
   ]
  },
  {
   "cell_type": "code",
   "execution_count": 34,
   "id": "9581b76a",
   "metadata": {},
   "outputs": [
    {
     "data": {
      "text/plain": [
       "'khan'"
      ]
     },
     "execution_count": 34,
     "metadata": {},
     "output_type": "execute_result"
    }
   ],
   "source": [
    "students[5]"
   ]
  },
  {
   "cell_type": "code",
   "execution_count": 35,
   "id": "95d260f7",
   "metadata": {},
   "outputs": [],
   "source": [
    "students  = [\"nasir\", \"ahmed\", 'ali',\"asad\", \"asif\", \"khan\"]\n",
    "# index        -6       -5       -4    -3      -2      -1  \n",
    "# right to left"
   ]
  },
  {
   "cell_type": "code",
   "execution_count": 36,
   "id": "a26c46ec",
   "metadata": {},
   "outputs": [
    {
     "data": {
      "text/plain": [
       "'asad'"
      ]
     },
     "execution_count": 36,
     "metadata": {},
     "output_type": "execute_result"
    }
   ],
   "source": [
    "students[-3]"
   ]
  },
  {
   "cell_type": "code",
   "execution_count": 37,
   "id": "341c0dce",
   "metadata": {},
   "outputs": [
    {
     "data": {
      "text/plain": [
       "'asad'"
      ]
     },
     "execution_count": 37,
     "metadata": {},
     "output_type": "execute_result"
    }
   ],
   "source": [
    "students[3]"
   ]
  },
  {
   "cell_type": "markdown",
   "id": "ffa7e4c1",
   "metadata": {},
   "source": [
    "#### Adding and removing members from existing list\n",
    "    - del \n",
    "    - remove()\n",
    "    - pop()\n",
    "    \n",
    "    - append() to add \n",
    "    - extend()\n",
    "    - + \n",
    "    - insert()"
   ]
  },
  {
   "cell_type": "code",
   "execution_count": 38,
   "id": "9d4c02af",
   "metadata": {},
   "outputs": [
    {
     "data": {
      "text/plain": [
       "['nasir', 'ahmed', 'ali', 'asad', 'asif', 'khan']"
      ]
     },
     "execution_count": 38,
     "metadata": {},
     "output_type": "execute_result"
    }
   ],
   "source": [
    "students"
   ]
  },
  {
   "cell_type": "code",
   "execution_count": 40,
   "id": "ce85a35b",
   "metadata": {},
   "outputs": [
    {
     "data": {
      "text/plain": [
       "['nasir', 'ahmed', 'ali', 'asad', 'khan']"
      ]
     },
     "execution_count": 40,
     "metadata": {},
     "output_type": "execute_result"
    }
   ],
   "source": [
    "# del removes a value by using index permanently\n",
    "del students[4]\n",
    "students"
   ]
  },
  {
   "cell_type": "code",
   "execution_count": 41,
   "id": "90b02ae5",
   "metadata": {},
   "outputs": [
    {
     "data": {
      "text/plain": [
       "['nasir', 'ahmed', 'asad', 'khan']"
      ]
     },
     "execution_count": 41,
     "metadata": {},
     "output_type": "execute_result"
    }
   ],
   "source": [
    "# remove() removes a value by using value NOT by index\n",
    "students.remove(\"ali\")\n",
    "students"
   ]
  },
  {
   "cell_type": "code",
   "execution_count": 42,
   "id": "0c608b0f",
   "metadata": {},
   "outputs": [
    {
     "data": {
      "text/plain": [
       "'khan'"
      ]
     },
     "execution_count": 42,
     "metadata": {},
     "output_type": "execute_result"
    }
   ],
   "source": [
    "# pop also removes value by index but by default it removes last index permanently\n",
    "# whatever is removed by pop(). it throws back the removed value to store or not to sotre\n",
    "students.pop()"
   ]
  },
  {
   "cell_type": "code",
   "execution_count": 45,
   "id": "f358e1d5",
   "metadata": {},
   "outputs": [
    {
     "data": {
      "text/plain": [
       "['nasir', 'ahmed', 'asad']"
      ]
     },
     "execution_count": 45,
     "metadata": {},
     "output_type": "execute_result"
    }
   ],
   "source": [
    "students"
   ]
  },
  {
   "cell_type": "code",
   "execution_count": 46,
   "id": "05ae8fb6",
   "metadata": {},
   "outputs": [
    {
     "name": "stdout",
     "output_type": "stream",
     "text": [
      "['nasir', 'ahmed']\n",
      "asad\n"
     ]
    }
   ],
   "source": [
    "poppped_value = students.pop()\n",
    "print(students)\n",
    "print(poppped_value)"
   ]
  },
  {
   "cell_type": "code",
   "execution_count": 47,
   "id": "a76bb316",
   "metadata": {},
   "outputs": [
    {
     "data": {
      "text/plain": [
       "['ahmed']"
      ]
     },
     "execution_count": 47,
     "metadata": {},
     "output_type": "execute_result"
    }
   ],
   "source": [
    "# we can also provide index to pop()\n",
    "students.pop(0)\n",
    "students"
   ]
  },
  {
   "cell_type": "code",
   "execution_count": 48,
   "id": "a37bb39b",
   "metadata": {},
   "outputs": [
    {
     "data": {
      "text/plain": [
       "[56, 78, 89, 98, 67, 78, 90, 98, 78]"
      ]
     },
     "execution_count": 48,
     "metadata": {},
     "output_type": "execute_result"
    }
   ],
   "source": [
    "marks"
   ]
  },
  {
   "cell_type": "code",
   "execution_count": 51,
   "id": "9e66af4d",
   "metadata": {},
   "outputs": [],
   "source": [
    "# clear removes or deletes all values in one go permanently \n",
    "marks.clear()"
   ]
  },
  {
   "cell_type": "code",
   "execution_count": 52,
   "id": "5d03371a",
   "metadata": {},
   "outputs": [
    {
     "data": {
      "text/plain": [
       "[]"
      ]
     },
     "execution_count": 52,
     "metadata": {},
     "output_type": "execute_result"
    }
   ],
   "source": [
    "marks"
   ]
  },
  {
   "cell_type": "code",
   "execution_count": 53,
   "id": "b6649fda",
   "metadata": {},
   "outputs": [
    {
     "data": {
      "text/plain": [
       "['ahmed']"
      ]
     },
     "execution_count": 53,
     "metadata": {},
     "output_type": "execute_result"
    }
   ],
   "source": [
    "students"
   ]
  },
  {
   "cell_type": "code",
   "execution_count": 56,
   "id": "4ee50437",
   "metadata": {},
   "outputs": [
    {
     "data": {
      "text/plain": [
       "['ahmed', 'Kashif', 'Kashif', 'Kashif']"
      ]
     },
     "execution_count": 56,
     "metadata": {},
     "output_type": "execute_result"
    }
   ],
   "source": [
    "# append() appends the value in the last of the list. It appends only one value at a time. \n",
    "students.append(\"Kashif\")\n",
    "students"
   ]
  },
  {
   "cell_type": "code",
   "execution_count": 57,
   "id": "05978595",
   "metadata": {},
   "outputs": [],
   "source": [
    "students.append(\"Aslam\")"
   ]
  },
  {
   "cell_type": "code",
   "execution_count": 58,
   "id": "98f17bb2",
   "metadata": {},
   "outputs": [
    {
     "data": {
      "text/plain": [
       "['ahmed', 'Kashif', 'Kashif', 'Kashif', 'Aslam']"
      ]
     },
     "execution_count": 58,
     "metadata": {},
     "output_type": "execute_result"
    }
   ],
   "source": [
    "students"
   ]
  },
  {
   "cell_type": "code",
   "execution_count": 60,
   "id": "7d2fdf27",
   "metadata": {},
   "outputs": [
    {
     "data": {
      "text/plain": [
       "['ahmed', 'Kashif', 'Kashif', 'Faisal', 'Kashif', 'Aslam']"
      ]
     },
     "execution_count": 60,
     "metadata": {},
     "output_type": "execute_result"
    }
   ],
   "source": [
    "# insert adds value in the list on provided index position\n",
    "students.insert(3, \"Faisal\")\n",
    "students"
   ]
  },
  {
   "cell_type": "code",
   "execution_count": 61,
   "id": "3563bf91",
   "metadata": {},
   "outputs": [
    {
     "data": {
      "text/plain": [
       "['yasir', 'ahmed', 'Kashif', 'Kashif', 'Faisal', 'Kashif', 'Aslam']"
      ]
     },
     "execution_count": 61,
     "metadata": {},
     "output_type": "execute_result"
    }
   ],
   "source": [
    "students.insert(0, \"yasir\")\n",
    "students"
   ]
  },
  {
   "cell_type": "code",
   "execution_count": 62,
   "id": "29dd34e7",
   "metadata": {},
   "outputs": [
    {
     "data": {
      "text/plain": [
       "['yasir', 'ahmed', 'Kashif', 'Kashif', 'Faisal', 'Kashif', 'Aslam']"
      ]
     },
     "execution_count": 62,
     "metadata": {},
     "output_type": "execute_result"
    }
   ],
   "source": [
    "students"
   ]
  },
  {
   "cell_type": "code",
   "execution_count": 63,
   "id": "6c28038c",
   "metadata": {},
   "outputs": [],
   "source": [
    "teachers = [\"hasan\", \"umer\", 'farhan']"
   ]
  },
  {
   "cell_type": "code",
   "execution_count": 64,
   "id": "6516f214",
   "metadata": {},
   "outputs": [],
   "source": [
    "# appending a list into a list will add the whole list as a one members.  \n",
    "students.append(teachers)"
   ]
  },
  {
   "cell_type": "code",
   "execution_count": 65,
   "id": "d19894d4",
   "metadata": {},
   "outputs": [
    {
     "data": {
      "text/plain": [
       "['yasir',\n",
       " 'ahmed',\n",
       " 'Kashif',\n",
       " 'Kashif',\n",
       " 'Faisal',\n",
       " 'Kashif',\n",
       " 'Aslam',\n",
       " ['hasan', 'umer', 'farhan']]"
      ]
     },
     "execution_count": 65,
     "metadata": {},
     "output_type": "execute_result"
    }
   ],
   "source": [
    "students"
   ]
  },
  {
   "cell_type": "code",
   "execution_count": 66,
   "id": "913d0c98",
   "metadata": {},
   "outputs": [
    {
     "data": {
      "text/plain": [
       "['yasir', 'ahmed', 'Kashif', 'Kashif', 'Faisal', 'Kashif', 'Aslam']"
      ]
     },
     "execution_count": 66,
     "metadata": {},
     "output_type": "execute_result"
    }
   ],
   "source": [
    "del students[-1]\n",
    "students"
   ]
  },
  {
   "cell_type": "code",
   "execution_count": 67,
   "id": "174f25c7",
   "metadata": {},
   "outputs": [
    {
     "data": {
      "text/plain": [
       "['yasir',\n",
       " 'ahmed',\n",
       " 'Kashif',\n",
       " 'Kashif',\n",
       " 'Faisal',\n",
       " 'Kashif',\n",
       " 'Aslam',\n",
       " 'hasan',\n",
       " 'umer',\n",
       " 'farhan']"
      ]
     },
     "execution_count": 67,
     "metadata": {},
     "output_type": "execute_result"
    }
   ],
   "source": [
    "# extending  a list into a list will add the whole list members one by one as individual members.  \n",
    "students.extend(teachers)\n",
    "students"
   ]
  },
  {
   "cell_type": "code",
   "execution_count": 70,
   "id": "2760aa7f",
   "metadata": {},
   "outputs": [
    {
     "data": {
      "text/plain": [
       "['yasir',\n",
       " 'ahmed',\n",
       " 'Kashif',\n",
       " 'Kashif',\n",
       " 'Faisal',\n",
       " 'Kashif',\n",
       " 'Aslam',\n",
       " 'hasan',\n",
       " 'umer',\n",
       " 'farhan',\n",
       " 'hasan',\n",
       " 'umer',\n",
       " 'farhan']"
      ]
     },
     "execution_count": 70,
     "metadata": {},
     "output_type": "execute_result"
    }
   ],
   "source": [
    "# ADDING + TWO list will work likes extend function. extending  a list into a list will add \n",
    "#the whole list members one by one as individual members.\n",
    "students + teachers"
   ]
  },
  {
   "cell_type": "code",
   "execution_count": 71,
   "id": "20aa7a07",
   "metadata": {},
   "outputs": [
    {
     "data": {
      "text/plain": [
       "10"
      ]
     },
     "execution_count": 71,
     "metadata": {},
     "output_type": "execute_result"
    }
   ],
   "source": [
    "len(students)"
   ]
  },
  {
   "cell_type": "code",
   "execution_count": 72,
   "id": "02146712",
   "metadata": {},
   "outputs": [
    {
     "data": {
      "text/plain": [
       "8"
      ]
     },
     "execution_count": 72,
     "metadata": {},
     "output_type": "execute_result"
    }
   ],
   "source": [
    "len(\"Pakistan\")"
   ]
  },
  {
   "cell_type": "code",
   "execution_count": 73,
   "id": "7628c847",
   "metadata": {},
   "outputs": [
    {
     "data": {
      "text/plain": [
       "['yasir',\n",
       " 'ahmed',\n",
       " 'Kashif',\n",
       " 'Kashif',\n",
       " 'Faisal',\n",
       " 'Kashif',\n",
       " 'Aslam',\n",
       " 'hasan',\n",
       " 'umer',\n",
       " 'farhan']"
      ]
     },
     "execution_count": 73,
     "metadata": {},
     "output_type": "execute_result"
    }
   ],
   "source": [
    "new_students = students.copy()\n",
    "new_students"
   ]
  },
  {
   "cell_type": "code",
   "execution_count": 74,
   "id": "a98c2fab",
   "metadata": {},
   "outputs": [
    {
     "data": {
      "text/plain": [
       "3"
      ]
     },
     "execution_count": 74,
     "metadata": {},
     "output_type": "execute_result"
    }
   ],
   "source": [
    "# return the occurence of a member in list\n",
    "students.count(\"Kashif\")"
   ]
  },
  {
   "cell_type": "code",
   "execution_count": 75,
   "id": "6e25fbed",
   "metadata": {},
   "outputs": [
    {
     "data": {
      "text/plain": [
       "7"
      ]
     },
     "execution_count": 75,
     "metadata": {},
     "output_type": "execute_result"
    }
   ],
   "source": [
    "# it returns the position of a memeber in list\n",
    "students.index('hasan')"
   ]
  },
  {
   "cell_type": "code",
   "execution_count": 76,
   "id": "7953005b",
   "metadata": {},
   "outputs": [],
   "source": [
    "# it reverse the list permanently in the memory(in memory)\n",
    "students.reverse()"
   ]
  },
  {
   "cell_type": "code",
   "execution_count": 77,
   "id": "fd4cff8b",
   "metadata": {},
   "outputs": [
    {
     "data": {
      "text/plain": [
       "['farhan',\n",
       " 'umer',\n",
       " 'hasan',\n",
       " 'Aslam',\n",
       " 'Kashif',\n",
       " 'Faisal',\n",
       " 'Kashif',\n",
       " 'Kashif',\n",
       " 'ahmed',\n",
       " 'yasir']"
      ]
     },
     "execution_count": 77,
     "metadata": {},
     "output_type": "execute_result"
    }
   ],
   "source": [
    "students"
   ]
  },
  {
   "cell_type": "code",
   "execution_count": 78,
   "id": "aafc6a39",
   "metadata": {},
   "outputs": [],
   "source": [
    "students.sort()"
   ]
  },
  {
   "cell_type": "code",
   "execution_count": 79,
   "id": "49bfd713",
   "metadata": {},
   "outputs": [
    {
     "data": {
      "text/plain": [
       "['Aslam',\n",
       " 'Faisal',\n",
       " 'Kashif',\n",
       " 'Kashif',\n",
       " 'Kashif',\n",
       " 'ahmed',\n",
       " 'farhan',\n",
       " 'hasan',\n",
       " 'umer',\n",
       " 'yasir']"
      ]
     },
     "execution_count": 79,
     "metadata": {},
     "output_type": "execute_result"
    }
   ],
   "source": [
    "students"
   ]
  },
  {
   "cell_type": "markdown",
   "id": "ec671206",
   "metadata": {},
   "source": [
    "### Slicing a list \n",
    "    - it return a copy of subset of list. "
   ]
  },
  {
   "cell_type": "code",
   "execution_count": 80,
   "id": "54df639e",
   "metadata": {},
   "outputs": [
    {
     "data": {
      "text/plain": [
       "['Aslam',\n",
       " 'Faisal',\n",
       " 'Kashif',\n",
       " 'Kashif',\n",
       " 'Kashif',\n",
       " 'ahmed',\n",
       " 'farhan',\n",
       " 'hasan',\n",
       " 'umer',\n",
       " 'yasir']"
      ]
     },
     "execution_count": 80,
     "metadata": {},
     "output_type": "execute_result"
    }
   ],
   "source": [
    "students"
   ]
  },
  {
   "cell_type": "code",
   "execution_count": 81,
   "id": "e8daa392",
   "metadata": {},
   "outputs": [
    {
     "data": {
      "text/plain": [
       "['Kashif', 'ahmed', 'farhan', 'hasan']"
      ]
     },
     "execution_count": 81,
     "metadata": {},
     "output_type": "execute_result"
    }
   ],
   "source": [
    "students[4:8]  # actual me 7 tak slice hoga"
   ]
  },
  {
   "cell_type": "code",
   "execution_count": 83,
   "id": "edcd5c06",
   "metadata": {},
   "outputs": [
    {
     "data": {
      "text/plain": [
       "['hasan', 'umer', 'yasir']"
      ]
     },
     "execution_count": 83,
     "metadata": {},
     "output_type": "execute_result"
    }
   ],
   "source": [
    "students[7:10]"
   ]
  },
  {
   "cell_type": "code",
   "execution_count": 84,
   "id": "ce1fadd6",
   "metadata": {},
   "outputs": [
    {
     "data": {
      "text/plain": [
       "['Aslam', 'Faisal', 'Kashif', 'Kashif', 'Kashif', 'ahmed']"
      ]
     },
     "execution_count": 84,
     "metadata": {},
     "output_type": "execute_result"
    }
   ],
   "source": [
    "students[:6]# it start from 0 index"
   ]
  },
  {
   "cell_type": "code",
   "execution_count": 85,
   "id": "6b063eca",
   "metadata": {},
   "outputs": [
    {
     "data": {
      "text/plain": [
       "['Kashif', 'Kashif', 'ahmed', 'farhan', 'hasan', 'umer', 'yasir']"
      ]
     },
     "execution_count": 85,
     "metadata": {},
     "output_type": "execute_result"
    }
   ],
   "source": [
    "students[3:] # it ends at vert last index "
   ]
  },
  {
   "cell_type": "code",
   "execution_count": 87,
   "id": "e36bf097",
   "metadata": {},
   "outputs": [],
   "source": [
    "copy_list  = students[:] # which is parallel to copy()"
   ]
  },
  {
   "cell_type": "code",
   "execution_count": 88,
   "id": "dc4d3e15",
   "metadata": {},
   "outputs": [
    {
     "data": {
      "text/plain": [
       "['Aslam',\n",
       " 'Faisal',\n",
       " 'Kashif',\n",
       " 'Kashif',\n",
       " 'Kashif',\n",
       " 'ahmed',\n",
       " 'farhan',\n",
       " 'hasan',\n",
       " 'umer',\n",
       " 'yasir']"
      ]
     },
     "execution_count": 88,
     "metadata": {},
     "output_type": "execute_result"
    }
   ],
   "source": [
    "copy_list"
   ]
  },
  {
   "cell_type": "code",
   "execution_count": 91,
   "id": "b22c9262",
   "metadata": {},
   "outputs": [
    {
     "data": {
      "text/plain": [
       "['Aslam', 'Kashif', 'Kashif', 'farhan', 'umer']"
      ]
     },
     "execution_count": 91,
     "metadata": {},
     "output_type": "execute_result"
    }
   ],
   "source": [
    "# important : by default slicing direction is left to right\n",
    "\n",
    "students[0:10:2]  # start:end:step"
   ]
  },
  {
   "cell_type": "code",
   "execution_count": 92,
   "id": "7f5499fe",
   "metadata": {},
   "outputs": [
    {
     "data": {
      "text/plain": [
       "['Aslam', 'Kashif', 'farhan', 'yasir']"
      ]
     },
     "execution_count": 92,
     "metadata": {},
     "output_type": "execute_result"
    }
   ],
   "source": [
    "students[0:10:3]  # start:end:step"
   ]
  },
  {
   "cell_type": "code",
   "execution_count": 93,
   "id": "c3c257d2",
   "metadata": {},
   "outputs": [
    {
     "data": {
      "text/plain": [
       "[]"
      ]
     },
     "execution_count": 93,
     "metadata": {},
     "output_type": "execute_result"
    }
   ],
   "source": [
    "students[6:1]# right to left indexing not working. will not copy anything."
   ]
  },
  {
   "cell_type": "code",
   "execution_count": 95,
   "id": "c47b6fe0",
   "metadata": {},
   "outputs": [
    {
     "data": {
      "text/plain": [
       "['Kashif']"
      ]
     },
     "execution_count": 95,
     "metadata": {},
     "output_type": "execute_result"
    }
   ],
   "source": [
    "students[2:-7]"
   ]
  },
  {
   "cell_type": "code",
   "execution_count": 96,
   "id": "e1c78e3a",
   "metadata": {},
   "outputs": [
    {
     "data": {
      "text/plain": [
       "['Kashif', 'ahmed', 'farhan', 'hasan']"
      ]
     },
     "execution_count": 96,
     "metadata": {},
     "output_type": "execute_result"
    }
   ],
   "source": [
    "students[4:-2]"
   ]
  },
  {
   "cell_type": "code",
   "execution_count": 94,
   "id": "1241088c",
   "metadata": {},
   "outputs": [
    {
     "data": {
      "text/plain": [
       "['Aslam',\n",
       " 'Faisal',\n",
       " 'Kashif',\n",
       " 'Kashif',\n",
       " 'Kashif',\n",
       " 'ahmed',\n",
       " 'farhan',\n",
       " 'hasan',\n",
       " 'umer',\n",
       " 'yasir']"
      ]
     },
     "execution_count": 94,
     "metadata": {},
     "output_type": "execute_result"
    }
   ],
   "source": [
    "students"
   ]
  },
  {
   "cell_type": "code",
   "execution_count": 97,
   "id": "14d6fa7c",
   "metadata": {},
   "outputs": [
    {
     "data": {
      "text/plain": [
       "[]"
      ]
     },
     "execution_count": 97,
     "metadata": {},
     "output_type": "execute_result"
    }
   ],
   "source": [
    "students[-1:3]"
   ]
  },
  {
   "cell_type": "code",
   "execution_count": 98,
   "id": "65e83d69",
   "metadata": {},
   "outputs": [
    {
     "data": {
      "text/plain": [
       "['yasir', 'umer', 'hasan', 'farhan', 'ahmed', 'Kashif']"
      ]
     },
     "execution_count": 98,
     "metadata": {},
     "output_type": "execute_result"
    }
   ],
   "source": [
    "students[-1:3:-1]"
   ]
  },
  {
   "cell_type": "code",
   "execution_count": 99,
   "id": "d6c6e989",
   "metadata": {},
   "outputs": [
    {
     "data": {
      "text/plain": [
       "['Aslam',\n",
       " 'Faisal',\n",
       " 'Kashif',\n",
       " 'Kashif',\n",
       " 'Kashif',\n",
       " 'ahmed',\n",
       " 'farhan',\n",
       " 'hasan',\n",
       " 'umer',\n",
       " 'yasir']"
      ]
     },
     "execution_count": 99,
     "metadata": {},
     "output_type": "execute_result"
    }
   ],
   "source": [
    "students"
   ]
  },
  {
   "cell_type": "code",
   "execution_count": 100,
   "id": "4e7b10b2",
   "metadata": {},
   "outputs": [
    {
     "data": {
      "text/plain": [
       "['yasir',\n",
       " 'umer',\n",
       " 'hasan',\n",
       " 'farhan',\n",
       " 'ahmed',\n",
       " 'Kashif',\n",
       " 'Kashif',\n",
       " 'Kashif',\n",
       " 'Faisal',\n",
       " 'Aslam']"
      ]
     },
     "execution_count": 100,
     "metadata": {},
     "output_type": "execute_result"
    }
   ],
   "source": [
    "students[::-1]"
   ]
  },
  {
   "cell_type": "code",
   "execution_count": null,
   "id": "22f407f3",
   "metadata": {},
   "outputs": [],
   "source": []
  }
 ],
 "metadata": {
  "kernelspec": {
   "display_name": "Python 3",
   "language": "python",
   "name": "python3"
  },
  "language_info": {
   "codemirror_mode": {
    "name": "ipython",
    "version": 3
   },
   "file_extension": ".py",
   "mimetype": "text/x-python",
   "name": "python",
   "nbconvert_exporter": "python",
   "pygments_lexer": "ipython3",
   "version": "3.7.4"
  }
 },
 "nbformat": 4,
 "nbformat_minor": 5
}
