{
 "cells": [
  {
   "cell_type": "raw",
   "metadata": {
    "id": "8rksu2_jMVjQ"
   },
   "source": [
    "1) A company decided to give bonus of 5% to employee if his/her year of service is more than 5 years.\n",
    "Ask user for their salary and year of service and print the net bonus amount."
   ]
  },
  {
   "cell_type": "code",
   "execution_count": 4,
   "metadata": {
    "id": "_GRPHPiLMVjX"
   },
   "outputs": [
    {
     "name": "stdout",
     "output_type": "stream",
     "text": [
      "Enter your Current Salary: 17000000000\n",
      "Enter your service years: 3\n"
     ]
    },
    {
     "data": {
      "text/plain": [
       "'Your service years are less than 5 years so you are not eligible for bonus'"
      ]
     },
     "execution_count": 4,
     "metadata": {},
     "output_type": "execute_result"
    }
   ],
   "source": [
    "#Type your code here\n",
    "bonus= 5/100\n",
    "salary = float(input(\"Enter your Current Salary: \"))\n",
    "service_years = float(input(\"Enter your service years: \"))\n",
    "if service_years >5:\n",
    "    bonus_amount = salary*bonus\n",
    "    result = bonus_amount\n",
    "else:\n",
    "    result = \"Your service years are less than 5 years so you are not eligible for bonus\"\n",
    "\n",
    "result"
   ]
  },
  {
   "cell_type": "markdown",
   "metadata": {
    "id": "iXt5RVcjMVja"
   },
   "source": [
    "2) Write a program to check whether a person is eligible for voting or not. (accept age from user)"
   ]
  },
  {
   "cell_type": "code",
   "execution_count": 6,
   "metadata": {
    "id": "jXVCvia3MVjh"
   },
   "outputs": [
    {
     "name": "stdout",
     "output_type": "stream",
     "text": [
      "enter your age: 19\n",
      "you are eligible for vote\n"
     ]
    }
   ],
   "source": [
    "age = int(input(\"enter your age: \"))\n",
    "\n",
    "if age >= 18:\n",
    "    print(\"you are eligible for vote\")\n",
    "else:\n",
    "        print(\"you are not eligible for vote\")\n",
    "        \n"
   ]
  },
  {
   "cell_type": "markdown",
   "metadata": {
    "id": "IkNM7QpCMVjj"
   },
   "source": [
    "3) Write a program to check whether a number entered by user is even or odd."
   ]
  },
  {
   "cell_type": "code",
   "execution_count": 9,
   "metadata": {
    "id": "-GxviwByMVjl"
   },
   "outputs": [
    {
     "name": "stdout",
     "output_type": "stream",
     "text": [
      "enter any whole/integer number: 12\n"
     ]
    },
    {
     "data": {
      "text/plain": [
       "'even'"
      ]
     },
     "execution_count": 9,
     "metadata": {},
     "output_type": "execute_result"
    }
   ],
   "source": [
    "number = int(input(\"enter any whole/integer number: \"))\n",
    "\n",
    "if number%2==0:\n",
    "    res= \"even\"\n",
    "else:\n",
    "    res=\"odd\"\n",
    "    \n",
    "res\n",
    "    \n"
   ]
  },
  {
   "cell_type": "markdown",
   "metadata": {
    "id": "_jEHjkfdMVjm"
   },
   "source": [
    "4) Write a program to check whether a number is divisible by 7 or not.\n",
    "Show Answer"
   ]
  },
  {
   "cell_type": "code",
   "execution_count": 11,
   "metadata": {
    "id": "IRNXyG1GMVjo"
   },
   "outputs": [
    {
     "name": "stdout",
     "output_type": "stream",
     "text": [
      "enter any number: 9\n"
     ]
    },
    {
     "data": {
      "text/plain": [
       "'not divible by 7'"
      ]
     },
     "execution_count": 11,
     "metadata": {},
     "output_type": "execute_result"
    }
   ],
   "source": [
    "#Type your code here\n",
    "\n",
    "number = float(input(\"enter any number: \"))\n",
    "\n",
    "if number%7==0:\n",
    "    r = \"divisible by 7\"\n",
    "else:\n",
    "    r= \"not divible by 7\"\n",
    "    \n",
    "r"
   ]
  },
  {
   "cell_type": "raw",
   "metadata": {
    "id": "XxfyVe4kMVjp"
   },
   "source": [
    "5) Write a program to display \n",
    "\"Hello\" if a number entered by user is a multiple of five , otherwise print \"Bye\"."
   ]
  },
  {
   "cell_type": "code",
   "execution_count": 13,
   "metadata": {
    "id": "Ixnz4R4TMVjr"
   },
   "outputs": [
    {
     "name": "stdout",
     "output_type": "stream",
     "text": [
      "enter any number: 15\n"
     ]
    },
    {
     "data": {
      "text/plain": [
       "'Hello'"
      ]
     },
     "execution_count": 13,
     "metadata": {},
     "output_type": "execute_result"
    }
   ],
   "source": [
    "#Type your code here\n",
    "\n",
    "number = float(input(\"enter any number: \"))\n",
    "\n",
    "if number%5==0:\n",
    "    r = \"Hello\"\n",
    "else:\n",
    "    r= \"bye\"\n",
    "    \n",
    "r"
   ]
  },
  {
   "cell_type": "raw",
   "metadata": {
    "id": "qfzRUUwOMVjs"
   },
   "source": [
    "6) Write a program to calculate the electricity bill \n",
    "(accept number of unit from user) according to the following criteria :\n",
    "     Unit                                                     Price  \n",
    "upto 100 units                                             no charge\n",
    "Next 200 units                                              Rs 5 per unit\n",
    "After 300 units                                             Rs 10 per unit\n",
    "(For example if input unit is 350 than total bill amount is Rs.2000\n",
    "(For example if input unit is 97 than total bill amount is Rs.0\n",
    "(For example if input unit is 150 than total bill amount is Rs.250"
   ]
  },
  {
   "cell_type": "code",
   "execution_count": 3,
   "metadata": {
    "id": "1BY1oAIpMVju"
   },
   "outputs": [
    {
     "name": "stdout",
     "output_type": "stream",
     "text": [
      "enter number of units: 350\n"
     ]
    },
    {
     "data": {
      "text/plain": [
       "1500.0"
      ]
     },
     "execution_count": 3,
     "metadata": {},
     "output_type": "execute_result"
    }
   ],
   "source": [
    "#Type your code here\n",
    "\n",
    "units =float(input(\"enter number of units: \"))\n",
    "\n",
    "if units<=100:\n",
    "    rs = 'no charge'\n",
    "elif units>100 and units<=200:\n",
    "    rs = (units-100)*5\n",
    "elif units>=300:\n",
    "    rs = (units-300)*10 + (200*5) + (100*0)\n",
    "rs"
   ]
  },
  {
   "cell_type": "raw",
   "metadata": {
    "id": "msAIDMRDMVjv"
   },
   "source": [
    "7) Write a program to display the last digit of a number."
   ]
  },
  {
   "cell_type": "code",
   "execution_count": 4,
   "metadata": {
    "id": "VQwLuGzbMVjv"
   },
   "outputs": [
    {
     "name": "stdout",
     "output_type": "stream",
     "text": [
      "Enter a number: 1213214324234\n",
      "The last digit is: 4\n"
     ]
    }
   ],
   "source": [
    "#Type your code here\n",
    "number = int(input(\"Enter a number: \"))\n",
    "last_digit = number % 10\n",
    "print(f\"The last digit is: {last_digit}\")\n"
   ]
  },
  {
   "cell_type": "raw",
   "metadata": {
    "id": "UeLHzVZ_MVjw"
   },
   "source": [
    "Q8. Write a program to check whether the last digit of a number( entered by user ) is \n",
    "divisible by 3 or not."
   ]
  },
  {
   "cell_type": "code",
   "execution_count": 6,
   "metadata": {
    "id": "KiQ5wnc6MVjx"
   },
   "outputs": [
    {
     "name": "stdout",
     "output_type": "stream",
     "text": [
      "Enter a number: 12131232321\n",
      "not divisile by 3\n"
     ]
    }
   ],
   "source": [
    "#Type your code here\n",
    "number = int(input(\"Enter a number: \"))\n",
    "last_digit = number % 10\n",
    "\n",
    "if last_digit%3==0:\n",
    "    print(\"last digit number is divible by 3\")\n",
    "else:\n",
    "    print(\"not divisile by 3\")\n",
    "\n"
   ]
  },
  {
   "cell_type": "raw",
   "metadata": {
    "id": "CR4sMmRgMVjy"
   },
   "source": [
    "9) Take values of length and breadth of a rectangle from user and check if it is square or not."
   ]
  },
  {
   "cell_type": "code",
   "execution_count": 10,
   "metadata": {
    "id": "Oj1MT5fCMVjy"
   },
   "outputs": [
    {
     "name": "stdout",
     "output_type": "stream",
     "text": [
      "enter length of rectangle: 123\n",
      "enter breadth of rectangle: 32\n",
      "it not a square\n"
     ]
    }
   ],
   "source": [
    "#Type your code here \n",
    "length = float(input(\"enter length of rectangle: \"))\n",
    "breadth = float(input(\"enter breadth of rectangle: \"))\n",
    "\n",
    "if breadth==length:\n",
    "    print(\"it is square\")\n",
    "else:\n",
    "    print(\"it not a square\")"
   ]
  },
  {
   "cell_type": "raw",
   "metadata": {
    "id": "B2e5VYbiMVjz"
   },
   "source": [
    "10) Take two int values from user and print greatest among them."
   ]
  },
  {
   "cell_type": "code",
   "execution_count": 12,
   "metadata": {
    "id": "LyYYL78HMVj0"
   },
   "outputs": [
    {
     "name": "stdout",
     "output_type": "stream",
     "text": [
      "enter first number: 12123\n",
      "enter first number: 32123\n"
     ]
    },
    {
     "data": {
      "text/plain": [
       "'32123 is greater than 12123'"
      ]
     },
     "execution_count": 12,
     "metadata": {},
     "output_type": "execute_result"
    }
   ],
   "source": [
    "# Type your code here\n",
    "num1= int(input(\"enter first number: \"))\n",
    "num2 = int(input(\"enter first number: \"))\n",
    "\n",
    "if num1>num2:\n",
    "    re=f\"{num1} is greater than {num2}\"\n",
    "else:\n",
    "    re=f\"{num2} is greater than {num1}\"\n",
    "re"
   ]
  },
  {
   "cell_type": "raw",
   "metadata": {
    "id": "R9gMEjdQMVj1"
   },
   "source": [
    "11) A shop will give discount of 10% if the cost of purchased quantity is more than 1000.\n",
    "Ask user for quantity\n",
    "Suppose, one unit will cost 100.\n",
    "Judge and print total cost for user."
   ]
  },
  {
   "cell_type": "code",
   "execution_count": 15,
   "metadata": {
    "id": "hjvEnOzxMVj2"
   },
   "outputs": [
    {
     "name": "stdout",
     "output_type": "stream",
     "text": [
      "how much do you want? 20\n"
     ]
    },
    {
     "data": {
      "text/plain": [
       "1800.0"
      ]
     },
     "execution_count": 15,
     "metadata": {},
     "output_type": "execute_result"
    }
   ],
   "source": [
    "#Type your code here\n",
    "\n",
    "quantity = int(input(\"how much do you want? \"))\n",
    "cost = quantity*100\n",
    "if cost>1000:\n",
    "    dis = cost - (cost*(10/100))\n",
    "else:\n",
    "    dis = cost\n",
    "dis"
   ]
  },
  {
   "cell_type": "raw",
   "metadata": {
    "id": "yqYL7FZeMVj3"
   },
   "source": [
    "12) A school has following rules for grading system:\n",
    "\n",
    "a. Below 25 - F\n",
    "\n",
    "b. 25 to 45 - E\n",
    "\n",
    "c. 45 to 50 - D\n",
    "\n",
    "d. 50 to 60 - C\n",
    "\n",
    "e. 60 to 80 - B\n",
    "\n",
    "f. Above 80 - A\n",
    "\n",
    "Ask user to enter marks and print the corresponding grade."
   ]
  },
  {
   "cell_type": "code",
   "execution_count": 1,
   "metadata": {
    "id": "he_r-bpOMVj4"
   },
   "outputs": [
    {
     "name": "stdout",
     "output_type": "stream",
     "text": [
      "Enter your marks: 78\n",
      "Your grade is: B\n"
     ]
    }
   ],
   "source": [
    "#Type your code here\n",
    "\n",
    "marks = float(input(\"Enter your marks: \"))\n",
    "\n",
    "if marks < 25:\n",
    "    grade = \"F\"\n",
    "elif marks < 45:\n",
    "    grade = \"E\"\n",
    "elif marks < 50:\n",
    "    grade = \"D\"\n",
    "elif marks < 60:\n",
    "    grade = \"C\"\n",
    "elif marks < 80:\n",
    "    grade = \"B\"\n",
    "else:\n",
    "    grade = \"A\"\n",
    "\n",
    "print(f\"Your grade is: {grade}\")\n"
   ]
  },
  {
   "cell_type": "raw",
   "metadata": {
    "id": "IUJjt9NbMVj4"
   },
   "source": [
    "13) Take input of age of 3 people by user and determine oldest and youngest among them."
   ]
  },
  {
   "cell_type": "code",
   "execution_count": 6,
   "metadata": {
    "id": "vlre5Ck0MVj4"
   },
   "outputs": [
    {
     "name": "stdout",
     "output_type": "stream",
     "text": [
      "enter person 1 age: 54\n",
      "enter person 2 age: 23\n",
      "enter person 3 age: 32\n",
      "Oldest is person 1\n",
      "Youngest is person 2\n"
     ]
    }
   ],
   "source": [
    "#Type your code here\n",
    "p1 = int(input(\"enter person 1 age: \"))\n",
    "p2 = int(input(\"enter person 2 age: \"))\n",
    "p3 = int(input(\"enter person 3 age: \"))\n",
    "\n",
    "if p1>p2 and p1>p3:\n",
    "    rslt=\"person 1\"\n",
    "elif p2>p1 and p2>p3:\n",
    "    rslt= \"person 2\"\n",
    "else:\n",
    "    rslt= \"person 3\"\n",
    "\n",
    "if p1<p2 and p1<p3:\n",
    "    rslt1=\"person 1\"\n",
    "elif p2<p1 and p2<p3:\n",
    "    rslt1= \"person 2\"\n",
    "else:\n",
    "    rslt1= \"person 3\"\n",
    "    \n",
    "    \n",
    "print(f\"Oldest is {rslt}\")\n",
    "print(f\"Youngest is {rslt1}\")"
   ]
  },
  {
   "cell_type": "raw",
   "metadata": {
    "id": "Zc9ovDhsMVj5"
   },
   "source": [
    "14)A student will not be allowed to sit in exam if his/her attendence is less than 75%.\n",
    "\n",
    "Take following input from user\n",
    "\n",
    "Number of classes held\n",
    "\n",
    "Number of classes attended.\n",
    "\n",
    "And print\n",
    "\n",
    "percentage of class attended\n",
    "\n",
    "Is student is allowed to sit in exam or not.\n"
   ]
  },
  {
   "cell_type": "code",
   "execution_count": 4,
   "metadata": {
    "id": "rseYum2_MVj6"
   },
   "outputs": [
    {
     "name": "stdout",
     "output_type": "stream",
     "text": [
      "Enter the number of classes held: 14\n",
      "Enter the number of classes attended: 10\n",
      "Percentage of classes attended: 71.42857142857143\n",
      "Student is not allowed to sit in exam\n"
     ]
    }
   ],
   "source": [
    "#Type your code here\n",
    "classes_held = int(input(\"Enter the number of classes held: \"))\n",
    "\n",
    "classes_attended = int(input(\"Enter the number of classes attended: \"))\n",
    "\n",
    "percentage = (classes_attended/classes_held)*100\n",
    "\n",
    "if percentage<75:\n",
    "    print(f\"Percentage of classes attended: {percentage}\")\n",
    "    print(\"Student is not allowed to sit in exam\")\n",
    "else:\n",
    "    print(f\"Percentage of classes attended: {percentage}\")\n",
    "    print(\"Student is allowed to sit in exam\")\n",
    "    "
   ]
  },
  {
   "cell_type": "raw",
   "metadata": {
    "id": "58UPPHAOMVj6"
   },
   "source": [
    "15) Modify the above question to allow student to sit if he/she has medical cause. Ask user if he/she has medical cause or not ( 'Y' or 'N' ) and print accordingly."
   ]
  },
  {
   "cell_type": "code",
   "execution_count": 2,
   "metadata": {
    "id": "lDi-xLzTMVj7"
   },
   "outputs": [
    {
     "name": "stdout",
     "output_type": "stream",
     "text": [
      "Enter the number of classes held: 14\n",
      "Enter the number of classes attended: 10\n",
      "Percentage of classes attended: 71.42857142857143\n",
      "Do you have medical cause if yes then type 'Y' otherwise type 'N': Y\n",
      "Student is allowed to sit in exam\n"
     ]
    }
   ],
   "source": [
    "#Type your code here\n",
    "\n",
    "classes_held = int(input(\"Enter the number of classes held: \"))\n",
    "\n",
    "classes_attended = int(input(\"Enter the number of classes attended: \"))\n",
    "\n",
    "\n",
    "\n",
    "percentage = (classes_attended/classes_held)*100\n",
    "\n",
    "if percentage<75:\n",
    "    print(f\"Percentage of classes attended: {percentage}\")\n",
    "    \n",
    "    medical_cause = input(\"Do you have medical cause if yes then type 'Y' otherwise type 'N': \").upper()\n",
    "    if medical_cause == \"Y\":\n",
    "        \n",
    "        print(\"Student is allowed to sit in exam\")\n",
    "    else:\n",
    "        print(\"Student is not allowed to sit in exam\")\n",
    "else:\n",
    "    print(f\"Percentage of classes attended: {percentage}\")\n",
    "    print(\"Student is allowed to sit in exam\")\n"
   ]
  },
  {
   "cell_type": "raw",
   "metadata": {
    "id": "kJtSy1EoMVj7"
   },
   "source": [
    "16) Write a program to check if a year is leap year or not.\n",
    "\n",
    "If a year is divisible by 4 then it is leap year but if the year is century year like 2000, 1900, 2100 then it must be divisible by 400."
   ]
  },
  {
   "cell_type": "code",
   "execution_count": null,
   "metadata": {
    "id": "QUL_YUX3MVj7"
   },
   "outputs": [],
   "source": [
    "#Type your code here\n",
    "\n",
    "year= int(input(\"enter year: \"))\n",
    "\n",
    "if year%4 == 0:\n",
    "    \n",
    "    if year%400:\n",
    "        print(\"it is leap year\")\n",
    "    else:\n",
    "        print(\"it is not a leap year\")\n",
    "\n",
    "else:\n",
    "    print(\"it is not leap year\")\n",
    "    \n"
   ]
  },
  {
   "cell_type": "raw",
   "metadata": {
    "id": "CCNg4yDDMVj8"
   },
   "source": [
    "17) Ask user to enter age, gender ( M or F ), marital status ( Y or N ) and then using following rules print their place of service.\n",
    "\n",
    "if employee is female, then she will work only in urban areas.\n",
    "\n",
    "if employee is a male and age is in between 20 to 40 then he may work in anywhere\n",
    "\n",
    "if employee is male and age is in between 40 t0 60 then he will work in urban areas only.\n",
    "\n",
    "And any other input of age should print \"ERROR\""
   ]
  },
  {
   "cell_type": "code",
   "execution_count": 7,
   "metadata": {
    "id": "RDWMB0CZMVj8"
   },
   "outputs": [
    {
     "name": "stdout",
     "output_type": "stream",
     "text": [
      "enter your age: 61\n",
      "enter your gender: m\n",
      "enter your martial status: y\n",
      "ERROR\n"
     ]
    }
   ],
   "source": [
    "#Type your code here\n",
    "\n",
    "age = int(input(\"enter your age: \"))\n",
    "gender = (input(\"enter your gender: \")).upper()\n",
    "martial_status = input(\"enter your martial status: \").upper()\n",
    "\n",
    "if gender == \"F\":\n",
    "    print(\"You will work only in urban areas\")\n",
    "elif gender == \"M\" and (age>20 and age<40):\n",
    "    print(\"You may work in anywhere\")\n",
    "elif gender == \"M\" and (age>20 and age<60):\n",
    "    print(\"You May Work in urban areas only\")\n",
    "else:\n",
    "    print(\"ERROR\")\n"
   ]
  },
  {
   "cell_type": "code",
   "execution_count": null,
   "metadata": {
    "id": "-TG-QI8TMVj9"
   },
   "outputs": [],
   "source": []
  },
  {
   "cell_type": "code",
   "execution_count": null,
   "metadata": {},
   "outputs": [],
   "source": []
  }
 ],
 "metadata": {
  "colab": {
   "name": "If then Else &Elif Practice Task .ipynb",
   "provenance": []
  },
  "kernelspec": {
   "display_name": "Python 3 (ipykernel)",
   "language": "python",
   "name": "python3"
  },
  "language_info": {
   "codemirror_mode": {
    "name": "ipython",
    "version": 3
   },
   "file_extension": ".py",
   "mimetype": "text/x-python",
   "name": "python",
   "nbconvert_exporter": "python",
   "pygments_lexer": "ipython3",
   "version": "3.10.6"
  }
 },
 "nbformat": 4,
 "nbformat_minor": 1
}
